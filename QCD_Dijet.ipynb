{
 "cells": [
  {
   "cell_type": "markdown",
   "metadata": {},
   "source": [
    "# Import package"
   ]
  },
  {
   "cell_type": "code",
   "execution_count": 5,
   "metadata": {},
   "outputs": [],
   "source": [
    "import os\n",
    "import pandas as pd\n",
    "import numpy as np\n",
    "from root_numpy import root2array \n",
    "#----------------------------------------------\n",
    "from root_numpy import root2array, stretch\n",
    "from pyjet import cluster\n",
    "from pyjet.testdata import get_event\n",
    "import matplotlib.pyplot as plt\n",
    "import numpy as np\n",
    "import pandas as pd\n",
    "from tqdm import tqdm, trange\n",
    "import glob\n",
    "import matplotlib.cm as cm\n",
    "from scipy.stats import binned_statistic_2d\n",
    "from matplotlib.colors import LogNorm\n",
    "#---------------------------------\n",
    "import h5py"
   ]
  },
  {
   "cell_type": "markdown",
   "metadata": {},
   "source": [
    "$ pip3 install tqdm\n",
    "$ pip3 install pyjet\n",
    "$ pip3 install scipy\n",
    "$ pip3 install h5py"
   ]
  },
  {
   "cell_type": "markdown",
   "metadata": {},
   "source": [
    "$ cd <path_to_your_root_file>\n",
    "$　root XXX.root\n",
    "[root] _file0->ls()\n",
    "[root] Delphes->MakeClass()"
   ]
  },
  {
   "cell_type": "code",
   "execution_count": null,
   "metadata": {},
   "outputs": [],
   "source": []
  },
  {
   "cell_type": "markdown",
   "metadata": {},
   "source": [
    "# Define function to trace particle decay"
   ]
  },
  {
   "cell_type": "code",
   "execution_count": 101,
   "metadata": {},
   "outputs": [],
   "source": [
    "## Taylor's root to jet image code\n",
    "def root_2_jets(root_file):\n",
    "    # Takes root_file as produces a jet-image\n",
    "    events = root2array(root_file, \"Delphes;1\", branches=[\n",
    "        \"Tower.ET\", \"Tower.Eta\", \"Tower.Phi\", \"Tower.E\"])\n",
    "\n",
    "    jet_images = []\n",
    "    for ix, event in enumerate(tqdm(events)):\n",
    "        # create trimmed jet event (also centered and rotated)\n",
    "        event = jet_trimmer(event=event, R0=1.2, R1=0.2, pt_cut=0.03) #paper setting\n",
    "\n",
    "        # pixelize the trimmed jet\n",
    "        jet_image = pixelize(event)\n",
    "\n",
    "        # include jet-image as long as it isn't blank\n",
    "        # blank jets occur only if the event fails a cut\n",
    "        # during trimming\n",
    "        if np.sum(jet_image) != 0:\n",
    "            jet_images.append(jet_image)\n",
    "    return jet_images\n",
    "def struc2arr(x):\n",
    "    # pyjet outputs a structured array. This converts\n",
    "    # the 4 component structured array into a simple\n",
    "    # 4xN numpy array\n",
    "    x = x.view((float, len(x.dtype.names)))\n",
    "    return x\n",
    "\n",
    "\n",
    "def rotate(x, y, a):\n",
    "    xp = x * np.cos(a) - y * np.sin(a)\n",
    "    yp = x * np.sin(a) + y * np.cos(a)\n",
    "    return xp, yp\n",
    "\n",
    "\n",
    "def jet_trimmer(event, R0, R1, pt_cut):\n",
    "    # R0 = Clustering radius for the main jets\n",
    "    # R1 = Clustering radius for the subjets in the primary jet\n",
    "    # pt_cut = Threshold for subjets (relative to the primary jet it's a subjet of)\n",
    "\n",
    "    trim_pt, trim_eta, trim_phi, trim_mass = [], [], [], []\n",
    "    flattened_event = stretch(event.reshape(-1))\n",
    "    sequence = cluster(flattened_event, R=R0, p=-1)\n",
    "\n",
    "    # Main jets\n",
    "    jets = sequence.inclusive_jets(ptmin=400)\n",
    "\n",
    "    # In case we are missing a leading jet, break early\n",
    "    if len(jets) == 0:\n",
    "        return np.zeros(1), np.zeros(1), np.zeros(1), np.zeros(1)\n",
    "\n",
    "    # Take just the leading jet\n",
    "    jet0 = jets[0]\n",
    "\n",
    "    # Define a cut threshold that the subjets have to meet (i.e. 5% of the original jet pT)\n",
    "    jet0_max = jet0.pt\n",
    "    jet0_cut = jet0_max*pt_cut\n",
    "\n",
    "    # Grab the subjets by clustering with R1\n",
    "    subjets = cluster(jet0.constituents_array(), R=R1, p=1)\n",
    "    subjet_array = subjets.inclusive_jets()\n",
    "\n",
    "    # Require at least 2 subjets. Otherwise, break early\n",
    "    if len(subjet_array) <= 1:\n",
    "        return np.zeros(1), np.zeros(1), np.zeros(1), np.zeros(1)\n",
    "\n",
    "    for subjet in subjet_array:\n",
    "        if subjet.pt < jet0_cut:\n",
    "            # subjet doesn't meet the percentage cut on the original jet pT\n",
    "            pass\n",
    "        else:\n",
    "            # Get the subjets pt, eta, phi constituents\n",
    "            subjet_data = subjet.constituents_array()\n",
    "            subjet_data = struc2arr(subjet_data)\n",
    "            pT = subjet_data[:, 0]\n",
    "            eta = subjet_data[:, 1]\n",
    "            phi = subjet_data[:, 2]\n",
    "            mass = subjet_data[:, 3]\n",
    "\n",
    "            # Shift all data such that the leading subjet\n",
    "            # is located at (eta,phi) = (0,0)\n",
    "            eta -= subjet_array[0].eta\n",
    "            phi = np.array( [deltaPhi(i,subjet_array[0].phi) for i in phi])\n",
    "\n",
    "            # Rotate the jet image such that the second leading\n",
    "            # jet is located at -pi/2\n",
    "#             s1x, s1y = subjet_array[1].eta, subjet_array[1].phi\n",
    "            s1x, s1y = subjet_array[1].eta - subjet_array[0].eta, deltaPhi(subjet_array[1].phi,subjet_array[0].phi)\n",
    "\n",
    "            theta = np.arctan2(s1y, s1x)\n",
    "            if theta < 0.0:\n",
    "                theta += 2 * np.pi\n",
    "            eta, phi = rotate(eta, phi, np.pi - theta)\n",
    "\n",
    "            # Collect the trimmed subjet constituents\n",
    "            trim_pt.append(pT)\n",
    "            trim_eta.append(eta)\n",
    "            trim_phi.append(phi)\n",
    "            trim_mass.append(mass)\n",
    "    return np.concatenate(trim_pt), np.concatenate(trim_eta), np.concatenate(trim_phi), np.concatenate(trim_mass)\n",
    "\n",
    "\n",
    "def pixelize(event):\n",
    "    pt, eta, phi = event[0], event[1], event[2]\n",
    "\n",
    "    # Define the binning for the complete calorimeter\n",
    "    bins = np.arange(-1.2, 1.2, 0.05)\n",
    "\n",
    "    # Sum energy deposits in each bin\n",
    "    digitized = binned_statistic_2d(eta, phi, pt, statistic=\"sum\", bins=bins)\n",
    "    jet_image = digitized.statistic\n",
    "    return jet_image\n",
    "#-----------------------------------------------------------------------------------------------------------\n",
    "def find_decayratio(event,n, mode = 'daughter'):\n",
    "    d1, d2 = -1, -1\n",
    "    d0 = -1\n",
    "    ID = 4900101 #Xd PID\n",
    "    for j in  range(len(event[n][0])):\n",
    "        if(event[n][5][j]==ID)&(event[n][0][j]==23): #23 : hardest outgoing particles\n",
    "            d1 = event[n][_D1][j]\n",
    "            d2 = event[n][_D2][j]\n",
    "            while((event[n][_PID][d1]==ID)or(event[n][5][d2]==ID) ):\n",
    "                if(event[n][_PID][d1]==ID):\n",
    "                    d0 = d1\n",
    "                    d1 = event[n][_D1][d0]\n",
    "                    d2 = event[n][_D2][d0]\n",
    "                    if(event[n][_PID][d2]==ID):\n",
    "                        d0 = d2\n",
    "                        d1 = event[n][_D1][d0]\n",
    "                        d2 = event[n][_D2][d0]\n",
    "                        \n",
    "    if mode=='daughter':\n",
    "        return d1, d2\n",
    "    if mode=='id':\n",
    "        return event[n][5][d1], event[n][5][d2]\n",
    "    \n",
    "def find_subdecayratio(event, n, j, ID=4900111): \n",
    "    d1, d2 = -1, -1\n",
    "    d0 = -1\n",
    "    d1 = event[n][_D1][j]\n",
    "    d2 = event[n][_D2][j]\n",
    "    if((abs(event[n][_PID][d1])!=ID)&(abs(event[n][_PID][d2])!=ID)):\n",
    "        d1=0\n",
    "        d2=0\n",
    "        return d1, d2\n",
    "    else:\n",
    "        while((abs(event[n][_PID][d1])==ID)or(abs(event[n][_PID][d2])==ID) ):\n",
    "            if(abs(event[n][_PID][d1])==ID):\n",
    "                d0 = d1\n",
    "                d1 = event[n][_D1][d0]\n",
    "                d2 = event[n][_D2][d0]\n",
    "            if(abs(event[n][_PID][d2])==ID):\n",
    "                d0 = d2\n",
    "                d1 = event[n][_D1][d0]\n",
    "                d2 = event[n][_D2][d0]\n",
    "        return event[n][_PID][d1], event[n][_PID][d2]\n",
    "def find_daughterid(event, n, j, ID=4900111):\n",
    "    sid = event[n][_PID][j]\n",
    "    if(sid!=ID):\n",
    "        return 0, 0\n",
    "    else:\n",
    "        d1 = event[n][_D1][j]\n",
    "        d2 = event[n][_D2][j]\n",
    "        return event[n][_PID][d1], event[n][_PID][d2]\n",
    "\n",
    "def deltaPhi(phi1,phi2):\n",
    "    x = phi1-phi2\n",
    "    while x>= np.pi: x -= np.pi*2.\n",
    "    while x< -np.pi: x += np.pi*2.\n",
    "    return x        "
   ]
  },
  {
   "cell_type": "markdown",
   "metadata": {},
   "source": [
    "# CMS card Setting\n",
    "module FastJetFinder FatJetFinder {\n",
    "  set InputArray EFlowMerger/eflow\n",
    "\n",
    "  set OutputArray jets\n",
    "\n",
    "<!--   # algorithm: 1 CDFJetClu, 2 MidPoint, 3 SIScone, 4 kt, 5 Cambridge/Aachen, 6 antikt -->\n",
    "  set JetAlgorithm 6\n",
    "  set ParameterR 0.8\n",
    "\n",
    "  set ComputeNsubjettiness 1\n",
    "  set Beta 1.0\n",
    "  set AxisMode 4\n",
    "\n",
    "  set ComputeTrimming 1\n",
    "  set RTrim 0.2\n",
    "  set PtFracTrim 0.05\n",
    "\n",
    "  set ComputePruning 1\n",
    "  set ZcutPrun 0.1\n",
    "  set RcutPrun 0.5\n",
    "  set RPrun 0.8\n",
    "\n",
    "  set ComputeSoftDrop 1\n",
    "  set BetaSoftDrop 0.0\n",
    "  set SymmetryCutSoftDrop 0.1\n",
    "  set R0SoftDrop 0.8\n",
    "\n",
    "  set JetPTMin 200.0\n",
    "}\n"
   ]
  },
  {
   "cell_type": "markdown",
   "metadata": {},
   "source": [
    "# Load root file"
   ]
  },
  {
   "cell_type": "code",
   "execution_count": 102,
   "metadata": {},
   "outputs": [
    {
     "name": "stderr",
     "output_type": "stream",
     "text": [
      "100%|██████████| 20000/20000 [00:20<00:00, 981.30it/s]\n"
     ]
    }
   ],
   "source": [
    "#Need to use CMS card to search Fatjet\n",
    "# root_file = \"./SVJ_pythia/QCD_Dijet/ppjj.root\" # This is test data: p p -> q q~ (q= u d s)\n",
    "root_file = \"./SVJ_pythia/QCD_Dijet/ppjj_Altas.root\" # This is test data: p p -> j j (j=g u d s u~ d~ s~)\n",
    "jet_im = root_2_jets(root_file)"
   ]
  },
  {
   "cell_type": "code",
   "execution_count": 103,
   "metadata": {},
   "outputs": [
    {
     "data": {
      "image/png": "[encoded data removed]",
      "text/plain": [
       "<Figure size 576x576 with 1 Axes>"
      ]
     },
     "metadata": {
      "needs_background": "light"
     },
     "output_type": "display_data"
    }
   ],
   "source": [
    "jet_im= np.array(jet_im)\n",
    "plt.figure(figsize=(8,8))\n",
    "X = np.sum(jet_im,axis=0)\n",
    "plt.imshow(np.log(X), cmap='Blues', label = 'QCD')\n",
    "# plt.savefig(\"./jet_image_QCD.png\")\n",
    "plt.show()\n"
   ]
  },
  {
   "cell_type": "code",
   "execution_count": 97,
   "metadata": {},
   "outputs": [
    {
     "data": {
      "image/png": "[encoded data removed]",
      "text/plain": [
       "<Figure size 576x576 with 1 Axes>"
      ]
     },
     "metadata": {
      "needs_background": "light"
     },
     "output_type": "display_data"
    }
   ],
   "source": [
    "jet_im= np.array(jet_im)\n",
    "plt.figure(figsize=(8,8))\n",
    "X = np.sum(jet_im,axis=0)\n",
    "plt.imshow(np.log(X), cmap='Blues', label = 'QCD')\n",
    "# plt.savefig(\"./jet_image_QCD.png\")\n",
    "plt.show()\n"
   ]
  },
  {
   "cell_type": "markdown",
   "metadata": {},
   "source": [
    "# Show truth record"
   ]
  },
  {
   "cell_type": "code",
   "execution_count": 31,
   "metadata": {},
   "outputs": [],
   "source": [
    "# Particle status in Pythia8: http://home.thep.lu.se/~torbjorn/pythia81html/ParticleProperties.html\n",
    "event = root2array(root_file, \"Delphes;1\", branches=[\n",
    "\"Particle.Status\", \"Particle.M1\", \"Particle.M2\", \"Particle.D1\", \"Particle.D2\",\n",
    "\"Particle.PID\", \"Particle.PT\",\n",
    "\"Particle.Eta\",\"Particle.Phi\", \"Particle.Mass\"], start=0, stop=1, step=None)\n",
    "# in this example I set \n",
    "_Status, _M1, _M2, _D1, _D2, _PID, _PT, _Eta, _Phi, _Mass = 0, 1, 2, 3, 4, 5, 6, 7, 8, 9\n",
    "Labels = [\"Status\", \"M1\", \"M2\", \"D1\", \"D2\", \"PID\", \"PT\", \"Eta\", \"Phi\", \"Mass\"]\n",
    "\n",
    "print(\"Index\", \"\\t\",\"Status\", \"\\t\",\"M1\" \"\\t\",\"M2\" ,\"\\t\",\"D1\", \"\\t\",\"D2\", \"\\t\",\"PID\", \"\\t\\t\",\"PT\" \"\\t\",\"Eta\", \"\\t\\t\",\"Phi\", \"\\t\\t\",\"Mass\")\n",
    "for j in range(len(event[0][0])):  \n",
    "    print(j, \"\\t\", event[0][_Status][j],  \"\\t\\t\", event[0][_M1][j], \"\\t\", event[0][_M2][j], \"\\t\", event[0][_D1][j], \"\\t\", \n",
    "          event[0][_D2][j],  \"\\t\", str(event[0][_PID][j]).ljust(12, ' '), \"\\t\", round(event[0][_PT][j],0),  \"\\t\",\n",
    "          str(round(event[0][_Eta][j],2)).ljust(12, ' ') , \"\\t\",str(round(event[0][_Phi][j],3)).ljust(12, ' '),  \"\\t\",round(event[0][_Mass][j],3)) \n",
    " "
   ]
  },
  {
   "cell_type": "markdown",
   "metadata": {},
   "source": [
    "# Trace certain particle ID untile it \"decay\" (daughter1!=daughter2)"
   ]
  },
  {
   "cell_type": "code",
   "execution_count": 6,
   "metadata": {},
   "outputs": [],
   "source": [
    "n=0\n",
    "ID=989\n",
    "N = []\n",
    "for j in  range(len(event[n][0])):\n",
    "    if(event[n][_PID][j]==ID): #23 : hardest outgoing particles\n",
    "        print(\"Self index in event\",j)\n",
    "        m1 = event[n][_M1][j]\n",
    "        m2 = event[n][_M2][j]\n",
    "        print(\"Mother:\",m1,m2)\n",
    "        if (m1==m2):\n",
    "            print(\"Mother_id:\", event[n][_PID][m1], \"nan\\n\")\n",
    "        else:\n",
    "            print(\"Mother_id:\", event[n][_PID][m1], event[n][_PID][m2],\"\\n\")\n",
    "        d1 = event[n][_D1][j]\n",
    "        d2 = event[n][_D2][j]\n",
    "        prevent = 0\n",
    "        while(d1==d2): \n",
    "            d0 = d1\n",
    "            if(d1==-1):\n",
    "                print(\"stable particles\\n\\n\")\n",
    "                break\n",
    "            if(prevent >= 100):\n",
    "                print(\"infinite loop!\")\n",
    "                prevent=0\n",
    "                break\n",
    "            d1 = event[n][_D1][d1]\n",
    "            d2 = event[n][_D2][d2]\n",
    "            if(d1!=d2):\n",
    "                N.append(d0)\n",
    "            prevent= prevent+1\n",
    "        if(d1!=-1):\n",
    "            print(\"Daughter\", d1, d2)\n",
    "            print(\"Daughter_id\", event[n][_PID][d1], event[n][_PID][d2])\n",
    "            m1, m2 = event[n][_M1][d1], event[n][_M2][d1]\n",
    "            print(\"Daughter1_parents\", m1, m2)\n",
    "            if(m1==m2):\n",
    "                print(\"Daughter1_parents_id\", event[n][_PID][m1], \"nan\") \n",
    "            else:\n",
    "                print(\"Daughter1_parents_id\", event[n][_PID][m1], event[n][_PID][m2])\n",
    "            m1, m2 = event[n][_M1][d2], event[n][_M2][d2]\n",
    "            print(\"Daughter2_parents\", m1, m2)\n",
    "            if(m1==m2): \n",
    "                print(\"Daughter2_parents_id\", event[n][_PID][m1], \"nan\",\"\\n\")\n",
    "            else:\n",
    "                print(\"Daughter2_parents_id\", event[n][_PID][m1], event[n][5][m2],\"\\n\")"
   ]
  },
  {
   "cell_type": "markdown",
   "metadata": {},
   "source": [
    "# Load weights and jets"
   ]
  },
  {
   "cell_type": "code",
   "execution_count": 36,
   "metadata": {},
   "outputs": [],
   "source": [
    "nevn=20000 # number of event you generate in madgraph\n",
    "W =  root2array(root_file, \"Delphes;1\", branches=[\"Event.Weight\"], start=0, stop=20000, step=None) #weight for each event\n",
    "jet = root2array(root_file, \"Delphes;1\", branches=[\"Jet.PT\", \"Jet.Eta\", \"Jet.Phi\", \"Jet.Mass\"], start=0, stop=20000, step=None)\n",
    "W = [i[0][0] for i in W] #just reset the data structure to convenienc\n",
    "# root_file2 = \"./SVJ_pythia/Z1500/delphes_nolhe_Z1500_rinv_0.root\"\n",
    "# jet2 = root2array(root_file2, \"Delphes;1\", branches=[\"Jet.PT\", \"Jet.Eta\", \"Jet.Phi\", \"Jet.Mass\"], start=0, stop=20000, step=None)\n",
    "# W2 =  root2array(root_file2, \"Delphes;1\", branches=[\"Event.Weight\"], start=0, stop=20000, step=None)\n",
    "# W2 = [i[0][0] for i in W2]\n",
    "#We set\n",
    "_JPT, _JEta, _JPhi, _JMass = 0, 1, 2, 3"
   ]
  },
  {
   "cell_type": "markdown",
   "metadata": {},
   "source": [
    "# Define invariant mass function"
   ]
  },
  {
   "cell_type": "code",
   "execution_count": 20,
   "metadata": {},
   "outputs": [],
   "source": [
    "def mass_inv(jet):\n",
    "#    [\"FatJet.PT\", \"FatJet.Eta\", \"FatJet.Phi\", \"FatJet.Mass\"] \n",
    "# formula https://en.wikipedia.org/wiki/Invariant_mass#As_defined_in_particle_physics\n",
    "    M_inv = 2*jet[_JPT][0]*jet[_JPT][1]*(np.cosh(jet[_JEta][0]-jet[_JEta][1])-np.cos(jet[_JPhi][0]-jet[_JPhi][1]))\n",
    "    return M_inv**0.5\n",
    "    "
   ]
  },
  {
   "cell_type": "markdown",
   "metadata": {},
   "source": [
    "# Jet selection and fill up with invariant mass"
   ]
  },
  {
   "cell_type": "code",
   "execution_count": 37,
   "metadata": {},
   "outputs": [],
   "source": [
    "m_inv = []\n",
    "Wc = []\n",
    "for i in range(len(jet)):\n",
    "    if jet[i][0].shape[0]<2: #at least two jet\n",
    "        continue\n",
    "    if jet[i][_JPT][0]<440: # leading jet pt >= 440 Gev\n",
    "        continue\n",
    "    if jet[i][_JPT][1]<60: #sub-leading jet pt >= 60 Gev\n",
    "        continue\n",
    "#     if abs(jet[i][_JEta][0]-jet[i][_JEta][1])>=1.2:\n",
    "#         continue\n",
    "    m_inv.append(mass_inv(jet[i]))\n",
    "    Wc.append(W[i])\n",
    "# m_inv2 = []\n",
    "# Wc2 = []\n",
    "# for i in range(len(jet2)):\n",
    "#     if jet2[i][0].shape[0]<2:\n",
    "#         continue\n",
    "#     if jet2[i][0][0]<440:\n",
    "#         continue\n",
    "#     if jet2[i][0][1]<60:\n",
    "#         continue\n",
    "#     if abs(jet2[i][1][0]-jet2[i][1][1])>=1.2:\n",
    "#         continue\n",
    "#     m_inv2.append(mass_inv(jet2[i]))\n",
    "#     Wc2.append(W2[i])"
   ]
  },
  {
   "cell_type": "markdown",
   "metadata": {},
   "source": [
    "# Calculate the cross section in root"
   ]
  },
  {
   "cell_type": "code",
   "execution_count": 38,
   "metadata": {},
   "outputs": [
    {
     "name": "stdout",
     "output_type": "stream",
     "text": [
      "Cross section(pb) \t Cross section with selection(pb) \t Expected yield (tatal)\t Expected yield for Selection\n",
      "976.8411865234375 \t\t 832.1710067993164 \t\t\t 36143123.90136719 \t 30790327.251574706\n"
     ]
    }
   ],
   "source": [
    "Xection = sum(W)/nevn\n",
    "Xection_with_selection = sum(Wc)/nevn\n",
    "Lumi = 37 #Luminosity fb^-1\n",
    "expected_yield = (Xection)*Lumi*1000 #expected yield\n",
    "expected_yield_c = (Xection_with_selection)*Lumi*1000 #expected yield\n",
    "print(\"Cross section(pb) \\t Cross section with selection(pb) \\t Expected yield (tatal)\\t Expected yield for Selection\")\n",
    "print(Xection,\"\\t\\t\",Xection_with_selection,\"\\t\\t\\t\",expected_yield,'\\t',expected_yield_c)"
   ]
  },
  {
   "cell_type": "markdown",
   "metadata": {},
   "source": [
    "# Plot"
   ]
  },
  {
   "cell_type": "code",
   "execution_count": 39,
   "metadata": {},
   "outputs": [
    {
     "name": "stderr",
     "output_type": "stream",
     "text": [
      "/usr/local/lib/python3.6/site-packages/ipykernel_launcher.py:21: UserWarning: Attempted to set non-positive bottom ylim on a log-scaled axis.\n",
      "Invalid limit will be ignored.\n"
     ]
    },
    {
     "data": {
      "image/png": "[encoded data removed]",
      "text/plain": [
       "<Figure size 576x576 with 1 Axes>"
      ]
     },
     "metadata": {
      "needs_background": "light"
     },
     "output_type": "display_data"
    }
   ],
   "source": [
    "bins = 100\n",
    "fs=18 # front size\n",
    "tagsize = 18 # label tag size ((\\blue block) W \\n (\\orange block) QCD )\n",
    "plt.figure(figsize=(8,8)) # plotsize\n",
    "x1, x2 = 500, 10000\n",
    "\n",
    "bisize = np.linspace(500,10000,101)\n",
    "\n",
    "\n",
    "# plt.hist(m_inv2 ,bins=bins, histtype='step',  range=[x1, x2], weights= np.array(Wc2),\n",
    "#          label='rinv = 0.0, ${M_{Z}}$=1.5 TeV')\n",
    "plt.hist(m_inv ,bins=bins, histtype='step', color='r', range=[x1, x2], weights= np.array(Wc),\n",
    "         label='qq')\n",
    "\n",
    "  \n",
    "plt.legend(prop={'size': tagsize}) # plot label tag\n",
    "plt.yscale('log')\n",
    "plt.xscale('log')\n",
    "plt.xlabel('${M_{jj}}$' , fontsize=fs)  # plot x-axis label\n",
    "plt.ylabel(\"d${\\sigma}$/dx\", fontsize=fs)  # plot y-axis label $\\u03C3^{-1}$\n",
    "plt.ylim((0,5000000))\n",
    "plt.xlim((x1,x2))\n",
    "plt.xticks([1000,3000,10000], ['${10^3}$', '3${X}$${10^{3}}$','${10^{4}}$' ],fontsize=fs)   # set x-ticks size\n",
    "plt.yticks([1,100,10000,1000000],fontsize=fs)   # set y-ticks size \n",
    "# plt.savefig(\"./invariant_mass_JET_SVJ_Z1500.png\")  #save figure as png  \n",
    "plt.show() "
   ]
  },
  {
   "cell_type": "code",
   "execution_count": 68,
   "metadata": {},
   "outputs": [
    {
     "data": {
      "image/png": "[encoded data removed]",
      "text/plain": [
       "<Figure size 576x576 with 1 Axes>"
      ]
     },
     "metadata": {
      "needs_background": "light"
     },
     "output_type": "display_data"
    }
   ],
   "source": [
    "jet_im= np.array(jet_im)\n",
    "plt.figure(figsize=(8,8))\n",
    "X = np.sum(jet_im,axis=0)\n",
    "plt.imshow(np.log(X), cmap='Blues', label = 'QCD')\n",
    "# plt.savefig(\"./jet_image_QCD.png\")\n",
    "plt.show()\n"
   ]
  },
  {
   "cell_type": "code",
   "execution_count": 61,
   "metadata": {},
   "outputs": [
    {
     "data": {
      "text/plain": [
       "array([[  0.        ,   0.        ,   0.        ,   0.        ,\n",
       "          0.        ,   0.        ,   0.        ,   0.        ,\n",
       "          0.        ,   0.        ,   0.        ,   0.        ,\n",
       "          0.        ,   0.        ,   0.        ,   0.        ,\n",
       "          0.        ,   0.        ,   0.        ,   0.        ,\n",
       "          0.        ,   0.        ,   0.        ,   0.        ,\n",
       "          0.        ,   0.        ,   0.        ,   0.        ,\n",
       "          0.        ,   0.        ,   0.        ],\n",
       "       [  0.        ,   0.        ,   0.        ,   0.        ,\n",
       "          0.        ,   0.        ,   0.        ,   0.        ,\n",
       "          0.        ,   0.        ,   0.        ,   0.        ,\n",
       "          0.        ,   0.        ,   0.        ,   0.        ,\n",
       "          0.        ,   0.        ,   0.        ,   0.        ,\n",
       "          0.        ,   0.        ,   0.        ,   0.        ,\n",
       "          0.        ,   0.        ,   0.        ,   0.        ,\n",
       "          0.        ,   0.        ,   0.        ],\n",
       "       [  0.        ,   0.        ,   0.        ,   0.        ,\n",
       "          0.        ,   0.        ,   0.        ,   0.        ,\n",
       "          0.        ,   0.        ,   0.        ,   0.        ,\n",
       "          0.        ,   0.        ,   0.        ,   0.        ,\n",
       "          0.        ,   0.        ,   0.        ,   0.        ,\n",
       "          0.        ,   0.        ,   0.        ,   0.        ,\n",
       "          0.        ,   0.        ,   0.        ,   0.        ,\n",
       "          0.        ,   0.        ,   0.        ],\n",
       "       [  0.        ,   0.        ,   0.        ,   0.        ,\n",
       "          0.        ,   0.        ,   0.        ,   0.        ,\n",
       "          0.        ,   0.        ,   0.        ,   0.        ,\n",
       "          0.        ,   0.        ,   0.        ,   0.        ,\n",
       "          0.        ,   0.        ,   0.        ,   0.        ,\n",
       "          0.        ,   0.        ,   0.        ,   0.        ,\n",
       "          0.        ,   0.        ,   0.        ,   0.        ,\n",
       "          0.        ,   0.        ,   0.        ],\n",
       "       [  0.        ,   0.        ,   0.        ,   0.        ,\n",
       "          0.        ,   0.        ,   0.        ,   0.        ,\n",
       "          0.        ,   0.        ,   0.        ,   0.        ,\n",
       "          0.        ,   0.        ,   0.        ,   0.        ,\n",
       "          0.        ,   0.        ,   0.        ,   0.        ,\n",
       "          0.        ,   0.        ,   0.        ,   0.        ,\n",
       "          0.        ,   0.        ,   0.        ,   0.        ,\n",
       "          0.        ,   0.        ,   0.        ],\n",
       "       [  0.        ,   0.        ,   0.        ,   0.        ,\n",
       "          0.        ,   0.        ,   0.        ,   0.        ,\n",
       "          0.        ,   0.        ,   0.        ,   0.        ,\n",
       "          0.        ,   0.        ,   0.        ,   0.        ,\n",
       "          0.        ,   0.        ,   0.        ,   0.        ,\n",
       "          0.        ,   0.        ,   0.        ,   0.        ,\n",
       "          0.        ,   0.        ,   0.        ,   0.        ,\n",
       "          0.        ,   0.        ,   0.        ],\n",
       "       [  0.        ,   0.        ,   0.        ,   0.        ,\n",
       "          0.        ,   0.        ,   0.        ,   0.        ,\n",
       "          0.        ,   0.        ,   0.        ,   0.        ,\n",
       "          0.        ,   0.        ,   0.        ,   0.        ,\n",
       "          0.        ,   0.        ,   0.        ,   0.        ,\n",
       "          0.        ,   0.        ,   0.        ,   0.        ,\n",
       "          0.        ,   0.        ,   0.        ,   0.        ,\n",
       "          0.        ,   0.        ,   0.        ],\n",
       "       [  0.        ,   0.        ,   0.        ,   0.        ,\n",
       "          0.        ,   0.        ,   0.        ,   0.        ,\n",
       "          0.        ,   0.        ,   0.        ,   0.        ,\n",
       "          0.        ,   0.        ,   0.        ,   0.        ,\n",
       "          0.        ,   0.        ,   0.        ,   0.        ,\n",
       "          0.        ,   0.        ,   0.        ,   0.        ,\n",
       "          0.        ,   0.        ,   0.        ,   0.        ,\n",
       "          0.        ,   0.        ,   0.        ],\n",
       "       [  0.        ,   0.        ,   0.        ,   0.        ,\n",
       "          0.        ,   0.        ,   0.        ,   0.        ,\n",
       "          0.        ,   0.        ,   0.        ,   0.        ,\n",
       "          0.        ,   0.        ,   0.        ,   0.        ,\n",
       "          0.        ,   0.        ,   0.        ,   0.        ,\n",
       "          0.        ,   0.        ,   0.        ,   0.        ,\n",
       "          0.        ,   0.        ,   0.        ,   0.        ,\n",
       "          0.        ,   0.        ,   0.        ],\n",
       "       [  0.        ,   0.        ,   0.        ,   0.        ,\n",
       "          0.        ,   0.        ,   0.        ,   0.        ,\n",
       "          0.        ,   0.        ,   0.        ,   0.        ,\n",
       "          0.        ,   0.        ,   0.        ,   0.        ,\n",
       "          0.        ,   0.        ,   0.        ,   0.        ,\n",
       "          0.        ,   0.        ,   0.        ,   0.        ,\n",
       "          0.        ,   0.        ,   0.        ,   0.        ,\n",
       "          0.        ,   0.        ,   0.        ],\n",
       "       [  0.        ,   0.        ,   0.        ,   0.        ,\n",
       "          0.        ,   0.        ,   0.        ,   0.        ,\n",
       "          0.        ,   0.        ,   0.        ,   0.        ,\n",
       "          0.        ,   0.        ,   0.        ,   0.        ,\n",
       "          0.        ,   0.        ,   0.        ,   0.        ,\n",
       "          0.        ,   0.        ,   0.        ,   0.        ,\n",
       "          0.        ,   0.        ,   0.        ,   0.        ,\n",
       "          0.        ,   0.        ,   0.        ],\n",
       "       [  0.        ,   0.        ,   0.        ,   0.        ,\n",
       "          0.        ,   0.        ,   0.        ,   0.        ,\n",
       "          0.        ,   0.        ,   0.        ,   0.        ,\n",
       "          0.        ,   0.        ,   0.        ,   0.        ,\n",
       "          0.        ,   0.        ,   0.        ,   0.        ,\n",
       "          0.        ,   0.        ,   0.        ,   0.        ,\n",
       "          0.        ,   0.        ,   0.        ,   0.        ,\n",
       "          0.        ,   0.        ,   0.        ],\n",
       "       [  0.        ,   0.        ,   0.        ,   0.        ,\n",
       "          0.        ,   0.        ,   0.        ,   0.        ,\n",
       "          0.        ,   0.        ,   0.        ,   0.        ,\n",
       "          0.        ,   0.        ,   0.        ,   0.        ,\n",
       "          0.        ,   0.        ,   0.        ,   0.        ,\n",
       "          0.        ,   0.        ,   0.        ,   0.        ,\n",
       "          0.        ,   0.        ,   0.        ,   0.        ,\n",
       "          0.        ,   0.        ,   0.        ],\n",
       "       [  0.        ,   0.        ,   0.        ,   0.        ,\n",
       "          0.        ,   0.        ,   0.        ,   0.        ,\n",
       "          0.        ,   0.        ,   0.        ,   0.        ,\n",
       "          0.        ,   0.        ,   0.        ,   0.        ,\n",
       "          0.        ,   0.        ,   0.        ,   0.        ,\n",
       "          0.        ,   0.        ,   0.        ,   0.        ,\n",
       "          0.        ,   0.        ,   0.        ,   0.        ,\n",
       "          0.        ,   0.        ,   0.        ],\n",
       "       [  0.        ,   0.        ,   0.        ,   0.        ,\n",
       "          0.        ,   0.        ,   0.        ,   0.        ,\n",
       "          0.        ,   0.        ,   0.        ,   0.        ,\n",
       "          0.        ,   0.        ,   0.        ,   0.        ,\n",
       "          0.        ,   0.        ,   0.        ,   0.        ,\n",
       "          0.        ,   0.        ,   0.        ,   0.        ,\n",
       "          0.        ,   0.        ,   0.        ,   0.        ,\n",
       "          0.        ,   0.        ,   0.        ],\n",
       "       [  0.        ,   0.        ,   0.        ,   0.        ,\n",
       "          0.        ,   0.        ,   0.        ,   0.        ,\n",
       "          0.        ,   0.        ,   0.        ,   0.        ,\n",
       "          0.        ,   0.        ,   0.        ,  11.55641341,\n",
       "        387.03582764,   0.        ,   0.        ,   0.        ,\n",
       "          0.        ,   0.        ,   0.        ,   0.        ,\n",
       "          0.        ,   0.        ,   0.        ,   0.        ,\n",
       "          0.        ,   0.        ,   0.        ],\n",
       "       [  0.        ,   0.        ,   0.        ,   0.        ,\n",
       "          0.        ,   0.        ,   0.        ,   0.        ,\n",
       "          0.        ,   0.        ,   0.        ,   0.        ,\n",
       "          0.        ,   0.        ,   0.        , 103.40137529,\n",
       "          0.        ,   0.        ,   0.        ,   0.        ,\n",
       "          0.        ,   0.        ,   0.        ,   0.        ,\n",
       "          0.        ,   0.        ,   0.        ,   0.        ,\n",
       "          0.        ,   0.        ,   0.        ],\n",
       "       [  0.        ,   0.        ,   0.        ,   0.        ,\n",
       "          0.        ,   0.        ,   0.        ,   0.        ,\n",
       "          0.        ,   0.        ,   0.        ,   0.        ,\n",
       "          0.        ,   0.        ,   0.        ,  83.3149209 ,\n",
       "          0.        ,   0.        ,   0.        ,   0.        ,\n",
       "          0.        ,   0.        ,   0.        ,   0.        ,\n",
       "          0.        ,   0.        ,   0.        ,   0.        ,\n",
       "          0.        ,   0.        ,   0.        ],\n",
       "       [  0.        ,   0.        ,   0.        ,   0.        ,\n",
       "          0.        ,   0.        ,   0.        ,   0.        ,\n",
       "          0.        ,   1.60597181,   0.        ,   0.        ,\n",
       "          0.        ,   0.        ,   0.        ,   0.        ,\n",
       "          0.        ,   0.        ,   0.        ,   0.        ,\n",
       "          0.        ,   0.        ,   0.        ,   0.        ,\n",
       "          0.        ,   0.        ,   0.        ,   0.        ,\n",
       "          0.        ,   0.        ,   0.        ],\n",
       "       [  0.        ,   0.        ,   0.        ,   0.        ,\n",
       "          0.        ,   0.        ,   0.        ,   0.        ,\n",
       "          0.        ,   0.        ,   0.        ,   0.        ,\n",
       "          0.        ,   0.        ,   0.        ,   0.        ,\n",
       "          0.        ,   0.        ,   0.        ,   0.        ,\n",
       "          0.        ,   0.        ,   0.        ,   0.        ,\n",
       "          0.        ,   0.        ,   0.        ,   0.        ,\n",
       "          0.        ,   0.        ,   0.        ],\n",
       "       [  0.        ,   0.        ,   0.        ,   0.        ,\n",
       "          0.        ,   0.        ,   0.        ,   0.        ,\n",
       "          0.        ,   0.        ,   0.        ,   0.        ,\n",
       "          0.        ,   0.        ,   0.        ,   0.        ,\n",
       "          0.        ,   0.        ,   0.        ,   0.        ,\n",
       "          0.        ,   0.        ,   0.        ,   0.        ,\n",
       "          0.        ,   0.        ,   0.        ,   0.        ,\n",
       "          0.        ,   0.        ,   0.        ],\n",
       "       [  0.        ,   0.        ,   0.        ,   0.        ,\n",
       "          0.        ,   0.        ,   0.        ,   0.        ,\n",
       "          0.        ,   0.        ,   0.        ,   0.        ,\n",
       "          0.        ,   0.        ,   0.        ,   0.        ,\n",
       "          0.        ,   0.        ,   0.        ,   0.        ,\n",
       "          0.        ,   0.        ,   0.        ,   0.        ,\n",
       "          0.        ,   0.        ,   0.        ,   0.        ,\n",
       "          0.        ,   0.        ,   0.        ],\n",
       "       [  0.        ,   0.        ,   0.        ,   0.        ,\n",
       "          0.        ,   0.        ,   0.        ,   0.        ,\n",
       "          0.        ,   0.        ,   0.        ,   0.        ,\n",
       "          0.        ,   0.        ,   0.        ,   0.        ,\n",
       "          0.        ,   0.        ,   0.        ,   0.        ,\n",
       "          0.        ,   0.        ,   0.        ,   0.        ,\n",
       "          0.        ,   0.        ,   0.        ,   0.        ,\n",
       "          0.        ,   0.        ,   0.        ],\n",
       "       [  0.        ,   0.        ,   0.        ,   0.        ,\n",
       "          0.        ,   0.        ,   0.        ,   0.        ,\n",
       "          0.        ,   0.        ,   0.        ,   0.        ,\n",
       "          0.        ,   0.        ,   0.        ,   0.        ,\n",
       "          0.        ,   0.        ,   0.        ,   0.        ,\n",
       "          0.        ,   0.        ,   0.        ,   0.        ,\n",
       "          0.        ,   0.        ,   0.        ,   0.        ,\n",
       "          0.        ,   0.        ,   0.        ],\n",
       "       [  0.        ,   0.        ,   0.        ,   0.        ,\n",
       "          0.        ,   0.        ,   0.        ,   0.        ,\n",
       "          0.        ,   0.        ,   0.        ,   0.        ,\n",
       "          0.        ,   0.        ,   0.        ,   0.        ,\n",
       "          0.        ,   0.        ,   0.        ,   0.        ,\n",
       "          0.        ,   0.        ,   0.        ,   0.        ,\n",
       "          0.        ,   0.        ,   0.        ,   0.        ,\n",
       "          0.        ,   0.        ,   0.        ],\n",
       "       [  0.        ,   0.        ,   0.        ,   0.        ,\n",
       "          0.        ,   0.        ,   0.        ,   0.        ,\n",
       "          0.        ,   0.        ,   0.        ,   0.        ,\n",
       "          0.        ,   0.        ,   0.        ,   0.        ,\n",
       "          0.        ,   0.        ,   0.        ,   0.        ,\n",
       "          0.        ,   0.        ,   0.        ,   0.        ,\n",
       "          0.        ,   0.        ,   0.        ,   0.        ,\n",
       "          0.        ,   0.        ,   0.        ],\n",
       "       [  0.        ,   0.        ,   0.        ,   0.        ,\n",
       "          0.        ,   0.        ,   0.        ,   0.        ,\n",
       "          0.        ,   0.        ,   0.        ,   0.        ,\n",
       "          0.        ,   0.        ,   0.        ,   0.        ,\n",
       "          0.        ,   0.        ,   0.        ,   0.        ,\n",
       "          0.        ,   0.        ,   0.        ,   0.        ,\n",
       "          0.        ,   0.        ,   0.        ,   0.        ,\n",
       "          0.        ,   0.        ,   0.        ],\n",
       "       [  0.        ,   0.        ,   0.        ,   0.        ,\n",
       "          0.        ,   0.        ,   0.        ,   0.        ,\n",
       "          0.        ,   0.        ,   0.        ,   0.        ,\n",
       "          0.        ,   0.        ,   0.        ,   0.        ,\n",
       "          0.        ,   0.        ,   0.        ,   0.        ,\n",
       "          0.        ,   0.        ,   0.        ,   0.        ,\n",
       "          0.        ,   0.        ,   0.        ,   0.        ,\n",
       "          0.        ,   0.        ,   0.        ],\n",
       "       [  0.        ,   0.        ,   0.        ,   0.        ,\n",
       "          0.        ,   0.        ,   0.        ,   0.        ,\n",
       "          0.        ,   0.        ,   0.        ,   0.        ,\n",
       "          0.        ,   0.        ,   0.        ,   0.        ,\n",
       "          0.        ,   0.        ,   0.        ,   0.        ,\n",
       "          0.        ,   0.        ,   0.        ,   0.        ,\n",
       "          0.        ,   0.        ,   0.        ,   0.        ,\n",
       "          0.        ,   0.        ,   0.        ],\n",
       "       [  0.        ,   0.        ,   0.        ,   0.        ,\n",
       "          0.        ,   0.        ,   0.        ,   0.        ,\n",
       "          0.        ,   0.        ,   0.        ,   0.        ,\n",
       "          0.        ,   0.        ,   0.        ,   0.        ,\n",
       "          0.        ,   0.        ,   0.        ,   0.        ,\n",
       "          0.        ,   0.        ,   0.        ,   0.        ,\n",
       "          0.        ,   0.        ,   0.        ,   0.        ,\n",
       "          0.        ,   0.        ,   0.        ],\n",
       "       [  0.        ,   0.        ,   0.        ,   0.        ,\n",
       "          0.        ,   0.        ,   0.        ,   0.        ,\n",
       "          0.        ,   0.        ,   0.        ,   0.        ,\n",
       "          0.        ,   0.        ,   0.        ,   0.        ,\n",
       "          0.        ,   0.        ,   0.        ,   0.        ,\n",
       "          0.        ,   0.        ,   0.        ,   0.        ,\n",
       "          0.        ,   0.        ,   0.        ,   0.        ,\n",
       "          0.        ,   0.        ,   0.        ]])"
      ]
     },
     "execution_count": 61,
     "metadata": {},
     "output_type": "execute_result"
    }
   ],
   "source": [
    "jet_im[0]"
   ]
  },
  {
   "cell_type": "markdown",
   "metadata": {},
   "source": [
    "# Save jet image as h5"
   ]
  },
  {
   "cell_type": "code",
   "execution_count": 14,
   "metadata": {},
   "outputs": [],
   "source": [
    "hf = h5py.File('./QCD_Dijet_ppqq.h5', 'w')\n",
    "hf.create_dataset('dataset_1', data=jet_im)\n",
    "hf.close()"
   ]
  },
  {
   "cell_type": "code",
   "execution_count": 13,
   "metadata": {},
   "outputs": [],
   "source": []
  },
  {
   "cell_type": "code",
   "execution_count": null,
   "metadata": {},
   "outputs": [],
   "source": []
  }
 ],
 "metadata": {
  "kernelspec": {
   "display_name": "Python 3",
   "language": "python",
   "name": "python3"
  },
  "language_info": {
   "codemirror_mode": {
    "name": "ipython",
    "version": 3
   },
   "file_extension": ".py",
   "mimetype": "text/x-python",
   "name": "python",
   "nbconvert_exporter": "python",
   "pygments_lexer": "ipython3",
   "version": "3.6.8"
  }
 },
 "nbformat": 4,
 "nbformat_minor": 4
}
