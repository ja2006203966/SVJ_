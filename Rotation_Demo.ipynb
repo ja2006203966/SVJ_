{
 "cells": [
  {
   "cell_type": "markdown",
   "metadata": {},
   "source": [
    "# Import package"
   ]
  },
  {
   "cell_type": "code",
   "execution_count": 1,
   "metadata": {},
   "outputs": [],
   "source": [
    "import numpy as np\n",
    "import pyjet\n",
    "from pyjet import cluster\n",
    "from tqdm import tqdm, trange\n",
    "import matplotlib.pyplot as plt\n",
    "import uproot\n",
    "import h5py\n"
   ]
  },
  {
   "cell_type": "markdown",
   "metadata": {},
   "source": [
    "# Define function for jet rotation"
   ]
  },
  {
   "cell_type": "code",
   "execution_count": 2,
   "metadata": {},
   "outputs": [],
   "source": [
    "def flatten(event): # for single event in order to reshape data\n",
    "#     fp = np.concatenate((np.expand_dims(event[0], axis=-1),\n",
    "#                          np.expand_dims(event[1], axis=-1),\n",
    "#                          np.expand_dims(event[2], axis=-1),\n",
    "#                          np.expand_dims(event[3], axis=-1)), axis=-1)\n",
    "#     fp = fp.transpose((1,0))\n",
    "    fp = event\n",
    "    fp = np.core.records.fromarrays( [fp[:,0],fp[:,1],fp[:,2],fp[:,3]], names= 'pT, eta, phi, mass' , formats = 'f8, f8, f8,f8')\n",
    "\n",
    "    return fp\n",
    "\n",
    "def jet_clustering(event, R0, p = -1):\n",
    "    # R0 = Clustering radius for the main jets\n",
    "    flattened_event = flatten(event)\n",
    "    ## p = -1, 0, 1 => anti-kt, C/A, kt Algorithm\n",
    "    sequence = cluster(flattened_event, R=R0, p= p)\n",
    "    # List of jets\n",
    "    jets = sequence.inclusive_jets()\n",
    "    return jets\n",
    "\n",
    "def struc2arr(x):\n",
    "    # pyjet outputs a structured array. This converts\n",
    "    # the 4 component structured array into a simple\n",
    "    # 4xN numpy array\n",
    "    x = x.view((float, len(x.dtype.names)))\n",
    "    return x\n",
    "\n",
    "def deltaPhi(phi1,phi2):\n",
    "    x = phi1-phi2\n",
    "    while x>= np.pi: x -= np.pi*2.\n",
    "    while x< -np.pi: x += np.pi*2.\n",
    "    return x\n",
    "\n",
    "def rotate(x, y, a):\n",
    "    xp = x * np.cos(a) - y * np.sin(a)\n",
    "    yp = x * np.sin(a) + y * np.cos(a)\n",
    "    return xp, yp\n",
    "\n",
    "\n",
    "def jet_rotate(event, R0 = 0.2,  p = 1):\n",
    "    # R0 = Clustering radius for the main jets\n",
    "    flattened_event = flatten(event)\n",
    "    ## p = -1, 0, 1 => anti-kt, C/A, kt Algorithm\n",
    "    sequence = cluster(flattened_event, R=R0, p= p)\n",
    "    # List of jets\n",
    "    jets = sequence.inclusive_jets()\n",
    "    if len(jets)<2:\n",
    "        return []\n",
    "    else:\n",
    "        subjet_data = event\n",
    "        subjet_array = jets\n",
    "        \n",
    "        \n",
    "#         subjet_data = jets.constituents_array()\n",
    "#         subjet_data = struc2arr(subjet_data)\n",
    "        pT = subjet_data[:, 0]\n",
    "        eta = subjet_data[:, 1]\n",
    "        phi = subjet_data[:, 2]\n",
    "        mass = subjet_data[:, 3]\n",
    "        \n",
    "        # Shift all data such that the leading subjet\n",
    "        #jet new center is located at (eta,phi) = (0,0)\n",
    "        eta -= subjet_array[0].eta\n",
    "        phi = np.array( [deltaPhi(i,subjet_array[0].phi) for i in phi])\n",
    "        \n",
    "        \n",
    "        # Rotate the jet image such that the second leading\n",
    "        # jet is located at -pi/2\n",
    "        s1x, s1y = subjet_array[1].eta - subjet_array[0].eta, deltaPhi(subjet_array[1].phi,subjet_array[0].phi)\n",
    "        \n",
    "        theta = np.arctan2(s1y, s1x)\n",
    "        if theta < 0.0:\n",
    "            theta += 2 * np.pi\n",
    "        eta, phi = rotate(eta, phi, np.pi - theta)\n",
    "        \n",
    "        # Collect the trimmed subjet constituents\n",
    "        rjcs = np.array([pT, eta, phi, mass])\n",
    "        rjcs = np.expand_dims(rjcs, axis=-1)\n",
    "        rjcs = rjcs.transpose((1,0,2))\n",
    "        rjcs = np.squeeze(rjcs, axis=(2,))\n",
    "        return rjcs\n",
    "\n"
   ]
  },
  {
   "cell_type": "markdown",
   "metadata": {},
   "source": [
    "## These function is data dependent, so you need to map your data in case"
   ]
  },
  {
   "cell_type": "code",
   "execution_count": 3,
   "metadata": {},
   "outputs": [],
   "source": [
    "##------------calculate jet constituents energy, if you already had this information don't use it.\n",
    "def jce_np(jcpt, jceta, jcmass):\n",
    "    jcp = jcpt*np.cosh(jceta)\n",
    "    return (jcp**2+jcmass**2)**0.5\n",
    "\n",
    "\n",
    "#-------- attach integers to your keys  this example is : 'index' -> 0-th data, 'JCPT' ->1-th data\n",
    "# and 'index' is event index\n",
    "# 'JCPT' is constituents transvers momentum (PT)\n",
    "# 'JCETA' is constituents ETA\n",
    "# 'JCPHI' is constituents angle around beam axis\n",
    "# 'Ncontituents' is Number of constituents in the jet which the constitunt belong\n",
    "# 'constiteunts_index' is constituents index in each jet ('constiteunts' is typo)\n",
    "# 'JCDELTAETA' is constituents ETA related to jet axis\n",
    "# 'JCDELTAPHI' is constituents ETA related to jet axis\n",
    "# 'PT' is transvers momentum (PT) of jet which which the constitunt belong\n",
    "# 'ETA' is ETA of jet which which the constitunt belong\n",
    "# 'PHi' is PHI of jet which which the constitunt belong\n",
    "\n",
    "\n",
    "_index, _jcpt, _jceta, _jcphi, _jcmass, _Ncons, _consindex, _jcdelteta, _jcdeltphi, _jpt, _jeta, _jphi = (i for i in range(12))\n",
    "Labels = ['index', 'JCPT', 'JCETA', 'JCPHI', 'JCMASS', 'Ncontiteunts', 'constiteunts_index', 'JCDELTETA', 'JCDELTPHI', 'PT', 'ETA', 'PHI']\n",
    "\n",
    "##--------------------------------------------------h5py file to ParticleNet input structure\n",
    "def h5_to_JET(h5path):\n",
    "    f = h5py.File(h5path,'r')\n",
    "    fc = np.array([f[lb][()] for lb in Labels])\n",
    "    fc = fc.transpose((1,0))\n",
    "    Nj = set(fc[:,_index].astype(np.int))\n",
    "    \n",
    "    \n",
    "    events = np.array([fc[:,_jcpt],\n",
    "                       fc[:,_jceta],\n",
    "                       fc[:,_jcphi],\n",
    "                       fc[:,_jcmass]  \n",
    "                      ])\n",
    "    \n",
    "    # just reshape data\n",
    "    events = np.expand_dims(events, axis=-1)\n",
    "    events = events.transpose((1,0,2))\n",
    "    events = np.squeeze(events,axis=(2,))\n",
    "    \n",
    "    jets = []\n",
    "    R0 = 0.5\n",
    "    # for j in tqdm(range(Nj)):\n",
    "    for j in tqdm(Nj):\n",
    "        if not any(fc[:,_index]==j):\n",
    "            continue\n",
    "        event = events[fc[:,_index]==j]\n",
    "        jr = jet_rotate(event)\n",
    "        if len(jr) ==0:\n",
    "            continue\n",
    "        jets.append(jr)\n",
    "    return jets\n"
   ]
  },
  {
   "cell_type": "markdown",
   "metadata": {},
   "source": [
    "# Check key words in h5 file"
   ]
  },
  {
   "cell_type": "code",
   "execution_count": 4,
   "metadata": {},
   "outputs": [
    {
     "data": {
      "text/plain": [
       "<KeysViewHDF5 ['ETA', 'JCDELTETA', 'JCDELTPHI', 'JCETA', 'JCMASS', 'JCPHI', 'JCPT', 'MASS', 'Ncontiteunts', 'PHI', 'PT', 'constiteunts_index', 'index']>"
      ]
     },
     "execution_count": 4,
     "metadata": {},
     "output_type": "execute_result"
    }
   ],
   "source": [
    "f = h5py.File(\"/home/james/LHE_test/H5/SVJ/rinv03/0Trimjetc.h5\",'r')\n",
    "f.keys()"
   ]
  },
  {
   "cell_type": "markdown",
   "metadata": {},
   "source": [
    "# Prepare plot function"
   ]
  },
  {
   "cell_type": "code",
   "execution_count": 5,
   "metadata": {},
   "outputs": [],
   "source": [
    "from scipy.stats import binned_statistic_2d\n",
    "    "
   ]
  },
  {
   "cell_type": "code",
   "execution_count": 6,
   "metadata": {},
   "outputs": [],
   "source": [
    "def pixelize(jet, bins = 64, R = 1.2):\n",
    "    pt, eta, phi = jet[:,0], jet[:,1], jet[:,2]\n",
    "\n",
    "    # Define the binning for the complete calorimeter\n",
    "    ranges = np.array([[-R,R],[-R,R]])\n",
    "\n",
    "    # Sum energy deposits in each bin\n",
    "    digitized = binned_statistic_2d(eta, phi, pt, statistic=\"sum\", bins=bins, range= ranges)\n",
    "#     digitized = binned_statistic_2d(eta, phi, pt, statistic=\"sum\", bins=bins)\n",
    "    \n",
    "    jet_image = digitized.statistic\n",
    "    return jet_image\n"
   ]
  },
  {
   "cell_type": "markdown",
   "metadata": {},
   "source": [
    "# Rotate jet and plot data"
   ]
  },
  {
   "cell_type": "code",
   "execution_count": 7,
   "metadata": {},
   "outputs": [
    {
     "name": "stderr",
     "output_type": "stream",
     "text": [
      "100%|██████████| 7869/7869 [00:22<00:00, 351.15it/s]\n",
      "100%|██████████| 7330/7330 [00:02<00:00, 3384.74it/s]\n",
      "/usr/local/lib/python3.6/site-packages/ipykernel_launcher.py:8: RuntimeWarning: divide by zero encountered in log\n",
      "  \n"
     ]
    },
    {
     "data": {
      "text/plain": [
       "<matplotlib.image.AxesImage at 0x7faf6c5a2978>"
      ]
     },
     "execution_count": 7,
     "metadata": {},
     "output_type": "execute_result"
    },
    {
     "data": {
      "image/png": "[encoded data removed]",
      "text/plain": [
       "<Figure size 432x288 with 1 Axes>"
      ]
     },
     "metadata": {
      "needs_background": "light"
     },
     "output_type": "display_data"
    }
   ],
   "source": [
    "jims = []\n",
    "jets = h5_to_JET(\"/home/james/LHE_test/H5/SVJ/rinv03/0Trimjetc.h5\")\n",
    "for i in tqdm(range(len(jets))):\n",
    "    jim = pixelize(jets[i])\n",
    "    jims.append(jim)\n",
    "jims = np.array(jims)\n",
    "jim = np.sum(jims, axis = 0)\n",
    "plt.imshow(np.log(jim),  cmap = 'Blues')"
   ]
  },
  {
   "cell_type": "markdown",
   "metadata": {},
   "source": [
    "# Befor rotation"
   ]
  },
  {
   "cell_type": "code",
   "execution_count": 8,
   "metadata": {},
   "outputs": [],
   "source": [
    "def h5_to_nonrJET(h5path):\n",
    "    f = h5py.File(h5path,'r')\n",
    "    fc = np.array([f[lb][()] for lb in Labels])\n",
    "    fc = fc.transpose((1,0))\n",
    "    Nj = set(fc[:,_index].astype(np.int))\n",
    "    \n",
    "    \n",
    "    events = np.array([fc[:,_jcpt],\n",
    "                       fc[:,_jceta],\n",
    "                       fc[:,_jcphi],\n",
    "                       fc[:,_jcmass]  \n",
    "                      ])\n",
    "    \n",
    "    # just reshape data\n",
    "    events = np.expand_dims(events, axis=-1)\n",
    "    events = events.transpose((1,0,2))\n",
    "    events = np.squeeze(events,axis=(2,))\n",
    "    \n",
    "    jets = []\n",
    "    R0 = 0.5\n",
    "    # for j in tqdm(range(Nj)):\n",
    "    for j in tqdm(Nj):\n",
    "        if not any(fc[:,_index]==j):\n",
    "            continue\n",
    "        event = events[fc[:,_index]==j]\n",
    "        jets.append(event)\n",
    "    return jets"
   ]
  },
  {
   "cell_type": "code",
   "execution_count": 9,
   "metadata": {},
   "outputs": [
    {
     "name": "stderr",
     "output_type": "stream",
     "text": [
      "100%|██████████| 7869/7869 [00:20<00:00, 380.58it/s]\n",
      "100%|██████████| 7869/7869 [00:02<00:00, 3517.23it/s]\n"
     ]
    },
    {
     "data": {
      "text/plain": [
       "<matplotlib.image.AxesImage at 0x7faf6c0ff278>"
      ]
     },
     "execution_count": 9,
     "metadata": {},
     "output_type": "execute_result"
    },
    {
     "data": {
      "image/png": "[encoded data removed]",
      "text/plain": [
       "<Figure size 432x288 with 1 Axes>"
      ]
     },
     "metadata": {
      "needs_background": "light"
     },
     "output_type": "display_data"
    }
   ],
   "source": [
    "jims = []\n",
    "jets = h5_to_nonrJET(\"/home/james/LHE_test/H5/SVJ/rinv03/0Trimjetc.h5\")\n",
    "for i in tqdm(range(len(jets))):\n",
    "    jim = pixelize(jets[i])\n",
    "    jims.append(jim)\n",
    "jims = np.array(jims)\n",
    "jim = np.sum(jims, axis = 0)\n",
    "plt.imshow(np.log(jim),  cmap = 'Blues')"
   ]
  },
  {
   "cell_type": "code",
   "execution_count": null,
   "metadata": {},
   "outputs": [],
   "source": []
  },
  {
   "cell_type": "code",
   "execution_count": null,
   "metadata": {},
   "outputs": [],
   "source": []
  },
  {
   "cell_type": "code",
   "execution_count": null,
   "metadata": {},
   "outputs": [],
   "source": []
  }
 ],
 "metadata": {
  "kernelspec": {
   "display_name": "Python 3",
   "language": "python",
   "name": "python3"
  },
  "language_info": {
   "codemirror_mode": {
    "name": "ipython",
    "version": 3
   },
   "file_extension": ".py",
   "mimetype": "text/x-python",
   "name": "python",
   "nbconvert_exporter": "python",
   "pygments_lexer": "ipython3",
   "version": "3.6.8"
  }
 },
 "nbformat": 4,
 "nbformat_minor": 4
}
