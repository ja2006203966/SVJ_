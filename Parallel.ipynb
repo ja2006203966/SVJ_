{
 "cells": [
  {
   "cell_type": "markdown",
   "metadata": {},
   "source": [
    "# Import package"
   ]
  },
  {
   "cell_type": "code",
   "execution_count": 6,
   "metadata": {},
   "outputs": [],
   "source": [
    "import os\n",
    "from tqdm import tqdm"
   ]
  },
  {
   "cell_type": "markdown",
   "metadata": {},
   "source": [
    "# Madgraph"
   ]
  },
  {
   "cell_type": "code",
   "execution_count": 21,
   "metadata": {},
   "outputs": [],
   "source": [
    "def gen_i(i, jettype='QCD', MY1=1500, dirc = '/home/james/LHE_test/', fname = 'test', outputpath = '/home/james/LHE_test/data'):\n",
    "    ##This code is save N times process_setting in different txt file. And then we can use these file as Madgraph input\n",
    "    # dirc is direction to save your setting txt\n",
    "    # outputpath is direction you want to output your Madgraph outputs\n",
    "    #    my outputpath is like /home/james/lHE_test/data/QCD/ or /home/james/lHE_test/data/SVJ/\n",
    "    \n",
    "    # fname is setting_txt_file's name\n",
    "    # MY1 is Z' mass\n",
    "    \n",
    "    fname = fname + str(i) +'.txt'\n",
    "    if jettype == 'QCD':\n",
    "        jetdef = 'g u d s u~ d~ s~'\n",
    "        outputpath = outputpath+'/QCD/'\n",
    "        dirc = dirc + 'QCD/'\n",
    "    if jettype == 'SVJ':\n",
    "        jetdef = 'xd xd~ '\n",
    "        outputpath = outputpath+'/SVJ/'\n",
    "        dirc = dirc +'SVJ/'\n",
    "    nevent = 20000\n",
    "    jetpt = [250,False] #jet pt range in [250, inf] GeV\n",
    "    ECM = 14000 # Central mass energy GeV\n",
    "    \n",
    "    f = open(dirc+fname, 'w')\n",
    "    if jettype == 'SVJ':\n",
    "        f.write('import model DMsimp_s_spin1 \\n')\n",
    "    f.write('define j = '+jetdef+' \\n')\n",
    "    f.write('generate p p > j j  \\n')\n",
    "    f.write('output '+outputpath+str(i)+' \\n')\n",
    "    f.write(' \\n')\n",
    "    f.write('launch '+outputpath+str(i)+' \\n')\n",
    "    f.write('set iseed '+str((i+1)*1000)+' \\n')\n",
    "    f.write('set nevents '+str(nevent)+' \\n')\n",
    "    f.write('set ptj '+str(jetpt[0])+' \\n')\n",
    "    if (jetpt[1]):\n",
    "        f.write('set ptjmax '+str(jetpt[1])+' \\n')\n",
    "    f.write('set run_card ebeam1 '+str(ECM/2)+' \\n')\n",
    "    f.write('set run_card ebeam2 '+str(ECM/2)+ '\\n')\n",
    "    \n",
    "    if jettype == 'SVJ':\n",
    "        f.write('set MY1 '+str(MY1)+'\\n')\n",
    "    # f.write(' \\n')\n",
    "    \n",
    "    f.close()\n",
    "    \n",
    "def check_txt(i, jettype='QCD', dirc = '/home/james/LHE_test/', fname = 'test'):\n",
    "    fname = fname + str(i) +'.txt'\n",
    "    if jettype == 'QCD':\n",
    "        jetdef = 'g u d s u~ d~ s~'\n",
    "        dirc = dirc + 'QCD/'\n",
    "    if jettype == 'SVJ':\n",
    "        jetdef = 'xd xd~ '\n",
    "        dirc = dirc +'SVJ/'\n",
    "    f = open(dirc+fname, 'r')\n",
    "    print(f.read())\n",
    "    f.close()"
   ]
  },
  {
   "cell_type": "markdown",
   "metadata": {},
   "source": [
    "## Prepare setting txt file"
   ]
  },
  {
   "cell_type": "code",
   "execution_count": 80,
   "metadata": {},
   "outputs": [],
   "source": [
    "#Prepare setting txt file for parallel\n",
    "for i in range(20):\n",
    "    gen_i(i, jettype='SVJ', MY1=1500, dirc = '/home/james/LHE_test/', fname = 'test', outputpath = '/home/james/LHE_test/data')\n",
    "    gen_i(i, jettype='QCD', dirc = '/home/james/LHE_test/', fname = 'test', outputpath = '/home/james/LHE_test/data')\n"
   ]
  },
  {
   "cell_type": "markdown",
   "metadata": {},
   "source": [
    "## Check txt file"
   ]
  },
  {
   "cell_type": "code",
   "execution_count": 22,
   "metadata": {},
   "outputs": [
    {
     "name": "stdout",
     "output_type": "stream",
     "text": [
      "define j = g u d s u~ d~ s~ \n",
      "generate p p > j j  \n",
      "output /home/james/LHE_test/data/QCD/0 \n",
      " \n",
      "launch /home/james/LHE_test/data/QCD/0 \n",
      "set iseed 0 \n",
      "set nevents 20000 \n",
      "set ptj 250 \n",
      "set run_card ebeam1 7000.0 \n",
      "set run_card ebeam2 7000.0\n",
      "\n"
     ]
    }
   ],
   "source": [
    "check_txt(0, jettype='QCD', dirc = '/home/james/LHE_test/', fname = 'test')"
   ]
  },
  {
   "cell_type": "markdown",
   "metadata": {},
   "source": [
    "## Generate (20k + 20k)*N events (Parton level)"
   ]
  },
  {
   "cell_type": "code",
   "execution_count": 81,
   "metadata": {},
   "outputs": [],
   "source": [
    "# generate (20k + 20k)*N events please use command windows \"$ top\" to check whether it finishes the job\n",
    "dirc = '/home/james/LHE_test/'\n",
    "fname = 'test'\n",
    "madgraph_bin = \"/root/MG5_aMC_v2_7_2/bin/mg5_aMC\" # type where your mg5_aMC is\n",
    "for i in range(20):\n",
    "    fnamei = fname + str(i) +'.txt'\n",
    "    dirci = dirc + 'QCD/'\n",
    "    os.system(\"nohup \"+madgraph_bin +\" \"+ dirci+ fnamei + \" > \" + dirci+ fname+str(i)+\".log 2>&1 &\")\n",
    "    \n",
    "    dirci = dirc + 'SVJ/'\n",
    "#     os.system(\"nohup /root/MG5_aMC_v2_7_2/bin/mg5_aMC\" +\" \"+ dirci+ fnamei + \" > \" + dirci+ fname+str(i)+\".log 2>&1 &\")\n",
    "    os.system(\"nohup \"+madgraph_bin +\" \"+ dirci+ fnamei + \" > \" + dirci+ fname+str(i)+\".log 2>&1 &\")\n",
    "\n"
   ]
  },
  {
   "cell_type": "markdown",
   "metadata": {},
   "source": [
    "## Extract .gz file and change xd pdg_id to 4900101 (before you do this please check the above part is done)"
   ]
  },
  {
   "cell_type": "code",
   "execution_count": 83,
   "metadata": {},
   "outputs": [
    {
     "name": "stderr",
     "output_type": "stream",
     "text": [
      "100%|██████████| 20/20 [00:26<00:00,  1.32s/it]\n"
     ]
    }
   ],
   "source": [
    "#NOTE YOU NEED TO CHECK whether you finish the previous jobs\n",
    "# change xd pdg_id to 4900101\n",
    "output = '/home/james/LHE_test/data/'\n",
    "fname = 'unweighted_events.lhe'\n",
    "for i in tqdm(range(20)):\n",
    "    fnamei = fname +'.gz'\n",
    "    outputi = output + 'QCD/'+str(i)+'/Events/run_01/'\n",
    "    os.system(\"gzip -d \"+outputi +\" \"+ outputi+ fnamei)\n",
    "    os.system(\"sed -s -i 's/5000521/4900101/g' \"+outputi+ fnamei)\n",
    "\n",
    "    outputi = output + 'SVJ/'+str(i)+'/Events/run_01/'\n",
    "    os.system(\"gzip -d \"+outputi +\" \"+ outputi+ fnamei)\n",
    "    os.system(\"sed -s -i 's/5000521/4900101/g' \"+outputi+ fnamei)\n"
   ]
  },
  {
   "cell_type": "markdown",
   "metadata": {},
   "source": [
    "## Move all LHE file to certain directory"
   ]
  },
  {
   "cell_type": "code",
   "execution_count": 86,
   "metadata": {},
   "outputs": [
    {
     "name": "stderr",
     "output_type": "stream",
     "text": [
      "100%|██████████| 20/20 [00:04<00:00,  4.99it/s]\n"
     ]
    }
   ],
   "source": [
    "# Move/Copy LHE file to same directory\n",
    "output = '/home/james/LHE_test/data/'\n",
    "fname = 'unweighted_events.lhe'\n",
    "save_dir =  '/home/james/LHE_test/data/LHE/'\n",
    "for i in tqdm(range(20)):\n",
    "    fnamei = fname \n",
    "    outputi = output + 'QCD/'+str(i)+'/Events/run_01/'\n",
    "    save_diri = save_dir + 'QCD/'\n",
    "    os.system(\"cp \"+outputi + fnamei +\" \"+ save_diri+ str(i)+\".lhe\" )\n",
    "\n",
    "    outputi = output + 'SVJ/'+str(i)+'/Events/run_01/'\n",
    "    save_diri = save_dir + 'SVJ/'\n",
    "    os.system(\"cp \"+outputi + fnamei +\" \"+ save_diri+ str(i)+\".lhe\" )"
   ]
  },
  {
   "cell_type": "markdown",
   "metadata": {},
   "source": [
    "# DelphesPythia"
   ]
  },
  {
   "cell_type": "code",
   "execution_count": 25,
   "metadata": {},
   "outputs": [],
   "source": [
    "def gencmnd_i(i, nevent = 20000, mass = 20, rinv = 0.3, lambdas = 1, dirc = '/home/james/LHE_test/Delphes_cmnd/', fname = 'test',\n",
    "              inputpath = '/home/james/LHE_test/data/LHE/QCD/'):\n",
    "    ##This code is save N times process_setting in different txt file. And then we can use these file as Madgraph input\n",
    "    # dirc is direction to save your setting txt\n",
    "    # outputpath is direction you want to output your Madgraph outputs\n",
    "    #    my outputpath is like /home/james/lHE_test/data/QCD/ or /home/james/lHE_test/data/SVJ/\n",
    "    \n",
    "    # fname is setting_txt_file's name\n",
    "    # MY1 is Z' mass\n",
    "    \n",
    "    fname = fname + str(i) +'.cmnd'\n",
    "    \n",
    "#     nevent = 20000 # N events you want\n",
    "#     ECM = 14000 # Central mass energy GeV\n",
    "#     lamdas = 1 # lamda_d\n",
    "#     rinv = 0.3 # invisible rate\n",
    "#     mass = 20 # unstable dark meson mass\n",
    "    # lambdas = mass/2 \n",
    "#     xqcut = 100 ##in 1707.05632 default in Madgraph\n",
    "#     Qcut = max(1.4 * xqcut, xqcut+10) #setting in Pythia8\n",
    "#     nj = 2 #\n",
    "    n=6 # number of Decimal places you want\n",
    "    f = open(dirc+fname, 'w')\n",
    "#--------------------------------------------------------------- Settings used in the main program.\n",
    "    f.write('Main:numberOfEvents = '+str(nevent)+' \\n') # Number of events\n",
    "    f.write('Main:timesAllowErrors = 3 \\n') # \n",
    "#---------------------------------------------------------------- Settings related to output in init(), next() and stat()      \n",
    "    f.write('Init:showChangedSettings = on  \\n')\n",
    "    f.write('Init:showChangedParticleData = off \\n')\n",
    "    f.write('Random:seed = '+str((i+1)*100)+'\\n') #change random seed\n",
    "    f.write('Next:numberCount = 1000 \\n') # print the progress per 1000 events\n",
    "    f.write('Next:numberShowInfo = 1 \\n') \n",
    "    f.write('Next:numberShowProcess = 1 \\n')\n",
    "    f.write('Next:numberShowEvent = 0 \\n')\n",
    "#-------------------------------------------------------------- Hidden Valley\n",
    "    f.write('HiddenValley:Ngauge =2 \\n') # Number of gauge\n",
    "#     f.write('HiddenValley:nFlav =2 \\n') # Number of flavor\n",
    "    f.write('HiddenValley:alphaOrder =0 \\n') # alphaOrder  0 for fixed alpha_d , 1 for running alpha_d optain by other variables\n",
    "    f.write('HiddenValley:Lambda =' +str(lambdas)+'\\n') # lamda_d\n",
    "    f.write('HiddenValley:alphaFSR =' +str(lambdas)+' \\n') \n",
    "    f.write('HiddenValley:spinFv = 0 \\n')\n",
    "    f.write('HiddenValley:FSR = on \\n')\n",
    "    f.write('HiddenValley:fragment = on \\n')\n",
    "    f.write('HiddenValley:pTminFSR = '+ str(1.1 * lambdas)+ '\\n')\n",
    "#------------------------------------------------------------------------------ Dark Particle setting\n",
    "    f.write('4900101:m0 = '+str(mass / 2) +'\\n')\n",
    "    f.write('4900101:mWidth = '+ str(mass / 100)+ '\\n')\n",
    "    f.write('4900101:mMin = '+str(mass / 2 - mass / 100)+'\\n')\n",
    "    f.write('4900101:mMax = '+str(mass / 2 + mass / 100)+'\\n')\n",
    "    f.write('4900111:m0 = '+str(mass)+'\\n')\n",
    "    f.write('4900113:m0 = '+ str(mass)+'\\n')\n",
    "    f.write('4900211:m0 = '+ str(mass / 2.0 - 0.01)+'\\n')\n",
    "    f.write('4900213:m0 = '+ str(mass / 2.0 - 0.01)+'\\n')\n",
    "    f.write('4900111:onechannel = 1 ' +str(1.0 - rinv) +'91 -3 3 \\n')\n",
    "    f.write('4900111:addchannel = 1 ' +str(rinv) +' 0 4900211 -4900211 \\n')\n",
    "    f.write('4900113:onechannel = 1 ' +str(round((1 - rinv) / 5.,n)) +' 91 -1 1 \\n')\n",
    "    f.write('4900113:onechannel = 1 ' +str(round((1 - rinv) / 5.,n)) +' 91 -2 2 \\n')\n",
    "    f.write('4900113:onechannel = 1 ' +str(round((1 - rinv) / 5.,n)) +' 91 -3 3 \\n')\n",
    "    f.write('4900113:onechannel = 1 ' +str(round((1 - rinv) / 5.,n)) +' 91 -4 4 \\n')\n",
    "    f.write('4900113:onechannel = 1 ' +str(round((1 - rinv) / 5.,n)) +' 91 -5 5 \\n')\n",
    "    f.write('4900113:addchannel = 1 ' +str(rinv) +' 0 4900213 -4900213 \\n')\n",
    "    f.write('HiddenValley:probVector = '+str(0.75)+ '\\n')\n",
    "            \n",
    "#-------------------------------------------------------------   ignore these particle \n",
    "    f.write('4900001:m0 = 50000 \\n')\n",
    "    f.write('4900002:m0 = 50000 \\n')\n",
    "    f.write('4900003:m0 = 50000 \\n')\n",
    "    f.write('4900004:m0 = 50000 \\n')\n",
    "    f.write('4900005:m0 = 50000 \\n')\n",
    "    f.write('4900006:m0 = 50000 \\n')\n",
    "    f.write('4900011:m0 = 50000 \\n')\n",
    "    f.write('4900012:m0 = 50000 \\n')\n",
    "    f.write('4900013:m0 = 50000 \\n')\n",
    "    f.write('4900014:m0 = 50000 \\n')\n",
    "    f.write('4900015:m0 = 50000 \\n')\n",
    "    f.write('4900016:m0 = 50000 \\n')\n",
    "#------------------------------------------------------------------- input LHE file\n",
    "    f.write('Beams:frameType = 4 \\n')\n",
    "    f.write('Beams:LHEF = '+inputpath+str(i)+'.lhe'+' \\n') # where your LHE file is\n",
    "    # f.write(' \\n')\n",
    "    \n",
    "    f.close()\n",
    "    \n",
    "def check_cmnd(i, dirc = '/home/james/LHE_test/Delphes_cmnd/', fname = 'test'):\n",
    "    fname = fname + str(i) +'.cmnd'\n",
    "    f = open(dirc+fname, 'r')\n",
    "    print(f.read())\n",
    "    f.close()"
   ]
  },
  {
   "cell_type": "markdown",
   "metadata": {},
   "source": [
    "## Prepare DelphesPythia8 cmnd file "
   ]
  },
  {
   "cell_type": "code",
   "execution_count": 26,
   "metadata": {},
   "outputs": [
    {
     "name": "stderr",
     "output_type": "stream",
     "text": [
      "100%|██████████| 20/20 [00:00<00:00, 2158.56it/s]\n"
     ]
    }
   ],
   "source": [
    "for i in tqdm(range(20)):\n",
    "    inputpath = '/home/james/LHE_test/data/LHE/QCD/'\n",
    "    dirc = '/home/james/LHE_test/Delphes_cmnd/QCD/'\n",
    "    gencmnd_i(i, nevent = 20000, mass = 20, rinv = 0.3, lambdas = 1, dirc = dirc, fname = 'test',\n",
    "              inputpath = inputpath)\n",
    "    \n",
    "    inputpath = '/home/james/LHE_test/data/LHE/SVJ/'\n",
    "    dirc = '/home/james/LHE_test/Delphes_cmnd/SVJ/'\n",
    "    gencmnd_i(i, nevent = 20000, mass = 20, rinv = 0.3, lambdas = 1, dirc = dirc, fname = 'test',\n",
    "              inputpath = inputpath)\n",
    "    "
   ]
  },
  {
   "cell_type": "markdown",
   "metadata": {},
   "source": [
    "## Check cmnd file"
   ]
  },
  {
   "cell_type": "code",
   "execution_count": 27,
   "metadata": {},
   "outputs": [
    {
     "name": "stdout",
     "output_type": "stream",
     "text": [
      "Main:numberOfEvents = 20000 \n",
      "Main:timesAllowErrors = 3 \n",
      "Init:showChangedSettings = on  \n",
      "Init:showChangedParticleData = off \n",
      "Random:seed = 2000\n",
      "Next:numberCount = 1000 \n",
      "Next:numberShowInfo = 1 \n",
      "Next:numberShowProcess = 1 \n",
      "Next:numberShowEvent = 0 \n",
      "HiddenValley:Ngauge =2 \n",
      "HiddenValley:alphaOrder =0 \n",
      "HiddenValley:Lambda =1\n",
      "HiddenValley:alphaFSR =1 \n",
      "HiddenValley:spinFv = 0 \n",
      "HiddenValley:FSR = on \n",
      "HiddenValley:fragment = on \n",
      "HiddenValley:pTminFSR = 1.1\n",
      "4900101:m0 = 10.0\n",
      "4900101:mWidth = 0.2\n",
      "4900101:mMin = 9.8\n",
      "4900101:mMax = 10.2\n",
      "4900111:m0 = 20\n",
      "4900113:m0 = 20\n",
      "4900211:m0 = 9.99\n",
      "4900213:m0 = 9.99\n",
      "4900111:onechannel = 1 0.791 -3 3 \n",
      "4900111:addchannel = 1 0.3 0 4900211 -4900211 \n",
      "4900113:onechannel = 1 0.14 91 -1 1 \n",
      "4900113:onechannel = 1 0.14 91 -2 2 \n",
      "4900113:onechannel = 1 0.14 91 -3 3 \n",
      "4900113:onechannel = 1 0.14 91 -4 4 \n",
      "4900113:onechannel = 1 0.14 91 -5 5 \n",
      "4900113:addchannel = 1 0.3 0 4900213 -4900213 \n",
      "HiddenValley:probVector = 0.75\n",
      "4900001:m0 = 50000 \n",
      "4900002:m0 = 50000 \n",
      "4900003:m0 = 50000 \n",
      "4900004:m0 = 50000 \n",
      "4900005:m0 = 50000 \n",
      "4900006:m0 = 50000 \n",
      "4900011:m0 = 50000 \n",
      "4900012:m0 = 50000 \n",
      "4900013:m0 = 50000 \n",
      "4900014:m0 = 50000 \n",
      "4900015:m0 = 50000 \n",
      "4900016:m0 = 50000 \n",
      "Beams:frameType = 4 \n",
      "Beams:LHEF = /home/james/LHE_test/data/LHE/SVJ/19.lhe \n",
      "\n"
     ]
    }
   ],
   "source": [
    "check_cmnd(19, dirc = dirc)"
   ]
  },
  {
   "cell_type": "markdown",
   "metadata": {},
   "source": [
    "## Clean up all the file in your .root output path"
   ]
  },
  {
   "cell_type": "code",
   "execution_count": 30,
   "metadata": {},
   "outputs": [
    {
     "data": {
      "text/plain": [
       "256"
      ]
     },
     "execution_count": 30,
     "metadata": {},
     "output_type": "execute_result"
    }
   ],
   "source": [
    "out_path = '/home/james/LHE_test/ROOT/'\n",
    "os.system(\"rm -r \"+out_path+\"QCD/*\")\n",
    "os.system(\"rm -r \"+out_path+\"SVJ/*\")"
   ]
  },
  {
   "cell_type": "markdown",
   "metadata": {},
   "source": [
    "## Generate (20k + 20k)*N events (Showering + Detector simulation)"
   ]
  },
  {
   "cell_type": "code",
   "execution_count": 31,
   "metadata": {},
   "outputs": [],
   "source": [
    "# generate (20k + 20k)*N events please use command windows \"$ top\" to check whether it finishes the job\n",
    "dirc = '/home/james/LHE_test/Delphes_cmnd/' # Pythia cmnd path\n",
    "tlc_file = '/home/james/Delphes-3.4.2/cards/delphes_card_ATLAS_jpt200.tcl' # Delphes .tcl card path\n",
    "out_path = '/home/james/LHE_test/ROOT/' #root file output path\n",
    "fname = 'test'\n",
    "DelphesPythia8 = \"/home/james/Delphes-3.4.2/DelphesPythia8\" # type where your DelphesPythia8 is\n",
    "\n",
    "for i in range(20):\n",
    "    fnamei = fname + str(i) +'.root' #output root file\n",
    "    cmndi = fname +  str(i) + '.cmnd' #input cmnd file\n",
    "    dirci = dirc + 'QCD/' # input cmnd path\n",
    "    outi = out_path + 'QCD/'# output file path\n",
    "    os.system(\"nohup \"+DelphesPythia8 +\" \"+ tlc_file + \" \"+ dirci+ cmndi + \" \"+outi + fnamei +\" > \" +outi + fname+str(i)+\".log 2>&1 &\")\n",
    "    \n",
    "    dirci = dirc + 'SVJ/' # input cmnd path\n",
    "    outi = out_path + 'SVJ/'# output file path\n",
    "    os.system(\"nohup \"+DelphesPythia8 +\" \"+ tlc_file + \" \"+ dirci+ cmndi + \" \"+outi + fnamei +\" > \" +outi + fname+str(i)+\".log 2>&1 &\")"
   ]
  },
  {
   "cell_type": "markdown",
   "metadata": {},
   "source": [
    "# Prepare .h5 training data "
   ]
  },
  {
   "cell_type": "markdown",
   "metadata": {},
   "source": [
    "## First you need to get H5.py in my github"
   ]
  },
  {
   "cell_type": "markdown",
   "metadata": {},
   "source": [
    "## Use H5.py to caculate Jim and JSS"
   ]
  },
  {
   "cell_type": "code",
   "execution_count": 7,
   "metadata": {},
   "outputs": [],
   "source": [
    "# generate (20k + 20k)*N events please use command windows \"$ top\" to check whether it finishes the job\n",
    "nevents = 20000\n",
    "dirc = '/home/james/LHE_test/ROOT/'\n",
    "outpath = '/home/james/LHE_test/H5/'\n",
    "fname = 'test'\n",
    "H5py = \"/home/james/LHE_test/H5/H5.py\" # H5.py path\n",
    "for i in range(20):\n",
    "    dirci = dirc + 'QCD/'\n",
    "    inputrooti = dirci + fname +str(i) +'.root'\n",
    "    outpathi = outpath + 'QCD/'+str(i)\n",
    "    os.system(\"nohup python3 -u \"+H5py +\" \"+str(nevents)+ \" \"+inputrooti+ \" \"+outpathi+ \" > \" + outpathi+ fname+str(i)+\".log 2>&1 &\")\n",
    "    \n",
    "    dirci = dirc + 'SVJ/'\n",
    "    inputrooti = dirci + fname +str(i) +'.root'\n",
    "    outpathi = outpath + 'SVJ/'+str(i)\n",
    "    os.system(\"nohup python3 -u \"+H5py +\" \"+str(nevents)+ \" \"+inputrooti+ \" \"+outpathi+ \" > \" + outpathi+ fname+str(i)+\".log 2>&1 &\")"
   ]
  },
  {
   "cell_type": "markdown",
   "metadata": {},
   "source": [
    "## Check data"
   ]
  },
  {
   "cell_type": "code",
   "execution_count": 11,
   "metadata": {},
   "outputs": [],
   "source": [
    "import matplotlib.pyplot as plt\n",
    "import h5py as h5\n",
    "import numpy as np"
   ]
  },
  {
   "cell_type": "code",
   "execution_count": 9,
   "metadata": {},
   "outputs": [],
   "source": [
    "f = h5.File(\"/home/james/LHE_test/H5/SVJ/0jetim.h5\",'r')\n",
    "f = f['jetim'][()]\n",
    "f2 = h5.File(\"/home/james/LHE_test/H5/QCD/0jetim.h5\",'r')\n",
    "f2 = f2['jetim'][()]"
   ]
  },
  {
   "cell_type": "code",
   "execution_count": 12,
   "metadata": {},
   "outputs": [
    {
     "name": "stderr",
     "output_type": "stream",
     "text": [
      "/usr/local/lib/python3.6/site-packages/ipykernel_launcher.py:2: RuntimeWarning: divide by zero encountered in log\n",
      "  \n"
     ]
    },
    {
     "data": {
      "image/png": "[encoded data removed]",
      "text/plain": [
       "<Figure size 432x288 with 1 Axes>"
      ]
     },
     "metadata": {
      "needs_background": "light"
     },
     "output_type": "display_data"
    },
    {
     "name": "stderr",
     "output_type": "stream",
     "text": [
      "/usr/local/lib/python3.6/site-packages/ipykernel_launcher.py:5: RuntimeWarning: divide by zero encountered in log\n",
      "  \"\"\"\n"
     ]
    },
    {
     "data": {
      "image/png": "[encoded data removed]",
      "text/plain": [
       "<Figure size 432x288 with 1 Axes>"
      ]
     },
     "metadata": {
      "needs_background": "light"
     },
     "output_type": "display_data"
    }
   ],
   "source": [
    "X = np.sum(f2, axis=0)\n",
    "plt.imshow(np.log(X), cmap='Blues', label = 'QCD')\n",
    "plt.show()\n",
    "Y = np.sum(f, axis=0)\n",
    "plt.imshow(np.log(Y), cmap='Blues', label = 'SVJ')\n",
    "plt.show()"
   ]
  },
  {
   "cell_type": "code",
   "execution_count": 18,
   "metadata": {},
   "outputs": [],
   "source": [
    "jss = h5.File(\"/home/james/LHE_test/H5/SVJ/0JSS.h5\",'r')\n",
    "jss2 = h5.File(\"/home/james/LHE_test/H5/QCD/0JSS.h5\",'r')\n"
   ]
  },
  {
   "cell_type": "code",
   "execution_count": 20,
   "metadata": {},
   "outputs": [],
   "source": [
    "JSS = []\n",
    "JSS2 = []\n",
    "for i in range(20):\n",
    "    jss = h5.File(\"/home/james/LHE_test/H5/SVJ/\"+str(i)+\"JSS.h5\",'r')\n",
    "    jss = jss[\"MASS\"][()].tolist()\n",
    "    JSS = JSS + jss\n",
    "    jss2 = h5.File(\"/home/james/LHE_test/H5/QCD/\"+str(i)+\"JSS.h5\",'r')\n",
    "    jss2 = jss2[\"MASS\"][()].tolist()\n",
    "    JSS2 = JSS2 + jss2"
   ]
  },
  {
   "cell_type": "code",
   "execution_count": 21,
   "metadata": {},
   "outputs": [
    {
     "data": {
      "text/plain": [
       "(array([ 1.,  1.,  0.,  1.,  6.,  3.,  3., 10.,  7.,  9., 10., 22., 22.,\n",
       "        33., 42., 62., 51., 71., 60., 59., 87., 74., 78., 59., 83., 82.,\n",
       "        79., 62., 61., 58., 62., 59., 48., 46., 52., 41., 33., 44., 23.,\n",
       "        32., 16., 20.,  9., 13.,  7.,  7.,  3.,  7.,  1.,  1.]),\n",
       " array([  0.,   6.,  12.,  18.,  24.,  30.,  36.,  42.,  48.,  54.,  60.,\n",
       "         66.,  72.,  78.,  84.,  90.,  96., 102., 108., 114., 120., 126.,\n",
       "        132., 138., 144., 150., 156., 162., 168., 174., 180., 186., 192.,\n",
       "        198., 204., 210., 216., 222., 228., 234., 240., 246., 252., 258.,\n",
       "        264., 270., 276., 282., 288., 294., 300.]),\n",
       " <a list of 1 Patch objects>)"
      ]
     },
     "execution_count": 21,
     "metadata": {},
     "output_type": "execute_result"
    },
    {
     "data": {
      "image/png": "[encoded data removed]",
      "text/plain": [
       "<Figure size 432x288 with 1 Axes>"
      ]
     },
     "metadata": {
      "needs_background": "light"
     },
     "output_type": "display_data"
    }
   ],
   "source": [
    "plt.hist(JSS ,bins=bins, histtype='step', range=Range[Labels[0]], label='SVJ')\n",
    "plt.hist(JSS2 ,bins=bins, histtype='step', range=Range[Labels[0]], label='QCD') "
   ]
  },
  {
   "cell_type": "markdown",
   "metadata": {},
   "source": [
    "# We need change"
   ]
  },
  {
   "cell_type": "code",
   "execution_count": 19,
   "metadata": {},
   "outputs": [
    {
     "data": {
      "image/png": "[encoded data removed]",
      "text/plain": [
       "<Figure size 1152x1728 with 6 Axes>"
      ]
     },
     "metadata": {
      "needs_background": "light"
     },
     "output_type": "display_data"
    }
   ],
   "source": [
    "bins = 50\n",
    "fs=18 # front size\n",
    "tagsize = 18 # label tag size ((\\blue block) W \\n (\\orange block) QCD )\n",
    "plt.figure(figsize=(16,24)) # plotsize\n",
    "x1, x2 = 0, 1\n",
    "Labels = ['MASS', 'T21', 'C22', 'C21',  'D22', 'D21']\n",
    "\n",
    "# X_Labels = ['${\\u03C4_{1}}$', '${\\u03C4_{2}}$', '${\\u03C4_{3}}$', '${\\u03C4_{21}}$', '${\\u03C4_{32}}$',\n",
    "#             'EE2', 'EE3', 'D2', 'angularity', 'KtDeltaR', 'PT', 'ETA', 'PHI', 'MASS']\n",
    "X_Labels = {'T21':['${\\u03C4_{21}}$'], 'D21':['${D_{2}^{\\u03B2=1}}$'], 'MASS':['MASS'], 'D22':['$D_{2}^{\\u03B2=2}$'], 'C22':['$C_{2}^{\\u03B2=2}$'], 'C21':['$C_{2}^{\\u03B2=1}$']}\n",
    "\n",
    "Range = {'T21':[0,1], 'D21':[0,5], 'MASS':[0,300], 'D22':[0,5], 'C22':[0, 0.2], 'C21':[0, 0.5]}\n",
    "Ylm = {'MASS':[0,0.07], 'T21':[0, 0.05], 'C22':[0,0.07], 'C21':[0,0.05], 'D22':[0, 0.05], 'D21':[0, 0.05]}\n",
    "for i in range(6):\n",
    "    W1 = np.array([1 for j in range(len(jss[Labels[i]]))])\n",
    "    W1 = W1/sum(W1)\n",
    "    W2 = np.array([1 for j in range(len(jss2[Labels[i]]))])\n",
    "    W2 = W2/sum(W2)\n",
    "    plt.subplot(3,2,i+1)\n",
    "    plt.hist(jss[Labels[i]][()] ,bins=bins, histtype='step', weights = W1, range=Range[Labels[i]], label='QCD')\n",
    "    plt.hist(jss2[Labels[i]][()] ,bins=bins, histtype='step', color='r', weights = W2, range=Range[Labels[i]], label='$r_{inv}$ = 0.3')\n",
    "\n",
    "    plt.legend(prop={'size': tagsize}) # plot label tag\n",
    "#     plt.yscale('log')\n",
    "    # plt.xscale('log')\n",
    "    plt.xlabel(X_Labels[Labels[i]][0] , fontsize=fs)  # plot x-axis label\n",
    "    plt.ylabel(\"${\\sigma^{-1}}$d${\\sigma}$/dx\", fontsize=fs)  # plot y-axis label $\\u03C3^{-1}$\n",
    "    plt.ylim(Ylm[Labels[i]])\n",
    "    # plt.xlim((x1,x2))\n",
    "\n",
    "# plt.savefig(\"./JSS_variable_QCD_SVJ.png\")  #save figure as png  \n",
    "plt.show() "
   ]
  },
  {
   "cell_type": "code",
   "execution_count": null,
   "metadata": {},
   "outputs": [],
   "source": []
  },
  {
   "cell_type": "code",
   "execution_count": null,
   "metadata": {},
   "outputs": [],
   "source": []
  },
  {
   "cell_type": "code",
   "execution_count": null,
   "metadata": {},
   "outputs": [],
   "source": []
  }
 ],
 "metadata": {
  "kernelspec": {
   "display_name": "Python 3",
   "language": "python",
   "name": "python3"
  },
  "language_info": {
   "codemirror_mode": {
    "name": "ipython",
    "version": 3
   },
   "file_extension": ".py",
   "mimetype": "text/x-python",
   "name": "python",
   "nbconvert_exporter": "python",
   "pygments_lexer": "ipython3",
   "version": "3.6.8"
  }
 },
 "nbformat": 4,
 "nbformat_minor": 4
}
