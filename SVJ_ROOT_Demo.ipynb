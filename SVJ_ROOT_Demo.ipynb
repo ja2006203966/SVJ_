{
 "cells": [
  {
   "cell_type": "markdown",
   "metadata": {},
   "source": [
    "# Import package"
   ]
  },
  {
   "cell_type": "code",
   "execution_count": 1,
   "metadata": {},
   "outputs": [
    {
     "name": "stdout",
     "output_type": "stream",
     "text": [
      "Welcome to JupyROOT 6.20/04\n"
     ]
    }
   ],
   "source": [
    "import os\n",
    "import pandas as pd\n",
    "import numpy as np\n",
    "from root_numpy import root2array "
   ]
  },
  {
   "cell_type": "markdown",
   "metadata": {},
   "source": [
    "$ cd <path_to_your_root_file>\n",
    "$　root XXX.root\n",
    "[root] _file0->ls()\n",
    "[root] Delphes->MakeClass()"
   ]
  },
  {
   "cell_type": "markdown",
   "metadata": {},
   "source": [
    "# Load root file"
   ]
  },
  {
   "cell_type": "code",
   "execution_count": 44,
   "metadata": {},
   "outputs": [],
   "source": [
    "# root_file = \"./SVJ_pythia/Z1500/delphes_nolhe_Z1500_rinv_03.root\" #your root file path\n",
    "root_file = \"./SVJ_pythia/Z2000/delphes_nolhe_Z2000_rinv_05.root\" #your root file path\n",
    "# root_file = \"./SVJ_pythia/Z1000/delphes_nolhe_Z1000_rinv_04.root\" #your root file path\n",
    "\n",
    "\n",
    "\n",
    "event = root2array(root_file, \"Delphes;1\", branches=[\n",
    "\"Particle.Status\", \"Particle.M1\", \"Particle.M2\", \"Particle.D1\", \"Particle.D2\",\n",
    "\"Particle.PID\", \"Particle.PT\",\n",
    "\"Particle.Eta\",\"Particle.Phi\", \"Particle.Mass\"], start=0, stop=1, step=None)\n",
    "# in this example I set \n",
    "_Status, _M1, _M2, _D1, _D2, _PID, _PT, _Eta, _Phi, _Mass = 0, 1, 2, 3, 4, 5, 6, 7, 8, 9\n",
    "Labels = [\"Status\", \"M1\", \"M2\", \"D1\", \"D2\", \"PID\", \"PT\", \"Eta\", \"Phi\", \"Mass\"]\n",
    "\n"
   ]
  },
  {
   "cell_type": "markdown",
   "metadata": {},
   "source": [
    "# Show truth record"
   ]
  },
  {
   "cell_type": "code",
   "execution_count": 3,
   "metadata": {},
   "outputs": [
    {
     "ename": "SyntaxError",
     "evalue": "unexpected EOF while parsing (<ipython-input-3-bfc1e4de8cf8>, line 7)",
     "output_type": "error",
     "traceback": [
      "\u001b[0;36m  File \u001b[0;32m\"<ipython-input-3-bfc1e4de8cf8>\"\u001b[0;36m, line \u001b[0;32m7\u001b[0m\n\u001b[0;31m    \u001b[0m\n\u001b[0m    ^\u001b[0m\n\u001b[0;31mSyntaxError\u001b[0m\u001b[0;31m:\u001b[0m unexpected EOF while parsing\n"
     ]
    }
   ],
   "source": [
    "# Particle status in Pythia8: http://home.thep.lu.se/~torbjorn/pythia81html/ParticleProperties.html\n",
    "print(\"Index\", \"\\t\",\"Status\", \"\\t\",\"M1\" \"\\t\",\"M2\" ,\"\\t\",\"D1\", \"\\t\",\"D2\", \"\\t\",\"PID\", \"\\t\\t\",\"PT\" \"\\t\",\"Eta\", \"\\t\\t\",\"Phi\", \"\\t\\t\",\"Mass\")\n",
    "for j in range(len(event[0][0])):  \n",
    "    print(j, \"\\t\", event[0][_Status][j],  \"\\t\\t\", event[0][_M1][j], \"\\t\", event[0][_M2][j], \"\\t\", event[0][_D1][j], \"\\t\", \n",
    "          event[0][_D2][j],  \"\\t\", str(event[0][_PID][j]).ljust(12, ' '), \"\\t\", round(event[0][_PT][j],0),  \"\\t\",\n",
    "          str(round(event[0][_Eta][j],2)).ljust(12, ' ') , \"\\t\",str(round(event[0][_Phi][j],3)).ljust(12, ' '),  \"\\t\",round(event[0][_Mass][j],3)) \n",
    " "
   ]
  },
  {
   "cell_type": "markdown",
   "metadata": {},
   "source": [
    "# Define function to trace particle decay"
   ]
  },
  {
   "cell_type": "code",
   "execution_count": 46,
   "metadata": {},
   "outputs": [],
   "source": [
    "def find_decayratio(event,n, mode = 'daughter'):\n",
    "    d1, d2 = -1, -1\n",
    "    d0 = -1\n",
    "    ID = 4900101 #Xd PID\n",
    "    for j in  range(len(event[n][0])):\n",
    "        if(event[n][5][j]==ID)&(event[n][0][j]==23): #23 : hardest outgoing particles\n",
    "            d1 = event[n][_D1][j]\n",
    "            d2 = event[n][_D2][j]\n",
    "            while((event[n][_PID][d1]==ID)or(event[n][5][d2]==ID) ):\n",
    "                if(event[n][_PID][d1]==ID):\n",
    "                    d0 = d1\n",
    "                    d1 = event[n][_D1][d0]\n",
    "                    d2 = event[n][_D2][d0]\n",
    "                    if(event[n][_PID][d2]==ID):\n",
    "                        d0 = d2\n",
    "                        d1 = event[n][_D1][d0]\n",
    "                        d2 = event[n][_D2][d0]\n",
    "                        \n",
    "    if mode=='daughter':\n",
    "        return d1, d2\n",
    "    if mode=='id':\n",
    "        return event[n][5][d1], event[n][5][d2]\n",
    "    \n",
    "def find_subdecayratio(event, n, j, ID=4900111): \n",
    "    d1, d2 = -1, -1\n",
    "    d0 = -1\n",
    "    d1 = event[n][_D1][j]\n",
    "    d2 = event[n][_D2][j]\n",
    "    if((abs(event[n][_PID][d1])!=ID)&(abs(event[n][_PID][d2])!=ID)):\n",
    "        d1=0\n",
    "        d2=0\n",
    "        return d1, d2\n",
    "    else:\n",
    "        while((abs(event[n][_PID][d1])==ID)or(abs(event[n][_PID][d2])==ID) ):\n",
    "            if(abs(event[n][_PID][d1])==ID):\n",
    "                d0 = d1\n",
    "                d1 = event[n][_D1][d0]\n",
    "                d2 = event[n][_D2][d0]\n",
    "            if(abs(event[n][_PID][d2])==ID):\n",
    "                d0 = d2\n",
    "                d1 = event[n][_D1][d0]\n",
    "                d2 = event[n][_D2][d0]\n",
    "        return event[n][_PID][d1], event[n][_PID][d2]\n",
    "def find_daughterid(event, n, j, ID=4900111):\n",
    "    sid = event[n][_PID][j]\n",
    "    if(sid!=ID):\n",
    "        return 0, 0\n",
    "    else:\n",
    "        d1 = event[n][_D1][j]\n",
    "        d2 = event[n][_D2][j]\n",
    "        return event[n][_PID][d1], event[n][_PID][d2]\n",
    "\n",
    "        "
   ]
  },
  {
   "cell_type": "markdown",
   "metadata": {},
   "source": [
    "# Trace certain particle ID untile it \"decay\" (daughter1!=daughter2)"
   ]
  },
  {
   "cell_type": "code",
   "execution_count": 60,
   "metadata": {},
   "outputs": [
    {
     "name": "stdout",
     "output_type": "stream",
     "text": [
      "Self index in event 751\n",
      "Mother: 705 750\n",
      "Mother_id: 4900101 -4900101 \n",
      "\n",
      "Daughter 1246 1247\n",
      "Daughter_id -2 2\n",
      "Daughter1_parents 751 -1\n",
      "Daughter1_parents_id 4900113 22\n",
      "Daughter2_parents 751 -1\n",
      "Daughter2_parents_id 4900113 22 \n",
      "\n",
      "Self index in event 753\n",
      "Mother: 705 750\n",
      "Mother_id: 4900101 -4900101 \n",
      "\n",
      "Daughter 1266 1267\n",
      "Daughter_id 4900213 -4900213\n",
      "Daughter1_parents 753 -1\n",
      "Daughter1_parents_id 4900113 22\n",
      "Daughter2_parents 753 -1\n",
      "Daughter2_parents_id 4900113 22 \n",
      "\n",
      "Self index in event 761\n",
      "Mother: 705 750\n",
      "Mother_id: 4900101 -4900101 \n",
      "\n",
      "Daughter 1268 1269\n",
      "Daughter_id 4900213 -4900213\n",
      "Daughter1_parents 761 -1\n",
      "Daughter1_parents_id 4900113 22\n",
      "Daughter2_parents 761 -1\n",
      "Daughter2_parents_id 4900113 22 \n",
      "\n",
      "Self index in event 765\n",
      "Mother: 705 750\n",
      "Mother_id: 4900101 -4900101 \n",
      "\n",
      "Daughter 1278 1279\n",
      "Daughter_id 4900213 -4900213\n",
      "Daughter1_parents 765 -1\n",
      "Daughter1_parents_id 4900113 22\n",
      "Daughter2_parents 765 -1\n",
      "Daughter2_parents_id 4900113 22 \n",
      "\n",
      "Self index in event 766\n",
      "Mother: 705 750\n",
      "Mother_id: 4900101 -4900101 \n",
      "\n",
      "Daughter 1280 1281\n",
      "Daughter_id 4900213 -4900213\n",
      "Daughter1_parents 766 -1\n",
      "Daughter1_parents_id 4900113 22\n",
      "Daughter2_parents 766 -1\n",
      "Daughter2_parents_id 4900113 22 \n",
      "\n"
     ]
    }
   ],
   "source": [
    "n=0\n",
    "ID=4900113\n",
    "N = []\n",
    "for j in  range(len(event[n][0])):\n",
    "    if(event[n][_PID][j]==ID): #23 : hardest outgoing particles\n",
    "        print(\"Self index in event\",j)\n",
    "        m1 = event[n][_M1][j]\n",
    "        m2 = event[n][_M2][j]\n",
    "        print(\"Mother:\",m1,m2)\n",
    "        if (m1==m2):\n",
    "            print(\"Mother_id:\", event[n][_PID][m1], \"nan\\n\")\n",
    "        else:\n",
    "            print(\"Mother_id:\", event[n][_PID][m1], event[n][_PID][m2],\"\\n\")\n",
    "        d1 = event[n][_D1][j]\n",
    "        d2 = event[n][_D2][j]\n",
    "        prevent = 0\n",
    "        while(d1==d2): \n",
    "            d0 = d1\n",
    "            if(d1==-1):\n",
    "                print(\"stable particles\\n\\n\")\n",
    "                break\n",
    "            if(prevent >= 100):\n",
    "                print(\"infinite loop!\")\n",
    "                prevent=0\n",
    "                break\n",
    "            d1 = event[n][_D1][d1]\n",
    "            d2 = event[n][_D2][d2]\n",
    "            if(d1!=d2):\n",
    "                N.append(d0)\n",
    "            prevent= prevent+1\n",
    "        if(d1!=-1):\n",
    "            print(\"Daughter\", d1, d2)\n",
    "            print(\"Daughter_id\", event[n][_PID][d1], event[n][_PID][d2])\n",
    "            m1, m2 = event[n][_M1][d1], event[n][_M2][d1]\n",
    "            print(\"Daughter1_parents\", m1, m2)\n",
    "            if(m1==m2):\n",
    "                print(\"Daughter1_parents_id\", event[n][_PID][m1], \"nan\") \n",
    "            else:\n",
    "                print(\"Daughter1_parents_id\", event[n][_PID][m1], event[n][_PID][m2])\n",
    "            m1, m2 = event[n][_M1][d2], event[n][_M2][d2]\n",
    "            print(\"Daughter2_parents\", m1, m2)\n",
    "            if(m1==m2): \n",
    "                print(\"Daughter2_parents_id\", event[n][_PID][m1], \"nan\",\"\\n\")\n",
    "            else:\n",
    "                print(\"Daughter2_parents_id\", event[n][_PID][m1], event[n][5][m2],\"\\n\")"
   ]
  },
  {
   "cell_type": "markdown",
   "metadata": {},
   "source": [
    "# Trace outgoing Xd (4900101) in hardest subprocess \n",
    "# And then record the dark meson decay"
   ]
  },
  {
   "cell_type": "code",
   "execution_count": 47,
   "metadata": {},
   "outputs": [
    {
     "ename": "IndexError",
     "evalue": "index 1 is out of bounds for axis 0 with size 1",
     "output_type": "error",
     "traceback": [
      "\u001b[0;31m---------------------------------------------------------------------------\u001b[0m",
      "\u001b[0;31mIndexError\u001b[0m                                Traceback (most recent call last)",
      "\u001b[0;32m<ipython-input-47-9c9a25937685>\u001b[0m in \u001b[0;36m<module>\u001b[0;34m\u001b[0m\n\u001b[1;32m      3\u001b[0m \u001b[0ma111\u001b[0m \u001b[0;34m=\u001b[0m \u001b[0;34m[\u001b[0m\u001b[0;34m]\u001b[0m\u001b[0;34m\u001b[0m\u001b[0;34m\u001b[0m\u001b[0m\n\u001b[1;32m      4\u001b[0m \u001b[0;32mfor\u001b[0m \u001b[0mn\u001b[0m \u001b[0;32min\u001b[0m \u001b[0mrange\u001b[0m\u001b[0;34m(\u001b[0m\u001b[0;36m1000\u001b[0m\u001b[0;34m)\u001b[0m\u001b[0;34m:\u001b[0m\u001b[0;34m\u001b[0m\u001b[0;34m\u001b[0m\u001b[0m\n\u001b[0;32m----> 5\u001b[0;31m     \u001b[0ma1\u001b[0m\u001b[0;34m,\u001b[0m \u001b[0ma2\u001b[0m \u001b[0;34m=\u001b[0m \u001b[0mfind_decayratio\u001b[0m\u001b[0;34m(\u001b[0m\u001b[0mevent\u001b[0m\u001b[0;34m,\u001b[0m\u001b[0mn\u001b[0m\u001b[0;34m)\u001b[0m \u001b[0;31m# find Xd -> a1 a2\u001b[0m\u001b[0;34m\u001b[0m\u001b[0;34m\u001b[0m\u001b[0m\n\u001b[0m\u001b[1;32m      6\u001b[0m     \u001b[0md1a1\u001b[0m \u001b[0;34m=\u001b[0m \u001b[0mfind_daughterid\u001b[0m\u001b[0;34m(\u001b[0m\u001b[0mevent\u001b[0m\u001b[0;34m,\u001b[0m \u001b[0mn\u001b[0m\u001b[0;34m,\u001b[0m \u001b[0ma1\u001b[0m\u001b[0;34m,\u001b[0m \u001b[0mID\u001b[0m\u001b[0;34m=\u001b[0m\u001b[0;36m4900111\u001b[0m\u001b[0;34m)\u001b[0m \u001b[0;31m# check whether a1 is 4900111 and find it's daughter\u001b[0m\u001b[0;34m\u001b[0m\u001b[0;34m\u001b[0m\u001b[0m\n\u001b[1;32m      7\u001b[0m     \u001b[0md2a1\u001b[0m \u001b[0;34m=\u001b[0m \u001b[0mfind_daughterid\u001b[0m\u001b[0;34m(\u001b[0m\u001b[0mevent\u001b[0m\u001b[0;34m,\u001b[0m \u001b[0mn\u001b[0m\u001b[0;34m,\u001b[0m \u001b[0ma2\u001b[0m\u001b[0;34m,\u001b[0m \u001b[0mID\u001b[0m\u001b[0;34m=\u001b[0m\u001b[0;36m4900111\u001b[0m\u001b[0;34m)\u001b[0m \u001b[0;31m# check whether a2 is 4900111 and find it's daughter\u001b[0m\u001b[0;34m\u001b[0m\u001b[0;34m\u001b[0m\u001b[0m\n",
      "\u001b[0;32m<ipython-input-46-efff0634f3b7>\u001b[0m in \u001b[0;36mfind_decayratio\u001b[0;34m(event, n, mode)\u001b[0m\n\u001b[1;32m      3\u001b[0m     \u001b[0md0\u001b[0m \u001b[0;34m=\u001b[0m \u001b[0;34m-\u001b[0m\u001b[0;36m1\u001b[0m\u001b[0;34m\u001b[0m\u001b[0;34m\u001b[0m\u001b[0m\n\u001b[1;32m      4\u001b[0m     \u001b[0mID\u001b[0m \u001b[0;34m=\u001b[0m \u001b[0;36m4900101\u001b[0m \u001b[0;31m#Xd PID\u001b[0m\u001b[0;34m\u001b[0m\u001b[0;34m\u001b[0m\u001b[0m\n\u001b[0;32m----> 5\u001b[0;31m     \u001b[0;32mfor\u001b[0m \u001b[0mj\u001b[0m \u001b[0;32min\u001b[0m  \u001b[0mrange\u001b[0m\u001b[0;34m(\u001b[0m\u001b[0mlen\u001b[0m\u001b[0;34m(\u001b[0m\u001b[0mevent\u001b[0m\u001b[0;34m[\u001b[0m\u001b[0mn\u001b[0m\u001b[0;34m]\u001b[0m\u001b[0;34m[\u001b[0m\u001b[0;36m0\u001b[0m\u001b[0;34m]\u001b[0m\u001b[0;34m)\u001b[0m\u001b[0;34m)\u001b[0m\u001b[0;34m:\u001b[0m\u001b[0;34m\u001b[0m\u001b[0;34m\u001b[0m\u001b[0m\n\u001b[0m\u001b[1;32m      6\u001b[0m         \u001b[0;32mif\u001b[0m\u001b[0;34m(\u001b[0m\u001b[0mevent\u001b[0m\u001b[0;34m[\u001b[0m\u001b[0mn\u001b[0m\u001b[0;34m]\u001b[0m\u001b[0;34m[\u001b[0m\u001b[0;36m5\u001b[0m\u001b[0;34m]\u001b[0m\u001b[0;34m[\u001b[0m\u001b[0mj\u001b[0m\u001b[0;34m]\u001b[0m\u001b[0;34m==\u001b[0m\u001b[0mID\u001b[0m\u001b[0;34m)\u001b[0m\u001b[0;34m&\u001b[0m\u001b[0;34m(\u001b[0m\u001b[0mevent\u001b[0m\u001b[0;34m[\u001b[0m\u001b[0mn\u001b[0m\u001b[0;34m]\u001b[0m\u001b[0;34m[\u001b[0m\u001b[0;36m0\u001b[0m\u001b[0;34m]\u001b[0m\u001b[0;34m[\u001b[0m\u001b[0mj\u001b[0m\u001b[0;34m]\u001b[0m\u001b[0;34m==\u001b[0m\u001b[0;36m23\u001b[0m\u001b[0;34m)\u001b[0m\u001b[0;34m:\u001b[0m \u001b[0;31m#23 : hardest outgoing particles\u001b[0m\u001b[0;34m\u001b[0m\u001b[0;34m\u001b[0m\u001b[0m\n\u001b[1;32m      7\u001b[0m             \u001b[0md1\u001b[0m \u001b[0;34m=\u001b[0m \u001b[0mevent\u001b[0m\u001b[0;34m[\u001b[0m\u001b[0mn\u001b[0m\u001b[0;34m]\u001b[0m\u001b[0;34m[\u001b[0m\u001b[0m_D1\u001b[0m\u001b[0;34m]\u001b[0m\u001b[0;34m[\u001b[0m\u001b[0mj\u001b[0m\u001b[0;34m]\u001b[0m\u001b[0;34m\u001b[0m\u001b[0;34m\u001b[0m\u001b[0m\n",
      "\u001b[0;31mIndexError\u001b[0m: index 1 is out of bounds for axis 0 with size 1"
     ]
    }
   ],
   "source": [
    "# 4900111 and 4900113 is unstable dark meson\n",
    "a113 = []\n",
    "a111 = []\n",
    "for n in range(1000):\n",
    "    a1, a2 = find_decayratio(event,n) # find Xd -> a1 a2\n",
    "    d1a1 = find_daughterid(event, n, a1, ID=4900111) # check whether a1 is 4900111 and find it's daughter\n",
    "    d2a1 = find_daughterid(event, n, a2, ID=4900111) # check whether a2 is 4900111 and find it's daughter\n",
    "    \n",
    "    d1a2 = find_daughterid(event, n, a1, ID=4900113) # check whether a1 is 4900113 and find it's daughter\n",
    "    d2a2 = find_daughterid(event, n, a2, ID=4900113) # check whether a2 is 4900113 and find it's daughter\n",
    "\n",
    "    a111.append(d1a1)\n",
    "    a111.append(d2a1)\n",
    "    a113.append(d1a2)\n",
    "    a113.append(d2a2)"
   ]
  },
  {
   "cell_type": "markdown",
   "metadata": {},
   "source": [
    "# Calculate the ratio of stable dark meson in above record"
   ]
  },
  {
   "cell_type": "code",
   "execution_count": 62,
   "metadata": {},
   "outputs": [
    {
     "name": "stdout",
     "output_type": "stream",
     "text": [
      "The number_4900211/number_others in 4900111 decay particles :  0.4393939393939394\n"
     ]
    }
   ],
   "source": [
    "#find 4900211 in 4900111 decay record (Note 4900211 is stable dark meson)\n",
    "r = [sum([1 for i in a111 for j in i if (abs(j)== 4900211)]), sum([1 for i in a111 for j in i if (abs(j)!= 4900211)&(j!=0)])] \n",
    "print(\"The number_4900211/number_others in 4900111 decay particles : \", r[0]/sum(r))"
   ]
  },
  {
   "cell_type": "code",
   "execution_count": 63,
   "metadata": {},
   "outputs": [
    {
     "name": "stdout",
     "output_type": "stream",
     "text": [
      "The number_4900213/number_others in 4900113 decay particles : 0.35870967741935483\n"
     ]
    }
   ],
   "source": [
    "#find 4900213 in 4900113 decay record (Note 4900211 is stable dark meson)\n",
    "r = [sum([1 for i in a113 for j in i if (abs(j)== 4900213)]), sum([1 for i in a113 for j in i if (abs(j)!= 4900213)&(j!=0)])] \n",
    "print(\"The number_4900213/number_others in 4900113 decay particles :\", r[0]/sum(r))"
   ]
  },
  {
   "cell_type": "markdown",
   "metadata": {},
   "source": [
    "# Load weights and jets"
   ]
  },
  {
   "cell_type": "code",
   "execution_count": 48,
   "metadata": {},
   "outputs": [],
   "source": [
    "nevn=20000 # number of event you generate in madgraph\n",
    "W =  root2array(root_file, \"Delphes;1\", branches=[\"Event.Weight\"], start=0, stop=20000, step=None) #weight for each event\n",
    "jet = root2array(root_file, \"Delphes;1\", branches=[\"Jet.PT\", \"Jet.Eta\", \"Jet.Phi\", \"Jet.Mass\"], start=0, stop=20000, step=None)\n",
    "W = [i[0][0] for i in W] #just reset the data structure to convenienc\n",
    "root_file2 = \"./SVJ_pythia/Z2000/delphes_nolhe_Z2000_rinv_01.root\"\n",
    "jet2 = root2array(root_file2, \"Delphes;1\", branches=[\"Jet.PT\", \"Jet.Eta\", \"Jet.Phi\", \"Jet.Mass\"], start=0, stop=20000, step=None)\n",
    "W2 =  root2array(root_file2, \"Delphes;1\", branches=[\"Event.Weight\"], start=0, stop=20000, step=None)\n",
    "W2 = [i[0][0] for i in W2]\n",
    "#We set\n",
    "_JPT, _JEta, _JPhi, _JMass = 0, 1, 2, 3"
   ]
  },
  {
   "cell_type": "markdown",
   "metadata": {},
   "source": [
    "# Define invariant mass function"
   ]
  },
  {
   "cell_type": "code",
   "execution_count": 40,
   "metadata": {},
   "outputs": [],
   "source": [
    "def mass_inv(jet):\n",
    "#    [\"FatJet.PT\", \"FatJet.Eta\", \"FatJet.Phi\", \"FatJet.Mass\"] \n",
    "# formula https://en.wikipedia.org/wiki/Invariant_mass#As_defined_in_particle_physics\n",
    "    M_inv = 2*jet[_JPT][0]*jet[_JPT][1]*(np.cosh(jet[_JEta][0]-jet[_JEta][1])-np.cos(jet[_JPhi][0]-jet[_JPhi][1]))\n",
    "    return M_inv**0.5\n",
    "def mas_in(jet,n):\n",
    "#    [\"FatJet.PT\", \"FatJet.Eta\", \"FatJet.Phi\", \"FatJet.Mass\"] \n",
    "# formula https://en.wikipedia.org/wiki/Invariant_mass#As_defined_in_particle_physics\n",
    "    M_inv = 2*jet[_JPT][n]*jet[_JPT][n]*(np.cosh(jet[_JEta][n]-jet[_JEta][n])-np.cos(jet[_JPhi][n]-jet[_JPhi][n]))\n",
    "    return M_inv**0.5\n",
    "def ET(jet,n):\n",
    "    return (mas_in(jet,n)**2+jet[_JPT][n]**2)**0.5\n",
    "def deltaPhi(phi1,phi2):\n",
    "    x = phi1-phi2\n",
    "    while x>= np.pi: x -= np.pi*2.\n",
    "    while x< -np.pi: x += np.pi*2.\n",
    "    return x    \n",
    "\n",
    "def mass_T(jet):\n",
    "    M_T=2*ET(jet,1)*ET(jet,0)*(1-np.cos(deltaPhi(jet[_JPhi][1],jet[_JPhi][0])) ) \n",
    "    return  M_T**0.5"
   ]
  },
  {
   "cell_type": "markdown",
   "metadata": {},
   "source": [
    "# Jet selection and fill up with invariant mass"
   ]
  },
  {
   "cell_type": "code",
   "execution_count": 49,
   "metadata": {},
   "outputs": [],
   "source": [
    "## ALTAS selection\n",
    "m_inv = []\n",
    "m_T = []\n",
    "Wc = []\n",
    "for i in range(len(jet)):\n",
    "    if jet[i][0].shape[0]<2: #at least two jet\n",
    "        continue\n",
    "    if jet[i][_JPT][0]<440: # leading jet pt >= 440 Gev\n",
    "        continue\n",
    "    if jet[i][_JPT][1]<60: #sub-leading jet pt >= 60 Gev\n",
    "        continue\n",
    "    if abs(jet[i][_JEta][0]-jet[i][_JEta][1])>=1.2:\n",
    "        continue\n",
    "    m_inv.append(mass_inv(jet[i]))\n",
    "    m_T.append(mass_T(jet[i]))\n",
    "    Wc.append(W[i])\n",
    "m_inv2 = []\n",
    "m_T2 = []\n",
    "Wc2 = []\n",
    "for i in range(len(jet2)):\n",
    "    if jet2[i][0].shape[0]<2:\n",
    "        continue\n",
    "    if jet2[i][0][0]<440:\n",
    "        continue\n",
    "    if jet2[i][0][1]<60:\n",
    "        continue\n",
    "    if abs(jet2[i][1][0]-jet2[i][1][1])>=1.2:\n",
    "        continue\n",
    "    m_inv2.append(mass_inv(jet2[i]))\n",
    "    m_T2.append(mass_T(jet2[i]))\n",
    "    Wc2.append(W2[i])"
   ]
  },
  {
   "cell_type": "code",
   "execution_count": null,
   "metadata": {},
   "outputs": [],
   "source": [
    "## selection 2 ... NOT finish\n",
    "m_inv = []\n",
    "m_T = []\n",
    "Wc = []\n",
    "for i in range(len(jet)):\n",
    "    if jet[i][0].shape[0]<2: #at least two jet\n",
    "        continue\n",
    "    if jet[i][_JPT][0]<440: # leading jet pt >= 440 Gev\n",
    "        continue\n",
    "    if jet[i][_JPT][1]<60: #sub-leading jet pt >= 60 Gev\n",
    "        continue\n",
    "#     if abs(jet[i][_JEta][0]-jet[i][_JEta][1])>=1.2:\n",
    "#         continue\n",
    "    m_inv.append(mass_inv(jet[i]))\n",
    "    m_T.append(mass_T(jet[i]))\n",
    "    Wc.append(W[i])\n",
    "m_inv2 = []\n",
    "m_T2 = []\n",
    "Wc2 = []\n",
    "for i in range(len(jet2)):\n",
    "    if jet2[i][0].shape[0]<2:\n",
    "        continue\n",
    "    if jet2[i][0][0]<440:\n",
    "        continue\n",
    "    if jet2[i][0][1]<60:\n",
    "        continue\n",
    "#     if abs(jet2[i][1][0]-jet2[i][1][1])>=1.2:\n",
    "#         continue\n",
    "    m_inv2.append(mass_inv(jet2[i]))\n",
    "    m_T2.append(mass_T(jet2[i]))\n",
    "    Wc2.append(W2[i])"
   ]
  },
  {
   "cell_type": "code",
   "execution_count": null,
   "metadata": {},
   "outputs": [],
   "source": []
  },
  {
   "cell_type": "markdown",
   "metadata": {},
   "source": [
    "# Calculate the cross section in root"
   ]
  },
  {
   "cell_type": "code",
   "execution_count": 50,
   "metadata": {},
   "outputs": [
    {
     "name": "stdout",
     "output_type": "stream",
     "text": [
      "Cross section(pb) \t Cross section with selection(pb) \t Expected yield (tatal)\t Expected yield for Selection\n",
      "0.13218407332897186 \t 0.008770413265377284 \t\t\t 4890.810713171959 \t 324.5052908189595\n"
     ]
    }
   ],
   "source": [
    "Xection = sum(W)/nevn\n",
    "Xection_with_selection = sum(Wc)/nevn\n",
    "Lumi = 37 #Luminosity fb^-1\n",
    "expected_yield = (Xection)*Lumi*1000  #expected yield\n",
    "expected_yield_c = (Xection_with_selection)*Lumi*1000 #expected yield\n",
    "print(\"Cross section(pb) \\t Cross section with selection(pb) \\t Expected yield (tatal)\\t Expected yield for Selection\")\n",
    "print(Xection,\"\\t\",Xection_with_selection,\"\\t\\t\\t\",expected_yield,'\\t',expected_yield_c)"
   ]
  },
  {
   "cell_type": "markdown",
   "metadata": {},
   "source": [
    "# Plot"
   ]
  },
  {
   "cell_type": "code",
   "execution_count": 51,
   "metadata": {},
   "outputs": [
    {
     "name": "stderr",
     "output_type": "stream",
     "text": [
      "/usr/local/lib/python3.6/site-packages/ipykernel_launcher.py:22: UserWarning: Attempted to set non-positive bottom ylim on a log-scaled axis.\n",
      "Invalid limit will be ignored.\n"
     ]
    },
    {
     "data": {
      "image/png": "[encoded data removed]",
      "text/plain": [
       "<Figure size 576x576 with 1 Axes>"
      ]
     },
     "metadata": {
      "needs_background": "light"
     },
     "output_type": "display_data"
    }
   ],
   "source": [
    "import matplotlib.pyplot as plt\n",
    "bins = 100\n",
    "fs=18 # front size\n",
    "tagsize = 18 # label tag size ((\\blue block) W \\n (\\orange block) QCD )\n",
    "plt.figure(figsize=(8,8)) # plotsize\n",
    "x1, x2 = 700, 10000\n",
    "\n",
    "bisize = np.linspace(500,10000,101)\n",
    "\n",
    "\n",
    "plt.hist(m_T2 ,bins=bins, histtype='step',  range=[x1, x2], weights= np.array(Wc2),\n",
    "         label='rinv = 0.1, ${M_{Z}}$=2.0 TeV')\n",
    "plt.hist(m_T ,bins=bins, histtype='step', color='r', range=[x1, x2], weights= np.array(Wc),\n",
    "         label='rinv = 0.5, ${M_{Z}}$=2.0 TeV')\n",
    "\n",
    "  \n",
    "plt.legend(prop={'size': tagsize}) # plot label tag\n",
    "plt.yscale('log')\n",
    "plt.xscale('log')\n",
    "plt.xlabel('${M_{T}}$' , fontsize=fs)  # plot x-axis label\n",
    "plt.ylabel(\"d${\\sigma}$/dx\", fontsize=fs)  # plot y-axis label $\\u03C3^{-1}$\n",
    "plt.ylim((0,5000000))\n",
    "plt.xlim((x1,x2))\n",
    "plt.xticks([1000,3000,10000], ['${10^3}$', '3${X}$${10^{3}}$','${10^{4}}$' ],fontsize=fs)   # set x-ticks size\n",
    "plt.yticks([1,100,10000,1000000],fontsize=fs)   # set y-ticks size \n",
    "plt.savefig(\"./invariant_mass_JET_SVJ_Z2000_Z2000.png\")  #save figure as png  \n",
    "plt.show() "
   ]
  },
  {
   "cell_type": "code",
   "execution_count": null,
   "metadata": {},
   "outputs": [],
   "source": []
  }
 ],
 "metadata": {
  "kernelspec": {
   "display_name": "Python 3",
   "language": "python",
   "name": "python3"
  },
  "language_info": {
   "codemirror_mode": {
    "name": "ipython",
    "version": 3
   },
   "file_extension": ".py",
   "mimetype": "text/x-python",
   "name": "python",
   "nbconvert_exporter": "python",
   "pygments_lexer": "ipython3",
   "version": "3.6.8"
  }
 },
 "nbformat": 4,
 "nbformat_minor": 4
}
