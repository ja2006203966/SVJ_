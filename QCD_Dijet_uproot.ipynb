{
 "cells": [
  {
   "cell_type": "markdown",
   "metadata": {},
   "source": [
    "# Import package"
   ]
  },
  {
   "cell_type": "code",
   "execution_count": 1,
   "metadata": {},
   "outputs": [
    {
     "name": "stdout",
     "output_type": "stream",
     "text": [
      "Welcome to JupyROOT 6.20/04\n"
     ]
    }
   ],
   "source": [
    "import os\n",
    "import pandas as pd\n",
    "import numpy as np\n",
    "from root_numpy import root2array \n",
    "#---------------------------------------------- JET IMAGE\n",
    "from root_numpy import root2array, stretch\n",
    "from pyjet import cluster\n",
    "from pyjet.testdata import get_event\n",
    "import matplotlib.pyplot as plt\n",
    "import numpy as np\n",
    "import pandas as pd\n",
    "from tqdm import tqdm, trange\n",
    "import glob\n",
    "import matplotlib.cm as cm\n",
    "from scipy.stats import binned_statistic_2d\n",
    "from matplotlib.colors import LogNorm\n",
    "#--------------------------------- ALL\n",
    "import h5py \n",
    "import uproot\n",
    "import time\n",
    "#-------------------------------- JSS\n",
    "import pyjet\n",
    "import argparse\n",
    "import glob\n",
    "import math\n",
    "import operator\n",
    "import os\n",
    "import re\n",
    "import time\n",
    "from functools import lru_cache, reduce\n",
    "from itertools import combinations\n",
    "\n",
    "import numpy as np\n",
    "import pandas as pd\n"
   ]
  },
  {
   "cell_type": "markdown",
   "metadata": {},
   "source": [
    "$ pip3 install tqdm\n",
    "$ pip3 install pyjet\n",
    "$ pip3 install scipy\n",
    "$ pip3 install h5py"
   ]
  },
  {
   "cell_type": "markdown",
   "metadata": {},
   "source": [
    "$ cd <path_to_your_root_file>\n",
    "$　root XXX.root\n",
    "[root] _file0->ls()\n",
    "[root] Delphes->MakeClass()"
   ]
  },
  {
   "cell_type": "code",
   "execution_count": 166,
   "metadata": {},
   "outputs": [],
   "source": [
    "def cluster_event(event_list):\n",
    "    event_list_clustered = []\n",
    "    for x in range(len(event_list)):\n",
    "        to_cluster = np.array([event_list[x][:,0],event_list[x][:,1],event_list[x][:,2],event_list[x][:,3]])\n",
    "        to_cluster = np.swapaxes(to_cluster,0,1)\n",
    "        to_cluster = np.core.records.fromarrays(to_cluster.transpose(), \n",
    "                                             names='pT, eta, phi, mass',\n",
    "                                             formats = 'f8, f8, f8,f8')\n",
    "        sequence_cluster = cluster(to_cluster, R = 0.8,p = -1)\n",
    "        jets_cluster = sequence_cluster.inclusive_jets()\n",
    "        event_list_clustered.append(jets_cluster)\n",
    "    return(event_list_clustered)"
   ]
  },
  {
   "cell_type": "code",
   "execution_count": 4,
   "metadata": {},
   "outputs": [],
   "source": []
  },
  {
   "cell_type": "code",
   "execution_count": null,
   "metadata": {},
   "outputs": [],
   "source": []
  },
  {
   "cell_type": "code",
   "execution_count": 2,
   "metadata": {},
   "outputs": [],
   "source": []
  },
  {
   "cell_type": "markdown",
   "metadata": {},
   "source": [
    "# Define function for jet image"
   ]
  },
  {
   "cell_type": "code",
   "execution_count": 225,
   "metadata": {},
   "outputs": [],
   "source": [
    "\n",
    "def flatten(event): #my update\n",
    "    fp = np.concatenate((np.expand_dims(event[0], axis=-1),\n",
    "                         np.expand_dims(event[1], axis=-1),\n",
    "                         np.expand_dims(event[2], axis=-1),\n",
    "                         np.expand_dims(event[3], axis=-1)), axis=-1)\n",
    "    fp = fp.transpose((1,0))\n",
    "    fp = np.core.records.fromarrays( [fp[:][0],fp[:][1],fp[:][2],fp[:][3]], names= 'pT, eta, phi, mass' , formats = 'f8, f8, f8,f8')\n",
    "\n",
    "    return fp\n",
    "## Taylor's root to jet image code\n",
    "def root_2_jets(root_file):\n",
    "    # Takes root_file as produces a jet-image\n",
    "#     events = root2array(root_file, \"Delphes;1\", branches=[\n",
    "#         \"Tower.ET\", \"Tower.Eta\", \"Tower.Phi\", \"Tower.E\"])\n",
    "\n",
    "    file = uproot.open(root_file)\n",
    "    events = np.array([np.array(file[\"Delphes;1\"][\"Tower.ET\"].array()), #assum E>>m\n",
    "                       np.array(file[\"Delphes;1\"][\"Tower.Eta\"].array()),\n",
    "                       np.array(file[\"Delphes;1\"][\"Tower.Phi\"].array()),\n",
    "                       np.array(file[\"Delphes;1\"][\"Tower.E\"].array())*0   #assume m<<1\n",
    "                      ])\n",
    "    events = np.expand_dims(events, axis=-1)\n",
    "    events = events.transpose((1,0,2))\n",
    "    events = np.squeeze(events,axis=(2,))\n",
    "\n",
    "    jet_images = []\n",
    "    for ix, event in enumerate(tqdm(events)):\n",
    "        # create trimmed jet event (also centered and rotated)\n",
    "        event = jet_trimmer(event=event, R0=1.2, R1=0.2, pt_cut=0.03) #paper setting\n",
    "        \n",
    "\n",
    "        # pixelize the trimmed jet\n",
    "        jet_image = pixelize(event)\n",
    "\n",
    "        # include jet-image as long as it isn't blank\n",
    "        # blank jets occur only if the event fails a cut\n",
    "        # during trimming\n",
    "        if np.sum(jet_image) != 0:\n",
    "            jet_images.append(jet_image)\n",
    "            \n",
    "    return jet_images\n",
    "def JSS(root_file): #jet substructure\n",
    "    file = uproot.open(root_file)\n",
    "    events = np.array([np.array(file[\"Delphes;1\"][\"Tower.ET\"].array()), #assum E>>m\n",
    "                       np.array(file[\"Delphes;1\"][\"Tower.Eta\"].array()),\n",
    "                       np.array(file[\"Delphes;1\"][\"Tower.Phi\"].array()),\n",
    "                       np.array(file[\"Delphes;1\"][\"Tower.E\"].array())*0  #assume m<<1\n",
    "                      ])\n",
    "    events = np.expand_dims(events, axis=-1)\n",
    "    events = events.transpose((1,0,2))\n",
    "    events = np.squeeze(events,axis=(2,))\n",
    "\n",
    "    jss = []\n",
    "    for ix, event in enumerate(tqdm(events)):\n",
    "        # create trimmed jet event (also centered and rotated)\n",
    "        event = jet_trimmer(event=event, R0=0.8, R1=0.4, pt_cut=0.03) #paper setting\n",
    "        jss.append(event)\n",
    "            \n",
    "    return jss\n",
    "\n",
    "def struc2arr(x):\n",
    "    # pyjet outputs a structured array. This converts\n",
    "    # the 4 component structured array into a simple\n",
    "    # 4xN numpy array\n",
    "    x = x.view((float, len(x.dtype.names)))\n",
    "    return x\n",
    "\n",
    "\n",
    "def rotate(x, y, a):\n",
    "    xp = x * np.cos(a) - y * np.sin(a)\n",
    "    yp = x * np.sin(a) + y * np.cos(a)\n",
    "    return xp, yp\n",
    "\n",
    "\n",
    "def jet_trimmer(event, R0, R1, pt_cut):\n",
    "    # R0 = Clustering radius for the main jets\n",
    "    # R1 = Clustering radius for the subjets in the primary jet\n",
    "    # pt_cut = Threshold for subjets (relative to the primary jet it's a subjet of)\n",
    "\n",
    "    trim_pt, trim_eta, trim_phi, trim_mass = [], [], [], []\n",
    "    \n",
    "    flattened_event = flatten(event)\n",
    "\n",
    "#     flattened_event = stretch(event.reshape(-1))\n",
    "    sequence = cluster(flattened_event, R=R0, p=-1)\n",
    "\n",
    "    # Main jets\n",
    "    jets = sequence.inclusive_jets(ptmin=300)\n",
    "#     print(\"check\")\n",
    "    # In case we are missing a leading jet, break early\n",
    "    if len(jets) == 0:\n",
    "        return np.zeros(1), np.zeros(1), np.zeros(1), np.zeros(1)\n",
    "\n",
    "    # Take just the leading jet\n",
    "    jet0 = jets[0]\n",
    "\n",
    "    # Define a cut threshold that the subjets have to meet (i.e. 5% of the original jet pT)\n",
    "    jet0_max = jet0.pt\n",
    "    jet0_cut = jet0_max*pt_cut\n",
    "\n",
    "    # Grab the subjets by clustering with R1\n",
    "    subjets = cluster(jet0.constituents_array(), R=R1, p=1)\n",
    "    subjet_array = subjets.inclusive_jets()\n",
    "\n",
    "    # Require at least 2 subjets. Otherwise, break early\n",
    "    if len(subjet_array) <= 1:\n",
    "        return np.zeros(1), np.zeros(1), np.zeros(1), np.zeros(1)\n",
    "\n",
    "    for subjet in subjet_array:\n",
    "        if subjet.pt < jet0_cut:\n",
    "            # subjet doesn't meet the percentage cut on the original jet pT\n",
    "            pass\n",
    "        else:\n",
    "            # Get the subjets pt, eta, phi constituents\n",
    "            subjet_data = subjet.constituents_array()\n",
    "            subjet_data = struc2arr(subjet_data)\n",
    "            pT = subjet_data[:, 0]\n",
    "            eta = subjet_data[:, 1]\n",
    "            phi = subjet_data[:, 2]\n",
    "            mass = subjet_data[:, 3]\n",
    "\n",
    "            # Shift all data such that the leading subjet\n",
    "            # is located at (eta,phi) = (0,0)\n",
    "            eta -= subjet_array[0].eta\n",
    "#             eta -= jet0.eta\n",
    "            phi = np.array( [deltaPhi(i,subjet_array[0].phi) for i in phi])\n",
    "#             phi = np.array( [deltaPhi(i,jet0.phi) for i in phi])\n",
    "            \n",
    "\n",
    "            # Rotate the jet image such that the second leading\n",
    "            # jet is located at -pi/2\n",
    "#             s1x, s1y = subjet_array[1].eta, subjet_array[1].phi\n",
    "            s1x, s1y = subjet_array[1].eta - subjet_array[0].eta, deltaPhi(subjet_array[1].phi,subjet_array[0].phi)\n",
    "#             s1x, s1y = subjet_array[1].eta - jet0.eta, deltaPhi(subjet_array[1].phi, jet0.phi)\n",
    "            \n",
    "\n",
    "            theta = np.arctan2(s1y, s1x)\n",
    "            if theta < 0.0:\n",
    "                theta += 2 * np.pi\n",
    "            eta, phi = rotate(eta, phi, np.pi - theta)\n",
    "\n",
    "            # Collect the trimmed subjet constituents\n",
    "            trim_pt.append(pT)\n",
    "            trim_eta.append(eta)\n",
    "            trim_phi.append(phi)\n",
    "            trim_mass.append(mass)\n",
    "    return np.concatenate(trim_pt), np.concatenate(trim_eta), np.concatenate(trim_phi), np.concatenate(trim_mass)\n",
    "\n",
    "\n",
    "def pixelize(event):\n",
    "    pt, eta, phi = event[0], event[1], event[2]\n",
    "\n",
    "    # Define the binning for the complete calorimeter\n",
    "#     bins = np.arange(-1.2, 1.2, 0.1)\n",
    "    bins = 64\n",
    "    ranges = np.array([[-1.2,1.2],[-1.2,1.2]])\n",
    "\n",
    "    # Sum energy deposits in each bin\n",
    "    digitized = binned_statistic_2d(eta, phi, pt, statistic=\"sum\", bins=bins, range= ranges)\n",
    "#     digitized = binned_statistic_2d(eta, phi, pt, statistic=\"sum\", bins=bins)\n",
    "    \n",
    "    jet_image = digitized.statistic\n",
    "    return jet_image\n",
    "#-----------------------------------------------------------------------------------------------------------\n"
   ]
  },
  {
   "cell_type": "markdown",
   "metadata": {},
   "source": [
    "# Define function for trace"
   ]
  },
  {
   "cell_type": "code",
   "execution_count": 20,
   "metadata": {},
   "outputs": [],
   "source": [
    "def find_decayratio(event,n, mode = 'daughter'):\n",
    "    d1, d2 = -1, -1\n",
    "    d0 = -1\n",
    "    ID = 4900101 #Xd PID\n",
    "    for j in  range(len(event[n][0])):\n",
    "        if(event[n][5][j]==ID)&(event[n][0][j]==23): #23 : hardest outgoing particles\n",
    "            d1 = event[n][_D1][j]\n",
    "            d2 = event[n][_D2][j]\n",
    "            while((event[n][_PID][d1]==ID)or(event[n][5][d2]==ID) ):\n",
    "                if(event[n][_PID][d1]==ID):\n",
    "                    d0 = d1\n",
    "                    d1 = event[n][_D1][d0]\n",
    "                    d2 = event[n][_D2][d0]\n",
    "                    if(event[n][_PID][d2]==ID):\n",
    "                        d0 = d2\n",
    "                        d1 = event[n][_D1][d0]\n",
    "                        d2 = event[n][_D2][d0]\n",
    "                        \n",
    "    if mode=='daughter':\n",
    "        return d1, d2\n",
    "    if mode=='id':\n",
    "        return event[n][5][d1], event[n][5][d2]\n",
    "    \n",
    "def find_subdecayratio(event, n, j, ID=4900111): \n",
    "    d1, d2 = -1, -1\n",
    "    d0 = -1\n",
    "    d1 = event[n][_D1][j]\n",
    "    d2 = event[n][_D2][j]\n",
    "    if((abs(event[n][_PID][d1])!=ID)&(abs(event[n][_PID][d2])!=ID)):\n",
    "        d1=0\n",
    "        d2=0\n",
    "        return d1, d2\n",
    "    else:\n",
    "        while((abs(event[n][_PID][d1])==ID)or(abs(event[n][_PID][d2])==ID) ):\n",
    "            if(abs(event[n][_PID][d1])==ID):\n",
    "                d0 = d1\n",
    "                d1 = event[n][_D1][d0]\n",
    "                d2 = event[n][_D2][d0]\n",
    "            if(abs(event[n][_PID][d2])==ID):\n",
    "                d0 = d2\n",
    "                d1 = event[n][_D1][d0]\n",
    "                d2 = event[n][_D2][d0]\n",
    "        return event[n][_PID][d1], event[n][_PID][d2]\n",
    "def find_daughterid(event, n, j, ID=4900111):\n",
    "    sid = event[n][_PID][j]\n",
    "    if(sid!=ID):\n",
    "        return 0, 0\n",
    "    else:\n",
    "        d1 = event[n][_D1][j]\n",
    "        d2 = event[n][_D2][j]\n",
    "        return event[n][_PID][d1], event[n][_PID][d2]\n",
    "\n",
    "def deltaPhi(phi1,phi2):\n",
    "    x = phi1-phi2\n",
    "    while x>= np.pi: x -= np.pi*2.\n",
    "    while x< -np.pi: x += np.pi*2.\n",
    "    return x        "
   ]
  },
  {
   "cell_type": "markdown",
   "metadata": {},
   "source": [
    "# Define trimmered leadind jet (Get leading subjet in large R jet )"
   ]
  },
  {
   "cell_type": "code",
   "execution_count": 185,
   "metadata": {},
   "outputs": [],
   "source": [
    "def jet_trimmer_1J(event, R0, R1, pt_cut):\n",
    "    # R0 = Clustering radius for the main jets\n",
    "    # R1 = Clustering radius for the subjets in the primary jet\n",
    "    # pt_cut = Threshold for subjets (relative to the primary jet it's a subjet of)    \n",
    "    flattened_event = flatten(event)\n",
    "    sequence = cluster(flattened_event, R=R0, p=-1)\n",
    "    # Main jets\n",
    "    jets = sequence.inclusive_jets(ptmin=300)\n",
    "    # In case we are missing a leading jet, break early\n",
    "    if len(jets) == 0:\n",
    "        return jets\n",
    "\n",
    "    # Take just the leading jet\n",
    "    jet0 = jets[0]\n",
    "\n",
    "    # Define a cut threshold that the subjets have to meet (i.e. 5% of the original jet pT)\n",
    "    jet0_max = jet0.pt\n",
    "    jet0_cut = jet0_max*pt_cut\n",
    "\n",
    "    # Grab the subjets by clustering with R1\n",
    "    subjets = cluster(jet0.constituents_array(), R=R1, p=1)\n",
    "    subjet_array = subjets.inclusive_jets()\n",
    "    if (subjet_array[0].pt >= jet0_cut):\n",
    "        j0 = subjet_array[0].constituents_array()\n",
    "        for ij, subjet in enumerate(subjet_array):\n",
    "            if (ij == 0):\n",
    "                pass\n",
    "            if subjet.pt < jet0_cut:\n",
    "                # subjet doesn't meet the percentage cut on the original jet pT\n",
    "                pass\n",
    "            if subjet.pt >= jet0_cut:\n",
    "                # Get the subjets pt, eta, phi constituents\n",
    "                subjet_data = subjet.constituents_array()\n",
    "                j0 = np.append(j0, subjet_data)\n",
    "    else:\n",
    "        j0 = subjet_array[0].constituents_array()*0\n",
    "    sequence = cluster(j0, R=R0, p=-1)\n",
    "    j0 = sequence.inclusive_jets(ptmin=300)\n",
    "    return j0\n",
    "\n",
    "def jet_clustering(event, R0):\n",
    "    # R0 = Clustering radius for the main jets\n",
    "    # R1 = Clustering radius for the subjets in the primary jet\n",
    "    # pt_cut = Threshold for subjets (relative to the primary jet it's a subjet of)    \n",
    "#     flattened_event = flatten(event)\n",
    "    sequence = cluster(flattened_event, R=R0, p=-1)\n",
    "    # Main jets\n",
    "    jets = sequence.inclusive_jets(ptmin=300)\n",
    "    # In case we are missing a leading jet, break early\n",
    "    if len(jets) == 0:\n",
    "        return jets\n",
    "\n",
    "    # Take just the leading jet\n",
    "#     jet0 = jets[0]\n",
    "\n",
    "    return jet0"
   ]
  },
  {
   "cell_type": "code",
   "execution_count": 157,
   "metadata": {},
   "outputs": [
    {
     "data": {
      "text/plain": [
       "array([(5.31603754e-01, 4.05907345, 2.2959764 ,  15.39999771),\n",
       "       (5.28115332e-01, 3.79652667, 2.31978655,  11.76869106),\n",
       "       (2.36646786e-01, 4.27419329, 2.30759716,   8.49989319),\n",
       "       (2.80464679e-01, 3.09848785, 2.30850148,   3.11449361),\n",
       "       (2.05453110e+00, 4.37341881, 2.38186407,  81.48983002),\n",
       "       (2.20366430e+00, 3.8778584 , 2.42056036,  53.26402283),\n",
       "       (5.74719131e-01, 4.65254784, 2.42267752,  30.13290405),\n",
       "       (2.25437546e+00, 4.15383053, 2.44477391,  71.79415894),\n",
       "       (6.24738634e-01, 2.06285119, 2.4474864 ,   2.49753714),\n",
       "       (2.09759369e-01, 1.70725024, 2.49605513,   0.59730476),\n",
       "       (1.54312916e+01, 4.06762123, 2.52556205, 450.86349487),\n",
       "       (1.53623167e-02, 4.72385454, 2.54459548,   0.86497784),\n",
       "       (2.13470197e+00, 3.85452843, 2.5260067 ,  50.40835571),\n",
       "       (1.12822962e+00, 3.91802263, 2.75309205,  28.38669014),\n",
       "       (3.84363443e-01, 4.2258091 , 2.79424691,  13.15377617),\n",
       "       (1.38821304e-01, 2.41821694, 2.77964306,   0.785375  ),\n",
       "       (8.51935089e-01, 3.72078609, 2.65009618,  17.60143089),\n",
       "       (3.41173220e+00, 4.3429327 , 2.62352991, 131.25926208)],\n",
       "      dtype=[('pT', '<f8'), ('eta', '<f8'), ('phi', '<f8'), ('mass', '<f8')])"
      ]
     },
     "execution_count": 157,
     "metadata": {},
     "output_type": "execute_result"
    }
   ],
   "source": [
    "j1 = jet_trimmer_1J(events[2], 1.2, 0.2, 0.03)\n",
    "j1"
   ]
  },
  {
   "cell_type": "code",
   "execution_count": 148,
   "metadata": {},
   "outputs": [
    {
     "data": {
      "text/plain": [
       "[PseudoJet(pt=476.877, eta=-1.099, phi=-1.968, mass=798.889)]"
      ]
     },
     "execution_count": 148,
     "metadata": {},
     "output_type": "execute_result"
    }
   ],
   "source": [
    "sequence = cluster(j1, R=1.2, p=-1)  \n",
    "sequence.inclusive_jets()"
   ]
  },
  {
   "cell_type": "code",
   "execution_count": 145,
   "metadata": {},
   "outputs": [
    {
     "data": {
      "text/plain": [
       "[PseudoJet(pt=337.030, eta=0.333, phi=0.455, mass=620.832)]"
      ]
     },
     "execution_count": 145,
     "metadata": {},
     "output_type": "execute_result"
    }
   ],
   "source": [
    "j1"
   ]
  },
  {
   "cell_type": "markdown",
   "metadata": {},
   "source": [
    "# Define Jet variables fumction"
   ]
  },
  {
   "cell_type": "code",
   "execution_count": 175,
   "metadata": {},
   "outputs": [],
   "source": [
    "def angle(jet, particles):\n",
    "    ptot2 = (jet.px**2 + jet.py**2 + jet.pz**2) * \\\n",
    "        (particles['px']**2 + particles['py']**2 + particles['pz']**2)\n",
    "    arg = (jet.px * particles['px'] + jet.py *\n",
    "           particles['py'] + jet.pz * particles['pz']) / ptot2**(1/2)\n",
    "    arg[np.isnan(arg)] = 1.0\n",
    "    arg[arg > 1.0] = 1.0\n",
    "    arg[arg < -1.0] = -1.0\n",
    "    return np.arccos(arg)\n",
    "def t0(jet):\n",
    "    return sum(p.pt * CalcDeltaR(p, jet) for p in jet.constituents())\n",
    "def tn(jet, n): #t1 t2 t3 t21 t32\n",
    "    assert n >= 0\n",
    "    if n == 0:\n",
    "        return t0(jet)\n",
    "    particles = jet.constituents_array()\n",
    "    if len(particles) < n:\n",
    "        return -1\n",
    "    subjets = pyjet.cluster(particles, R=1.0, p=1).exclusive_jets(n)\n",
    "    subjets_array = [subjet.constituents_array() for subjet in subjets]\n",
    "    wta_axes = [a[np.argmax(a['pT'])] for a in subjets_array]\n",
    "    wta_axes = np.array(wta_axes, dtype=subjets_array[0].dtype)\n",
    "    return np.sum(particles['pT']*CalcDeltaRArray(particles, wta_axes).min(axis=0)) / t0(jet)\n",
    "def CalcDeltaRArray(p, a):\n",
    "    dEta = p['eta'] - \\\n",
    "        a['eta'].repeat(p.shape[0]).reshape(a.shape[0], p.shape[0])\n",
    "    dPhi = np.abs(p['phi'] - a['phi'].repeat(p.shape[0]\n",
    "                                             ).reshape(a.shape[0], p.shape[0]))\n",
    "    mask = dPhi > np.pi\n",
    "    dPhi[mask] *= -1\n",
    "    dPhi[mask] += 2 * np.pi\n",
    "    return (dPhi**2 + dEta**2)**0.5\n",
    "\n",
    "\n",
    "def CalcDeltaR(j1, j2):\n",
    "    eta1 = j1.eta\n",
    "    phi1 = j1.phi\n",
    "    eta2 = j2.eta\n",
    "    phi2 = j2.phi\n",
    "\n",
    "    dEta = eta1-eta2\n",
    "    dPhi = abs(phi1-phi2)\n",
    "    if dPhi > np.pi:\n",
    "        dPhi = 2*np.pi - dPhi\n",
    "\n",
    "    dR = (dPhi**2 + dEta**2)**0.5\n",
    "\n",
    "    return dR\n",
    "\n",
    "# energy correlators\n",
    "# https://arxiv.org/pdf/1411.0665.pdf\n",
    "\n",
    "\n",
    "def CalcEECorr(jet, n=1, beta=1.0):\n",
    "\n",
    "    assert n == 2 or n == 3, f'n must be in [2, 3] but is {n}'\n",
    "\n",
    "    jet_particles = jet.constituents()\n",
    "\n",
    "    if len(jet_particles) < n:\n",
    "        return -1\n",
    "\n",
    "    currentSum = 0\n",
    "\n",
    "    if n == 2:\n",
    "        for p1, p2 in combinations(jet_particles, 2):\n",
    "            # get the terms of the triplet at hand\n",
    "            pt1 = p1.pt\n",
    "            pt2 = p2.pt\n",
    "            dr12 = CalcDeltaR(p1, p2)\n",
    "\n",
    "            # calculate the partial contribution\n",
    "            thisterm = pt1*pt2 * (dr12)**beta\n",
    "\n",
    "            # sum it up\n",
    "            currentSum += thisterm\n",
    "\n",
    "        eec = currentSum/(jet.pt)**2\n",
    "\n",
    "    elif n == 3:\n",
    "        dr = {(p1, p2): CalcDeltaR(p1, p2)\n",
    "              for p1, p2 in combinations(jet_particles, 2)}\n",
    "        for p1, p2, p3 in combinations(jet_particles, 3):\n",
    "            # get the terms of the triplet at hand\n",
    "            dr12 = dr[(p1, p2)]\n",
    "            dr13 = dr[(p1, p3)]\n",
    "            dr23 = dr[(p2, p3)]\n",
    "\n",
    "            # calculate the partial contribution\n",
    "            thisterm = p1.pt*p2.pt*p3.pt * (dr12*dr13*dr23)**beta\n",
    "\n",
    "            # sum it up\n",
    "            currentSum += thisterm\n",
    "\n",
    "        eec = currentSum/(jet.pt)**3\n",
    "    return eec\n",
    "\n",
    "def calc_angularity(jet):\n",
    "    jet_particles = jet.constituents_array(ep=True)\n",
    "\n",
    "    if jet_particles.shape[0] == 0:\n",
    "        return -1\n",
    "    if jet.mass < 1.e-20:\n",
    "        return -1\n",
    "\n",
    "    theta = angle(jet, jet_particles)\n",
    "    e_theta = jet_particles['E'] * np.sin(theta)**-2 * (1 - np.cos(theta))**3\n",
    "\n",
    "    return np.sum(e_theta) / jet.mass\n",
    "\n",
    "def calc_KtDeltaR(jet):\n",
    "    particles = jet.constituents_array()\n",
    "    if particles.shape[0] < 2:\n",
    "        return 0.0\n",
    "\n",
    "    subjets = pyjet.cluster(particles, R=0.4, p=1).exclusive_jets(2)\n",
    "\n",
    "    return CalcDeltaR(subjets[0], subjets[1])"
   ]
  },
  {
   "cell_type": "markdown",
   "metadata": {},
   "source": [
    "#"
   ]
  },
  {
   "cell_type": "code",
   "execution_count": null,
   "metadata": {},
   "outputs": [],
   "source": []
  },
  {
   "cell_type": "code",
   "execution_count": null,
   "metadata": {},
   "outputs": [],
   "source": []
  },
  {
   "cell_type": "markdown",
   "metadata": {},
   "source": [
    "# Jet image"
   ]
  },
  {
   "cell_type": "markdown",
   "metadata": {},
   "source": [
    "# Load root file for Jet image"
   ]
  },
  {
   "cell_type": "code",
   "execution_count": 226,
   "metadata": {},
   "outputs": [
    {
     "name": "stderr",
     "output_type": "stream",
     "text": [
      "100%|██████████| 20000/20000 [00:22<00:00, 905.99it/s]\n",
      "100%|██████████| 20000/20000 [00:19<00:00, 1013.65it/s]\n"
     ]
    }
   ],
   "source": [
    "#Need to use CMS card to search Fatjet\n",
    "# root_file = \"./SVJ_pythia/QCD_Dijet/ppjj.root\" # This is test data: p p -> q q~ (q= u d s)\n",
    "# root_file = \"./SVJ_pythia/QCD_Dijet/ppjj_Altas.root\" # This is test data: p p -> j j (j=g u d s u~ d~ s~)\n",
    "# root_file2 = \"./SVJ_pythia/Z1000/delphes_nolhe_Z1000_rinv_04.root\" #rinv = 0.3 SVJ\n",
    "root_file = \"/home/james/SVJ_pythia/QCD_SVJ/QCD/QCD.root\"\n",
    "root_file2 = \"/home/james/SVJ_pythia/QCD_SVJ/SVJ/delphes_nolhe_Z1500_rinv_03.root\"\n",
    "\n",
    "# root_file2 = \"./SVJ_pythia/Nowidth/Z2000/delphes_nolhe_Z2000_rinv_04.root\" #rinv = 0.3 SVJ\n",
    "# root_file2 = \"./SVJ_pythia/Nowidth/Z2000/delphes_nolhe_Z2000_rinv_04.root\" #rinv = 0.4 SVJ\n",
    "jet_im2 = root_2_jets(root_file2)\n",
    "jet_im = root_2_jets(root_file)"
   ]
  },
  {
   "cell_type": "code",
   "execution_count": null,
   "metadata": {},
   "outputs": [],
   "source": []
  },
  {
   "cell_type": "code",
   "execution_count": null,
   "metadata": {},
   "outputs": [],
   "source": []
  },
  {
   "cell_type": "markdown",
   "metadata": {},
   "source": [
    "# Plot jet image"
   ]
  },
  {
   "cell_type": "code",
   "execution_count": 227,
   "metadata": {},
   "outputs": [
    {
     "name": "stderr",
     "output_type": "stream",
     "text": [
      "/usr/local/lib/python3.6/site-packages/ipykernel_launcher.py:4: RuntimeWarning: divide by zero encountered in log\n",
      "  after removing the cwd from sys.path.\n"
     ]
    },
    {
     "data": {
      "image/png": "[encoded data removed]",
      "text/plain": [
       "<Figure size 576x576 with 1 Axes>"
      ]
     },
     "metadata": {
      "needs_background": "light"
     },
     "output_type": "display_data"
    }
   ],
   "source": [
    "jet_im= np.array(jet_im)\n",
    "plt.figure(figsize=(8,8))\n",
    "X = np.sum(jet_im,axis=0)\n",
    "plt.imshow(np.log(X), cmap='Blues', label = 'QCD', filternorm=1)\n",
    "# plt.imshow(X/20000, cmap='Blues', label = 'QCD')\n",
    "\n",
    "plt.savefig(\"./jet_image_QCD.png\")\n",
    "plt.show()\n"
   ]
  },
  {
   "cell_type": "code",
   "execution_count": 228,
   "metadata": {},
   "outputs": [
    {
     "name": "stderr",
     "output_type": "stream",
     "text": [
      "/usr/local/lib/python3.6/site-packages/ipykernel_launcher.py:5: RuntimeWarning: divide by zero encountered in log\n",
      "  \"\"\"\n"
     ]
    },
    {
     "data": {
      "image/png": "[encoded data removed]",
      "text/plain": [
       "<Figure size 576x576 with 1 Axes>"
      ]
     },
     "metadata": {
      "needs_background": "light"
     },
     "output_type": "display_data"
    }
   ],
   "source": [
    "#SVJ \n",
    "jet_im2= np.array(jet_im2)\n",
    "plt.figure(figsize=(8,8))\n",
    "X2 = np.sum(jet_im2,axis=0)\n",
    "plt.imshow(np.log(X2), cmap='Blues', label = '$r_{inv}$=0.3' ,filternorm=1)\n",
    "# plt.imshow(X2/20000, cmap='Blues', label = 'SVJ')\n",
    "plt.savefig(\"./jet_image_SVJ_Z1500_rinv_03.png\")\n",
    "plt.show()"
   ]
  },
  {
   "cell_type": "markdown",
   "metadata": {},
   "source": [
    "# Save jet image as h5"
   ]
  },
  {
   "cell_type": "code",
   "execution_count": 14,
   "metadata": {},
   "outputs": [],
   "source": [
    "hf = h5py.File('./QCD_Dijet_ppqq.h5', 'w')\n",
    "hf.create_dataset('dataset_1', data=jet_im)\n",
    "hf.close()"
   ]
  },
  {
   "cell_type": "markdown",
   "metadata": {},
   "source": [
    "# JSS"
   ]
  },
  {
   "cell_type": "markdown",
   "metadata": {},
   "source": [
    "# Load root file for JSS variable"
   ]
  },
  {
   "cell_type": "code",
   "execution_count": 238,
   "metadata": {},
   "outputs": [],
   "source": [
    "## for trimmed leadind jet\n",
    "root_file = \"/home/james/SVJ_pythia/QCD_SVJ/QCD/QCD.root\"\n",
    "file = uproot.open(root_file)\n",
    "# events = np.array([np.array(file[\"Delphes;1\"][\"Tower.ET\"].array()),\n",
    "#                    np.array(file[\"Delphes;1\"][\"Tower.Eta\"].array()),\n",
    "#                    np.array(file[\"Delphes;1\"][\"Tower.Phi\"].array()),\n",
    "#                    np.array(file[\"Delphes;1\"][\"Tower.E\"].array())*0  #assume m<<1\n",
    "#                   ])\n",
    "events = np.array([np.array(file[\"Delphes;1\"][\"Tower.ET\"].array()),\n",
    "                   np.array(file[\"Delphes;1\"][\"Tower.Eta\"].array()),\n",
    "                   np.array(file[\"Delphes;1\"][\"Tower.Phi\"].array()),\n",
    "                   np.array(file[\"Delphes;1\"][\"Tower.E\"].array())*0  #assume m<<1\n",
    "                  ])\n",
    "\n",
    "events = np.expand_dims(events, axis=-1)\n",
    "events = events.transpose((1,0,2))\n",
    "events = np.squeeze(events,axis=(2,))\n",
    "\n",
    "root_file2 = \"/home/james/SVJ_pythia/QCD_SVJ/SVJ/delphes_nolhe_Z1500_rinv_03.root\"\n",
    "file2 = uproot.open(root_file2)\n",
    "events2 = np.array([np.array(file2[\"Delphes;1\"][\"Tower.ET\"].array()),\n",
    "                   np.array(file2[\"Delphes;1\"][\"Tower.Eta\"].array()),\n",
    "                   np.array(file2[\"Delphes;1\"][\"Tower.Phi\"].array()),\n",
    "                   np.array(file2[\"Delphes;1\"][\"Tower.E\"].array())*0  #assume m<<1\n",
    "                  ])\n",
    "events2 = np.expand_dims(events2, axis=-1)\n",
    "events2 = events2.transpose((1,0,2))\n",
    "events2 = np.squeeze(events2,axis=(2,))\n"
   ]
  },
  {
   "cell_type": "code",
   "execution_count": 224,
   "metadata": {},
   "outputs": [
    {
     "data": {
      "text/plain": [
       "[1601,\n",
       " 2200,\n",
       " 2516,\n",
       " 2199,\n",
       " 2367,\n",
       " 2202,\n",
       " 2515,\n",
       " 2374,\n",
       " 2373,\n",
       " 1984,\n",
       " 2371,\n",
       " 2372,\n",
       " 2203,\n",
       " 2369,\n",
       " 2370,\n",
       " 1598,\n",
       " 1589,\n",
       " 1592,\n",
       " 1979,\n",
       " 1981,\n",
       " 1985]"
      ]
     },
     "execution_count": 224,
     "metadata": {},
     "output_type": "execute_result"
    }
   ],
   "source": [
    "file[\"Delphes;1\"][\"Jet.Particles\"].array()[0][0]"
   ]
  },
  {
   "cell_type": "code",
   "execution_count": 255,
   "metadata": {},
   "outputs": [
    {
     "data": {
      "text/plain": [
       "[PseudoJet(pt=486.056, eta=2.146, phi=-0.235, mass=233.752)]"
      ]
     },
     "execution_count": 255,
     "metadata": {},
     "output_type": "execute_result"
    }
   ],
   "source": [
    "jet_trimmer_1J(event=events[4], R0=1.2, R1=0.2, pt_cut=0.03)[0]"
   ]
  },
  {
   "cell_type": "code",
   "execution_count": 256,
   "metadata": {},
   "outputs": [
    {
     "data": {
      "text/plain": [
       "17469"
      ]
     },
     "execution_count": 256,
     "metadata": {},
     "output_type": "execute_result"
    }
   ],
   "source": [
    "n=0\n",
    "for i in range(20000):\n",
    "    jet0 = jet_trimmer_1J(event=events[i], R0=1.2, R1=0.2, pt_cut=0.03)\n",
    "    if len(jet0) ==0:\n",
    "        continue\n",
    "        \n",
    "    if jet0[0].pt>=300:\n",
    "        n=n+1\n",
    "n"
   ]
  },
  {
   "cell_type": "markdown",
   "metadata": {},
   "source": [
    "# Calvulate JSS variable by previous function"
   ]
  },
  {
   "cell_type": "code",
   "execution_count": 267,
   "metadata": {},
   "outputs": [],
   "source": [
    "def JSS_V(events): ##take too long time (about 10 min need to speed up)\n",
    "#     T1, T2, T3, T21, T22, T32, EE2, EE3, D2, ANGU, KTDEL, PT, ETA, PHI, MASS = [], [], [], [], [], [], [], [], [], [], [], [], [], [], []\n",
    "    T21, MASS, D21, D22, C21, C22 = [], [], [], [], [], []\n",
    "    for event in tqdm(events):\n",
    "        \n",
    "        \n",
    "        found_jet = jet_trimmer_1J(event=event, R0=1.2, R1=0.2, pt_cut=0.03)\n",
    "        if len(found_jet)==0: \n",
    "            continue\n",
    "        \n",
    "        found_jet = found_jet[0]\n",
    "#         if (found_jet.pt> 400)or(found_jet.pt<300): # if  I add this condition, I don't have enough jet\n",
    "#             continue\n",
    "        if (found_jet.pt> 500)or(found_jet.pt<300): # so I increase upper bound to 600 GeV\n",
    "            continue\n",
    "            \n",
    "#         origin_jet = jet_clustering(event, 1.2)\n",
    "#         if len(origin_jet)==0: \n",
    "#             continue\n",
    "#         mass = origin_jet.mass - found_jet.mass\n",
    "        t1 = tn(found_jet, n=1)\n",
    "        t2 = tn(found_jet, n=2)\n",
    "#         t3 = tn(found_jet, n=3)\n",
    "        t21 = t2 / t1 if t1 > 0.0 else 0.0\n",
    "#         t32 = t3 / t2 if t2 > 0.0 else 0.0\n",
    "        ee2 = CalcEECorr(found_jet, n=2, beta=1.0)\n",
    "        ee3 = CalcEECorr(found_jet, n=3, beta=1.0)\n",
    "        d21 = ee3/(ee2**3) if ee2>0 else 0\n",
    "        d22 = ee3**2/((ee2**2)**3) if ee2>0 else 0\n",
    "        c21 = ee3/(ee2**2) if ee2>0 else 0\n",
    "        c22 = ee3**2/((ee2**2)**2) if ee2>0 else 0\n",
    "#         angularity = calc_angularity(found_jet)\n",
    "#         KtDeltaR = calc_KtDeltaR(found_jet)\n",
    "#         T1.append(t1)\n",
    "#         T2.append(t2)\n",
    "#         T3.append(t3)\n",
    "        T21.append(t21)\n",
    "#         T32.append(t32)\n",
    "#         EE2.append(ee2)\n",
    "#         EE3.append(ee3)\n",
    "#         D2.append(d2)\n",
    "#         ANGU.append(angularity)\n",
    "#         KTDEL.append(KtDeltaR)\n",
    "#         PT.append(found_jet.pt)\n",
    "#         ETA.append(found_jet.eta)\n",
    "#         PHI.append(found_jet.phi)\n",
    "        MASS.append(found_jet.mass)\n",
    "#         MASS.append(mass)\n",
    "        D21.append(d21)\n",
    "        D22.append(d22)\n",
    "        C21.append(c21)\n",
    "        C22.append(c22)\n",
    "#     return({'T1':T1, 'T2':T2, 'T3':T3, 'T21':T21, 'T22':T22, 'T32':T32, 'EE2':EE2, 'EE3':EE3, 'D2':D2, 'angularity':ANGU,\n",
    "#             'KtDeltaR':KTDEL, 'PT':PT, 'ETA':ETA, 'PHI':PHI, 'MASS':MASS})\n",
    "    return({'T21':T21, 'D21':D21, 'MASS':MASS, 'D22':D22, 'C22':C22, 'C21':C21})"
   ]
  },
  {
   "cell_type": "code",
   "execution_count": 268,
   "metadata": {},
   "outputs": [
    {
     "name": "stderr",
     "output_type": "stream",
     "text": [
      "100%|██████████| 20000/20000 [00:50<00:00, 396.86it/s]\n"
     ]
    }
   ],
   "source": [
    "jss = JSS_V(events)\n",
    "\n"
   ]
  },
  {
   "cell_type": "code",
   "execution_count": 269,
   "metadata": {},
   "outputs": [
    {
     "name": "stderr",
     "output_type": "stream",
     "text": [
      "100%|██████████| 20000/20000 [02:12<00:00, 150.55it/s]\n"
     ]
    }
   ],
   "source": [
    "jss2 = JSS_V(events2)"
   ]
  },
  {
   "cell_type": "code",
   "execution_count": 129,
   "metadata": {},
   "outputs": [
    {
     "name": "stderr",
     "output_type": "stream",
     "text": [
      "100%|██████████| 20000/20000 [00:08<00:00, 2442.20it/s]\n"
     ]
    }
   ],
   "source": [
    "test = []\n",
    "for event in tqdm(events):\n",
    "    origin_jet = jet_clustering(event, 0.6 )\n",
    "    if len(origin_jet)==0: \n",
    "        continue\n",
    "    mass = origin_jet.mass \n",
    "    test.append(mass)"
   ]
  },
  {
   "cell_type": "code",
   "execution_count": 126,
   "metadata": {},
   "outputs": [],
   "source": [
    "test2 = [i[0] for i in file[\"Delphes;1\"][\"Jet.Mass\"].array() if len(i)>0]"
   ]
  },
  {
   "cell_type": "code",
   "execution_count": 127,
   "metadata": {},
   "outputs": [
    {
     "data": {
      "image/png": "[encoded data removed]",
      "text/plain": [
       "<Figure size 432x288 with 1 Axes>"
      ]
     },
     "metadata": {
      "needs_background": "light"
     },
     "output_type": "display_data"
    }
   ],
   "source": [
    "plt.hist(test2 ,bins=bins, histtype='step', label='QCD')\n",
    "plt.show() "
   ]
  },
  {
   "cell_type": "code",
   "execution_count": 130,
   "metadata": {},
   "outputs": [
    {
     "data": {
      "image/png": "[encoded data removed]",
      "text/plain": [
       "<Figure size 432x288 with 1 Axes>"
      ]
     },
     "metadata": {
      "needs_background": "light"
     },
     "output_type": "display_data"
    }
   ],
   "source": [
    "bins = 75\n",
    "plt.hist(test ,bins=bins, histtype='step', label='QCD')\n",
    "plt.show() "
   ]
  },
  {
   "cell_type": "code",
   "execution_count": 271,
   "metadata": {},
   "outputs": [
    {
     "data": {
      "image/png": "[encoded data removed]",
      "text/plain": [
       "<Figure size 1152x1728 with 6 Axes>"
      ]
     },
     "metadata": {
      "needs_background": "light"
     },
     "output_type": "display_data"
    }
   ],
   "source": [
    "bins = 50\n",
    "fs=18 # front size\n",
    "tagsize = 18 # label tag size ((\\blue block) W \\n (\\orange block) QCD )\n",
    "plt.figure(figsize=(16,24)) # plotsize\n",
    "x1, x2 = 0, 1\n",
    "\n",
    "# Labels = ['T1', 'T2', 'T3', 'T21', 'T22', 'T32', 'EE2', 'EE3', 'D2', 'angularity', 'KtDeltaR',\n",
    "#           'PT', 'ETA', 'PHI', 'MASS']\n",
    "# Labels = ['T21', 'D21', 'MASS', 'D22', 'C22', 'C21']\n",
    "Labels = ['MASS', 'T21', 'C22', 'C21',  'D22', 'D21']\n",
    "\n",
    "# X_Labels = ['${\\u03C4_{1}}$', '${\\u03C4_{2}}$', '${\\u03C4_{3}}$', '${\\u03C4_{21}}$', '${\\u03C4_{32}}$',\n",
    "#             'EE2', 'EE3', 'D2', 'angularity', 'KtDeltaR', 'PT', 'ETA', 'PHI', 'MASS']\n",
    "X_Labels = {'T21':['${\\u03C4_{21}}$'], 'D21':['${D_{2}^{\\u03B2=1}}$'], 'MASS':['MASS'], 'D22':['$D_{2}^{\\u03B2=2}$'], 'C22':['$C_{2}^{\\u03B2=2}$'], 'C21':['$C_{2}^{\\u03B2=1}$']}\n",
    "\n",
    "Range = {'T21':[0,1], 'D21':[0,5], 'MASS':[0,300], 'D22':[0,5], 'C22':[0, 0.2], 'C21':[0, 0.5]}\n",
    "Ylm = {'MASS':[0,0.07], 'T21':[0, 0.05], 'C22':[0,0.07], 'C21':[0,0.05], 'D22':[0, 0.05], 'D21':[0, 0.05]}\n",
    "for i in range(6):\n",
    "    W1 = np.array([1 for j in range(len(jss[Labels[i]]))])\n",
    "    W1 = W1/sum(W1)\n",
    "    W2 = np.array([1 for j in range(len(jss2[Labels[i]]))])\n",
    "    W2 = W2/sum(W2)\n",
    "    plt.subplot(3,2,i+1)\n",
    "    plt.hist(jss[Labels[i]] ,bins=bins, histtype='step', weights = W1, range=Range[Labels[i]], label='QCD')\n",
    "    plt.hist(jss2[Labels[i]] ,bins=bins, histtype='step', color='r', weights = W2, range=Range[Labels[i]], label='$r_{inv}$ = 0.3')\n",
    "\n",
    "    plt.legend(prop={'size': tagsize}) # plot label tag\n",
    "#     plt.yscale('log')\n",
    "    # plt.xscale('log')\n",
    "    plt.xlabel(X_Labels[Labels[i]][0] , fontsize=fs)  # plot x-axis label\n",
    "    plt.ylabel(\"${\\sigma^{-1}}$d${\\sigma}$/dx\", fontsize=fs)  # plot y-axis label $\\u03C3^{-1}$\n",
    "    plt.ylim(Ylm[Labels[i]])\n",
    "    # plt.xlim((x1,x2))\n",
    "\n",
    "plt.savefig(\"./JSS_variable_QCD_SVJ.png\")  #save figure as png  \n",
    "plt.show() \n",
    "\n"
   ]
  },
  {
   "cell_type": "code",
   "execution_count": 237,
   "metadata": {},
   "outputs": [
    {
     "data": {
      "text/plain": [
       "667"
      ]
     },
     "execution_count": 237,
     "metadata": {},
     "output_type": "execute_result"
    }
   ],
   "source": [
    "len(W2)"
   ]
  },
  {
   "cell_type": "code",
   "execution_count": 28,
   "metadata": {},
   "outputs": [],
   "source": []
  },
  {
   "cell_type": "markdown",
   "metadata": {},
   "source": [
    "# EFP (to be continue...)"
   ]
  },
  {
   "cell_type": "markdown",
   "metadata": {},
   "source": [
    "$ pip3 install EnergyFlow"
   ]
  },
  {
   "cell_type": "code",
   "execution_count": 103,
   "metadata": {},
   "outputs": [],
   "source": [
    "import h5py\n",
    "import numpy as np\n",
    "import pandas as pd\n",
    "from tqdm import tqdm, trange\n",
    "import energyflow as ef\n",
    "import glob"
   ]
  },
  {
   "cell_type": "code",
   "execution_count": null,
   "metadata": {},
   "outputs": [],
   "source": []
  },
  {
   "cell_type": "code",
   "execution_count": null,
   "metadata": {},
   "outputs": [],
   "source": [
    "\n",
    "\n",
    "\n",
    "def efp(data, efp_ix, kappa, beta):\n",
    "    if efp_ix == 0:\n",
    "        normed = False\n",
    "    else:\n",
    "        normed = True\n",
    "    efpset = ef.EFPSet(\n",
    "        \"d<=7\", measure=\"hadr\", kappa=kappa, beta=beta, normed=normed, verbose=True\n",
    "    )\n",
    "    graph = efpset.graphs(efp_ix)\n",
    "    EFP_graph = ef.EFP(graph, measure=\"hadr\", kappa=kappa,\n",
    "                       beta=beta, normed=True)\n",
    "    X = EFP_graph.batch_compute(data)\n",
    "    return X\n",
    "\n",
    "\n",
    "def generate_EFP():\n",
    "    # Calculate HL variables from ET, eta, phi\n",
    "\n",
    "    # Load preped data in format [ET, eta, phi]\n",
    "    df = pd.read_pickle(\"jet_data_processing/data/prep_data.pkl\")\n",
    "    X = df[\"features\"]\n",
    "    y = df[\"targets\"]\n",
    "    # Convert the data from a pandas dataframe to numpy array\n",
    "    X = X.to_numpy()\n",
    "    existing_graphs = glob.glob(\"data/EFP/*.csv\")\n",
    "\n",
    "    # efpset = ef.EFPSet(\n",
    "    #    \"d<=7\", measure=\"hadr\", kappa=1, beta=1, normed=True, verbose=True\n",
    "    # )\n",
    "    # Compute an EFP from X\n",
    "    #results = np.asarray([efpset.batch_compute(X)])\n",
    "    #print(results, results.shape)\n",
    "\n",
    "    for efp_ix in range(20):\n",
    "        for kappa in range(-1, 3, 1):\n",
    "            for beta in range(1, 3, 1):\n",
    "                file_name = f\"data/EFP/efp_{efp_ix}_k_{kappa}_b_{beta}.csv\"\n",
    "                if file_name in existing_graphs:\n",
    "                    print(\"skipping \" + file_name)\n",
    "                    pass\n",
    "                else:\n",
    "                    print(\"generating \" + file_name)\n",
    "                    ef_val = efp(data=X, efp_ix=efp_ix, kappa=kappa, beta=beta)\n",
    "                    efp_df = pd.DataFrame({\"features\": ef_val, \"targets\": y})\n",
    "                    efp_df.to_csv(\n",
    "                        file_name, compression=\"gzip\")\n",
    "\n",
    "\n",
    "if __name__ == \"__main__\":\n",
    "    generate_EFP()\n",
    "    "
   ]
  },
  {
   "cell_type": "markdown",
   "metadata": {},
   "source": [
    "# Show truth record"
   ]
  },
  {
   "cell_type": "code",
   "execution_count": 31,
   "metadata": {},
   "outputs": [],
   "source": [
    "# Particle status in Pythia8: http://home.thep.lu.se/~torbjorn/pythia81html/ParticleProperties.html\n",
    "event = root2array(root_file, \"Delphes;1\", branches=[\n",
    "\"Particle.Status\", \"Particle.M1\", \"Particle.M2\", \"Particle.D1\", \"Particle.D2\",\n",
    "\"Particle.PID\", \"Particle.PT\",\n",
    "\"Particle.Eta\",\"Particle.Phi\", \"Particle.Mass\"], start=0, stop=1, step=None)\n",
    "# in this example I set \n",
    "_Status, _M1, _M2, _D1, _D2, _PID, _PT, _Eta, _Phi, _Mass = 0, 1, 2, 3, 4, 5, 6, 7, 8, 9\n",
    "Labels = [\"Status\", \"M1\", \"M2\", \"D1\", \"D2\", \"PID\", \"PT\", \"Eta\", \"Phi\", \"Mass\"]\n",
    "\n",
    "print(\"Index\", \"\\t\",\"Status\", \"\\t\",\"M1\" \"\\t\",\"M2\" ,\"\\t\",\"D1\", \"\\t\",\"D2\", \"\\t\",\"PID\", \"\\t\\t\",\"PT\" \"\\t\",\"Eta\", \"\\t\\t\",\"Phi\", \"\\t\\t\",\"Mass\")\n",
    "for j in range(len(event[0][0])):  \n",
    "    print(j, \"\\t\", event[0][_Status][j],  \"\\t\\t\", event[0][_M1][j], \"\\t\", event[0][_M2][j], \"\\t\", event[0][_D1][j], \"\\t\", \n",
    "          event[0][_D2][j],  \"\\t\", str(event[0][_PID][j]).ljust(12, ' '), \"\\t\", round(event[0][_PT][j],0),  \"\\t\",\n",
    "          str(round(event[0][_Eta][j],2)).ljust(12, ' ') , \"\\t\",str(round(event[0][_Phi][j],3)).ljust(12, ' '),  \"\\t\",round(event[0][_Mass][j],3)) \n",
    " "
   ]
  },
  {
   "cell_type": "markdown",
   "metadata": {},
   "source": [
    "# Trace certain particle ID untile it \"decay\" (daughter1!=daughter2)"
   ]
  },
  {
   "cell_type": "code",
   "execution_count": 6,
   "metadata": {},
   "outputs": [],
   "source": [
    "n=0\n",
    "ID=989\n",
    "N = []\n",
    "for j in  range(len(event[n][0])):\n",
    "    if(event[n][_PID][j]==ID): #23 : hardest outgoing particles\n",
    "        print(\"Self index in event\",j)\n",
    "        m1 = event[n][_M1][j]\n",
    "        m2 = event[n][_M2][j]\n",
    "        print(\"Mother:\",m1,m2)\n",
    "        if (m1==m2):\n",
    "            print(\"Mother_id:\", event[n][_PID][m1], \"nan\\n\")\n",
    "        else:\n",
    "            print(\"Mother_id:\", event[n][_PID][m1], event[n][_PID][m2],\"\\n\")\n",
    "        d1 = event[n][_D1][j]\n",
    "        d2 = event[n][_D2][j]\n",
    "        prevent = 0\n",
    "        while(d1==d2): \n",
    "            d0 = d1\n",
    "            if(d1==-1):\n",
    "                print(\"stable particles\\n\\n\")\n",
    "                break\n",
    "            if(prevent >= 100):\n",
    "                print(\"infinite loop!\")\n",
    "                prevent=0\n",
    "                break\n",
    "            d1 = event[n][_D1][d1]\n",
    "            d2 = event[n][_D2][d2]\n",
    "            if(d1!=d2):\n",
    "                N.append(d0)\n",
    "            prevent= prevent+1\n",
    "        if(d1!=-1):\n",
    "            print(\"Daughter\", d1, d2)\n",
    "            print(\"Daughter_id\", event[n][_PID][d1], event[n][_PID][d2])\n",
    "            m1, m2 = event[n][_M1][d1], event[n][_M2][d1]\n",
    "            print(\"Daughter1_parents\", m1, m2)\n",
    "            if(m1==m2):\n",
    "                print(\"Daughter1_parents_id\", event[n][_PID][m1], \"nan\") \n",
    "            else:\n",
    "                print(\"Daughter1_parents_id\", event[n][_PID][m1], event[n][_PID][m2])\n",
    "            m1, m2 = event[n][_M1][d2], event[n][_M2][d2]\n",
    "            print(\"Daughter2_parents\", m1, m2)\n",
    "            if(m1==m2): \n",
    "                print(\"Daughter2_parents_id\", event[n][_PID][m1], \"nan\",\"\\n\")\n",
    "            else:\n",
    "                print(\"Daughter2_parents_id\", event[n][_PID][m1], event[n][5][m2],\"\\n\")"
   ]
  },
  {
   "cell_type": "markdown",
   "metadata": {},
   "source": [
    "# Load weights and jets"
   ]
  },
  {
   "cell_type": "code",
   "execution_count": 36,
   "metadata": {},
   "outputs": [],
   "source": [
    "nevn=20000 # number of event you generate in madgraph\n",
    "W =  root2array(root_file, \"Delphes;1\", branches=[\"Event.Weight\"], start=0, stop=20000, step=None) #weight for each event\n",
    "jet = root2array(root_file, \"Delphes;1\", branches=[\"Jet.PT\", \"Jet.Eta\", \"Jet.Phi\", \"Jet.Mass\"], start=0, stop=20000, step=None)\n",
    "W = [i[0][0] for i in W] #just reset the data structure to convenienc\n",
    "# root_file2 = \"./SVJ_pythia/Z1500/delphes_nolhe_Z1500_rinv_0.root\"\n",
    "# jet2 = root2array(root_file2, \"Delphes;1\", branches=[\"Jet.PT\", \"Jet.Eta\", \"Jet.Phi\", \"Jet.Mass\"], start=0, stop=20000, step=None)\n",
    "# W2 =  root2array(root_file2, \"Delphes;1\", branches=[\"Event.Weight\"], start=0, stop=20000, step=None)\n",
    "# W2 = [i[0][0] for i in W2]\n",
    "#We set\n",
    "_JPT, _JEta, _JPhi, _JMass = 0, 1, 2, 3"
   ]
  },
  {
   "cell_type": "markdown",
   "metadata": {},
   "source": [
    "# Define invariant mass function"
   ]
  },
  {
   "cell_type": "code",
   "execution_count": 20,
   "metadata": {},
   "outputs": [],
   "source": [
    "def mass_inv(jet):\n",
    "#    [\"FatJet.PT\", \"FatJet.Eta\", \"FatJet.Phi\", \"FatJet.Mass\"] \n",
    "# formula https://en.wikipedia.org/wiki/Invariant_mass#As_defined_in_particle_physics\n",
    "    M_inv = 2*jet[_JPT][0]*jet[_JPT][1]*(np.cosh(jet[_JEta][0]-jet[_JEta][1])-np.cos(jet[_JPhi][0]-jet[_JPhi][1]))\n",
    "    return M_inv**0.5\n",
    "    "
   ]
  },
  {
   "cell_type": "markdown",
   "metadata": {},
   "source": [
    "# Jet selection and fill up with invariant mass"
   ]
  },
  {
   "cell_type": "code",
   "execution_count": 37,
   "metadata": {},
   "outputs": [],
   "source": [
    "m_inv = []\n",
    "Wc = []\n",
    "for i in range(len(jet)):\n",
    "    if jet[i][0].shape[0]<2: #at least two jet\n",
    "        continue\n",
    "    if jet[i][_JPT][0]<440: # leading jet pt >= 440 Gev\n",
    "        continue\n",
    "    if jet[i][_JPT][1]<60: #sub-leading jet pt >= 60 Gev\n",
    "        continue\n",
    "#     if abs(jet[i][_JEta][0]-jet[i][_JEta][1])>=1.2:\n",
    "#         continue\n",
    "    m_inv.append(mass_inv(jet[i]))\n",
    "    Wc.append(W[i])\n",
    "# m_inv2 = []\n",
    "# Wc2 = []\n",
    "# for i in range(len(jet2)):\n",
    "#     if jet2[i][0].shape[0]<2:\n",
    "#         continue\n",
    "#     if jet2[i][0][0]<440:\n",
    "#         continue\n",
    "#     if jet2[i][0][1]<60:\n",
    "#         continue\n",
    "#     if abs(jet2[i][1][0]-jet2[i][1][1])>=1.2:\n",
    "#         continue\n",
    "#     m_inv2.append(mass_inv(jet2[i]))\n",
    "#     Wc2.append(W2[i])"
   ]
  },
  {
   "cell_type": "markdown",
   "metadata": {},
   "source": [
    "# Calculate the cross section in root"
   ]
  },
  {
   "cell_type": "code",
   "execution_count": 38,
   "metadata": {},
   "outputs": [
    {
     "name": "stdout",
     "output_type": "stream",
     "text": [
      "Cross section(pb) \t Cross section with selection(pb) \t Expected yield (tatal)\t Expected yield for Selection\n",
      "976.8411865234375 \t\t 832.1710067993164 \t\t\t 36143123.90136719 \t 30790327.251574706\n"
     ]
    }
   ],
   "source": [
    "Xection = sum(W)/nevn\n",
    "Xection_with_selection = sum(Wc)/nevn\n",
    "Lumi = 37 #Luminosity fb^-1\n",
    "expected_yield = (Xection)*Lumi*1000 #expected yield\n",
    "expected_yield_c = (Xection_with_selection)*Lumi*1000 #expected yield\n",
    "print(\"Cross section(pb) \\t Cross section with selection(pb) \\t Expected yield (tatal)\\t Expected yield for Selection\")\n",
    "print(Xection,\"\\t\\t\",Xection_with_selection,\"\\t\\t\\t\",expected_yield,'\\t',expected_yield_c)"
   ]
  },
  {
   "cell_type": "markdown",
   "metadata": {},
   "source": [
    "# Plot"
   ]
  },
  {
   "cell_type": "code",
   "execution_count": 39,
   "metadata": {},
   "outputs": [
    {
     "name": "stderr",
     "output_type": "stream",
     "text": [
      "/usr/local/lib/python3.6/site-packages/ipykernel_launcher.py:21: UserWarning: Attempted to set non-positive bottom ylim on a log-scaled axis.\n",
      "Invalid limit will be ignored.\n"
     ]
    },
    {
     "data": {
      "image/png": "[encoded data removed]",
      "text/plain": [
       "<Figure size 576x576 with 1 Axes>"
      ]
     },
     "metadata": {
      "needs_background": "light"
     },
     "output_type": "display_data"
    }
   ],
   "source": [
    "bins = 100\n",
    "fs=18 # front size\n",
    "tagsize = 18 # label tag size ((\\blue block) W \\n (\\orange block) QCD )\n",
    "plt.figure(figsize=(8,8)) # plotsize\n",
    "x1, x2 = 500, 10000\n",
    "\n",
    "bisize = np.linspace(500,10000,101)\n",
    "\n",
    "\n",
    "# plt.hist(m_inv2 ,bins=bins, histtype='step',  range=[x1, x2], weights= np.array(Wc2),\n",
    "#          label='rinv = 0.0, ${M_{Z}}$=1.5 TeV')\n",
    "plt.hist(m_inv ,bins=bins, histtype='step', color='r', range=[x1, x2], weights= np.array(Wc),\n",
    "         label='qq')\n",
    "\n",
    "  \n",
    "plt.legend(prop={'size': tagsize}) # plot label tag\n",
    "plt.yscale('log')\n",
    "plt.xscale('log')\n",
    "plt.xlabel('${M_{jj}}$' , fontsize=fs)  # plot x-axis label\n",
    "plt.ylabel(\"d${\\sigma}$/dx\", fontsize=fs)  # plot y-axis label $\\u03C3^{-1}$\n",
    "plt.ylim((0,5000000))\n",
    "plt.xlim((x1,x2))\n",
    "plt.xticks([1000,3000,10000], ['${10^3}$', '3${X}$${10^{3}}$','${10^{4}}$' ],fontsize=fs)   # set x-ticks size\n",
    "plt.yticks([1,100,10000,1000000],fontsize=fs)   # set y-ticks size \n",
    "# plt.savefig(\"./invariant_mass_JET_SVJ_Z1500.png\")  #save figure as png  \n",
    "plt.show() "
   ]
  },
  {
   "cell_type": "code",
   "execution_count": 13,
   "metadata": {},
   "outputs": [],
   "source": []
  },
  {
   "cell_type": "code",
   "execution_count": null,
   "metadata": {},
   "outputs": [],
   "source": []
  },
  {
   "cell_type": "markdown",
   "metadata": {},
   "source": [
    "# Backup"
   ]
  },
  {
   "cell_type": "code",
   "execution_count": null,
   "metadata": {},
   "outputs": [],
   "source": []
  },
  {
   "cell_type": "markdown",
   "metadata": {},
   "source": [
    "# CMS card Setting\n",
    "module FastJetFinder FatJetFinder {\n",
    "  set InputArray EFlowMerger/eflow\n",
    "\n",
    "  set OutputArray jets\n",
    "\n",
    "<!--   # algorithm: 1 CDFJetClu, 2 MidPoint, 3 SIScone, 4 kt, 5 Cambridge/Aachen, 6 antikt -->\n",
    "  set JetAlgorithm 6\n",
    "  set ParameterR 0.8\n",
    "\n",
    "  set ComputeNsubjettiness 1\n",
    "  set Beta 1.0\n",
    "  set AxisMode 4\n",
    "\n",
    "  set ComputeTrimming 1\n",
    "  set RTrim 0.2\n",
    "  set PtFracTrim 0.05\n",
    "\n",
    "  set ComputePruning 1\n",
    "  set ZcutPrun 0.1\n",
    "  set RcutPrun 0.5\n",
    "  set RPrun 0.8\n",
    "\n",
    "  set ComputeSoftDrop 1\n",
    "  set BetaSoftDrop 0.0\n",
    "  set SymmetryCutSoftDrop 0.1\n",
    "  set R0SoftDrop 0.8\n",
    "\n",
    "  set JetPTMin 200.0\n",
    "}\n"
   ]
  },
  {
   "cell_type": "code",
   "execution_count": 222,
   "metadata": {
    "collapsed": true,
    "jupyter": {
     "outputs_hidden": true
    }
   },
   "outputs": [
    {
     "data": {
      "text/plain": [
       "(array([  0.91819775,   0.64038521,   0.93822312,   5.5732069 ,\n",
       "          1.37218153,   2.25642776,  10.74948692,   4.98437262,\n",
       "          0.38311908,   0.40474677,   7.28582668,   3.39297366,\n",
       "          3.78422451,   0.93220305,   0.64937967,   9.7439642 ,\n",
       "          7.89991856,  13.31914997,   1.78918302,   6.35514975,\n",
       "          1.30370355,   1.09442973,   3.81843162,   3.01032257,\n",
       "          1.35108292,   1.23890626,   2.47352934,   1.75911438,\n",
       "          5.21155643,  38.24241257,   0.61120105,   1.20469832,\n",
       "          4.26183748,  10.82800961,   2.64965653,  93.06800079,\n",
       "          0.650971  ,   4.76166105,   2.27072453,   5.55881596,\n",
       "          1.33282053,  14.94717598,   2.44216084,   1.40001917,\n",
       "          4.32057762,   2.57903981,   0.63378054, 272.3387146 ]),\n",
       " array([ 0.2311534 ,  0.14610601,  0.16804717, -0.02933283, -0.1168667 ,\n",
       "        -0.08119907, -0.18362236, -0.30100589, -0.73737529, -0.52246382,\n",
       "         0.37481695,  0.43659746,  0.27487792,  0.30066961,  0.23671226,\n",
       "         0.15950346,  0.19471662,  0.04941091,  0.06136273,  0.02058007,\n",
       "        -0.05084805,  0.03947794,  0.03333233,  0.03925472,  0.08818373,\n",
       "        -0.11577977,  0.01794839,  0.01017661,  0.02892799,  0.02347483,\n",
       "        -0.0243517 ,  0.01046811,  0.01305575,  0.02278226,  0.02684281,\n",
       "         0.03399089,  0.38213599,  0.2219963 , -0.31702314, -0.31871283,\n",
       "        -0.14424421, -0.12632483, -0.11989516, -0.06995684, -0.08150203,\n",
       "        -0.00470579, -0.03254201, -0.01811706]),\n",
       " array([ 0.45217832,  0.59748815,  0.59121337,  0.81264474,  0.73752219,\n",
       "         0.67377136,  0.48262362,  0.26413954,  0.38647351,  0.41981326,\n",
       "         0.24943999,  0.14782584,  0.19803338,  0.14915048,  0.10962763,\n",
       "         0.21561834,  0.18792247,  0.13329595,  0.10012018,  0.10680424,\n",
       "         0.32849613,  0.31122589,  0.28609643,  0.23111764,  0.18816708,\n",
       "         0.23526194,  0.14828694,  0.17983872,  0.1646783 ,  0.02087792,\n",
       "         0.07722981,  0.06001067,  0.05217195,  0.04507051,  0.03388073,\n",
       "        -0.02174905, -0.04979449, -0.0243748 , -0.45285442, -0.32664773,\n",
       "        -0.2990374 , -0.10140742, -0.00885544,  0.00451069, -0.0071373 ,\n",
       "        -0.05584094, -0.08697858, -0.08651322]),\n",
       " array([  0.91859108,   0.64784592,   0.94612306,   5.98563433,\n",
       "          1.51006472,   2.43214965,  11.78407669,   5.58197784,\n",
       "          0.56440294,   0.52130055,   7.38717937,   3.50387645,\n",
       "          3.79811716,   0.93942732,   0.65118355,   9.74831963,\n",
       "          7.90046787,  13.40229988,   1.79654706,   6.41032791,\n",
       "          1.3493365 ,   1.11072302,   3.87439728,   3.04403853,\n",
       "          1.35659719,   1.29477894,   2.4999845 ,   1.78243113,\n",
       "          5.26294804,  38.45024872,   0.61966342,   1.21456754,\n",
       "          4.29421329,  10.89578247,   2.6641984 ,  93.38018036,\n",
       "          0.67303479,   4.78498745,   2.3696804 ,   5.86811018,\n",
       "          1.35279   ,  15.28604221,   2.50874162,   1.42509675,\n",
       "          4.40443277,   2.59441733,   0.63888711, 274.08474731]))"
      ]
     },
     "execution_count": 222,
     "metadata": {},
     "output_type": "execute_result"
    }
   ],
   "source": [
    "def generate_samples(gen_type='qcd', n=10, pt_cut=None, excess_factor=None, debug=False, recalculate=False):\n",
    "    assert pt_cut is None or pt_cut in (\n",
    "        'low', 'high'), f'invalid pt_cut={pt_cut}'\n",
    "    pythia_config = get_pythia_config(gen_type, pt_cut)\n",
    "    filename = get_filename(gen_type, n, pt_cut)\n",
    "    if excess_factor is None and pt_cut is not None:\n",
    "        excess_factor = 1.5\n",
    "    else:\n",
    "        excess_factor = 1\n",
    "    os.makedirs(os.path.dirname(filename), exist_ok=True)\n",
    "    if not recalculate and os.path.exists(filename):\n",
    "        if debug:\n",
    "            print(f'Loading samples from file {filename}')\n",
    "        return pd.read_pickle(filename)\n",
    "\n",
    "    start = time.time()\n",
    "    print(f'Generating {gen_type} with {excess_factor*n} events.')\n",
    "    assert gen_type == 'qcd' or gen_type == 'higgs', f'gen_type must be one of [qcd, higgs] but was {gen_type}.'\n",
    "\n",
    "    pythia = Pythia(config=pythia_config, random_state=1)\n",
    "\n",
    "    final_jets = []\n",
    "    for event in progressbar.progressbar(pythia(events=excess_factor*n), max_value=excess_factor*n):\n",
    "\n",
    "        # Run jet finding.\n",
    "        jets = pyjet.cluster(event.all((STATUS == 1) & (STATUS == 1)), R=1.0,\n",
    "                             p=-1, ep=True).inclusive_jets()\n",
    "\n",
    "        found_jet = None\n",
    "\n",
    "        if gen_type == 'higgs':\n",
    "            seen_higgs = False\n",
    "            # If we are generating Higgs, we need to save where they went.\n",
    "            for particle in event.all(PDG_ID == 25, return_hepmc=True):\n",
    "                parents = particle.parents()\n",
    "                if parents.size > 0 and parents[0]['pdgid'] == 5100039:\n",
    "                    if not seen_higgs or particle.pt > higgs.pt:\n",
    "                        higgs = particle\n",
    "                        seen_higgs = True\n",
    "\n",
    "            if not seen_higgs:\n",
    "                continue\n",
    "\n",
    "            for jet in jets[:4]:\n",
    "                dR = CalcDeltaR(jet, higgs)\n",
    "                if dR < 1.0:\n",
    "                    if debug:\n",
    "                        print('Found Higgs Jet')\n",
    "                    found_jet = jet\n",
    "        else:\n",
    "            found_jet = jets[0]\n",
    "\n",
    "        if found_jet is None:\n",
    "            continue\n",
    "\n",
    "        if debug:\n",
    "            print(found_jet)\n",
    "\n",
    "        # Calculating the ECF functions for two subjettiness\n",
    "        ee2 = CalcEECorr(found_jet, n=2, beta=1.0)\n",
    "        ee3 = CalcEECorr(found_jet, n=3, beta=1.0)\n",
    "        d2 = ee3/ee2**3\n",
    "\n",
    "        angularity = calc_angularity(found_jet)\n",
    "\n",
    "        t1 = tn(found_jet, n=1)\n",
    "        t2 = tn(found_jet, n=2)\n",
    "        t3 = tn(found_jet, n=3)\n",
    "        t21 = t2 / t1 if t1 > 0.0 else 0.0\n",
    "        t32 = t3 / t2 if t2 > 0.0 else 0.0\n",
    "\n",
    "        KtDeltaR = calc_KtDeltaR(found_jet)\n",
    "\n",
    "        final_jets.append([found_jet.pt, found_jet.eta,\n",
    "                           found_jet.phi, found_jet.mass, ee2, ee3, d2, angularity, t1, t2, t3, t21, t32, KtDeltaR])\n",
    "\n",
    "    # Save the final jets to a file.\n",
    "    final_jets = pd.DataFrame(data=final_jets, columns=[\n",
    "                              'pt', 'eta', 'phi', 'mass', 'ee2', 'ee3', 'd2', 'angularity', 't1', 't2', 't3', 't21', 't32', 'KtDeltaR'])\n",
    "    if pt_cut is not None:\n",
    "        final_jets = final_jets[(final_jets['pt'] > pt_min)\n",
    "                                & (final_jets['pt'] < pt_max)]\n",
    "        if final_jets.shape[0] < n:\n",
    "            raise RuntimeError(\n",
    "                f'excess factor was insufficient, less than {n} events ({final_jets.shape[0]}) were generated satisfying specified pt cut.')\n",
    "        final_jets = final_jets[:n]\n",
    "        final_jets.reset_index(inplace=True, drop=True)\n",
    "    final_jets.to_pickle(filename)\n",
    "\n",
    "    print(\"==========================\")\n",
    "    print(\"DONE WITH GENERATION - returning\")\n",
    "    print(f'Total time = {time.time() - start}')\n",
    "    print(\"==========================\")\n",
    "\n",
    "    return final_jets"
   ]
  }
 ],
 "metadata": {
  "kernelspec": {
   "display_name": "Python 3",
   "language": "python",
   "name": "python3"
  },
  "language_info": {
   "codemirror_mode": {
    "name": "ipython",
    "version": 3
   },
   "file_extension": ".py",
   "mimetype": "text/x-python",
   "name": "python",
   "nbconvert_exporter": "python",
   "pygments_lexer": "ipython3",
   "version": "3.6.8"
  }
 },
 "nbformat": 4,
 "nbformat_minor": 4
}
