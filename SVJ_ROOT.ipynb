{
 "cells": [
  {
   "cell_type": "code",
   "execution_count": 93,
   "metadata": {},
   "outputs": [],
   "source": [
    "import os\n",
    "import pandas as pd\n",
    "# import glob2 as glob\n",
    "from root_numpy import root2array\n",
    "\n",
    "root_file = \"./delphes_nolhe.root\"\n",
    "# root_file = \"./delphes_nolhe_Alan.root\"\n",
    "# root_file = \"./delphes_nolhe_papper.root\"\n",
    "\n",
    "\n",
    "event = root2array(root_file, \"Delphes;1\", branches=[\n",
    "\"Particle.Status\", \"Particle.M1\", \"Particle.M2\", \"Particle.D1\", \"Particle.D2\",\n",
    "\"Particle.PID\", \"Particle.PT\",\n",
    "\"Particle.Eta\",\"Particle.Phi\", \"Particle.Mass\"], start=1, stop=10000, step=None)\n",
    "# , \"Jet.PT\"\n",
    "# jet = root2array(root_file, \"Delphes;1\", branches=[\"Jet.PT\", \"Jet.Eta\", \"Jet.Phi\", \"Jet.Mass\"], start=1, stop=10000, step=None)\n",
    "# for i in range(len(jet)):\n",
    "#     for j in range(len(jet[i][0])):\n",
    "#         print(i, j, jet[i][0][j])\n",
    "# d1, d2 = -1, -1\n",
    "# for j in  range(len(event[0][0])):\n",
    "#     if(event[0][5][j]==4900101)&(event[0][0][j]==23): #23 : hardest outgoing particles\n",
    "#         print(j,  event[0][0][j],  event[0][1][j], event[0][2][j], event[0][3][j], event[0][4][j], event[0][5][j], event[0][6][j], event[0][7][j] ,event[0][8][j], event[0][9][j]) \n",
    "#         d1, d2 = -1, -1\n",
    "#         while(event[0][3][j]== event[0][4][j]):\n",
    "#             print(\"check\")\n",
    "#             d1 = event[0][3][j]\n",
    "#             d2 = event[0][4][j]\n",
    "            \n",
    "#         print(\"\\tDaughter:\", event[0][3][d1], event[0][4][d1])\n",
    "# #         d1, d2 = event[0][3][j], event[0][4][j]\n",
    "#         print(\"\\tDaughter_id:\", event[0][5][d1], event[0][5][d2], \"\\n\")\n",
    "        \n",
    "\n",
    " \n",
    " "
   ]
  },
  {
   "cell_type": "code",
   "execution_count": 54,
   "metadata": {},
   "outputs": [],
   "source": [
    "def find_decayratio(event,n, mode = 'daughter'):\n",
    "    d1, d2 = -1, -1\n",
    "    d0 = -1\n",
    "    ID = 4900101\n",
    "    for j in  range(len(event[n][0])):\n",
    "        if(event[n][5][j]==ID)&(event[n][0][j]==23): #23 : hardest outgoing particles\n",
    "#             print(j,  event[n][0][j],  event[0][1][j], event[n][2][j], event[n][3][j], event[n][4][j], event[n][5][j], event[n][6][j], event[n][7][j] ,event[n][8][j], event[n][9][j]) \n",
    "            d1 = event[n][3][j]\n",
    "            d2 = event[n][4][j]\n",
    "            while((event[n][5][d1]==ID)or(event[n][5][d2]==ID) ):\n",
    "                if(event[n][5][d1]==ID):\n",
    "                    d0 = d1\n",
    "                    d1 = event[n][3][d0]\n",
    "                    d2 = event[n][4][d0]\n",
    "                    if(event[n][5][d2]==ID):\n",
    "                        d0 = d2\n",
    "                        d1 = event[n][3][d0]\n",
    "                        d2 = event[n][4][d0]\n",
    "                        \n",
    "#             print(\"\\tDaughter:\", event[n][3][d0], event[n][4][d0])\n",
    "#             d1, d2 = event[n][3][j], event[n][4][j]\n",
    "#             print(\"\\tDaughter_id:\", event[n][5][d1], event[n][5][d2], \"\\n\")\n",
    "    if mode=='daughter':\n",
    "        return d1, d2\n",
    "    if mode=='id':\n",
    "        return event[n][5][d1], event[n][5][d2]\n",
    "#             print(\"\\tDaughter_status:\", event[n][0][d1], event[n][0][d2], \"\\n\")\n",
    "#             m1, m2 =  event[n][1][d1],  event[n][2][d1]\n",
    "#             print(\"\\tDaughter1_motherid:\", event[n][5][m1], event[n][5][m2], \"\\n\")\n",
    "#             m1, m2 =  event[n][1][d2],  event[n][2][d2]\n",
    "#             print(\"\\tDaughter2_motherid:\", event[n][5][m1], event[n][5][m2], \"\\n\")\n",
    "        \n",
    "        "
   ]
  },
  {
   "cell_type": "code",
   "execution_count": 157,
   "metadata": {},
   "outputs": [],
   "source": [
    "def find_subdecayratio(event, n, j, ID=4900111):\n",
    "    d1, d2 = -1, -1\n",
    "    d0 = -1\n",
    "    d1 = event[n][3][j]\n",
    "    d2 = event[n][4][j]\n",
    "    g = set([1,2,3,4,5])\n",
    "    if((abs(event[n][5][d1])!=ID)&(abs(event[n][5][d2])!=ID)):\n",
    "        d1=0\n",
    "        d2=0\n",
    "        return d1, d2\n",
    "    else:\n",
    "        while((abs(event[n][5][d1])==ID)or(abs(event[n][5][d2])==ID) ):\n",
    "            if(abs(event[n][5][d1])==ID):\n",
    "                d0 = d1\n",
    "                d1 = event[n][3][d0]\n",
    "                d2 = event[n][4][d0]\n",
    "            if(abs(event[n][5][d2])==ID):\n",
    "                d0 = d2\n",
    "                d1 = event[n][3][d0]\n",
    "                d2 = event[n][4][d0]\n",
    "        return event[n][5][d1], event[n][5][d2]\n",
    "def find_daughterid(event, n, j, ID=4900111):\n",
    "    sid = event[n][5][j]\n",
    "    if(sid!=ID):\n",
    "        return 0, 0\n",
    "    else:\n",
    "        d1 = event[n][3][j]\n",
    "        d2 = event[n][4][j]\n",
    "        return event[n][5][d1], event[n][5][d2]"
   ]
  },
  {
   "cell_type": "code",
   "execution_count": 159,
   "metadata": {},
   "outputs": [],
   "source": [
    "a113 = []\n",
    "a111 = []\n",
    "for n in range(10000-1):\n",
    "    a1, a2 = find_decayratio(event,n)\n",
    "    d1a1 = find_daughterid(event, n, a1, ID=4900111)\n",
    "    d1a2 = find_daughterid(event, n, a1, ID=4900113)\n",
    "    d2a1 = find_daughterid(event, n, a2, ID=4900111)\n",
    "    d2a2 = find_daughterid(event, n, a2, ID=4900113)\n",
    "    \n",
    "#     d1a1 = find_subdecayratio(event, n, a1, ID=4900211)\n",
    "#     d1a2 = find_subdecayratio(event, n, a1, ID=4900213)\n",
    "#     d2a1 = find_subdecayratio(event, n, a2, ID=4900211)\n",
    "#     d2a2 = find_subdecayratio(event, n, a2, ID=4900213)\n",
    "    a111.append(d1a1)\n",
    "    a113.append(d1a2)\n",
    "    a111.append(d2a1)\n",
    "    a113.append(d2a2)"
   ]
  },
  {
   "cell_type": "code",
   "execution_count": 154,
   "metadata": {},
   "outputs": [
    {
     "data": {
      "text/plain": [
       "-2"
      ]
     },
     "execution_count": 154,
     "metadata": {},
     "output_type": "execute_result"
    }
   ],
   "source": [
    "i=6\n",
    "a1, a2 = find_decayratio(event,i)\n",
    "d1 = event[i][3][a1]\n",
    "event[i][5][d1]"
   ]
  },
  {
   "cell_type": "code",
   "execution_count": 170,
   "metadata": {},
   "outputs": [
    {
     "data": {
      "text/plain": [
       "[(-4, 4),\n",
       " (-3, 3),\n",
       " (4900213, -4900213),\n",
       " (-4, 4),\n",
       " (4900213, -4900213),\n",
       " (-2, 2),\n",
       " (-2, 2),\n",
       " (0, 0),\n",
       " (-2, 2),\n",
       " (4900213, -4900213)]"
      ]
     },
     "execution_count": 170,
     "metadata": {},
     "output_type": "execute_result"
    }
   ],
   "source": [
    "a113[:10]"
   ]
  },
  {
   "cell_type": "code",
   "execution_count": 160,
   "metadata": {},
   "outputs": [
    {
     "data": {
      "text/plain": [
       "[0.751025102510251, 30038, 9958]"
      ]
     },
     "execution_count": 160,
     "metadata": {},
     "output_type": "execute_result"
    }
   ],
   "source": [
    "[sum([1 for i in a113 for j in i if j!=0])/(sum([1 for i in a113 for j in i if j!=0])+sum([1 for i in a111 for j in i if j!=0])),\n",
    "sum([1 for i in a113 for j in i if j!=0]),sum([1 for i in a111 for j in i if j!=0])]"
   ]
  },
  {
   "cell_type": "code",
   "execution_count": 173,
   "metadata": {},
   "outputs": [
    {
     "data": {
      "text/plain": [
       "[9056, 20982]"
      ]
     },
     "execution_count": 173,
     "metadata": {},
     "output_type": "execute_result"
    }
   ],
   "source": [
    "r = [sum([1 for i in a113 for j in i if (abs(j)== 4900213)]), sum([1 for i in a113 for j in i if (abs(j)!= 4900213)&(j!=0)])]\n",
    "r"
   ]
  },
  {
   "cell_type": "code",
   "execution_count": 174,
   "metadata": {},
   "outputs": [
    {
     "data": {
      "text/plain": [
       "0.3014847859378121"
      ]
     },
     "execution_count": 174,
     "metadata": {},
     "output_type": "execute_result"
    }
   ],
   "source": [
    "r[0]/sum(r)"
   ]
  },
  {
   "cell_type": "code",
   "execution_count": 178,
   "metadata": {},
   "outputs": [
    {
     "data": {
      "text/plain": [
       "0.29282988551918054"
      ]
     },
     "execution_count": 178,
     "metadata": {},
     "output_type": "execute_result"
    }
   ],
   "source": [
    "r = [sum([1 for i in a111 for j in i if (abs(j)== 4900211)]), sum([1 for i in a111 for j in i if (abs(j)!= 4900211)&(j!=0)])]\n",
    "r[0]/sum(r)"
   ]
  },
  {
   "cell_type": "code",
   "execution_count": 180,
   "metadata": {},
   "outputs": [
    {
     "data": {
      "text/plain": [
       "[11972, 28024]"
      ]
     },
     "execution_count": 180,
     "metadata": {},
     "output_type": "execute_result"
    }
   ],
   "source": [
    "a = a111+a113\n",
    "r = [sum([1 for i in a for j in i if (abs(j)== 4900211)or(abs(j)== 4900213)]),sum([1 for i in a for j in i if (abs(j)!= 4900211)&(abs(j)!= 4900213)&(j!=0)])]\n",
    "r"
   ]
  },
  {
   "cell_type": "code",
   "execution_count": 181,
   "metadata": {},
   "outputs": [
    {
     "data": {
      "text/plain": [
       "0.29932993299329935"
      ]
     },
     "execution_count": 181,
     "metadata": {},
     "output_type": "execute_result"
    }
   ],
   "source": [
    "r[0]/sum(r) # that is rinv == 0.3 !!!"
   ]
  },
  {
   "cell_type": "code",
   "execution_count": 182,
   "metadata": {},
   "outputs": [
    {
     "data": {
      "text/plain": [
       "[2916, 9056]"
      ]
     },
     "execution_count": 182,
     "metadata": {},
     "output_type": "execute_result"
    }
   ],
   "source": [
    "r = [sum([1 for i in a for j in i if (abs(j)== 4900211)]), sum([1 for i in a for j in i if (abs(j)== 4900213)])]\n",
    "r "
   ]
  },
  {
   "cell_type": "code",
   "execution_count": 183,
   "metadata": {},
   "outputs": [
    {
     "data": {
      "text/plain": [
       "0.24356832609421986"
      ]
     },
     "execution_count": 183,
     "metadata": {},
     "output_type": "execute_result"
    }
   ],
   "source": [
    "r[0]/sum(r)"
   ]
  },
  {
   "cell_type": "code",
   "execution_count": null,
   "metadata": {},
   "outputs": [],
   "source": []
  },
  {
   "cell_type": "code",
   "execution_count": 92,
   "metadata": {},
   "outputs": [
    {
     "name": "stdout",
     "output_type": "stream",
     "text": [
      "HiddenValley:Ngauge  =2\n",
      "HiddenValley:Lambda = 1\n",
      "HiddenValley:alphaFSR = 1\n",
      "HiddenValley:spinFv = 0\n",
      "HiddenValley:FSR = on\n",
      "HiddenValley:fragment = on\n",
      "4900101:m0 = 10.0\n",
      "4900101:mWidth = 0.2\n",
      "4900101:mMin = 9.8\n",
      "4900101:mMax = 10.2\n",
      "4900111:m0 = 20\n",
      "4900113:m0 = 20\n",
      "4900211:m0 = 9.99\n",
      "4900213:m0 = 9.99\n",
      "HiddenValley:pTminFSR = 1.1\n",
      "4900111:onechannel = 1 0.7 91 -3 3\n",
      "4900111:addchannel = 1 0.3 0 4900211 -4900211\n",
      "4900113:onechannel = 1 0.14 91 -1 1\n",
      "4900113:addchannel = 1 0.14 91 -2 2\n",
      "4900113:addchannel = 1 0.14 91 -3 3\n",
      "4900113:addchannel = 1 0.14 91 -4 4\n",
      "4900113:addchannel = 1 0.14 91 -5 5\n",
      "4900113:addchannel = 1 0.3 0 4900213 -4900213\n",
      "HiddenValley:probVector =  0.75\n"
     ]
    }
   ],
   "source": [
    "##======================= change Pythia cmnd========================\n",
    "rinv = 0.3\n",
    "mass = 20\n",
    "lambdas = 1\n",
    "n=6\n",
    "print(\"HiddenValley:Ngauge  =2\")\n",
    "print(\"HiddenValley:Lambda = \"+str(lambdas))\n",
    "print(\"HiddenValley:alphaFSR = \"+ str(lambdas))\n",
    "print(\"HiddenValley:spinFv = 0\")\n",
    "print(\"HiddenValley:FSR = on\")\n",
    "print(\"HiddenValley:fragment = on\")\n",
    "print(\"4900101:m0 = \"+str(mass / 2))\n",
    "print(\"4900101:mWidth = \"+ str(mass / 100))\n",
    "print(\"4900101:mMin = \"+str(mass / 2 - mass / 100))\n",
    "print(\"4900101:mMax = \"+str(mass / 2 + mass / 100))\n",
    "print(\"4900111:m0 = \"+str(mass))\n",
    "print(\"4900113:m0 = \"+ str(mass))\n",
    "print(\"4900211:m0 = \"+ str(mass / 2.0 - 0.01))\n",
    "print(\"4900213:m0 = \"+ str(mass / 2.0 - 0.01))\n",
    "print(\"HiddenValley:pTminFSR = \"+ str(1.1 * lambdas))\n",
    "print(\"4900111:onechannel = 1 \" +str(1.0 - rinv) +\" 91 -3 3\")\n",
    "print(\"4900111:addchannel = 1 \" +str(rinv) +\" 0 4900211 -4900211\")\n",
    "print(\"4900113:onechannel = 1 \" +str(round((1 - rinv) / 5.,n)) +\" 91 -1 1\")\n",
    "print(\"4900113:addchannel = 1 \" +str(round((1 - rinv) / 5.,n)) +\" 91 -2 2\")\n",
    "print(\"4900113:addchannel = 1 \" +str(round((1 - rinv) / 5.,n)) +\" 91 -3 3\")\n",
    "print(\"4900113:addchannel = 1 \" +str(round((1 - rinv) / 5.,n)) +\" 91 -4 4\")\n",
    "print(\"4900113:addchannel = 1 \" +str(round((1 - rinv) / 5.,n)) +\" 91 -5 5\")\n",
    "print(\"4900113:addchannel = 1 \" +str(rinv) +\" 0 4900213 -4900213\")\n",
    "print(\"HiddenValley:probVector = \", 0.75)"
   ]
  },
  {
   "cell_type": "code",
   "execution_count": 13,
   "metadata": {},
   "outputs": [],
   "source": [
    "events = root2array(root_file, \"Delphes;1\", branches=[\"Tower.ET\", \"Tower.Eta\", \"Tower.Phi\", \"Tower.E\"])"
   ]
  },
  {
   "cell_type": "code",
   "execution_count": 24,
   "metadata": {},
   "outputs": [
    {
     "data": {
      "text/plain": [
       "array([  0.85128284,   1.48601174,   0.9337756 ,   1.7562871 ,\n",
       "        10.38171387,  29.79432297,   1.40077257,   9.19585419,\n",
       "         1.31330025,  17.90326691,  12.8153286 ,   3.89694262,\n",
       "         0.86516869,   3.14138246,   0.90665638,   1.09680009,\n",
       "         2.07549953,   3.06740379,   1.64986241,   1.52171803,\n",
       "         1.30817056,   2.20158386,   0.99456131,   2.92326069,\n",
       "         1.28434741,   1.32617581,   1.32756186,   2.20071292,\n",
       "         3.86335039,   2.37419271,   2.81331134,   1.56898212,\n",
       "         0.62768716,   0.31645715,   0.19874591,   0.79386336,\n",
       "         0.96968138,   0.65729028,   0.48733303,   2.27930069,\n",
       "         1.2566222 ,   0.33611742,   8.18156624,  18.68833542,\n",
       "        14.22693157,  33.28574753,   2.68023062,  26.69565964,\n",
       "        67.93278503,   7.75295067,   2.5580771 ,   5.89386129,\n",
       "        18.07452583,   4.26526308,   7.02155542,   2.95905375,\n",
       "        10.65084171,   7.11695671,   2.29862857,   9.8406229 ,\n",
       "         4.94383287,   5.20028591,   3.77344298,   2.68318343,\n",
       "         5.73777294,   5.83018446,  27.65352821,   3.39823055,\n",
       "        11.99879074,   1.63775599,   2.27347565, 128.08703613,\n",
       "         7.23700857,   1.53100181,   3.39369631,   3.67005348,\n",
       "         4.59189987,   3.22290444,   2.43255091,   1.13929927,\n",
       "         2.23731256,   4.9426856 ,   3.01587486,  14.65062046,\n",
       "         4.79464483,  11.67241669,  13.64027214,   6.45888042,\n",
       "         1.86648035,   0.89973718,   1.21342981,   1.49723279,\n",
       "         2.4442234 ,   1.91315436,   0.32317406,   0.3330608 ,\n",
       "         3.29943156,   1.67521644,   0.53578931,   1.43431914,\n",
       "         0.27100816,   0.86684704,   1.54068375,   0.17484909,\n",
       "         0.77304959,   0.24125919])"
      ]
     },
     "execution_count": 24,
     "metadata": {},
     "output_type": "execute_result"
    }
   ],
   "source": [
    "events[0][0]"
   ]
  },
  {
   "cell_type": "code",
   "execution_count": null,
   "metadata": {},
   "outputs": [],
   "source": []
  }
 ],
 "metadata": {
  "kernelspec": {
   "display_name": "Python 3",
   "language": "python",
   "name": "python3"
  },
  "language_info": {
   "codemirror_mode": {
    "name": "ipython",
    "version": 3
   },
   "file_extension": ".py",
   "mimetype": "text/x-python",
   "name": "python",
   "nbconvert_exporter": "python",
   "pygments_lexer": "ipython3",
   "version": "3.6.8"
  }
 },
 "nbformat": 4,
 "nbformat_minor": 4
}
