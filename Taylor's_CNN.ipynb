{
 "cells": [
  {
   "cell_type": "code",
   "execution_count": 9,
   "metadata": {},
   "outputs": [],
   "source": [
    "# Standard Imports\n",
    "import pandas as pd\n",
    "import h5py\n",
    "import numpy as np\n",
    "import os\n",
    "import json\n",
    "import matplotlib.pyplot as plt\n",
    "from sklearn.model_selection import train_test_split\n",
    "import keras\n",
    "import pathlib\n",
    "import tensorflow as tf\n",
    "from keras import metrics\n",
    "from keras.constraints import max_norm\n",
    "gpus = tf.config.experimental.list_physical_devices(\"GPU\")\n",
    "path = pathlib.Path.cwd()"
   ]
  },
  {
   "cell_type": "code",
   "execution_count": 2,
   "metadata": {},
   "outputs": [
    {
     "data": {
      "text/plain": [
       "PosixPath('/local_disk/james/Taylor_data')"
      ]
     },
     "execution_count": 2,
     "metadata": {},
     "output_type": "execute_result"
    }
   ],
   "source": [
    "path.parent.parent"
   ]
  },
  {
   "cell_type": "code",
   "execution_count": 3,
   "metadata": {},
   "outputs": [],
   "source": [
    "import sys\n",
    "sys.path.insert(0, path.parent)"
   ]
  },
  {
   "cell_type": "code",
   "execution_count": 2,
   "metadata": {},
   "outputs": [],
   "source": [
    "rinv=\"0p3\""
   ]
  },
  {
   "cell_type": "code",
   "execution_count": 3,
   "metadata": {},
   "outputs": [],
   "source": [
    "# tp_file = open(f\"sherpa_results/{rinv}.json\", \"r\")\n",
    "tp = np.load(\"./sherpa_results/\"+rinv+\"/best_results.npy\", allow_pickle = True)\n",
    "tp = tp.item()"
   ]
  },
  {
   "cell_type": "code",
   "execution_count": 4,
   "metadata": {},
   "outputs": [
    {
     "data": {
      "text/plain": [
       "{'Trial-ID': 39,\n",
       " 'Iteration': 9,\n",
       " 'batch_size': 512.0,\n",
       " 'dense_units_1': 330.0,\n",
       " 'dense_units_2': 208.0,\n",
       " 'dense_units_3': 294.0,\n",
       " 'dropout_0': 0.033181350208940474,\n",
       " 'dropout_1': 0.011722791167547264,\n",
       " 'dropout_2': 0.19895612831997633,\n",
       " 'filter_1': 361.0,\n",
       " 'filter_2': 271.0,\n",
       " 'filter_3': 248.0,\n",
       " 'learning_rate': 0.0003930583204896917,\n",
       " 'Objective': 0.8055737018585205,\n",
       " 'accuracy': 0.7251466512680054,\n",
       " 'auc': 0.8055737018585205,\n",
       " 'loss': 0.6003246307373047}"
      ]
     },
     "execution_count": 4,
     "metadata": {},
     "output_type": "execute_result"
    }
   ],
   "source": [
    "tp"
   ]
  },
  {
   "cell_type": "code",
   "execution_count": 17,
   "metadata": {},
   "outputs": [],
   "source": [
    "# Silnence output of tensorflow/keras about GPU status\n",
    "import os\n",
    "\n",
    "# os.environ[\"TF_CPP_MIN_LOG_LEVEL\"] = \"3\"\n",
    "\n",
    "\n",
    "# for gpu in gpus:\n",
    "#     tf.config.experimental.set_memory_growth(gpu, True)\n",
    "\n",
    "\n",
    "# Keras imports\n",
    "from keras.models import Sequential\n",
    "from keras.layers import Dense, Flatten, Dropout, Conv2D, MaxPooling2D\n",
    "from keras.optimizers import Adam\n",
    "from keras import metrics\n",
    "from keras.constraints import max_norm\n",
    "\n",
    "\n",
    "def get_model(run_type, tp, input_shape=None):\n",
    "    if run_type == \"LL\":\n",
    "        model = Sequential()\n",
    "        model.add(\n",
    "            Conv2D(tp[\"filter_1\"], (3, 3), activation=\"relu\", input_shape=(32, 32, 1),)\n",
    "        )\n",
    "        model.add(MaxPooling2D((2, 2)))\n",
    "        model.add(\n",
    "            Conv2D(\n",
    "                tp[\"filter_2\"],\n",
    "                (3, 3),\n",
    "                activation=\"relu\",\n",
    "                kernel_constraint=max_norm(3),\n",
    "                bias_constraint=max_norm(3),\n",
    "            )\n",
    "        )\n",
    "        model.add(MaxPooling2D((2, 2)))\n",
    "        model.add(\n",
    "            Conv2D(\n",
    "                tp[\"filter_3\"],\n",
    "                (3, 3),\n",
    "                activation=\"relu\",\n",
    "                kernel_constraint=max_norm(3),\n",
    "                bias_constraint=max_norm(3),\n",
    "            )\n",
    "        )\n",
    "        model.add(MaxPooling2D((2, 2)))\n",
    "\n",
    "        model.add(Flatten())\n",
    "        # model.add(Dropout(tp[\"dropout_0\"]))\n",
    "        model.add(\n",
    "            Dense(\n",
    "                tp[\"dense_units_1\"],\n",
    "                activation=\"relu\",\n",
    "                kernel_constraint=max_norm(3),\n",
    "                bias_constraint=max_norm(3),\n",
    "            )\n",
    "        )\n",
    "        # model.add(Dropout(tp[\"dropout_1\"]))\n",
    "        model.add(\n",
    "            Dense(\n",
    "                tp[\"dense_units_2\"],\n",
    "                activation=\"relu\",\n",
    "                kernel_constraint=max_norm(3),\n",
    "                bias_constraint=max_norm(3),\n",
    "            )\n",
    "        )\n",
    "        # model.add(Dropout(tp[\"dropout_2\"]))\n",
    "        model.add(\n",
    "            Dense(\n",
    "                tp[\"dense_units_3\"],\n",
    "                activation=\"relu\",\n",
    "                kernel_constraint=max_norm(3),\n",
    "                bias_constraint=max_norm(3),\n",
    "            )\n",
    "        )\n",
    "        model.add(Dense(1, activation=\"sigmoid\"))\n",
    "\n",
    "        model.compile(\n",
    "            loss=\"binary_crossentropy\",\n",
    "            optimizer=Adam(lr=tp[\"learning_rate\"]),\n",
    "            metrics=[\"accuracy\", metrics.AUC(name=\"auc\")],\n",
    "        )\n",
    "    elif run_type == \"HL\":\n",
    "        model = Sequential()\n",
    "        model.add(Flatten(input_shape=(input_shape,)))\n",
    "        # model.add(Dropout(tp[\"dropout_0\"]))\n",
    "        model.add(\n",
    "            Dense(\n",
    "                tp[\"dense_units_1\"],\n",
    "                activation=\"relu\",\n",
    "                kernel_constraint=max_norm(3),\n",
    "                bias_constraint=max_norm(3),\n",
    "            )\n",
    "        )\n",
    "        # model.add(Dropout(tp[\"dropout_1\"]))\n",
    "        model.add(\n",
    "            Dense(\n",
    "                tp[\"dense_units_2\"],\n",
    "                activation=\"relu\",\n",
    "                kernel_constraint=max_norm(3),\n",
    "                bias_constraint=max_norm(3),\n",
    "            )\n",
    "        )\n",
    "        # model.add(Dropout(tp[\"dropout_2\"]))\n",
    "        model.add(\n",
    "            Dense(\n",
    "                tp[\"dense_units_3\"],\n",
    "                activation=\"relu\",\n",
    "                kernel_constraint=max_norm(3),\n",
    "                bias_constraint=max_norm(3),\n",
    "            )\n",
    "        )\n",
    "        model.add(Dense(1, activation=\"sigmoid\"))\n",
    "\n",
    "        model.compile(\n",
    "            loss=\"binary_crossentropy\",\n",
    "            optimizer=Adam(lr=tp[\"learning_rate\"]),\n",
    "            metrics=[\"accuracy\", metrics.AUC(name=\"auc\")],\n",
    "        )\n",
    "\n",
    "    return model\n"
   ]
  },
  {
   "cell_type": "code",
   "execution_count": 10,
   "metadata": {},
   "outputs": [],
   "source": [
    "def get_model(tp):\n",
    "    inputs = tf.keras.Input(shape=(32,32))\n",
    "    x = inputs\n",
    "    x = tf.expand_dims(x,axis=-1)\n",
    "#     x = get_filter(1)(x)\n",
    "    x = tf.keras.layers.Conv2D(tp[\"filter_1\"], kernel_size=(3, 3), activation='relu', input_shape=(32,32,1))(x)\n",
    "    x = tf.keras.layers.MaxPooling2D(pool_size=(2, 2))(x)\n",
    "    x = tf.keras.layers.Conv2D(tp[\"filter_2\"], kernel_size=(3, 3), activation='relu', kernel_constraint=max_norm(3), bias_constraint=max_norm(3))(x)\n",
    "    x = tf.keras.layers.MaxPooling2D(pool_size=(2, 2))(x)\n",
    "    x = tf.keras.layers.Conv2D(tp[\"filter_3\"], kernel_size=(3, 3), activation='relu', kernel_constraint=max_norm(3), bias_constraint=max_norm(3))(x)\n",
    "    x = tf.keras.layers.MaxPooling2D(pool_size=(2, 2))(x)\n",
    "    x = tf.keras.layers.Flatten()(x)\n",
    "    \n",
    "    x = tf.keras.layers.Dropout(tp[\"dropout_0\"])(x)\n",
    "    x = tf.keras.layers.Dense(tp[\"dense_units_1\"], activation='relu', kernel_constraint=max_norm(3), bias_constraint=max_norm(3))(x)\n",
    "    x = tf.keras.layers.Dropout(tp[\"dropout_1\"])(x)\n",
    "    x = tf.keras.layers.Dense(tp[\"dense_units_2\"], activation='relu', kernel_constraint=max_norm(3), bias_constraint=max_norm(3))(x)\n",
    "    x = tf.keras.layers.Dropout(tp[\"dropout_2\"])(x)\n",
    "    x = tf.keras.layers.Dense(tp[\"dense_units_3\"], activation='relu', kernel_constraint=max_norm(3), bias_constraint=max_norm(3))(x) # 3rd \n",
    "    \n",
    "    x = tf.keras.layers.Dense(1, activation='sigmoid')(x)\n",
    "    modelCNN_basis = tf.keras.Model(inputs=inputs, outputs=x, name='CNN_basis')\n",
    "    modelCNN_basis.compile(optimizer=keras.optimizers.Adam(lr=tp[\"learning_rate\"]) ,\n",
    "                     loss=\"binary_crossentropy\",\n",
    "                     metrics=['accuracy', metrics.AUC(name=\"auc\")])\n",
    "    print(tp.values)\n",
    "    modelCNN_basis.summary()\n",
    "#     print(\"Droup out :\", dp1, \" \", dp2)\n",
    "#     print(\"lr :\", lr)\n",
    "                           \n",
    "    return modelCNN_basis"
   ]
  },
  {
   "cell_type": "code",
   "execution_count": 7,
   "metadata": {},
   "outputs": [],
   "source": [
    "def scale_data(x, mean=True):\n",
    "    mean = np.mean(x)\n",
    "    std = np.std(x)\n",
    "    if std == 0:\n",
    "        std = 1\n",
    "    return (x - mean) / std\n",
    "\n",
    "def process_data(X):\n",
    "    X = np.log(1.0 + X) / 4.0\n",
    "    X = scale_data(X)\n",
    "    return X"
   ]
  },
  {
   "cell_type": "code",
   "execution_count": 19,
   "metadata": {},
   "outputs": [
    {
     "name": "stdout",
     "output_type": "stream",
     "text": [
      "<built-in method values of dict object at 0x7fe2615e23a8>\n",
      "Model: \"CNN_basis\"\n",
      "_________________________________________________________________\n",
      "Layer (type)                 Output Shape              Param #   \n",
      "=================================================================\n",
      "input_3 (InputLayer)         [(None, 32, 32)]          0         \n",
      "_________________________________________________________________\n",
      "tf_op_layer_ExpandDims_2 (Te [(None, 32, 32, 1)]       0         \n",
      "_________________________________________________________________\n",
      "conv2d_4 (Conv2D)            (None, 30, 30, 361)       3610      \n",
      "_________________________________________________________________\n",
      "max_pooling2d_4 (MaxPooling2 (None, 15, 15, 361)       0         \n",
      "_________________________________________________________________\n",
      "conv2d_5 (Conv2D)            (None, 13, 13, 271)       880750    \n",
      "_________________________________________________________________\n",
      "max_pooling2d_5 (MaxPooling2 (None, 6, 6, 271)         0         \n",
      "_________________________________________________________________\n",
      "conv2d_6 (Conv2D)            (None, 4, 4, 248)         605120    \n",
      "_________________________________________________________________\n",
      "max_pooling2d_6 (MaxPooling2 (None, 2, 2, 248)         0         \n",
      "_________________________________________________________________\n",
      "flatten_1 (Flatten)          (None, 992)               0         \n",
      "_________________________________________________________________\n",
      "dropout_3 (Dropout)          (None, 992)               0         \n",
      "_________________________________________________________________\n",
      "dense_4 (Dense)              (None, 330)               327690    \n",
      "_________________________________________________________________\n",
      "dropout_4 (Dropout)          (None, 330)               0         \n",
      "_________________________________________________________________\n",
      "dense_5 (Dense)              (None, 208)               68848     \n",
      "_________________________________________________________________\n",
      "dropout_5 (Dropout)          (None, 208)               0         \n",
      "_________________________________________________________________\n",
      "dense_6 (Dense)              (None, 294)               61446     \n",
      "_________________________________________________________________\n",
      "dense_7 (Dense)              (None, 1)                 295       \n",
      "=================================================================\n",
      "Total params: 1,947,759\n",
      "Trainable params: 1,947,759\n",
      "Non-trainable params: 0\n",
      "_________________________________________________________________\n"
     ]
    }
   ],
   "source": [
    "model_CNN = get_model(tp)"
   ]
  },
  {
   "cell_type": "code",
   "execution_count": 12,
   "metadata": {},
   "outputs": [],
   "source": [
    "rinv = \"0p3\"\n",
    "file_path = \"LL-\"+rinv+\".h5\"\n",
    "hdf_file = path.parent.parent/\"Train\"/file_path\n",
    "hf = h5py.File(hdf_file, \"r\")"
   ]
  },
  {
   "cell_type": "code",
   "execution_count": 13,
   "metadata": {},
   "outputs": [],
   "source": [
    "X = hf[\"features\"][:]\n",
    "Y = hf[\"targets\"][:]"
   ]
  },
  {
   "cell_type": "code",
   "execution_count": 14,
   "metadata": {},
   "outputs": [],
   "source": [
    "X = process_data(X)\n"
   ]
  },
  {
   "cell_type": "code",
   "execution_count": 14,
   "metadata": {},
   "outputs": [],
   "source": [
    "# X = np.expand_dims(X, axis=-1)"
   ]
  },
  {
   "cell_type": "code",
   "execution_count": 15,
   "metadata": {},
   "outputs": [],
   "source": [
    "N = len(X)\n",
    "Ntrain, Nval, Ntest = int(N/5*4),  int(N/10),  int(N/10)\n",
    "Xim_train, Xim_val, Xim_test = X[:Ntrain], X[Ntrain:Nval+Ntrain], X[Nval+Ntrain:N]\n",
    "yim_train, yim_val, yim_test = Y[:Ntrain], Y[Ntrain:Nval+Ntrain], Y[Nval+Ntrain:N]"
   ]
  },
  {
   "cell_type": "code",
   "execution_count": null,
   "metadata": {},
   "outputs": [],
   "source": []
  },
  {
   "cell_type": "code",
   "execution_count": null,
   "metadata": {},
   "outputs": [],
   "source": []
  },
  {
   "cell_type": "code",
   "execution_count": 20,
   "metadata": {},
   "outputs": [],
   "source": [
    "model_type = \"CNN3_basis_preprocessing\"\n",
    "save_dir = './Keras_Tunner/'\n",
    "model_name = '%s_model_test' % model_type\n",
    "i = 3\n",
    "opt = [\"Adadelta\", \"SGD\", \"Adagrad\", \"Adam\"]\n",
    "optn = opt[i]\n",
    "csv_logger = keras.callbacks.CSVLogger('./CNN3_all_'+rinv+'_'+optn+'_filter_preprocessing.csv')\n",
    "N_size = len(Xim_val)\n",
    "callbacks = [keras.callbacks.EarlyStopping(patience=10, verbose=1),\n",
    "             keras.callbacks.ModelCheckpoint(filepath=\"./test\", verbose=1, save_best_only=True),\n",
    "            csv_logger]"
   ]
  },
  {
   "cell_type": "code",
   "execution_count": 21,
   "metadata": {},
   "outputs": [
    {
     "name": "stdout",
     "output_type": "stream",
     "text": [
      "WARNING:tensorflow:Callbacks method `on_train_batch_end` is slow compared to the batch time (batch time: 0.2138s vs `on_train_batch_end` time: 0.4193s). Check your callbacks.\n",
      "\n",
      "Epoch 00001: val_loss improved from inf to 0.50218, saving model to ./test\n",
      "WARNING:tensorflow:From /usr/local/lib/python3.6/dist-packages/tensorflow/python/training/tracking/tracking.py:111: Model.state_updates (from tensorflow.python.keras.engine.training) is deprecated and will be removed in a future version.\n",
      "Instructions for updating:\n",
      "This property should not be used in TensorFlow 2.0, as updates are applied automatically.\n",
      "WARNING:tensorflow:From /usr/local/lib/python3.6/dist-packages/tensorflow/python/training/tracking/tracking.py:111: Layer.updates (from tensorflow.python.keras.engine.base_layer) is deprecated and will be removed in a future version.\n",
      "Instructions for updating:\n",
      "This property should not be used in TensorFlow 2.0, as updates are applied automatically.\n",
      "INFO:tensorflow:Assets written to: ./test/assets\n",
      "\n",
      "Epoch 00002: val_loss improved from 0.50218 to 0.43884, saving model to ./test\n",
      "INFO:tensorflow:Assets written to: ./test/assets\n",
      "\n",
      "Epoch 00003: val_loss improved from 0.43884 to 0.39435, saving model to ./test\n",
      "INFO:tensorflow:Assets written to: ./test/assets\n",
      "\n",
      "Epoch 00004: val_loss improved from 0.39435 to 0.35425, saving model to ./test\n",
      "INFO:tensorflow:Assets written to: ./test/assets\n",
      "\n",
      "Epoch 00005: val_loss improved from 0.35425 to 0.32919, saving model to ./test\n",
      "INFO:tensorflow:Assets written to: ./test/assets\n",
      "\n",
      "Epoch 00006: val_loss improved from 0.32919 to 0.32909, saving model to ./test\n",
      "INFO:tensorflow:Assets written to: ./test/assets\n",
      "\n",
      "Epoch 00007: val_loss improved from 0.32909 to 0.30522, saving model to ./test\n",
      "INFO:tensorflow:Assets written to: ./test/assets\n",
      "\n",
      "Epoch 00008: val_loss improved from 0.30522 to 0.29325, saving model to ./test\n",
      "INFO:tensorflow:Assets written to: ./test/assets\n",
      "\n",
      "Epoch 00009: val_loss improved from 0.29325 to 0.27866, saving model to ./test\n",
      "INFO:tensorflow:Assets written to: ./test/assets\n",
      "\n",
      "Epoch 00010: val_loss improved from 0.27866 to 0.27348, saving model to ./test\n",
      "INFO:tensorflow:Assets written to: ./test/assets\n",
      "\n",
      "Epoch 00011: val_loss improved from 0.27348 to 0.26445, saving model to ./test\n",
      "INFO:tensorflow:Assets written to: ./test/assets\n",
      "\n",
      "Epoch 00012: val_loss improved from 0.26445 to 0.26234, saving model to ./test\n",
      "INFO:tensorflow:Assets written to: ./test/assets\n",
      "\n",
      "Epoch 00013: val_loss did not improve from 0.26234\n",
      "\n",
      "Epoch 00014: val_loss did not improve from 0.26234\n",
      "\n",
      "Epoch 00015: val_loss improved from 0.26234 to 0.26169, saving model to ./test\n",
      "INFO:tensorflow:Assets written to: ./test/assets\n",
      "\n",
      "Epoch 00016: val_loss did not improve from 0.26169\n",
      "\n",
      "Epoch 00017: val_loss did not improve from 0.26169\n",
      "\n",
      "Epoch 00018: val_loss improved from 0.26169 to 0.26103, saving model to ./test\n",
      "INFO:tensorflow:Assets written to: ./test/assets\n",
      "\n",
      "Epoch 00019: val_loss did not improve from 0.26103\n",
      "\n",
      "Epoch 00020: val_loss did not improve from 0.26103\n",
      "\n",
      "Epoch 00021: val_loss improved from 0.26103 to 0.26010, saving model to ./test\n",
      "INFO:tensorflow:Assets written to: ./test/assets\n",
      "\n",
      "Epoch 00022: val_loss did not improve from 0.26010\n",
      "\n",
      "Epoch 00023: val_loss did not improve from 0.26010\n",
      "\n",
      "Epoch 00024: val_loss did not improve from 0.26010\n",
      "\n",
      "Epoch 00025: val_loss did not improve from 0.26010\n",
      "\n",
      "Epoch 00026: val_loss did not improve from 0.26010\n",
      "\n",
      "Epoch 00027: val_loss did not improve from 0.26010\n",
      "\n",
      "Epoch 00028: val_loss did not improve from 0.26010\n",
      "\n",
      "Epoch 00029: val_loss did not improve from 0.26010\n",
      "\n",
      "Epoch 00030: val_loss did not improve from 0.26010\n",
      "\n",
      "Epoch 00031: val_loss did not improve from 0.26010\n",
      "Epoch 00031: early stopping\n"
     ]
    }
   ],
   "source": [
    "history = model_CNN.fit(\n",
    "    Xim_train,\n",
    "    yim_train,\n",
    "    epochs=200,\n",
    "    verbose=0,\n",
    "    steps_per_epoch=int(N_size * 0.80) // tp[\"batch_size\"],\n",
    "    validation_data=(Xim_val, yim_val),\n",
    "    callbacks=callbacks,\n",
    "    )"
   ]
  },
  {
   "cell_type": "code",
   "execution_count": 28,
   "metadata": {},
   "outputs": [
    {
     "name": "stdout",
     "output_type": "stream",
     "text": [
      "INFO:tensorflow:Assets written to: ./CNN3_all_0p3_Adam_filter_preprocessing/assets\n"
     ]
    }
   ],
   "source": [
    "model_CNN.save(\"./CNN3_all_\"+rinv+\"_\"+optn+\"_filter_preprocessing\")\n"
   ]
  },
  {
   "cell_type": "code",
   "execution_count": 31,
   "metadata": {},
   "outputs": [],
   "source": [
    "model_CNN = tf.keras.models.load_model(\"./CNN3_all_\"+rinv+\"_\"+optn+\"_filter_preprocessing\")"
   ]
  },
  {
   "cell_type": "code",
   "execution_count": 29,
   "metadata": {},
   "outputs": [],
   "source": [
    "model_CNN = tf.keras.models.load_model(\"./test\")"
   ]
  },
  {
   "cell_type": "code",
   "execution_count": 25,
   "metadata": {},
   "outputs": [],
   "source": [
    "from sklearn.metrics import roc_curve, auc\n"
   ]
  },
  {
   "cell_type": "code",
   "execution_count": null,
   "metadata": {},
   "outputs": [],
   "source": []
  },
  {
   "cell_type": "code",
   "execution_count": 32,
   "metadata": {},
   "outputs": [
    {
     "name": "stdout",
     "output_type": "stream",
     "text": [
      "The area under the curves are:\n",
      "AUC:0.029983192\n",
      "AUC:0.970016808\n"
     ]
    },
    {
     "data": {
      "image/png": "[encoded data removed]",
      "text/plain": [
       "<Figure size 576x576 with 1 Axes>"
      ]
     },
     "metadata": {
      "needs_background": "light"
     },
     "output_type": "display_data"
    }
   ],
   "source": [
    "y_score=model_CNN.predict(Xim_test)[:,0]\n",
    "y_score = np.hstack(y_score)\n",
    "# test=[i[1] for i in yim_test]\n",
    "fpr , tpr , thresholds = roc_curve ( yim_test , y_score)\n",
    "roc_auc = auc(tpr,fpr )\n",
    "print(\"The area under the curves are:\")\n",
    "print(\"AUC:{0:.9f}\".format(roc_auc))\n",
    "if roc_auc<0.5:\n",
    "    a = tpr\n",
    "    tpr = fpr\n",
    "    fpr = a\n",
    "    roc_auc = 1 - roc_auc\n",
    "    print(\"AUC:{0:.9f}\".format(roc_auc))\n",
    "    \n",
    "# FalsePositiveFull, TruePositiveFull, ThresholdFull = metrics.roc_curve(y_test,Predictions)\n",
    "plt.figure(figsize=(8,8))\n",
    "\n",
    "plt.plot(tpr,fpr, label='Fully supervised: AUC={0:.5f}'.format(roc_auc))\n",
    "plt.ylabel('False Positive Rate',fontsize=20)\n",
    "plt.xlabel('True Positive Rate',fontsize=20)\n",
    "plt.plot([0, 1], [0, 1], 'k--')\n",
    "# plt.legend()\n",
    "# plt.legend(bbox_to_anchor=(0.8, -0.17),ncol=2)\n",
    "\n",
    "plt.legend(prop={'size': 14})\n",
    "\n",
    "\n",
    "\n",
    "plt.savefig(\"./CNN3_all_\"+rinv+\"_\"+optn+\"_filter_roc_preprocessing.png\")\n",
    "\n",
    "# hf = h5py.File(\"./Keras_Tunner/PR_all_\"+rinv+\"_\"+optn+\"_filter_preprocessing.h5\", 'w')\n",
    "hf = h5py.File(\"./PR3_all_\"+rinv+\"_\"+optn+\"_filter_preprocessing.h5\", 'w')\n",
    "\n",
    "hf.create_dataset('fpr', data=fpr)\n",
    "hf.create_dataset('tpr', data=tpr)\n",
    "hf.close()\n",
    "\n",
    "\n",
    "plt.show()"
   ]
  },
  {
   "cell_type": "code",
   "execution_count": 27,
   "metadata": {},
   "outputs": [
    {
     "data": {
      "image/png": "[encoded data removed]",
      "text/plain": [
       "<Figure size 576x576 with 1 Axes>"
      ]
     },
     "metadata": {
      "needs_background": "light"
     },
     "output_type": "display_data"
    }
   ],
   "source": [
    "plt.figure(figsize=(8,8))\n",
    "# LOSS = pd.read_csv(save_dir+\"CNN_\"+rinv+\"_\"+optn+\"_filter.csv\")\n",
    "# LOSS = pd.read_csv(save_dir+\"CNN_all_\"+rinv+\"_\"+optn+\"_filter_preprocessing.csv\")\n",
    "LOSS = pd.read_csv(\"./CNN3_all_\"+rinv+\"_\"+optn+\"_filter_preprocessing.csv\")\n",
    "\n",
    "\n",
    "plt.title(\"Learning Curve\")\n",
    "plt.plot(LOSS[\"loss\"], label='loss',c='blue')\n",
    "plt.plot(LOSS[\"val_loss\"], label='val_loss',c='red')\n",
    "plt.plot(LOSS[\"accuracy\"], linestyle='--', label='accuracy',c='blue')\n",
    "plt.plot(LOSS[\"val_accuracy\"], linestyle='--', label='val_accuracy',c='red')\n",
    "\n",
    "plt.plot(LOSS[\"auc\"], linestyle=':', label='auc',c='blue')\n",
    "plt.plot(LOSS[\"val_auc\"], linestyle=':', label='val_auc',c='red')\n",
    "# plt.plot([0, 1], [1, 1], '--')\n",
    "\n",
    "# plt.ylim([0.3,1])\n",
    "plt.ylabel('loss',fontsize=20)\n",
    "plt.xlabel('epoch',fontsize=20)\n",
    "# plt.legend(bbox_to_anchor=(0.8, -0.17),ncol=2)\n",
    "plt.legend(bbox_to_anchor=(0.8, -0.17),ncol=2)\n",
    "plt.tight_layout()\n",
    "# plt.savefig(\"./Keras_Tunner/CNN_\"+rinv+\"_\"+optn+\"_filter_loss.png\")\n",
    "# plt.savefig(\"./Keras_Tunner/CNN_all_\"+rinv+\"_\"+optn+\"_filter_loss_preprocessing.png\")\n",
    "plt.savefig(\"./CNN3_all_\"+rinv+\"_\"+optn+\"_filter_loss_preprocessing.png\")\n",
    "\n",
    "\n",
    "\n",
    "plt.show()"
   ]
  },
  {
   "cell_type": "code",
   "execution_count": null,
   "metadata": {},
   "outputs": [],
   "source": []
  },
  {
   "cell_type": "code",
   "execution_count": null,
   "metadata": {},
   "outputs": [],
   "source": []
  },
  {
   "cell_type": "code",
   "execution_count": null,
   "metadata": {},
   "outputs": [],
   "source": []
  },
  {
   "cell_type": "code",
   "execution_count": null,
   "metadata": {},
   "outputs": [],
   "source": []
  },
  {
   "cell_type": "code",
   "execution_count": null,
   "metadata": {},
   "outputs": [],
   "source": []
  },
  {
   "cell_type": "code",
   "execution_count": null,
   "metadata": {},
   "outputs": [],
   "source": []
  },
  {
   "cell_type": "code",
   "execution_count": null,
   "metadata": {},
   "outputs": [],
   "source": []
  },
  {
   "cell_type": "code",
   "execution_count": null,
   "metadata": {},
   "outputs": [],
   "source": [
    "def test_val_set(rinv, split):\n",
    "    f = h5py.File(path.parent / \"data\" / \"jet_images\" / f\"LL-{rinv}.h5\", \"r\")\n",
    "    N = f[\"targets\"].shape[0]\n",
    "    if split == \"val\":\n",
    "        a = int(N * 0.8)\n",
    "        b = int(N * 0.9)\n",
    "    if split == \"test\":\n",
    "        a = int(N * 0.9)\n",
    "        b = -1\n",
    "    X = f[\"features\"][a:b]\n",
    "    y = f[\"targets\"][a:b]\n",
    "    X = process_data(X)\n",
    "    return N, X, y\n",
    "\n",
    "\n",
    "def generator(rinv, batch_size, fullSet=False):\n",
    "    while True:\n",
    "        f = h5py.File(path.parent / \"data\" / \"jet_images\" / f\"LL-{rinv}.h5\", \"r\")\n",
    "        N = f[\"targets\"].shape[0]\n",
    "        start = 0\n",
    "        if not fullSet:\n",
    "            N = int(N * 0.80)\n",
    "        end = batch_size\n",
    "        while start < N:\n",
    "            X = f[\"features\"][start:end]\n",
    "            X = process_data(X)\n",
    "            y = f[\"targets\"][start:end]\n",
    "            yield X, y\n",
    "            start += batch_size\n",
    "            end += batch_size\n",
    "\n",
    "\n",
    "def train_cnn(rinv, retrain=False):\n",
    "    # To retrain, remove the old model\n",
    "    model_file = path / \"models\" / f\"{rinv}.h5\"\n",
    "    if retrain and model_file.exists():\n",
    "        os.remove(model_file)\n",
    "\n",
    "    # Trainig parameters from the sherpa optimization\n",
    "    tp_file = open(f\"sherpa_results/{rinv}.json\", \"r\")\n",
    "    tp = json.load(tp_file)\n",
    "    tp.close()\n",
    "    model = get_model(tp)\n",
    "\n",
    "    training_data = generator(rinv=rinv, batch_size=tp[\"batch_size\"])\n",
    "    _, X_test, y_test = test_val_set(rinv=rinv, split=\"test\")\n",
    "    N_size, X_val, y_val = test_val_set(rinv=rinv, split=\"val\")\n",
    "\n",
    "    callbacks = [\n",
    "        keras.callbacks.EarlyStopping(patience=10, verbose=1),\n",
    "        keras.callbacks.ModelCheckpoint(\n",
    "            filepath=model_file, verbose=1, save_best_only=True\n",
    "        ),\n",
    "    ]\n",
    "\n",
    "    history = model.fit(\n",
    "        training_data,\n",
    "        epochs=200,\n",
    "        verbose=2,\n",
    "        steps_per_epoch=int(N_size * 0.80) // tp[\"batch_size\"],\n",
    "        validation_data=(X_val, y_val),\n",
    "        callbacks=callbacks,\n",
    "    )\n",
    "\n",
    "    return model, X_test, y_test\n",
    "\n",
    "\n",
    "if __name__ == \"__main__\":\n",
    "    rinvs = [\"0p0\", \"0p3\", \"1p0\"]\n",
    "    for rinv in rinvs:\n",
    "        # Train a new model (or load the existing one if available)\n",
    "        model, X_test, y_test = train_cnn(rinv, retrain=True)\n",
    "\n",
    "        # Plot the ROC curve\n",
    "        auc_val = plot_roc(X_test, y_test, rinv)\n",
    "        print(rinv, auc_val)\n",
    "\n",
    "        # Generate predictions for the full dataset\n",
    "        X = generator(rinv=rinv, batch_size=batch_size, fullSet=True)\n",
    "        full_predictions = model.predict(X)  # np.concatenate(model.predict(X))\n",
    "        print(full_predictions)\n",
    "\n",
    "        # Save the predictions\n",
    "        np.save(path / \"predictions\" / \"ll_predictions.npy\", full_predictions)"
   ]
  }
 ],
 "metadata": {
  "kernelspec": {
   "display_name": "Python 3",
   "language": "python",
   "name": "python3"
  },
  "language_info": {
   "codemirror_mode": {
    "name": "ipython",
    "version": 3
   },
   "file_extension": ".py",
   "mimetype": "text/x-python",
   "name": "python",
   "nbconvert_exporter": "python",
   "pygments_lexer": "ipython3",
   "version": "3.6.9"
  }
 },
 "nbformat": 4,
 "nbformat_minor": 4
}
