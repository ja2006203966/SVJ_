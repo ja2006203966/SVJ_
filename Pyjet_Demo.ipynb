{
 "cells": [
  {
   "cell_type": "markdown",
   "metadata": {},
   "source": [
    "# Import package"
   ]
  },
  {
   "cell_type": "code",
   "execution_count": 1,
   "metadata": {},
   "outputs": [],
   "source": [
    "import numpy as np\n",
    "import pyjet\n",
    "from pyjet import cluster\n",
    "from tqdm import tqdm, trange\n",
    "import matplotlib.pyplot as plt\n",
    "import uproot\n"
   ]
  },
  {
   "cell_type": "markdown",
   "metadata": {},
   "source": [
    "# Define function"
   ]
  },
  {
   "cell_type": "code",
   "execution_count": 2,
   "metadata": {},
   "outputs": [],
   "source": [
    "def flatten(event): # for single event in order to reshape data\n",
    "    fp = np.concatenate((np.expand_dims(event[0], axis=-1),\n",
    "                         np.expand_dims(event[1], axis=-1),\n",
    "                         np.expand_dims(event[2], axis=-1),\n",
    "                         np.expand_dims(event[3], axis=-1)), axis=-1)\n",
    "    fp = fp.transpose((1,0))\n",
    "    fp = np.core.records.fromarrays( [fp[:][0],fp[:][1],fp[:][2],fp[:][3]], names= 'pT, eta, phi, mass' , formats = 'f8, f8, f8,f8')\n",
    "\n",
    "    return fp\n",
    "\n",
    "def jet_clustering(event, R0, p = -1):\n",
    "    # R0 = Clustering radius for the main jets\n",
    "    flattened_event = flatten(event)\n",
    "    ## p = -1, 0, 1 => anti-kt, C/A, kt Algorithm\n",
    "    sequence = cluster(flattened_event, R=R0, p= p)\n",
    "    # List of jets\n",
    "    jets = sequence.inclusive_jets()\n",
    "    return jets\n",
    "\n"
   ]
  },
  {
   "cell_type": "markdown",
   "metadata": {},
   "source": [
    "# Load data"
   ]
  },
  {
   "cell_type": "code",
   "execution_count": 3,
   "metadata": {},
   "outputs": [],
   "source": [
    "# type your root file here\n",
    "root_file = '/Storage/james/ROOT/SVJ/rinv0/test0.root'\n",
    "#use uproot \n",
    "file = uproot.open(root_file)\n",
    "# use calorimeter information to reconstruct jet\n",
    "events = np.array([np.array(file[\"Delphes;1\"][\"Tower.ET\"].array()),\n",
    "                   np.array(file[\"Delphes;1\"][\"Tower.Eta\"].array()),\n",
    "                   np.array(file[\"Delphes;1\"][\"Tower.Phi\"].array()),\n",
    "                   np.array(file[\"Delphes;1\"][\"Tower.E\"].array())*0  #assume m<<1\n",
    "                  ])\n",
    "\n",
    "# just reshape data\n",
    "events = np.expand_dims(events, axis=-1)\n",
    "events = events.transpose((1,0,2))\n",
    "events = np.squeeze(events,axis=(2,))\n"
   ]
  },
  {
   "cell_type": "markdown",
   "metadata": {},
   "source": [
    "# Loop over all event to get jets in each event"
   ]
  },
  {
   "cell_type": "code",
   "execution_count": 4,
   "metadata": {},
   "outputs": [
    {
     "name": "stderr",
     "output_type": "stream",
     "text": [
      "100%|██████████| 30000/30000 [00:12<00:00, 2393.18it/s]\n"
     ]
    }
   ],
   "source": [
    "jets = []\n",
    "for event in tqdm(events):\n",
    "    jet = jet_clustering(event, 0.4, p = -1) # anti-kt jet with R = 0.4\n",
    "    jets.append(jet)"
   ]
  },
  {
   "cell_type": "markdown",
   "metadata": {},
   "source": [
    "# Show jet"
   ]
  },
  {
   "cell_type": "code",
   "execution_count": 5,
   "metadata": {},
   "outputs": [
    {
     "data": {
      "text/plain": [
       "PseudoJet(pt=595.870, eta=-0.192, phi=1.642, mass=74.282)"
      ]
     },
     "execution_count": 5,
     "metadata": {},
     "output_type": "execute_result"
    }
   ],
   "source": [
    "nth_event = 0\n",
    "ith_jet_in_event = 0\n",
    "\n",
    "jet = jets[nth_event][ith_jet_in_event]\n",
    "jet"
   ]
  },
  {
   "cell_type": "markdown",
   "metadata": {},
   "source": [
    "## See the function in jet "
   ]
  },
  {
   "cell_type": "code",
   "execution_count": 6,
   "metadata": {},
   "outputs": [
    {
     "data": {
      "text/plain": [
       "['__class__',\n",
       " '__contains__',\n",
       " '__delattr__',\n",
       " '__dir__',\n",
       " '__doc__',\n",
       " '__eq__',\n",
       " '__format__',\n",
       " '__ge__',\n",
       " '__getattr__',\n",
       " '__getattribute__',\n",
       " '__gt__',\n",
       " '__hash__',\n",
       " '__init__',\n",
       " '__init_subclass__',\n",
       " '__iter__',\n",
       " '__le__',\n",
       " '__len__',\n",
       " '__lt__',\n",
       " '__ne__',\n",
       " '__new__',\n",
       " '__pyx_vtable__',\n",
       " '__reduce__',\n",
       " '__reduce_ex__',\n",
       " '__repr__',\n",
       " '__setattr__',\n",
       " '__setstate__',\n",
       " '__sizeof__',\n",
       " '__str__',\n",
       " '__subclasshook__',\n",
       " 'area',\n",
       " 'child',\n",
       " 'constituents',\n",
       " 'constituents_array',\n",
       " 'e',\n",
       " 'et',\n",
       " 'eta',\n",
       " 'mass',\n",
       " 'parents',\n",
       " 'phi',\n",
       " 'pt',\n",
       " 'px',\n",
       " 'py',\n",
       " 'pz',\n",
       " 'userinfo']"
      ]
     },
     "execution_count": 6,
     "metadata": {},
     "output_type": "execute_result"
    }
   ],
   "source": [
    "dir(jet)"
   ]
  },
  {
   "cell_type": "code",
   "execution_count": 14,
   "metadata": {},
   "outputs": [
    {
     "name": "stdout",
     "output_type": "stream",
     "text": [
      " Index           pT                 eta                 phi         \n",
      "   0          595.8702            -0.1924              1.6425       \n"
     ]
    }
   ],
   "source": [
    "print(\"{:^8}{:^20}{:^20}{:^20}\".format(\"Index\", \"pT\", \"eta\", \"phi\"))\n",
    "print(\"{:^8}{:^20}{:^20}{:^20}\".format(0, round(jet.pt, 4), round(jet.eta,4), round(jet.phi, 4) ))\n"
   ]
  },
  {
   "cell_type": "code",
   "execution_count": null,
   "metadata": {},
   "outputs": [],
   "source": []
  },
  {
   "cell_type": "code",
   "execution_count": null,
   "metadata": {},
   "outputs": [],
   "source": []
  },
  {
   "cell_type": "code",
   "execution_count": null,
   "metadata": {},
   "outputs": [],
   "source": []
  }
 ],
 "metadata": {
  "kernelspec": {
   "display_name": "Python 3",
   "language": "python",
   "name": "python3"
  },
  "language_info": {
   "codemirror_mode": {
    "name": "ipython",
    "version": 3
   },
   "file_extension": ".py",
   "mimetype": "text/x-python",
   "name": "python",
   "nbconvert_exporter": "python",
   "pygments_lexer": "ipython3",
   "version": "3.6.8"
  }
 },
 "nbformat": 4,
 "nbformat_minor": 4
}
