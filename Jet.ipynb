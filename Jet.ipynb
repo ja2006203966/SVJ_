{
 "cells": [
  {
   "cell_type": "code",
   "execution_count": 1,
   "metadata": {},
   "outputs": [],
   "source": [
    "import h5py\n",
    "import numpy as np"
   ]
  },
  {
   "cell_type": "code",
   "execution_count": 11,
   "metadata": {},
   "outputs": [
    {
     "data": {
      "text/plain": [
       "['features', 'targets']"
      ]
     },
     "execution_count": 11,
     "metadata": {},
     "output_type": "execute_result"
    }
   ],
   "source": [
    "f = h5py.File(\"./test_no_pile_5000000.h5\",'r')\n",
    "[i for i in f]\n",
    "# treeArray = f['features'][()]\n",
    "# len(treeArray[:,0])\n",
    "\n"
   ]
  },
  {
   "cell_type": "code",
   "execution_count": 45,
   "metadata": {},
   "outputs": [],
   "source": [
    "def isinteger(x):\n",
    "    return np.equal(np.mod(x, 1), 0)\n",
    "\n",
    "def within(v, lm):\n",
    "    return (lm[0]<=v)&(v<lm[1])\n",
    "    \n",
    "def matrix_rep(a, bins=32, R = 0.4, limit = False):\n",
    "    if (not limit):\n",
    "        limit = np.array((-R,R))\n",
    "    else:\n",
    "        limit = np.array(limit)\n",
    "        \n",
    "    if (not isinteger(np.log2(bins))):\n",
    "        print(\"You should use 2^n bins for integer n \")\n",
    "    \n",
    "    dl = (limit[1]-limit[0])/bins\n",
    "    \n",
    "    matrix = [] \n",
    "    for k in a:\n",
    "        b = bins\n",
    "        vlb  = limit[0]\n",
    "        vub = limit[1]\n",
    "        if not within(k, limit):\n",
    "            matrix.append(-1)\n",
    "        else:\n",
    "            while(b!=1):\n",
    "                b = b//2\n",
    "                r1 = (vlb, (vlb+vub)/2)\n",
    "                r2 = ((vlb+vub)/2, vub)\n",
    "                if within(k,r1):\n",
    "                    vub = (vlb+vub)/2\n",
    "                if within(k,r2):\n",
    "                    vlb = (vlb+vub)/2\n",
    "                if b==1:\n",
    "                    matrix.append((vlb-limit[0])/dl)\n",
    "                    break\n",
    "    return matrix\n",
    "            \n",
    "            \n",
    "            \n",
    "    \n",
    "    \n",
    "    \n",
    "    \n",
    "    \n",
    "        \n",
    "    "
   ]
  },
  {
   "cell_type": "code",
   "execution_count": 25,
   "metadata": {},
   "outputs": [],
   "source": [
    "# prepare array to  store data\n",
    "targets = f['targets'][()]\n",
    "features = f['features'][()]\n",
    "j0 = np.array([features[i] for i in range(len(features)) if targets[i]==0])\n",
    "j1 = np.array([features[i] for i in range(len(features)) if targets[i]==1])"
   ]
  },
  {
   "cell_type": "code",
   "execution_count": 26,
   "metadata": {},
   "outputs": [
    {
     "data": {
      "text/plain": [
       "array([17.1676, 52.9099, 22.9799, ..., 43.7291, 34.513 , 18.5032],\n",
       "      dtype=float32)"
      ]
     },
     "execution_count": 26,
     "metadata": {},
     "output_type": "execute_result"
    }
   ],
   "source": [
    "j0[:,0]"
   ]
  },
  {
   "cell_type": "code",
   "execution_count": 21,
   "metadata": {},
   "outputs": [],
   "source": [
    "import matplotlib.pyplot as plt"
   ]
  },
  {
   "cell_type": "code",
   "execution_count": 119,
   "metadata": {},
   "outputs": [
    {
     "data": {
      "text/plain": [
       "<Figure size 576x576 with 0 Axes>"
      ]
     },
     "metadata": {},
     "output_type": "display_data"
    },
    {
     "data": {
      "image/png": "[encoded data removed]",
      "text/plain": [
       "<Figure size 576x576 with 1 Axes>"
      ]
     },
     "metadata": {
      "needs_background": "light"
     },
     "output_type": "display_data"
    }
   ],
   "source": [
    "## Plot high level features\n",
    "label = ['Trimmed Mass', '${{C_2}^{\\u03B2=1}}$', '${{C_2}^{\\u03B2=2}}$', '${{D_2}^{\\u03B2=1}}$', '${{D_2}^{\\u03B2=2}}$', '${{\\u03C4_{21}}^{\\u03B2=1}}$']\n",
    "inv = [200, 0.5, 0.2, 5, 5, 1]\n",
    "plt.figure(figsize=(8,8))\n",
    "n = 0\n",
    "W = j0[:,n]*0+1/len(j0[:,n])\n",
    "bins = 100\n",
    "fs=18\n",
    "tagsize = 18\n",
    "plt.figure(figsize=(8,8))\n",
    "bins2 = 60\n",
    "x1, x2 = 0, inv[n]\n",
    "# plt.subplot(1,4,1)\n",
    "plt.hist(j0[:,n],bins=bins, histtype='step', weights = W, range=[x1, x2], label='W')\n",
    "plt.hist(j1[:,n],bins=bins, histtype='step', weights = W, range=[x1, x2], label='QCD')\n",
    "\n",
    "plt.legend(prop={'size': tagsize})\n",
    "# plt.legend()\n",
    "# plt.yscale('log') \n",
    "plt.xlabel(label[n], fontsize=fs)  \n",
    "plt.ylabel(\"1/N*dN/dx\", fontsize=fs)  \n",
    "plt.xticks(fontsize=fs)   \n",
    "plt.yticks(fontsize=fs)\n",
    "plt.savefig(\"./jet_highlevel_features_density_\"+str(n)+\".png\")"
   ]
  },
  {
   "cell_type": "code",
   "execution_count": 123,
   "metadata": {},
   "outputs": [
    {
     "data": {
      "text/plain": [
       "['features', 'targets']"
      ]
     },
     "execution_count": 123,
     "metadata": {},
     "output_type": "execute_result"
    }
   ],
   "source": [
    "f2 = h5py.File(\"./test2_no_pile_5000000.h5\",'r')\n",
    "[i for i in f2]"
   ]
  },
  {
   "cell_type": "code",
   "execution_count": 124,
   "metadata": {},
   "outputs": [],
   "source": [
    "targets2 = f2['targets'][()]\n",
    "features2 = f2['features'][()]\n",
    "j20 = np.array([features2[i] for i in range(len(features2)) if targets2[i]==0])\n",
    "j21 = np.array([features2[i] for i in range(len(features2)) if targets2[i]==1])"
   ]
  },
  {
   "cell_type": "code",
   "execution_count": 144,
   "metadata": {},
   "outputs": [],
   "source": [
    "X = np.sum(j20, axis=0)\n",
    "Y = np.sum(j21, axis=0)"
   ]
  },
  {
   "cell_type": "code",
   "execution_count": 156,
   "metadata": {},
   "outputs": [
    {
     "name": "stderr",
     "output_type": "stream",
     "text": [
      "/usr/local/lib/python3.6/dist-packages/ipykernel_launcher.py:1: RuntimeWarning: divide by zero encountered in log\n",
      "  \"\"\"Entry point for launching an IPython kernel.\n",
      "/usr/local/lib/python3.6/dist-packages/ipykernel_launcher.py:3: RuntimeWarning: divide by zero encountered in log\n",
      "  This is separate from the ipykernel package so we can avoid doing imports until\n"
     ]
    },
    {
     "data": {
      "image/png": "[encoded data removed]",
      "text/plain": [
       "<Figure size 432x288 with 1 Axes>"
      ]
     },
     "metadata": {
      "needs_background": "light"
     },
     "output_type": "display_data"
    }
   ],
   "source": [
    "plt.imshow(np.log(X[0]), cmap='Blues', label = 'W')\n",
    "plt.savefig(\"./jet_image_W.png\")\n",
    "plt.imshow(np.log(Y[0]), cmap='Blues', label = 'QCD')\n",
    "plt.savefig(\"./jet_image_QCD.png\")"
   ]
  },
  {
   "cell_type": "code",
   "execution_count": null,
   "metadata": {},
   "outputs": [],
   "source": []
  }
 ],
 "metadata": {
  "kernelspec": {
   "display_name": "Python 3",
   "language": "python",
   "name": "python3"
  },
  "language_info": {
   "codemirror_mode": {
    "name": "ipython",
    "version": 3
   },
   "file_extension": ".py",
   "mimetype": "text/x-python",
   "name": "python",
   "nbconvert_exporter": "python",
   "pygments_lexer": "ipython3",
   "version": "3.6.9"
  }
 },
 "nbformat": 4,
 "nbformat_minor": 4
}
