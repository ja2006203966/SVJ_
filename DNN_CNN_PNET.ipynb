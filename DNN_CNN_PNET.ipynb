{
 "cells": [
  {
   "cell_type": "markdown",
   "metadata": {},
   "source": [
    "# Import function"
   ]
  },
  {
   "cell_type": "code",
   "execution_count": 1,
   "metadata": {},
   "outputs": [],
   "source": [
    "import numpy as np\n",
    "# import awkward\n",
    "import logging\n",
    "logging.basicConfig(level=logging.INFO, format='[%(asctime)s] %(levelname)s: %(message)s')\n",
    "import numpy as np\n",
    "import scipy.optimize as opt\n",
    "import sys, os, random, gzip\n",
    "import tensorflow as tf\n",
    "from keras import backend as K\n",
    "from keras.models import *\n",
    "from keras.layers import *\n",
    "from keras.optimizers import Adam\n",
    "from keras.losses import categorical_crossentropy\n",
    "import keras\n",
    "import pandas as pd"
   ]
  },
  {
   "cell_type": "code",
   "execution_count": 2,
   "metadata": {},
   "outputs": [],
   "source": [
    "import pandas as pd\n",
    "import numpy as np\n",
    "import matplotlib.pyplot as plt\n",
    "import h5py\n",
    "from keras.models import Sequential\n",
    "from keras.layers import Dense, Conv2D, Flatten, MaxPooling2D\n",
    "from sklearn.model_selection import train_test_split\n",
    "import sys\n",
    "from sklearn import metrics\n",
    "from keras.models import load_model\n",
    "from sklearn.metrics import roc_auc_score, roc_curve\n",
    "from sklearn.metrics import auc as skAUC\n",
    "from keras.callbacks import EarlyStopping, ModelCheckpoint, CSVLogger, TensorBoard\n",
    "import tensorflow as tf\n",
    "from keras import backend as K\n",
    "import time\n",
    "import glob\n",
    "from tqdm import tqdm"
   ]
  },
  {
   "cell_type": "code",
   "execution_count": 3,
   "metadata": {},
   "outputs": [],
   "source": [
    "def auc(y_true, y_pred):\n",
    "    auc = tf.metrics.auc(y_true, y_pred)[1]\n",
    "    K.get_session().run(tf.local_variables_initializer())\n",
    "    return auc\n",
    "\n",
    "def roc_plot(N, validation_split, model_name):\n",
    "    dependencies = {'auc': auc}\n",
    "    model = load_model(f'models/{model_name}.h5', custom_objects=dependencies)\n",
    "    X_train, X_test, y_train, y_true = prep_data(N, validation_split)\n",
    "    y_score=model.predict(X_test).T[0]  \n",
    "    fpr, tpr, thresholds = metrics.roc_curve(y_true, y_score)\n",
    "    bkg_eff = fpr\n",
    "    sig_eff = tpr\n",
    "    auc_val = roc_auc_score(y_true, y_score)\n",
    "    bkg_rej = 1. - bkg_eff\n",
    "    inv_bkg = np.divide(1.0, bkg_eff)\n",
    "    print(model_name, auc_val)\n",
    "    plt.plot(sig_eff, inv_bkg , linestyle='-', label=f'{model_name} - [AUC={auc_val:0.3}]', linewidth=2)\n",
    "    plt.xlabel('Signal Efficiency')\n",
    "    plt.yscale('log')\n",
    "    plt.ylabel('Inverse Background Efficiency')\n",
    "    plt.xlim([0,1])\n",
    "    plt.legend()\n",
    "    plt.savefig(f'figures/roc.png')\n",
    "    \n",
    "def prep_data(N, validation_split):\n",
    "    f = h5py.File('data/jet_complete.h5', 'r')\n",
    "    X = f['features'][:N]\n",
    "    y = f['targets'][:N]\n",
    "    X = np.log(1.0+X) / 4.0 \n",
    "    X_train, X_test, y_train, y_test = train_test_split(X, y, test_size=validation_split)\n",
    "    #reshape data to fit model\n",
    "    X_train, X_test = X_train.reshape(len(X_train),32,32,1), X_test.reshape(len(X_test),32,32,1)\n",
    "    return X_train, X_test, y_train, y_test\n",
    "\n",
    "def train_nn(N, batch_size, epochs, validation_split):\n",
    "    model_name = f'svj_N_{N}_b_{batch_size}_e_{epochs}_v_{validation_split}'\n",
    "    X_train, X_test, y_train, y_test = prep_data(N, validation_split)\n",
    "    #create model\n",
    "    model = Sequential()\n",
    "    #add model layers\n",
    "    model.add(Conv2D(256, kernel_size=(4,4), border_mode='valid', init='glorot_normal', activation='relu', input_shape=(32,32,1)))\n",
    "    model.add(MaxPooling2D())\n",
    "    model.add(Conv2D(256, kernel_size=(4,4), border_mode='valid', init='glorot_normal', activation='relu'))\n",
    "    model.add(Flatten())\n",
    "    model.add(Dense(1, activation='sigmoid'))\n",
    "\n",
    "    #compile model using accuracy to measure model performance\n",
    "    model.compile(optimizer='adam', loss='binary_crossentropy', metrics=[auc, 'acc'])\n",
    "\n",
    "    mc = ModelCheckpoint(f'models/{model_name}.h5', monitor='val_loss', verbose=0, save_best_only=True, save_weights_only=False, mode='auto', period=1)\n",
    "    cl = CSVLogger(f'history/{model_name}.log', separator=',', append=False)\n",
    "    tb = TensorBoard(log_dir='./logs/'+ str(model_name), histogram_freq=0, batch_size=32, write_graph=True, write_grads=False, write_images=False, embeddings_freq=0, embeddings_layer_names=None, embeddings_metadata=None, embeddings_data=None, update_freq='epoch')\n",
    "    #es = EarlyStopping(monitor='val_loss', min_delta=0, patience=25, verbose=0, mode='auto', baseline=None, restore_best_weights=False)\n",
    "\n",
    "\n",
    "    #train the model\n",
    "    model.fit(X_train, y_train, \n",
    "                batch_size=batch_size, \n",
    "                epochs=epochs, \n",
    "                verbose=2, \n",
    "                #validation_split=validation_split,\n",
    "                validation_data=(X_test, y_test),\n",
    "                callbacks=[cl, tb]\n",
    "                )\n",
    "    model.save(f'models/{model_name}.h5') \n",
    "\n",
    "\n",
    "if __name__ == \"__main__\":    \n",
    "    #train_nn(N=500000, batch_size=256, epochs=500, validation_split=0.2)\n",
    "    files = glob.glob('models/svj_*')\n",
    "    for file in files:\n",
    "        model_name = file.split('/')[-1].split('.h5')[0]\n",
    "        details = model_name.split('_')    \n",
    "        roc_plot(int(details[2]), float(details[-1]), model_name)"
   ]
  },
  {
   "cell_type": "markdown",
   "metadata": {},
   "source": [
    "# Load data CNN"
   ]
  },
  {
   "cell_type": "code",
   "execution_count": 60,
   "metadata": {},
   "outputs": [],
   "source": [
    "# f = h5py.File(\"/home/ja2006203966/script/Network/data/Mydata/H5/SVJ/0jetim.h5\",'r')\n",
    "# f = f['jetim'][()]\n",
    "# f2 = h5py.File(\"/home/ja2006203966/script/Network/data/Mydata/H5/QCD/0jetim.h5\",'r')\n",
    "# f2 = f2['jetim'][()]\n",
    "f = h5py.File(\"/home/ja2006203966/script/Network/data/Mydata/H5/SVJ/0JSS_Jim.h5\",'r')\n",
    "f = f['Jet_im_my'][()]\n",
    "f2 = h5py.File(\"/home/ja2006203966/script/Network/data/Mydata/H5/QCD/0JSS_Jim.h5\",'r')\n",
    "f2 = f2['Jet_im_my'][()]"
   ]
  },
  {
   "cell_type": "code",
   "execution_count": 4,
   "metadata": {},
   "outputs": [
    {
     "name": "stderr",
     "output_type": "stream",
     "text": [
      "100%|██████████| 40/40 [03:12<00:00,  4.80s/it]\n"
     ]
    }
   ],
   "source": [
    "N=40\n",
    "Jim = np.array([np.zeros((64,64))])\n",
    "Jim2 = np.array([np.zeros((64,64))])\n",
    "\n",
    "for i in tqdm(range(N)):\n",
    "    f = h5py.File(\"/home/ja2006203966/script/Network/data/H5/SVJ/rinv03/\"+str(i)+\"JSS_Jim.h5\",'r')\n",
    "#     f = f['jetim'][()]\n",
    "    fin = np.array(f['jetim_index'][()])\n",
    "    fsin = set(f['jss_index'][()])\n",
    "    fc = [(i in fsin) for i in fin]\n",
    "    fim = f['jetim'][()]\n",
    "    # fim = [i for i in fim]\n",
    "    fim = [fim[i] for i in range(len(fc)) if fc[i]]\n",
    "    \n",
    "    \n",
    "    \n",
    "    f2 = h5py.File(\"/home/ja2006203966/script/Network/data/H5/QCD/\"+str(i)+\"JSS_Jim.h5\",'r')\n",
    "#     f2 = f2['jetim'][()]\n",
    "    fin2 = np.array(f2['jetim_index'][()])\n",
    "    fsin2 = set(f2['jss_index'][()])\n",
    "    fc2 = [(i in fsin2) for i in fin2]\n",
    "    fim2 = f2['jetim'][()]\n",
    "    fim2 =  [fim2[i] for i in range(len(fc2)) if fc2[i]]\n",
    "    \n",
    "    Jim = np.append(Jim,fim, axis=0)\n",
    "    Jim2 = np.append(Jim2,fim2, axis=0)\n",
    "\n"
   ]
  },
  {
   "cell_type": "code",
   "execution_count": 5,
   "metadata": {},
   "outputs": [
    {
     "name": "stdout",
     "output_type": "stream",
     "text": [
      "199742 354359\n"
     ]
    }
   ],
   "source": [
    "print(len(Jim), len(Jim2))"
   ]
  },
  {
   "cell_type": "code",
   "execution_count": 7,
   "metadata": {},
   "outputs": [],
   "source": [
    "f = np.array([Jim[i] for i in range(199001) if np.sum(Jim[i])!=0])\n",
    "f2 = np.array([Jim2[i] for i in range(199001) if np.sum(Jim2[i])!=0])"
   ]
  },
  {
   "cell_type": "code",
   "execution_count": 8,
   "metadata": {},
   "outputs": [
    {
     "name": "stdout",
     "output_type": "stream",
     "text": [
      "(199000, 64, 64) (199000, 64, 64)\n"
     ]
    }
   ],
   "source": [
    "print(f.shape,f2.shape)"
   ]
  },
  {
   "cell_type": "code",
   "execution_count": 9,
   "metadata": {},
   "outputs": [],
   "source": [
    "ft = np.append(f,f2, axis=0)\n",
    "# ft = np.append(Jim,Jim2, axis=0)"
   ]
  },
  {
   "cell_type": "code",
   "execution_count": 10,
   "metadata": {},
   "outputs": [],
   "source": [
    "yt = np.array([1 for i in range(len(f))]+[0 for i in range(len(f2))])"
   ]
  },
  {
   "cell_type": "code",
   "execution_count": 11,
   "metadata": {},
   "outputs": [],
   "source": [
    "from sklearn.model_selection import train_test_split\n",
    "Xim_train, Xim_val, yim_train, yim_val = train_test_split(ft, yt, test_size=0.4)\n",
    "Xim_val, Xim_test, yim_val, yim_test = train_test_split(Xim_val, yim_val, test_size=0.25)"
   ]
  },
  {
   "cell_type": "code",
   "execution_count": 12,
   "metadata": {},
   "outputs": [
    {
     "name": "stdout",
     "output_type": "stream",
     "text": [
      "training size:  238800  val size:  119400 test size: 39800\n"
     ]
    }
   ],
   "source": [
    "print(\"training size: \",len(Xim_train),\" val size: \",len(Xim_val), \"test size:\", len(Xim_test))"
   ]
  },
  {
   "cell_type": "code",
   "execution_count": 13,
   "metadata": {},
   "outputs": [
    {
     "name": "stderr",
     "output_type": "stream",
     "text": [
      "/usr/local/lib/python3.6/dist-packages/ipykernel_launcher.py:2: RuntimeWarning: divide by zero encountered in log\n",
      "  \n"
     ]
    },
    {
     "data": {
      "image/png": "[encoded data removed]",
      "text/plain": [
       "<Figure size 432x288 with 1 Axes>"
      ]
     },
     "metadata": {
      "needs_background": "light"
     },
     "output_type": "display_data"
    },
    {
     "name": "stderr",
     "output_type": "stream",
     "text": [
      "/usr/local/lib/python3.6/dist-packages/ipykernel_launcher.py:5: RuntimeWarning: divide by zero encountered in log\n",
      "  \"\"\"\n"
     ]
    },
    {
     "data": {
      "image/png": "[encoded data removed]",
      "text/plain": [
       "<Figure size 432x288 with 1 Axes>"
      ]
     },
     "metadata": {
      "needs_background": "light"
     },
     "output_type": "display_data"
    }
   ],
   "source": [
    "X = np.sum(f2, axis=0)\n",
    "plt.imshow(np.log(X), cmap='Blues', label = 'QCD', filternorm=1)\n",
    "plt.show()\n",
    "Y = np.sum(f, axis=0)\n",
    "plt.imshow(np.log(Y), cmap='Blues', label = 'SVJ', filternorm=1)\n",
    "plt.show()"
   ]
  },
  {
   "cell_type": "markdown",
   "metadata": {},
   "source": [
    "# Model CNN"
   ]
  },
  {
   "cell_type": "code",
   "execution_count": 14,
   "metadata": {},
   "outputs": [
    {
     "name": "stdout",
     "output_type": "stream",
     "text": [
      "(None, 64, 64, 1)\n",
      "(None, 64, 64, 32)\n",
      "(None, 61, 61, 64)\n",
      "(None, 15, 15, 64)\n",
      "(None, 12, 12, 128)\n",
      "(None, 3, 3, 128)\n",
      "(None, 1, 1, 256)\n",
      "(None, 256)\n",
      "(None, 128)\n",
      "(None, 128)\n",
      "(None, 2)\n"
     ]
    }
   ],
   "source": [
    "inputs = tf.keras.Input(shape=(64,64))\n",
    "x = inputs\n",
    "x = tf.expand_dims(x,axis=-1)\n",
    "print(x.shape)\n",
    "x = tf.keras.layers.Conv2D(32, kernel_size=(1,1), activation='relu', input_shape=(64,64,1))(x)\n",
    "print(x.shape)\n",
    "# x = tf.keras.layers.AveragePooling2D(pool_size=(2, 2))(x)\n",
    "# print(x.shape)\n",
    "x = tf.keras.layers.Conv2D(64, kernel_size=(4,4), activation='relu', input_shape=(64,64,32))(x)\n",
    "print(x.shape)\n",
    "x = tf.keras.layers.AveragePooling2D(pool_size=(4, 4))(x)\n",
    "print(x.shape)\n",
    "\n",
    "x = tf.keras.layers.Conv2D(128, kernel_size=(4,4), activation='relu', input_shape=(15,15,64))(x)\n",
    "print(x.shape)\n",
    "x = tf.keras.layers.AveragePooling2D(pool_size=(4, 4))(x)\n",
    "print(x.shape)\n",
    "\n",
    "x = tf.keras.layers.Conv2D(256, kernel_size=(3,3), activation='relu', input_shape=(3,3,128))(x)\n",
    "print(x.shape)\n",
    "\n",
    "x = tf.keras.layers.Flatten()(x)\n",
    "print(x.shape)\n",
    "x = tf.keras.layers.Dense(128, activation='relu')(x)\n",
    "print(x.shape)\n",
    "x = tf.keras.layers.Dropout(0.2)(x)\n",
    "print(x.shape)\n",
    "x = tf.keras.layers.Dense(2, activation='sigmoid')(x)\n",
    "print(x.shape)\n",
    "modelCNN = tf.keras.Model(inputs=inputs, outputs=x, name='CNN')\n"
   ]
  },
  {
   "cell_type": "code",
   "execution_count": null,
   "metadata": {},
   "outputs": [],
   "source": []
  },
  {
   "cell_type": "code",
   "execution_count": 131,
   "metadata": {},
   "outputs": [],
   "source": [
    "# inputs = tf.keras.Input(shape=(64,64))\n",
    "# x = inputs\n",
    "# x = tf.expand_dims(x,axis=-1)\n",
    "# x = tf.keras.layers.Conv2D(64, kernel_size=(1,1), activation='relu', input_shape=(64,64,1))(x)\n",
    "# # x = tf.keras.layers.MaxPooling2D()(x)\n",
    "# x = tf.keras.layers.AveragePooling2D()(x)\n",
    "# x = tf.keras.layers.Conv2D(256, kernel_size=(4,4), activation='relu')(x)\n",
    "# # x = tf.keras.layers.MaxPooling2D()(x)\n",
    "# x = tf.keras.layers.AveragePooling2D()(x)\n",
    "\n",
    "\n",
    "# x = tf.keras.layers.Flatten()(x)\n",
    "# # x = tf.keras.layers.Dense(1, activation='sigmoid')(x)\n",
    "\n",
    "# x = tf.keras.layers.Dense(128, activation='relu')(x)\n",
    "# x = tf.keras.layers.Dropout(0.2)(x)\n",
    "# x = tf.keras.layers.Dense(2, activation='sigmoid')(x)\n",
    "# modelCNN = tf.keras.Model(inputs=inputs, outputs=x, name='CNN')"
   ]
  },
  {
   "cell_type": "code",
   "execution_count": 15,
   "metadata": {},
   "outputs": [
    {
     "name": "stdout",
     "output_type": "stream",
     "text": [
      "Model: \"CNN\"\n",
      "_________________________________________________________________\n",
      "Layer (type)                 Output Shape              Param #   \n",
      "=================================================================\n",
      "input_1 (InputLayer)         [(None, 64, 64)]          0         \n",
      "_________________________________________________________________\n",
      "tf_op_layer_ExpandDims (Tens [(None, 64, 64, 1)]       0         \n",
      "_________________________________________________________________\n",
      "conv2d (Conv2D)              (None, 64, 64, 32)        64        \n",
      "_________________________________________________________________\n",
      "conv2d_1 (Conv2D)            (None, 61, 61, 64)        32832     \n",
      "_________________________________________________________________\n",
      "average_pooling2d (AveragePo (None, 15, 15, 64)        0         \n",
      "_________________________________________________________________\n",
      "conv2d_2 (Conv2D)            (None, 12, 12, 128)       131200    \n",
      "_________________________________________________________________\n",
      "average_pooling2d_1 (Average (None, 3, 3, 128)         0         \n",
      "_________________________________________________________________\n",
      "conv2d_3 (Conv2D)            (None, 1, 1, 256)         295168    \n",
      "_________________________________________________________________\n",
      "flatten (Flatten)            (None, 256)               0         \n",
      "_________________________________________________________________\n",
      "dense (Dense)                (None, 128)               32896     \n",
      "_________________________________________________________________\n",
      "dropout (Dropout)            (None, 128)               0         \n",
      "_________________________________________________________________\n",
      "dense_1 (Dense)              (None, 2)                 258       \n",
      "=================================================================\n",
      "Total params: 492,418\n",
      "Trainable params: 492,418\n",
      "Non-trainable params: 0\n",
      "_________________________________________________________________\n"
     ]
    }
   ],
   "source": [
    "loss_fn = tf.keras.losses.SparseCategoricalCrossentropy(from_logits=True)\n",
    "modelCNN.compile(optimizer='adam', loss=loss_fn, metrics=['accuracy'])\n",
    "modelCNN.summary()"
   ]
  },
  {
   "cell_type": "code",
   "execution_count": 16,
   "metadata": {},
   "outputs": [],
   "source": [
    "outfile = \"/home/ja2006203966/script/Network/data/H5/CNN/Train.h5\"\n",
    "hf = h5py.File(outfile, 'w')\n",
    "hf.create_dataset('X_train', data=Xim_train)\n",
    "hf.create_dataset('y_train', data=yim_train)\n",
    "hf.create_dataset('X_val', data=Xim_val)\n",
    "hf.create_dataset('y_val', data=yim_val)\n",
    "hf.create_dataset('X_test', data=Xim_test)\n",
    "hf.create_dataset('y_test', data=yim_test)\n",
    "hf.close()"
   ]
  },
  {
   "cell_type": "code",
   "execution_count": 6,
   "metadata": {},
   "outputs": [],
   "source": [
    "outfile = \"/home/ja2006203966/script/Network/data/H5/CNN/Train.h5\"\n",
    "hf = h5py.File(outfile, 'r')\n",
    "Xim_train = hf[\"X_train\"][()]\n",
    "yim_train = hf[\"y_train\"][()]\n",
    "Xim_val = hf[\"X_val\"][()]\n",
    "yim_val = hf[\"y_val\"][()]\n",
    "Xim_test = hf[\"X_test\"][()]\n",
    "yim_test = hf[\"y_test\"][()]\n",
    "hf.close()\n",
    "\n"
   ]
  },
  {
   "cell_type": "code",
   "execution_count": 17,
   "metadata": {},
   "outputs": [],
   "source": [
    "model_type = \"CNN\"\n",
    "save_dir = '/home/ja2006203966/script/Network/data/H5/CNN/'\n",
    "model_name = '%s_model.test.h5' % model_type\n",
    "if not os.path.isdir(save_dir):\n",
    "    os.makedirs(save_dir)\n",
    "filepath = os.path.join(save_dir, model_name)\n",
    "\n",
    "# Prepare callbacks for model saving and for learning rate adjustment.\n",
    "checkpoint = keras.callbacks.ModelCheckpoint(filepath=filepath,\n",
    "                             monitor='val_acc',\n",
    "                             verbose=1,\n",
    "                             save_best_only=True)\n",
    "\n",
    "# lr_scheduler = keras.callbacks.LearningRateScheduler(lr_schedule)\n",
    "\n",
    "# progress_bar = keras.callbacks.ProgbarLogger()\n",
    "csv_logger = keras.callbacks.CSVLogger(save_dir+'CNN.csv')\n",
    "earlystop = tf.keras.callbacks.EarlyStopping(\n",
    "                            monitor='val_loss',\n",
    "                            min_delta=1e-4,\n",
    "                            patience=3,\n",
    "                            verbose=1,\n",
    "                            mode='min', baseline=None, ## 'min' \n",
    "                            restore_best_weights=True)\n",
    "# reduce_lr = tf.keras.callbacks.ReduceLROnPlateau(monitor='val_loss', factor=0.2,\n",
    "#                               patience=2, min_lr=0.00001)\n",
    "callbacks = [checkpoint, csv_logger,  earlystop ]\n"
   ]
  },
  {
   "cell_type": "code",
   "execution_count": 18,
   "metadata": {},
   "outputs": [
    {
     "name": "stdout",
     "output_type": "stream",
     "text": [
      "Epoch 1/20\n",
      "7463/7463 [==============================] - ETA: 0s - loss: 0.5362 - accuracy: 0.7627"
     ]
    },
    {
     "name": "stderr",
     "output_type": "stream",
     "text": [
      "[2020-08-04 08:16:56,608] WARNING: Can save best model only with val_acc available, skipping.\n"
     ]
    },
    {
     "name": "stdout",
     "output_type": "stream",
     "text": [
      "7463/7463 [==============================] - 77s 10ms/step - loss: 0.5362 - accuracy: 0.7627 - val_loss: 0.5278 - val_accuracy: 0.7687\n",
      "Epoch 2/20\n",
      "7461/7463 [============================>.] - ETA: 0s - loss: 0.5261 - accuracy: 0.7729"
     ]
    },
    {
     "name": "stderr",
     "output_type": "stream",
     "text": [
      "[2020-08-04 08:18:13,833] WARNING: Can save best model only with val_acc available, skipping.\n"
     ]
    },
    {
     "name": "stdout",
     "output_type": "stream",
     "text": [
      "7463/7463 [==============================] - 77s 10ms/step - loss: 0.5261 - accuracy: 0.7729 - val_loss: 0.5229 - val_accuracy: 0.7764\n",
      "Epoch 3/20\n",
      "7460/7463 [============================>.] - ETA: 0s - loss: 0.5225 - accuracy: 0.7772"
     ]
    },
    {
     "name": "stderr",
     "output_type": "stream",
     "text": [
      "[2020-08-04 08:19:31,599] WARNING: Can save best model only with val_acc available, skipping.\n"
     ]
    },
    {
     "name": "stdout",
     "output_type": "stream",
     "text": [
      "7463/7463 [==============================] - 78s 10ms/step - loss: 0.5225 - accuracy: 0.7772 - val_loss: 0.5224 - val_accuracy: 0.7758\n",
      "Epoch 4/20\n",
      "7463/7463 [==============================] - ETA: 0s - loss: 0.5194 - accuracy: 0.7803"
     ]
    },
    {
     "name": "stderr",
     "output_type": "stream",
     "text": [
      "[2020-08-04 08:20:49,573] WARNING: Can save best model only with val_acc available, skipping.\n"
     ]
    },
    {
     "name": "stdout",
     "output_type": "stream",
     "text": [
      "7463/7463 [==============================] - 78s 10ms/step - loss: 0.5194 - accuracy: 0.7803 - val_loss: 0.5194 - val_accuracy: 0.7796\n",
      "Epoch 5/20\n",
      "7461/7463 [============================>.] - ETA: 0s - loss: 0.5168 - accuracy: 0.7834"
     ]
    },
    {
     "name": "stderr",
     "output_type": "stream",
     "text": [
      "[2020-08-04 08:22:07,579] WARNING: Can save best model only with val_acc available, skipping.\n"
     ]
    },
    {
     "name": "stdout",
     "output_type": "stream",
     "text": [
      "7463/7463 [==============================] - 78s 10ms/step - loss: 0.5168 - accuracy: 0.7834 - val_loss: 0.5182 - val_accuracy: 0.7804\n",
      "Epoch 6/20\n",
      "7461/7463 [============================>.] - ETA: 0s - loss: 0.5148 - accuracy: 0.7857"
     ]
    },
    {
     "name": "stderr",
     "output_type": "stream",
     "text": [
      "[2020-08-04 08:23:25,350] WARNING: Can save best model only with val_acc available, skipping.\n"
     ]
    },
    {
     "name": "stdout",
     "output_type": "stream",
     "text": [
      "7463/7463 [==============================] - 78s 10ms/step - loss: 0.5148 - accuracy: 0.7857 - val_loss: 0.5250 - val_accuracy: 0.7760\n",
      "Epoch 7/20\n",
      "7457/7463 [============================>.] - ETA: 0s - loss: 0.5136 - accuracy: 0.7869"
     ]
    },
    {
     "name": "stderr",
     "output_type": "stream",
     "text": [
      "[2020-08-04 08:24:43,407] WARNING: Can save best model only with val_acc available, skipping.\n"
     ]
    },
    {
     "name": "stdout",
     "output_type": "stream",
     "text": [
      "7463/7463 [==============================] - 78s 10ms/step - loss: 0.5136 - accuracy: 0.7869 - val_loss: 0.5180 - val_accuracy: 0.7810\n",
      "Epoch 8/20\n",
      "7457/7463 [============================>.] - ETA: 0s - loss: 0.5119 - accuracy: 0.7891"
     ]
    },
    {
     "name": "stderr",
     "output_type": "stream",
     "text": [
      "[2020-08-04 08:26:01,257] WARNING: Can save best model only with val_acc available, skipping.\n"
     ]
    },
    {
     "name": "stdout",
     "output_type": "stream",
     "text": [
      "7463/7463 [==============================] - 78s 10ms/step - loss: 0.5119 - accuracy: 0.7892 - val_loss: 0.5163 - val_accuracy: 0.7836\n",
      "Epoch 9/20\n",
      "7460/7463 [============================>.] - ETA: 0s - loss: 0.5109 - accuracy: 0.7900"
     ]
    },
    {
     "name": "stderr",
     "output_type": "stream",
     "text": [
      "[2020-08-04 08:27:18,727] WARNING: Can save best model only with val_acc available, skipping.\n"
     ]
    },
    {
     "name": "stdout",
     "output_type": "stream",
     "text": [
      "7463/7463 [==============================] - 77s 10ms/step - loss: 0.5109 - accuracy: 0.7900 - val_loss: 0.5140 - val_accuracy: 0.7855\n",
      "Epoch 10/20\n",
      "7457/7463 [============================>.] - ETA: 0s - loss: 0.5094 - accuracy: 0.7917"
     ]
    },
    {
     "name": "stderr",
     "output_type": "stream",
     "text": [
      "[2020-08-04 08:28:36,165] WARNING: Can save best model only with val_acc available, skipping.\n"
     ]
    },
    {
     "name": "stdout",
     "output_type": "stream",
     "text": [
      "7463/7463 [==============================] - 77s 10ms/step - loss: 0.5094 - accuracy: 0.7917 - val_loss: 0.5204 - val_accuracy: 0.7786\n",
      "Epoch 11/20\n",
      "7462/7463 [============================>.] - ETA: 0s - loss: 0.5084 - accuracy: 0.7930"
     ]
    },
    {
     "name": "stderr",
     "output_type": "stream",
     "text": [
      "[2020-08-04 08:29:53,540] WARNING: Can save best model only with val_acc available, skipping.\n"
     ]
    },
    {
     "name": "stdout",
     "output_type": "stream",
     "text": [
      "7463/7463 [==============================] - 77s 10ms/step - loss: 0.5084 - accuracy: 0.7930 - val_loss: 0.5185 - val_accuracy: 0.7827\n",
      "Epoch 12/20\n",
      "7462/7463 [============================>.] - ETA: 0s - loss: 0.5075 - accuracy: 0.7938"
     ]
    },
    {
     "name": "stderr",
     "output_type": "stream",
     "text": [
      "[2020-08-04 08:31:11,658] WARNING: Can save best model only with val_acc available, skipping.\n"
     ]
    },
    {
     "name": "stdout",
     "output_type": "stream",
     "text": [
      "7463/7463 [==============================] - 78s 10ms/step - loss: 0.5075 - accuracy: 0.7938 - val_loss: 0.5134 - val_accuracy: 0.7864\n",
      "Epoch 13/20\n",
      "7457/7463 [============================>.] - ETA: 0s - loss: 0.5065 - accuracy: 0.7951"
     ]
    },
    {
     "name": "stderr",
     "output_type": "stream",
     "text": [
      "[2020-08-04 08:32:29,206] WARNING: Can save best model only with val_acc available, skipping.\n"
     ]
    },
    {
     "name": "stdout",
     "output_type": "stream",
     "text": [
      "7463/7463 [==============================] - 78s 10ms/step - loss: 0.5066 - accuracy: 0.7951 - val_loss: 0.5147 - val_accuracy: 0.7862\n",
      "Epoch 14/20\n",
      "7457/7463 [============================>.] - ETA: 0s - loss: 0.5053 - accuracy: 0.7970"
     ]
    },
    {
     "name": "stderr",
     "output_type": "stream",
     "text": [
      "[2020-08-04 08:33:46,737] WARNING: Can save best model only with val_acc available, skipping.\n"
     ]
    },
    {
     "name": "stdout",
     "output_type": "stream",
     "text": [
      "7463/7463 [==============================] - 78s 10ms/step - loss: 0.5053 - accuracy: 0.7970 - val_loss: 0.5135 - val_accuracy: 0.7867\n",
      "Epoch 15/20\n",
      "7463/7463 [==============================] - ETA: 0s - loss: 0.5042 - accuracy: 0.7981"
     ]
    },
    {
     "name": "stderr",
     "output_type": "stream",
     "text": [
      "[2020-08-04 08:35:05,137] WARNING: Can save best model only with val_acc available, skipping.\n"
     ]
    },
    {
     "name": "stdout",
     "output_type": "stream",
     "text": [
      "7463/7463 [==============================] - 78s 11ms/step - loss: 0.5042 - accuracy: 0.7981 - val_loss: 0.5127 - val_accuracy: 0.7864\n",
      "Epoch 16/20\n",
      "7461/7463 [============================>.] - ETA: 0s - loss: 0.5036 - accuracy: 0.7988"
     ]
    },
    {
     "name": "stderr",
     "output_type": "stream",
     "text": [
      "[2020-08-04 08:36:22,752] WARNING: Can save best model only with val_acc available, skipping.\n"
     ]
    },
    {
     "name": "stdout",
     "output_type": "stream",
     "text": [
      "7463/7463 [==============================] - 78s 10ms/step - loss: 0.5036 - accuracy: 0.7988 - val_loss: 0.5127 - val_accuracy: 0.7875\n",
      "Epoch 17/20\n",
      "7459/7463 [============================>.] - ETA: 0s - loss: 0.5024 - accuracy: 0.8008"
     ]
    },
    {
     "name": "stderr",
     "output_type": "stream",
     "text": [
      "[2020-08-04 08:37:40,285] WARNING: Can save best model only with val_acc available, skipping.\n"
     ]
    },
    {
     "name": "stdout",
     "output_type": "stream",
     "text": [
      "7463/7463 [==============================] - 78s 10ms/step - loss: 0.5025 - accuracy: 0.8008 - val_loss: 0.5149 - val_accuracy: 0.7860\n",
      "Epoch 18/20\n",
      "7463/7463 [==============================] - ETA: 0s - loss: 0.5018 - accuracy: 0.8014"
     ]
    },
    {
     "name": "stderr",
     "output_type": "stream",
     "text": [
      "[2020-08-04 08:38:58,038] WARNING: Can save best model only with val_acc available, skipping.\n"
     ]
    },
    {
     "name": "stdout",
     "output_type": "stream",
     "text": [
      "Restoring model weights from the end of the best epoch.\n",
      "7463/7463 [==============================] - 78s 10ms/step - loss: 0.5018 - accuracy: 0.8014 - val_loss: 0.5146 - val_accuracy: 0.7862\n",
      "Epoch 00018: early stopping\n"
     ]
    }
   ],
   "source": [
    "hist = modelCNN.fit(Xim_train, yim_train , validation_data=(Xim_val, yim_val), callbacks = callbacks, shuffle=True , epochs=20)"
   ]
  },
  {
   "cell_type": "code",
   "execution_count": 19,
   "metadata": {},
   "outputs": [],
   "source": [
    "from sklearn.metrics import roc_curve, auc"
   ]
  },
  {
   "cell_type": "code",
   "execution_count": 20,
   "metadata": {},
   "outputs": [
    {
     "name": "stdout",
     "output_type": "stream",
     "text": [
      "The area under the curves are:\n",
      "AUC:0.856311747\n"
     ]
    },
    {
     "data": {
      "image/png": "[encoded data removed]",
      "text/plain": [
       "<Figure size 576x1152 with 1 Axes>"
      ]
     },
     "metadata": {
      "needs_background": "light"
     },
     "output_type": "display_data"
    }
   ],
   "source": [
    "y_score=modelCNN.predict(Xim_test)[:,0]\n",
    "# test=[i[1] for i in yim_test]\n",
    "fpr , tpr , thresholds = roc_curve ( yim_test , y_score)\n",
    "roc_auc = auc(tpr,fpr )\n",
    "print(\"The area under the curves are:\")\n",
    "print(\"AUC:{0:.9f}\".format(roc_auc))\n",
    "# FalsePositiveFull, TruePositiveFull, ThresholdFull = metrics.roc_curve(y_test,Predictions)\n",
    "plt.figure(figsize=(8,16))\n",
    "plt.subplot(2,1,1)\n",
    "\n",
    "plt.plot(tpr,fpr, label='Fully supervised: AUC={0:.9f}'.format(roc_auc))\n",
    "plt.ylabel('False Positive Rate',fontsize=20)\n",
    "plt.xlabel('True Positive Rate',fontsize=20)\n",
    "plt.plot([0, 1], [0, 1], 'k--')\n",
    "plt.legend(bbox_to_anchor=(0.8, -0.17),ncol=2)\n",
    "plt.tight_layout()\n",
    "plt.savefig(\"/home/ja2006203966/script/Network/data/H5/CNN/CNN_roc.png\")\n",
    "hf = h5py.File(\"/home/ja2006203966/script/Network/data/H5/CNN/PR.h5\", 'w')\n",
    "hf.create_dataset('fpr', data=fpr)\n",
    "hf.create_dataset('tpr', data=tpr)\n",
    "hf.close()\n",
    "# np.save(\"./myfpr\",fpr)\n",
    "# np.save(\"./mytpr\",tpr)\n",
    "plt.show()"
   ]
  },
  {
   "cell_type": "code",
   "execution_count": 21,
   "metadata": {},
   "outputs": [
    {
     "data": {
      "image/png": "[encoded data removed]",
      "text/plain": [
       "<Figure size 576x576 with 1 Axes>"
      ]
     },
     "metadata": {
      "needs_background": "light"
     },
     "output_type": "display_data"
    }
   ],
   "source": [
    "plt.figure(figsize=(8,8))\n",
    "LOSS = pd.read_csv(save_dir+\"CNN.csv\")\n",
    "plt.title(\"Learning Curve\")\n",
    "plt.plot(LOSS[\"loss\"], label='loss',c='blue')\n",
    "plt.plot(LOSS[\"val_loss\"], label='val_loss',c='red')\n",
    "plt.plot(LOSS[\"accuracy\"], linestyle='--', label='accuracy',c='blue')\n",
    "plt.plot(LOSS[\"val_accuracy\"], linestyle='--', label='val_accuracy',c='red')\n",
    "# plt.ylim([0.3,1])\n",
    "plt.ylabel('loss',fontsize=20)\n",
    "plt.xlabel('epoch',fontsize=20)\n",
    "# plt.legend(bbox_to_anchor=(0.8, -0.17),ncol=2)\n",
    "plt.legend(bbox_to_anchor=(0.8, -0.17),ncol=2)\n",
    "plt.tight_layout()\n",
    "plt.savefig(\"/home/ja2006203966/script/Network/data/H5/CNN/CNNloss.png\")\n",
    "\n",
    "plt.show()"
   ]
  },
  {
   "cell_type": "code",
   "execution_count": 22,
   "metadata": {},
   "outputs": [],
   "source": [
    "modelCNN.save('/home/ja2006203966/script/Network/data/H5/CNN/modelCNN.h5')"
   ]
  },
  {
   "cell_type": "markdown",
   "metadata": {},
   "source": [
    "# Load data DNN"
   ]
  },
  {
   "cell_type": "code",
   "execution_count": 47,
   "metadata": {},
   "outputs": [],
   "source": [
    "f = h5py.File(\"/home/ja2006203966/script/Network/data/Mydata/H5/SVJ/0JSS_Jim.h5\",'r')\n",
    "f2 = h5py.File(\"/home/ja2006203966/script/Network/data/Mydata/H5/QCD/0JSS_Jim.h5\",'r')\n"
   ]
  },
  {
   "cell_type": "code",
   "execution_count": 4,
   "metadata": {},
   "outputs": [],
   "source": [
    "Labels = ['T21', 'D21', 'MASS', 'D22', 'C22', 'C21']"
   ]
  },
  {
   "cell_type": "code",
   "execution_count": 29,
   "metadata": {},
   "outputs": [],
   "source": [
    "JSS2 = []\n",
    "N = 40\n",
    "Labels = ['MASS', 'T21', 'C22', 'C21',  'D22', 'D21']\n",
    "JSSd = {'MASS':[], 'T21':[], 'C22':[], 'C21':[],  'D22':[], 'D21':[]}\n",
    "JSSd2 = {'MASS':[], 'T21':[], 'C22':[], 'C21':[],  'D22':[], 'D21':[]}\n",
    "\n",
    "for lb in Labels:\n",
    "    for i in range(N):\n",
    "        jss = h5py.File(\"/home/ja2006203966/script/Network/data/H5/SVJ/rinv03/\"+str(i)+\"JSS_Jim.h5\",'r')\n",
    "        jss = jss[lb][()].tolist()\n",
    "        JSSd[lb] = JSSd[lb] + jss\n",
    "        \n",
    "        jss2 = h5py.File(\"/home/ja2006203966/script/Network/data/H5/QCD/\"+str(i)+\"JSS_Jim.h5\",'r')\n",
    "        jss2 = jss2[lb][()].tolist()\n",
    "        JSSd2[lb] = JSSd2[lb] + jss2"
   ]
  },
  {
   "cell_type": "code",
   "execution_count": 34,
   "metadata": {},
   "outputs": [
    {
     "data": {
      "text/plain": [
       "(199000, 6)"
      ]
     },
     "execution_count": 34,
     "metadata": {},
     "output_type": "execute_result"
    }
   ],
   "source": [
    "f.shape"
   ]
  },
  {
   "cell_type": "code",
   "execution_count": 31,
   "metadata": {},
   "outputs": [],
   "source": [
    "f = np.array([ JSSd[i] for i in Labels])\n",
    "f2 = np.array([ JSSd2[i] for i in Labels])\n",
    "f = f.transpose((1,0))\n",
    "f2 = f2.transpose((1,0))"
   ]
  },
  {
   "cell_type": "code",
   "execution_count": 10,
   "metadata": {},
   "outputs": [],
   "source": []
  },
  {
   "cell_type": "code",
   "execution_count": 33,
   "metadata": {},
   "outputs": [],
   "source": [
    "f = np.array([f[i] for i in range(199000)])\n",
    "f2 = np.array([f2[i] for i in range(199000)])"
   ]
  },
  {
   "cell_type": "code",
   "execution_count": 35,
   "metadata": {},
   "outputs": [],
   "source": [
    "ft = np.append(f,f2, axis=0)"
   ]
  },
  {
   "cell_type": "code",
   "execution_count": 36,
   "metadata": {},
   "outputs": [],
   "source": [
    "yt = np.array([1 for i in range(len(f))]+[0 for i in range(len(f2))])"
   ]
  },
  {
   "cell_type": "code",
   "execution_count": 37,
   "metadata": {},
   "outputs": [
    {
     "data": {
      "text/plain": [
       "(398000, 6)"
      ]
     },
     "execution_count": 37,
     "metadata": {},
     "output_type": "execute_result"
    }
   ],
   "source": [
    "ft.shape"
   ]
  },
  {
   "cell_type": "markdown",
   "metadata": {},
   "source": [
    "## Seperate data"
   ]
  },
  {
   "cell_type": "code",
   "execution_count": 38,
   "metadata": {},
   "outputs": [],
   "source": [
    "from sklearn.model_selection import train_test_split\n",
    "X_train, X_val, y_train, y_val = train_test_split(ft, yt, test_size=0.4)\n",
    "X_val, X_test, y_val, y_test = train_test_split(X_val, y_val, test_size=0.25)"
   ]
  },
  {
   "cell_type": "markdown",
   "metadata": {},
   "source": [
    "## Save training data"
   ]
  },
  {
   "cell_type": "code",
   "execution_count": 39,
   "metadata": {},
   "outputs": [],
   "source": [
    "# outfile = \"/home/ja2006203966/script/Network/data/H5/DNN/Train.h5\"\n",
    "# hf = h5py.File(outfile, 'w')\n",
    "# hf.create_dataset('X_train', data=X_train)\n",
    "# hf.create_dataset('y_train', data=y_train)\n",
    "# hf.create_dataset('X_val', data=X_val)\n",
    "# hf.create_dataset('y_val', data=y_val)\n",
    "# hf.create_dataset('X_test', data=X_test)\n",
    "# hf.create_dataset('y_test', data=y_test)\n",
    "# hf.close()"
   ]
  },
  {
   "cell_type": "markdown",
   "metadata": {},
   "source": [
    "## Load data"
   ]
  },
  {
   "cell_type": "code",
   "execution_count": 14,
   "metadata": {},
   "outputs": [],
   "source": [
    "outfile = \"/home/ja2006203966/script/Network/data/H5/DNN/Train.h5\"\n",
    "hf = h5py.File(outfile, 'r')\n",
    "X_train = hf[\"X_train\"][()]\n",
    "y_train = hf[\"y_train\"][()]\n",
    "X_val = hf[\"X_val\"][()]\n",
    "y_val = hf[\"y_val\"][()]\n",
    "X_test = hf[\"X_test\"][()]\n",
    "y_test = hf[\"y_test\"][()]\n",
    "hf.close()\n",
    "\n"
   ]
  },
  {
   "cell_type": "code",
   "execution_count": 16,
   "metadata": {},
   "outputs": [
    {
     "data": {
      "text/plain": [
       "<tf.Tensor 'Mul:0' shape=(None, 6) dtype=float32>"
      ]
     },
     "execution_count": 16,
     "metadata": {},
     "output_type": "execute_result"
    }
   ],
   "source": [
    "inputs*w1"
   ]
  },
  {
   "cell_type": "markdown",
   "metadata": {},
   "source": [
    "# Model DNN"
   ]
  },
  {
   "cell_type": "code",
   "execution_count": 23,
   "metadata": {},
   "outputs": [],
   "source": [
    "class MyLayer(tf.keras.layers.Layer):\n",
    "    def __init__(self):\n",
    "        super(MyLayer, self).__init__()\n",
    "        \n",
    "        #your variable goes here\n",
    "        self.variable = tf.Variable(1., trainable=True, dtype=tf.float64)\n",
    "        \n",
    "    def call(self, inputs, **kwargs):\n",
    "        \n",
    "        # your mul operation goes here\n",
    "        x = inputs * self.variable\n",
    "        \n",
    "        return x"
   ]
  },
  {
   "cell_type": "code",
   "execution_count": 24,
   "metadata": {},
   "outputs": [],
   "source": [
    "class Dense(tf.keras.layers.Layer):\n",
    "    def __init__(self, units=6):\n",
    "        super(Linear, self).__init__()\n",
    "        self.units = units\n",
    "    def build(self, input_shape):  # Create the state of the layer (weights)\n",
    "#         w_init = tf.random_normal_initializer()\n",
    "#         w_init = tf.random_normal_initializer()\n",
    "        self.w = tf.Variable(\n",
    "            initial_value= tf.ones(shape=(input_shape[-1], self.units),\n",
    "                                 dtype='float32'),\n",
    "            trainable=True)\n",
    "#         b_init = tf.zeros_initializer()\n",
    "        self.b = tf.Variable(\n",
    "            initial_value=tf.zeros(shape=(input_shape[-1], self.units), dtype='float32'),\n",
    "            trainable=True)\n",
    "    def call(self, inputs):  # Defines the computation from inputs to outputs\n",
    "#         return tf.matmul(inputs, self.w) + self.b\n",
    "        return tf.matmul(inputs, self.w) + self.b\n",
    "\n",
    "\n"
   ]
  },
  {
   "cell_type": "code",
   "execution_count": 45,
   "metadata": {},
   "outputs": [],
   "source": [
    "w1 = tf.Variable(initial_value=tf.zeros(shape=(6,1), dtype='float32'), trainable=True)"
   ]
  },
  {
   "cell_type": "code",
   "execution_count": 46,
   "metadata": {},
   "outputs": [
    {
     "name": "stdout",
     "output_type": "stream",
     "text": [
      "(None, 6) (6, 1)\n"
     ]
    }
   ],
   "source": [
    "print(inputs.shape, w1.shape)"
   ]
  },
  {
   "cell_type": "code",
   "execution_count": null,
   "metadata": {},
   "outputs": [],
   "source": []
  },
  {
   "cell_type": "code",
   "execution_count": 47,
   "metadata": {},
   "outputs": [
    {
     "data": {
      "text/plain": [
       "<tf.Tensor 'MatMul_2:0' shape=(None, 1) dtype=float32>"
      ]
     },
     "execution_count": 47,
     "metadata": {},
     "output_type": "execute_result"
    }
   ],
   "source": [
    "tf.matmul(inputs, w1)"
   ]
  },
  {
   "cell_type": "code",
   "execution_count": 63,
   "metadata": {},
   "outputs": [
    {
     "ename": "AttributeError",
     "evalue": "'Tensor' object has no attribute 'input_shape'",
     "output_type": "error",
     "traceback": [
      "\u001b[0;31m---------------------------------------------------------------------------\u001b[0m",
      "\u001b[0;31mAttributeError\u001b[0m                            Traceback (most recent call last)",
      "\u001b[0;32m<ipython-input-63-e6c3c8cbeb6d>\u001b[0m in \u001b[0;36m<module>\u001b[0;34m\u001b[0m\n\u001b[0;32m----> 1\u001b[0;31m \u001b[0minputs\u001b[0m\u001b[0;34m.\u001b[0m\u001b[0minput_shape\u001b[0m\u001b[0;34m\u001b[0m\u001b[0;34m\u001b[0m\u001b[0m\n\u001b[0m",
      "\u001b[0;31mAttributeError\u001b[0m: 'Tensor' object has no attribute 'input_shape'"
     ]
    }
   ],
   "source": [
    "inputs.input_shape"
   ]
  },
  {
   "cell_type": "code",
   "execution_count": 32,
   "metadata": {},
   "outputs": [
    {
     "data": {
      "text/plain": [
       "<tensorflow.python.ops.init_ops_v2.RandomNormal at 0x7fa3444729b0>"
      ]
     },
     "execution_count": 32,
     "metadata": {},
     "output_type": "execute_result"
    }
   ],
   "source": [
    "tf.random_normal_initializer((6,))"
   ]
  },
  {
   "cell_type": "code",
   "execution_count": 40,
   "metadata": {},
   "outputs": [],
   "source": [
    "inputs = tf.keras.Input(shape=(6,))\n",
    "x = inputs\n",
    "# x = Linear(x.shape[-1])(x)\n",
    "x = tf.keras.layers.Dense(6, activation='relu')(x)\n",
    "# x = tf.keras.layers.Dense(128, activation='relu')(x)\n",
    "x = tf.keras.layers.Dense(256, activation='relu')(x)\n",
    "x = tf.keras.layers.Dropout(0.2)(x)\n",
    "x = tf.keras.layers.Dense(2, activation='sigmoid')(x)\n",
    "modelDNN = tf.keras.Model(inputs=inputs, outputs=x, name='DNN')"
   ]
  },
  {
   "cell_type": "code",
   "execution_count": 41,
   "metadata": {},
   "outputs": [
    {
     "name": "stdout",
     "output_type": "stream",
     "text": [
      "Model: \"DNN\"\n",
      "_________________________________________________________________\n",
      "Layer (type)                 Output Shape              Param #   \n",
      "=================================================================\n",
      "input_3 (InputLayer)         [(None, 6)]               0         \n",
      "_________________________________________________________________\n",
      "dense_5 (Dense)              (None, 6)                 42        \n",
      "_________________________________________________________________\n",
      "dense_6 (Dense)              (None, 256)               1792      \n",
      "_________________________________________________________________\n",
      "dropout_2 (Dropout)          (None, 256)               0         \n",
      "_________________________________________________________________\n",
      "dense_7 (Dense)              (None, 2)                 514       \n",
      "=================================================================\n",
      "Total params: 2,348\n",
      "Trainable params: 2,348\n",
      "Non-trainable params: 0\n",
      "_________________________________________________________________\n"
     ]
    }
   ],
   "source": [
    "loss_fn = tf.keras.losses.SparseCategoricalCrossentropy(from_logits=True)\n",
    "modelDNN.compile(optimizer='adam', loss=loss_fn, metrics=['accuracy'])\n",
    "modelDNN.summary()"
   ]
  },
  {
   "cell_type": "code",
   "execution_count": 42,
   "metadata": {},
   "outputs": [],
   "source": [
    "model_type = \"DNN\"\n",
    "save_dir = '/home/ja2006203966/script/Network/data/H5/DNN/'\n",
    "model_name = '%s_model.test.h5' % model_type\n",
    "if not os.path.isdir(save_dir):\n",
    "    os.makedirs(save_dir)\n",
    "filepath = os.path.join(save_dir, model_name)\n",
    "\n",
    "# Prepare callbacks for model saving and for learning rate adjustment.\n",
    "checkpoint = keras.callbacks.ModelCheckpoint(filepath=filepath,\n",
    "                             monitor='val_acc',\n",
    "                             verbose=1,\n",
    "                             save_best_only=True)\n",
    "\n",
    "# lr_scheduler = keras.callbacks.LearningRateScheduler(lr_schedule)\n",
    "\n",
    "# progress_bar = keras.callbacks.ProgbarLogger()\n",
    "csv_logger = keras.callbacks.CSVLogger(save_dir+'DNN.csv')\n",
    "earlystop = tf.keras.callbacks.EarlyStopping(\n",
    "                            monitor='val_loss',\n",
    "                            min_delta=1e-4,\n",
    "                            patience=3,\n",
    "                            verbose=1,\n",
    "                            mode='min', baseline=None, ## 'min' \n",
    "                            restore_best_weights=True)\n",
    "# reduce_lr = tf.keras.callbacks.ReduceLROnPlateau(monitor='val_loss', factor=0.2,\n",
    "#                               patience=2, min_lr=0.00001)\n",
    "callbacks = [checkpoint, csv_logger,  earlystop ]\n"
   ]
  },
  {
   "cell_type": "code",
   "execution_count": 43,
   "metadata": {},
   "outputs": [
    {
     "name": "stdout",
     "output_type": "stream",
     "text": [
      "Epoch 1/20\n",
      "7450/7463 [============================>.] - ETA: 0s - loss: 0.6341 - accuracy: 0.6177"
     ]
    },
    {
     "name": "stderr",
     "output_type": "stream",
     "text": [
      "[2020-08-04 08:53:21,667] WARNING: Can save best model only with val_acc available, skipping.\n"
     ]
    },
    {
     "name": "stdout",
     "output_type": "stream",
     "text": [
      "7463/7463 [==============================] - 36s 5ms/step - loss: 0.6341 - accuracy: 0.6177 - val_loss: 0.6327 - val_accuracy: 0.6406\n",
      "Epoch 2/20\n",
      "7452/7463 [============================>.] - ETA: 0s - loss: 0.6313 - accuracy: 0.5504"
     ]
    },
    {
     "name": "stderr",
     "output_type": "stream",
     "text": [
      "[2020-08-04 08:53:57,983] WARNING: Can save best model only with val_acc available, skipping.\n"
     ]
    },
    {
     "name": "stdout",
     "output_type": "stream",
     "text": [
      "7463/7463 [==============================] - 36s 5ms/step - loss: 0.6313 - accuracy: 0.5504 - val_loss: 0.6304 - val_accuracy: 0.5005\n",
      "Epoch 3/20\n",
      "7450/7463 [============================>.] - ETA: 0s - loss: 0.6294 - accuracy: 0.4989"
     ]
    },
    {
     "name": "stderr",
     "output_type": "stream",
     "text": [
      "[2020-08-04 08:54:34,861] WARNING: Can save best model only with val_acc available, skipping.\n"
     ]
    },
    {
     "name": "stdout",
     "output_type": "stream",
     "text": [
      "7463/7463 [==============================] - 37s 5ms/step - loss: 0.6294 - accuracy: 0.4989 - val_loss: 0.6268 - val_accuracy: 0.5005\n",
      "Epoch 4/20\n",
      "7450/7463 [============================>.] - ETA: 0s - loss: 0.5692 - accuracy: 0.6711"
     ]
    },
    {
     "name": "stderr",
     "output_type": "stream",
     "text": [
      "[2020-08-04 08:55:10,780] WARNING: Can save best model only with val_acc available, skipping.\n"
     ]
    },
    {
     "name": "stdout",
     "output_type": "stream",
     "text": [
      "7463/7463 [==============================] - 36s 5ms/step - loss: 0.5692 - accuracy: 0.6712 - val_loss: 0.5358 - val_accuracy: 0.7618\n",
      "Epoch 5/20\n",
      "7463/7463 [==============================] - ETA: 0s - loss: 0.5356 - accuracy: 0.7624"
     ]
    },
    {
     "name": "stderr",
     "output_type": "stream",
     "text": [
      "[2020-08-04 08:55:47,299] WARNING: Can save best model only with val_acc available, skipping.\n"
     ]
    },
    {
     "name": "stdout",
     "output_type": "stream",
     "text": [
      "7463/7463 [==============================] - 37s 5ms/step - loss: 0.5356 - accuracy: 0.7624 - val_loss: 0.5359 - val_accuracy: 0.7624\n",
      "Epoch 6/20\n",
      "7452/7463 [============================>.] - ETA: 0s - loss: 0.5341 - accuracy: 0.7637"
     ]
    },
    {
     "name": "stderr",
     "output_type": "stream",
     "text": [
      "[2020-08-04 08:56:23,468] WARNING: Can save best model only with val_acc available, skipping.\n"
     ]
    },
    {
     "name": "stdout",
     "output_type": "stream",
     "text": [
      "7463/7463 [==============================] - 36s 5ms/step - loss: 0.5341 - accuracy: 0.7637 - val_loss: 0.5418 - val_accuracy: 0.7563\n",
      "Epoch 7/20\n",
      "7456/7463 [============================>.] - ETA: 0s - loss: 0.5341 - accuracy: 0.7644"
     ]
    },
    {
     "name": "stderr",
     "output_type": "stream",
     "text": [
      "[2020-08-04 08:56:59,599] WARNING: Can save best model only with val_acc available, skipping.\n"
     ]
    },
    {
     "name": "stdout",
     "output_type": "stream",
     "text": [
      "7463/7463 [==============================] - 36s 5ms/step - loss: 0.5341 - accuracy: 0.7643 - val_loss: 0.5326 - val_accuracy: 0.7652\n",
      "Epoch 8/20\n",
      "7449/7463 [============================>.] - ETA: 0s - loss: 0.5337 - accuracy: 0.7644"
     ]
    },
    {
     "name": "stderr",
     "output_type": "stream",
     "text": [
      "[2020-08-04 08:57:35,795] WARNING: Can save best model only with val_acc available, skipping.\n"
     ]
    },
    {
     "name": "stdout",
     "output_type": "stream",
     "text": [
      "7463/7463 [==============================] - 36s 5ms/step - loss: 0.5337 - accuracy: 0.7644 - val_loss: 0.5369 - val_accuracy: 0.7606\n",
      "Epoch 9/20\n",
      "7463/7463 [==============================] - ETA: 0s - loss: 0.5340 - accuracy: 0.7641"
     ]
    },
    {
     "name": "stderr",
     "output_type": "stream",
     "text": [
      "[2020-08-04 08:58:12,141] WARNING: Can save best model only with val_acc available, skipping.\n"
     ]
    },
    {
     "name": "stdout",
     "output_type": "stream",
     "text": [
      "7463/7463 [==============================] - 36s 5ms/step - loss: 0.5340 - accuracy: 0.7641 - val_loss: 0.5335 - val_accuracy: 0.7648\n",
      "Epoch 10/20\n",
      "7452/7463 [============================>.] - ETA: 0s - loss: 0.5331 - accuracy: 0.7655"
     ]
    },
    {
     "name": "stderr",
     "output_type": "stream",
     "text": [
      "[2020-08-04 08:58:47,865] WARNING: Can save best model only with val_acc available, skipping.\n"
     ]
    },
    {
     "name": "stdout",
     "output_type": "stream",
     "text": [
      "Restoring model weights from the end of the best epoch.\n",
      "7463/7463 [==============================] - 36s 5ms/step - loss: 0.5331 - accuracy: 0.7655 - val_loss: 0.5331 - val_accuracy: 0.7649\n",
      "Epoch 00010: early stopping\n"
     ]
    },
    {
     "data": {
      "text/plain": [
       "<tensorflow.python.keras.callbacks.History at 0x7fe20337e1d0>"
      ]
     },
     "execution_count": 43,
     "metadata": {},
     "output_type": "execute_result"
    }
   ],
   "source": [
    "modelDNN.fit(X_train, y_train, validation_data=(X_val, y_val), callbacks=callbacks, shuffle=True , epochs=20)"
   ]
  },
  {
   "cell_type": "code",
   "execution_count": 44,
   "metadata": {},
   "outputs": [],
   "source": [
    "from sklearn.metrics import roc_curve, auc"
   ]
  },
  {
   "cell_type": "code",
   "execution_count": 45,
   "metadata": {},
   "outputs": [
    {
     "name": "stdout",
     "output_type": "stream",
     "text": [
      "The area under the curves are:\n",
      "AUC:0.842117566\n"
     ]
    },
    {
     "data": {
      "image/png": "[encoded data removed]",
      "text/plain": [
       "<Figure size 576x1152 with 1 Axes>"
      ]
     },
     "metadata": {
      "needs_background": "light"
     },
     "output_type": "display_data"
    }
   ],
   "source": [
    "y_score=modelDNN.predict(X_test)[:,0]\n",
    "# test=[i[1] for i in yim_test]\n",
    "fpr , tpr , thresholds = roc_curve ( y_test , y_score)\n",
    "roc_auc = auc(tpr,fpr )\n",
    "print(\"The area under the curves are:\")\n",
    "print(\"AUC:{0:.9f}\".format(roc_auc))\n",
    "# FalsePositiveFull, TruePositiveFull, ThresholdFull = metrics.roc_curve(y_test,Predictions)\n",
    "plt.figure(figsize=(8,16))\n",
    "plt.subplot(2,1,1)\n",
    "\n",
    "plt.plot(tpr,fpr, label='Fully supervised: AUC={0:.9f}'.format(roc_auc))\n",
    "plt.ylabel('False Positive Rate',fontsize=20)\n",
    "plt.xlabel('True Positive Rate',fontsize=20)\n",
    "plt.plot([0, 1], [0, 1], 'k--')\n",
    "plt.legend(bbox_to_anchor=(0.8, -0.17),ncol=2)\n",
    "plt.tight_layout()\n",
    "plt.savefig(\"/home/ja2006203966/script/Network/data/H5/DNN/DNN_roc.png\")\n",
    "hf = h5py.File(\"/home/ja2006203966/script/Network/data/H5/DNN/PR.h5\", 'w')\n",
    "hf.create_dataset('fpr', data=fpr)\n",
    "hf.create_dataset('tpr', data=tpr)\n",
    "hf.close()\n",
    "# np.save(\"./myfpr\",fpr)\n",
    "# np.save(\"./mytpr\",tpr)\n",
    "plt.show()"
   ]
  },
  {
   "cell_type": "code",
   "execution_count": 46,
   "metadata": {},
   "outputs": [
    {
     "data": {
      "image/png": "[encoded data removed]",
      "text/plain": [
       "<Figure size 576x576 with 1 Axes>"
      ]
     },
     "metadata": {
      "needs_background": "light"
     },
     "output_type": "display_data"
    }
   ],
   "source": [
    "plt.figure(figsize=(8,8))\n",
    "LOSS = pd.read_csv(save_dir+\"DNN.csv\")\n",
    "plt.title(\"Learning Curve\")\n",
    "plt.plot(LOSS[\"loss\"], label='loss',c='blue')\n",
    "plt.plot(LOSS[\"val_loss\"], label='val_loss',c='red')\n",
    "plt.plot(LOSS[\"accuracy\"], linestyle='--', label='accuracy',c='blue')\n",
    "plt.plot(LOSS[\"val_accuracy\"], linestyle='--', label='val_accuracy',c='red')\n",
    "# plt.ylim([0.3,1])\n",
    "plt.ylabel('loss',fontsize=20)\n",
    "plt.xlabel('epoch',fontsize=20)\n",
    "# plt.legend(bbox_to_anchor=(0.8, -0.17),ncol=2)\n",
    "plt.legend(bbox_to_anchor=(0.8, -0.17),ncol=2)\n",
    "plt.tight_layout()\n",
    "plt.savefig(\"/home/ja2006203966/script/Network/data/H5/DNN/DNNloss.png\")\n",
    "\n",
    "plt.show()"
   ]
  },
  {
   "cell_type": "code",
   "execution_count": 47,
   "metadata": {},
   "outputs": [],
   "source": [
    "modelDNN.save('/home/ja2006203966/script/Network/data/H5/DNN/modelDNN.h5')"
   ]
  },
  {
   "cell_type": "code",
   "execution_count": null,
   "metadata": {},
   "outputs": [],
   "source": []
  },
  {
   "cell_type": "markdown",
   "metadata": {},
   "source": [
    "# Load 2CNN data"
   ]
  },
  {
   "cell_type": "code",
   "execution_count": 48,
   "metadata": {},
   "outputs": [
    {
     "name": "stderr",
     "output_type": "stream",
     "text": [
      "100%|██████████| 40/40 [15:35<00:00, 23.39s/it]\n"
     ]
    }
   ],
   "source": [
    "N=40\n",
    "# Jim = np.array([np.zeros((64,64))])\n",
    "# Jim2 = np.array([np.zeros((64,64))])\n",
    "Jim = []\n",
    "Jim2 = []\n",
    "JSSd = {'MASS':[], 'T21':[], 'C22':[], 'C21':[],  'D22':[], 'D21':[]}\n",
    "JSSd2 = {'MASS':[], 'T21':[], 'C22':[], 'C21':[],  'D22':[], 'D21':[]}\n",
    "Labels = ['MASS', 'T21', 'C22', 'C21',  'D22', 'D21']\n",
    "for i in tqdm(range(N)):\n",
    "    f = h5py.File(\"/home/ja2006203966/script/Network/data/H5/SVJ/rinv03/\"+str(i)+\"JSS_Jim.h5\",'r')\n",
    "    \n",
    "    fin = np.array(f['jetim_index'][()])\n",
    "    fsin = np.array(f['jss_index'][()])\n",
    "    fcin = set(f['jss_index'][()])&set(f['jetim_index'][()])\n",
    "    fci = [(i in fcin) for i in fin]\n",
    "    fcs = [(i in fcin) for i in fsin]\n",
    "\n",
    "    fim = f['jetim'][()]\n",
    "    # fim = [i for i in fim]\n",
    "    fim = [fim[i] for i in range(len(fci)) if fci[i]]\n",
    "    \n",
    "    f2 = h5py.File(\"/home/ja2006203966/script/Network/data/H5/QCD/\"+str(i)+\"JSS_Jim.h5\",'r')\n",
    "    fin2 = np.array(f2['jetim_index'][()])\n",
    "    fsin2 = np.array(f2['jss_index'][()])\n",
    "    fcin2 = set(f2['jss_index'][()])&set(f2['jetim_index'][()])\n",
    "    fci2 = [(i in fcin2) for i in fin2]\n",
    "    fcs2 = [(i in fcin2) for i in fsin2]\n",
    "    \n",
    "    fim2 = f2['jetim'][()]\n",
    "    fim2 =  [fim2[i] for i in range(len(fci2)) if fci2[i]]\n",
    "    \n",
    "    Jim = Jim +fim\n",
    "    Jim2 = Jim2+fim2\n",
    "#     Jim = np.append(Jim,fim, axis=0)\n",
    "#     Jim2 = np.append(Jim2,fim2, axis=0)\n",
    "    \n",
    "    for lb in Labels:\n",
    "        jss = [f[lb][()][i] for i in range(len(fcs)) if fcs[i]]\n",
    "#         jss = f[lb][()].tolist()\n",
    "        JSSd[lb] = JSSd[lb] + jss\n",
    "        \n",
    "        jss2 = [f2[lb][()][i] for i in range(len(fcs2)) if fcs2[i]]\n",
    "\n",
    "#         jss2 = f2[lb][()].tolist()\n",
    "        JSSd2[lb] = JSSd2[lb] + jss2\n",
    "    \n",
    "    \n",
    "    \n",
    "    \n",
    "    \n",
    "\n"
   ]
  },
  {
   "cell_type": "code",
   "execution_count": 49,
   "metadata": {},
   "outputs": [],
   "source": [
    "fs = np.array([ JSSd[i] for i in Labels])\n",
    "fs2 = np.array([ JSSd2[i] for i in Labels])\n",
    "fs = fs.transpose((1,0))\n",
    "fs2 = fs2.transpose((1,0))\n",
    "fi = np.array(Jim)\n",
    "fi2 = np.array(Jim2)"
   ]
  },
  {
   "cell_type": "code",
   "execution_count": 50,
   "metadata": {},
   "outputs": [
    {
     "data": {
      "text/plain": [
       "((199741, 6), (199741, 64, 64), (354358, 6), (354358, 64, 64))"
      ]
     },
     "execution_count": 50,
     "metadata": {},
     "output_type": "execute_result"
    }
   ],
   "source": [
    "(fs.shape,fi.shape, fs2.shape, fi2.shape)"
   ]
  },
  {
   "cell_type": "code",
   "execution_count": 51,
   "metadata": {},
   "outputs": [],
   "source": [
    "fs = np.array([fs[i] for i in range(199000) ])\n",
    "fs2 = np.array([fs2[i] for i in range(199000) ])\n",
    "fi = np.array([fi[i] for i in range(199000) ])\n",
    "fi2 = np.array([fi2[i] for i in range(199000) ])"
   ]
  },
  {
   "cell_type": "code",
   "execution_count": 52,
   "metadata": {},
   "outputs": [],
   "source": [
    "ft = np.append(fs,fs2, axis=0)\n",
    "ftim = np.append(fi,fi2, axis=0)"
   ]
  },
  {
   "cell_type": "code",
   "execution_count": 53,
   "metadata": {},
   "outputs": [],
   "source": [
    "yt = np.array([1 for i in range(len(fs))]+[0 for i in range(len(fs2))])"
   ]
  },
  {
   "cell_type": "code",
   "execution_count": 54,
   "metadata": {},
   "outputs": [
    {
     "data": {
      "text/plain": [
       "(398000,)"
      ]
     },
     "execution_count": 54,
     "metadata": {},
     "output_type": "execute_result"
    }
   ],
   "source": [
    "yt.shape"
   ]
  },
  {
   "cell_type": "code",
   "execution_count": 55,
   "metadata": {},
   "outputs": [],
   "source": [
    "fc = np.array([(ft[i],ftim[i]) for i in range(len(ft))])"
   ]
  },
  {
   "cell_type": "code",
   "execution_count": 56,
   "metadata": {},
   "outputs": [
    {
     "data": {
      "text/plain": [
       "(6,)"
      ]
     },
     "execution_count": 56,
     "metadata": {},
     "output_type": "execute_result"
    }
   ],
   "source": [
    "fc[0][0].shape"
   ]
  },
  {
   "cell_type": "code",
   "execution_count": 57,
   "metadata": {},
   "outputs": [],
   "source": [
    "from sklearn.model_selection import train_test_split\n",
    "X_train, X_val, y_train, y_val = train_test_split(fc, yt, test_size=0.4)\n",
    "# X_train, X_val, y_train, y_val = train_test_split(ft, yt, test_size=0.4)\n",
    "X_val, X_test, y_val, y_test = train_test_split(X_val, y_val, test_size=0.25)"
   ]
  },
  {
   "cell_type": "code",
   "execution_count": 58,
   "metadata": {},
   "outputs": [],
   "source": [
    "X_train1 = X_train.transpose(1,0)[0]\n",
    "X_train2 = X_train.transpose(1,0)[1]\n",
    "X_val1 = X_val.transpose(1,0)[0]\n",
    "X_val2 = X_val.transpose(1,0)[1]\n",
    "X_test1 = X_test.transpose(1,0)[0]\n",
    "X_test2 = X_test.transpose(1,0)[1]"
   ]
  },
  {
   "cell_type": "code",
   "execution_count": 59,
   "metadata": {},
   "outputs": [],
   "source": [
    "X_train1 = np.array([i for i in X_train1])\n",
    "X_train2 = np.array([i for i in X_train2])\n",
    "X_val1 = np.array([i for i in X_val1])\n",
    "X_val2 = np.array([i for i in X_val2])\n",
    "X_test1 = np.array([i for i in X_test1])\n",
    "X_test2 = np.array([i for i in X_test2])"
   ]
  },
  {
   "cell_type": "code",
   "execution_count": 60,
   "metadata": {},
   "outputs": [
    {
     "data": {
      "text/plain": [
       "(238800, 6)"
      ]
     },
     "execution_count": 60,
     "metadata": {},
     "output_type": "execute_result"
    }
   ],
   "source": [
    "X_train1.shape"
   ]
  },
  {
   "cell_type": "markdown",
   "metadata": {},
   "source": [
    "## Save Training data"
   ]
  },
  {
   "cell_type": "code",
   "execution_count": 61,
   "metadata": {},
   "outputs": [],
   "source": [
    "outfile = \"/home/ja2006203966/script/Network/data/H5/2CNN/Train.h5\"\n",
    "hf = h5py.File(outfile, 'w')\n",
    "hf.create_dataset('X_train_jss', data=X_train1)\n",
    "hf.create_dataset('X_val_jss', data=X_val1)\n",
    "hf.create_dataset('X_test_jss', data=X_test1)\n",
    "hf.create_dataset('X_train_jim', data=X_train2)\n",
    "hf.create_dataset('X_val_jim', data=X_val2)\n",
    "hf.create_dataset('X_test_jim', data=X_test2)\n",
    "\n",
    "hf.create_dataset('y_train', data=y_train)\n",
    "hf.create_dataset('y_val', data=y_val)\n",
    "hf.create_dataset('y_test', data=y_test)\n",
    "hf.close()"
   ]
  },
  {
   "cell_type": "code",
   "execution_count": null,
   "metadata": {},
   "outputs": [],
   "source": []
  },
  {
   "cell_type": "markdown",
   "metadata": {},
   "source": [
    "# Model 2CNN"
   ]
  },
  {
   "cell_type": "markdown",
   "metadata": {},
   "source": [
    "## Load data"
   ]
  },
  {
   "cell_type": "code",
   "execution_count": 3,
   "metadata": {},
   "outputs": [],
   "source": [
    "outfile = \"/home/ja2006203966/script/Network/data/H5/2CNN/Train.h5\"\n",
    "hf = h5py.File(outfile, 'r')\n",
    "X_train1 = hf[\"X_train_jss\"][()]\n",
    "X_val1 = hf[\"X_val_jss\"][()]\n",
    "X_test1 = hf[\"X_test_jss\"][()]\n",
    "X_train2 = hf[\"X_train_jim\"][()]\n",
    "X_val2 = hf[\"X_val_jim\"][()]\n",
    "X_test2 = hf[\"X_test_jim\"][()]\n",
    "\n",
    "\n",
    "y_train = hf[\"y_train\"][()]\n",
    "y_val = hf[\"y_val\"][()]\n",
    "y_test = hf[\"y_test\"][()]\n",
    "\n",
    "hf.close()"
   ]
  },
  {
   "cell_type": "code",
   "execution_count": 148,
   "metadata": {},
   "outputs": [],
   "source": [
    "inputs = tf.keras.Input(shape=(6,))\n",
    "x = inputs\n",
    "x = tf.keras.layers.Dense(36, activation='relu')(x)\n",
    "\n",
    "# x = tf.keras.layers.Dense(64, activation='relu')(x)\n",
    "# x = tf.keras.layers.Dropout(0.2)(x)\n",
    "# x = tf.keras.layers.Dense(1)(x)\n",
    "\n",
    "inputs2 = tf.keras.Input(shape=(64,64))\n",
    "x2 = inputs2\n",
    "x2 = tf.expand_dims(x2,axis=-1)\n",
    "x2 = tf.keras.layers.Conv2D(256, kernel_size=(1,1), activation='relu', input_shape=(64,64,1))(x2)\n",
    "# x2 = tf.keras.layers.MaxPooling2D()(x2)\n",
    "x2 = tf.keras.layers.AveragePooling2D()(x2)\n",
    "x2 = tf.keras.layers.Conv2D(128, kernel_size=(4,4), activation='relu')(x2)\n",
    "# x2 = tf.keras.layers.MaxPooling2D()(x2)\n",
    "x2 = tf.keras.layers.AveragePooling2D()(x2)\n",
    "x2 = tf.keras.layers.Flatten()(x2)\n",
    "# x = tf.keras.layers.Dense(1, activation='sigmoid')(x)\n",
    "\n",
    "# x2 = tf.keras.layers.Dense(128, activation='relu')(x2)\n",
    "# x2 = tf.keras.layers.Dropout(0.2)(x2)\n",
    "# x2 = tf.keras.layers.Dense(1)(x2)\n",
    "\n",
    "xt = tf.concat([x,x2], axis=-1)\n",
    "xt = tf.keras.layers.Dense(128, activation='relu')(xt)\n",
    "xt = tf.keras.layers.Dropout(0.2)(xt)\n",
    "xt = tf.keras.layers.Dense(2, activation='sigmoid')(xt)\n",
    "\n",
    "\n",
    "\n",
    "\n",
    "model2CNN = tf.keras.Model(inputs=(inputs, inputs2), outputs=xt, name='2CNN')"
   ]
  },
  {
   "cell_type": "code",
   "execution_count": 4,
   "metadata": {},
   "outputs": [],
   "source": [
    "class Linear(Layer):\n",
    "    def __init__(self, units=1):\n",
    "        super(Linear, self).__init__()\n",
    "        self.units = units\n",
    "        \n",
    "    def build(self, input_shape):  # Create the state of the layer (weights)\n",
    "        w_init = tf.random_normal_initializer()\n",
    "        self.w = tf.Variable(\n",
    "            initial_value=w_init(shape=(input_shape[-1], self.units), dtype='float32'), trainable=True)\n",
    "        \n",
    "        b_init = tf.zeros_initializer()\n",
    "        self.b = tf.Variable(initial_value=b_init(shape=(self.units,), dtype='float32'), trainable=True)\n",
    "        \n",
    "    def call(self, inputs):  # Defines the computation from inputs to outputs\n",
    "        \n",
    "        return tf.matmul(inputs, self.w) + self.b\n",
    "   "
   ]
  },
  {
   "cell_type": "code",
   "execution_count": 26,
   "metadata": {},
   "outputs": [
    {
     "name": "stdout",
     "output_type": "stream",
     "text": [
      "model2 (None, 6)\n",
      "(None, 6, 1)\n",
      "(None, 6, 1)\n"
     ]
    }
   ],
   "source": [
    "inputs2 = tf.keras.Input(shape=(6,))\n",
    "x2 = inputs2\n",
    "print('model2',x2.shape)\n",
    "x2 = tf.expand_dims(x2,axis=-1)\n",
    "print(x2.shape)\n",
    "x2 = Linear()(x2)\n",
    "print(x2.shape)"
   ]
  },
  {
   "cell_type": "code",
   "execution_count": 5,
   "metadata": {},
   "outputs": [
    {
     "name": "stdout",
     "output_type": "stream",
     "text": [
      "(None, 64, 64, 1)\n",
      "(None, 64, 64, 32)\n",
      "(None, 61, 61, 64)\n",
      "(None, 15, 15, 64)\n",
      "(None, 12, 12, 128)\n",
      "(None, 3, 3, 128)\n",
      "(None, 1, 1, 256)\n",
      "(None, 256)\n",
      "model2 (None, 6)\n",
      "modelt (None, 262)\n",
      "modelt (None, 128)\n",
      "modelt (None, 128)\n",
      "modelt (None, 2)\n"
     ]
    }
   ],
   "source": [
    "inputs = tf.keras.Input(shape=(64,64))\n",
    "x = inputs\n",
    "x = tf.expand_dims(x,axis=-1)\n",
    "print(x.shape)\n",
    "x = tf.keras.layers.Conv2D(32, kernel_size=(1,1), activation='relu', input_shape=(64,64,1))(x)\n",
    "print(x.shape)\n",
    "# x = tf.keras.layers.AveragePooling2D(pool_size=(2, 2))(x)\n",
    "# print(x.shape)\n",
    "x = tf.keras.layers.Conv2D(64, kernel_size=(4,4), activation='relu', input_shape=(64,64,32))(x)\n",
    "print(x.shape)\n",
    "x = tf.keras.layers.AveragePooling2D(pool_size=(4, 4))(x)\n",
    "print(x.shape)\n",
    "\n",
    "x = tf.keras.layers.Conv2D(128, kernel_size=(4,4), activation='relu', input_shape=(15,15,64))(x)\n",
    "print(x.shape)\n",
    "x = tf.keras.layers.AveragePooling2D(pool_size=(4, 4))(x)\n",
    "print(x.shape)\n",
    "\n",
    "x = tf.keras.layers.Conv2D(256, kernel_size=(3,3), activation='relu', input_shape=(3,3,128))(x)\n",
    "print(x.shape)\n",
    "\n",
    "x = tf.keras.layers.Flatten()(x)\n",
    "print(x.shape)\n",
    "\n",
    "\n",
    "inputs2 = tf.keras.Input(shape=(6,))\n",
    "x2 = inputs2\n",
    "print('model2',x2.shape)\n",
    "\n",
    "# x2 = tf.keras.layers.Dense(6, activation='relu')(x2)\n",
    "# print('model2',x2.shape)\n",
    "# x2 = tf.expand_dims(x2,axis=-1)\n",
    "# print('model2',x2.shape)\n",
    "# x2 = Linear()(x2)\n",
    "# print('model2',x2.shape)\n",
    "# x2 = tf.keras.layers.Flatten()(x2)\n",
    "# print('model2',x2.shape)\n",
    "\n",
    "xt = tf.concat([x,x2], axis=-1)\n",
    "print('modelt', xt.shape)\n",
    "xt = tf.keras.layers.Dense(128, activation='relu')(xt)\n",
    "print('modelt', xt.shape)\n",
    "xt = tf.keras.layers.Dropout(0.2)(xt)\n",
    "print('modelt', xt.shape)\n",
    "xt = tf.keras.layers.Dense(2, activation='sigmoid')(xt)\n",
    "print('modelt', xt.shape)\n",
    "\n",
    "model2CNN = tf.keras.Model(inputs=(inputs2, inputs), outputs=xt, name='2CNN')\n"
   ]
  },
  {
   "cell_type": "code",
   "execution_count": 6,
   "metadata": {},
   "outputs": [
    {
     "name": "stdout",
     "output_type": "stream",
     "text": [
      "Model: \"2CNN\"\n",
      "__________________________________________________________________________________________________\n",
      "Layer (type)                    Output Shape         Param #     Connected to                     \n",
      "==================================================================================================\n",
      "input_1 (InputLayer)            [(None, 64, 64)]     0                                            \n",
      "__________________________________________________________________________________________________\n",
      "tf_op_layer_ExpandDims (TensorF [(None, 64, 64, 1)]  0           input_1[0][0]                    \n",
      "__________________________________________________________________________________________________\n",
      "conv2d (Conv2D)                 (None, 64, 64, 32)   64          tf_op_layer_ExpandDims[0][0]     \n",
      "__________________________________________________________________________________________________\n",
      "conv2d_1 (Conv2D)               (None, 61, 61, 64)   32832       conv2d[0][0]                     \n",
      "__________________________________________________________________________________________________\n",
      "average_pooling2d (AveragePooli (None, 15, 15, 64)   0           conv2d_1[0][0]                   \n",
      "__________________________________________________________________________________________________\n",
      "conv2d_2 (Conv2D)               (None, 12, 12, 128)  131200      average_pooling2d[0][0]          \n",
      "__________________________________________________________________________________________________\n",
      "average_pooling2d_1 (AveragePoo (None, 3, 3, 128)    0           conv2d_2[0][0]                   \n",
      "__________________________________________________________________________________________________\n",
      "conv2d_3 (Conv2D)               (None, 1, 1, 256)    295168      average_pooling2d_1[0][0]        \n",
      "__________________________________________________________________________________________________\n",
      "flatten (Flatten)               (None, 256)          0           conv2d_3[0][0]                   \n",
      "__________________________________________________________________________________________________\n",
      "input_2 (InputLayer)            [(None, 6)]          0                                            \n",
      "__________________________________________________________________________________________________\n",
      "tf_op_layer_concat (TensorFlowO [(None, 262)]        0           flatten[0][0]                    \n",
      "                                                                 input_2[0][0]                    \n",
      "__________________________________________________________________________________________________\n",
      "dense (Dense)                   (None, 128)          33664       tf_op_layer_concat[0][0]         \n",
      "__________________________________________________________________________________________________\n",
      "dropout (Dropout)               (None, 128)          0           dense[0][0]                      \n",
      "__________________________________________________________________________________________________\n",
      "dense_1 (Dense)                 (None, 2)            258         dropout[0][0]                    \n",
      "==================================================================================================\n",
      "Total params: 493,186\n",
      "Trainable params: 493,186\n",
      "Non-trainable params: 0\n",
      "__________________________________________________________________________________________________\n"
     ]
    }
   ],
   "source": [
    "loss_fn = tf.keras.losses.SparseCategoricalCrossentropy(from_logits=True)\n",
    "model2CNN.compile(optimizer='adam', loss=loss_fn, metrics=['accuracy'])\n",
    "model2CNN.summary()"
   ]
  },
  {
   "cell_type": "code",
   "execution_count": 7,
   "metadata": {},
   "outputs": [],
   "source": [
    "model_type = \"2CNN\"\n",
    "save_dir = '/home/ja2006203966/script/Network/data/H5/2CNN/'\n",
    "model_name = '%s_model.test.h5' % model_type\n",
    "if not os.path.isdir(save_dir):\n",
    "    os.makedirs(save_dir)\n",
    "filepath = os.path.join(save_dir, model_name)\n",
    "\n",
    "# Prepare callbacks for model saving and for learning rate adjustment.\n",
    "checkpoint = keras.callbacks.ModelCheckpoint(filepath=filepath,\n",
    "                             monitor='val_acc',\n",
    "                             verbose=1,\n",
    "                             save_best_only=True)\n",
    "\n",
    "# lr_scheduler = keras.callbacks.LearningRateScheduler(lr_schedule)\n",
    "\n",
    "# progress_bar = keras.callbacks.ProgbarLogger()\n",
    "csv_logger = keras.callbacks.CSVLogger(save_dir+'2CNN.csv')\n",
    "earlystop = tf.keras.callbacks.EarlyStopping(\n",
    "                            monitor='val_loss',\n",
    "                            min_delta=1e-4,\n",
    "                            patience=3,\n",
    "                            verbose=1,\n",
    "                            mode='min', baseline=None, ## 'min' \n",
    "                            restore_best_weights=True)\n",
    "# reduce_lr = tf.keras.callbacks.ReduceLROnPlateau(monitor='val_loss', factor=0.2,\n",
    "#                               patience=2, min_lr=0.00001)\n",
    "callbacks = [checkpoint, csv_logger,  earlystop ]\n"
   ]
  },
  {
   "cell_type": "code",
   "execution_count": null,
   "metadata": {},
   "outputs": [],
   "source": []
  },
  {
   "cell_type": "code",
   "execution_count": 8,
   "metadata": {},
   "outputs": [
    {
     "name": "stdout",
     "output_type": "stream",
     "text": [
      "Epoch 1/20\n",
      "7463/7463 [==============================] - ETA: 0s - loss: 0.5456 - accuracy: 0.7541"
     ]
    },
    {
     "name": "stderr",
     "output_type": "stream",
     "text": [
      "[2020-08-04 09:19:04,806] WARNING: Can save best model only with val_acc available, skipping.\n"
     ]
    },
    {
     "name": "stdout",
     "output_type": "stream",
     "text": [
      "7463/7463 [==============================] - 78s 10ms/step - loss: 0.5456 - accuracy: 0.7541 - val_loss: 0.5313 - val_accuracy: 0.7702\n",
      "Epoch 2/20\n",
      "7460/7463 [============================>.] - ETA: 0s - loss: 0.5331 - accuracy: 0.7672"
     ]
    },
    {
     "name": "stderr",
     "output_type": "stream",
     "text": [
      "[2020-08-04 09:20:23,040] WARNING: Can save best model only with val_acc available, skipping.\n"
     ]
    },
    {
     "name": "stdout",
     "output_type": "stream",
     "text": [
      "7463/7463 [==============================] - 78s 10ms/step - loss: 0.5331 - accuracy: 0.7672 - val_loss: 0.5274 - val_accuracy: 0.7738\n",
      "Epoch 3/20\n",
      "7461/7463 [============================>.] - ETA: 0s - loss: 0.5276 - accuracy: 0.7722"
     ]
    },
    {
     "name": "stderr",
     "output_type": "stream",
     "text": [
      "[2020-08-04 09:21:41,467] WARNING: Can save best model only with val_acc available, skipping.\n"
     ]
    },
    {
     "name": "stdout",
     "output_type": "stream",
     "text": [
      "7463/7463 [==============================] - 78s 11ms/step - loss: 0.5276 - accuracy: 0.7722 - val_loss: 0.5249 - val_accuracy: 0.7742\n",
      "Epoch 4/20\n",
      "7457/7463 [============================>.] - ETA: 0s - loss: 0.5252 - accuracy: 0.7756"
     ]
    },
    {
     "name": "stderr",
     "output_type": "stream",
     "text": [
      "[2020-08-04 09:22:59,622] WARNING: Can save best model only with val_acc available, skipping.\n"
     ]
    },
    {
     "name": "stdout",
     "output_type": "stream",
     "text": [
      "7463/7463 [==============================] - 78s 10ms/step - loss: 0.5252 - accuracy: 0.7756 - val_loss: 0.5213 - val_accuracy: 0.7784\n",
      "Epoch 5/20\n",
      "7457/7463 [============================>.] - ETA: 0s - loss: 0.5229 - accuracy: 0.7774"
     ]
    },
    {
     "name": "stderr",
     "output_type": "stream",
     "text": [
      "[2020-08-04 09:24:17,674] WARNING: Can save best model only with val_acc available, skipping.\n"
     ]
    },
    {
     "name": "stdout",
     "output_type": "stream",
     "text": [
      "7463/7463 [==============================] - 78s 10ms/step - loss: 0.5229 - accuracy: 0.7774 - val_loss: 0.5188 - val_accuracy: 0.7823\n",
      "Epoch 6/20\n",
      "7460/7463 [============================>.] - ETA: 0s - loss: 0.5200 - accuracy: 0.7805"
     ]
    },
    {
     "name": "stderr",
     "output_type": "stream",
     "text": [
      "[2020-08-04 09:25:36,123] WARNING: Can save best model only with val_acc available, skipping.\n"
     ]
    },
    {
     "name": "stdout",
     "output_type": "stream",
     "text": [
      "7463/7463 [==============================] - 78s 11ms/step - loss: 0.5200 - accuracy: 0.7805 - val_loss: 0.5187 - val_accuracy: 0.7813\n",
      "Epoch 7/20\n",
      "7462/7463 [============================>.] - ETA: 0s - loss: 0.5177 - accuracy: 0.7828"
     ]
    },
    {
     "name": "stderr",
     "output_type": "stream",
     "text": [
      "[2020-08-04 09:26:54,486] WARNING: Can save best model only with val_acc available, skipping.\n"
     ]
    },
    {
     "name": "stdout",
     "output_type": "stream",
     "text": [
      "7463/7463 [==============================] - 78s 10ms/step - loss: 0.5177 - accuracy: 0.7828 - val_loss: 0.5171 - val_accuracy: 0.7815\n",
      "Epoch 8/20\n",
      "7460/7463 [============================>.] - ETA: 0s - loss: 0.5161 - accuracy: 0.7851"
     ]
    },
    {
     "name": "stderr",
     "output_type": "stream",
     "text": [
      "[2020-08-04 09:28:13,623] WARNING: Can save best model only with val_acc available, skipping.\n"
     ]
    },
    {
     "name": "stdout",
     "output_type": "stream",
     "text": [
      "7463/7463 [==============================] - 79s 11ms/step - loss: 0.5161 - accuracy: 0.7851 - val_loss: 0.5180 - val_accuracy: 0.7838\n",
      "Epoch 9/20\n",
      "7460/7463 [============================>.] - ETA: 0s - loss: 0.5151 - accuracy: 0.7866"
     ]
    },
    {
     "name": "stderr",
     "output_type": "stream",
     "text": [
      "[2020-08-04 09:29:32,221] WARNING: Can save best model only with val_acc available, skipping.\n"
     ]
    },
    {
     "name": "stdout",
     "output_type": "stream",
     "text": [
      "7463/7463 [==============================] - 79s 11ms/step - loss: 0.5151 - accuracy: 0.7865 - val_loss: 0.5151 - val_accuracy: 0.7852\n",
      "Epoch 10/20\n",
      "7458/7463 [============================>.] - ETA: 0s - loss: 0.5137 - accuracy: 0.7876"
     ]
    },
    {
     "name": "stderr",
     "output_type": "stream",
     "text": [
      "[2020-08-04 09:30:51,163] WARNING: Can save best model only with val_acc available, skipping.\n"
     ]
    },
    {
     "name": "stdout",
     "output_type": "stream",
     "text": [
      "7463/7463 [==============================] - 79s 11ms/step - loss: 0.5137 - accuracy: 0.7876 - val_loss: 0.5137 - val_accuracy: 0.7867\n",
      "Epoch 11/20\n",
      "7463/7463 [==============================] - ETA: 0s - loss: 0.5124 - accuracy: 0.7888"
     ]
    },
    {
     "name": "stderr",
     "output_type": "stream",
     "text": [
      "[2020-08-04 09:32:10,868] WARNING: Can save best model only with val_acc available, skipping.\n"
     ]
    },
    {
     "name": "stdout",
     "output_type": "stream",
     "text": [
      "7463/7463 [==============================] - 80s 11ms/step - loss: 0.5124 - accuracy: 0.7888 - val_loss: 0.5142 - val_accuracy: 0.7846\n",
      "Epoch 12/20\n",
      "7463/7463 [==============================] - ETA: 0s - loss: 0.5114 - accuracy: 0.7904"
     ]
    },
    {
     "name": "stderr",
     "output_type": "stream",
     "text": [
      "[2020-08-04 09:33:29,105] WARNING: Can save best model only with val_acc available, skipping.\n"
     ]
    },
    {
     "name": "stdout",
     "output_type": "stream",
     "text": [
      "7463/7463 [==============================] - 78s 10ms/step - loss: 0.5114 - accuracy: 0.7904 - val_loss: 0.5163 - val_accuracy: 0.7846\n",
      "Epoch 13/20\n",
      "7462/7463 [============================>.] - ETA: 0s - loss: 0.5107 - accuracy: 0.7906"
     ]
    },
    {
     "name": "stderr",
     "output_type": "stream",
     "text": [
      "[2020-08-04 09:34:47,808] WARNING: Can save best model only with val_acc available, skipping.\n"
     ]
    },
    {
     "name": "stdout",
     "output_type": "stream",
     "text": [
      "Restoring model weights from the end of the best epoch.\n",
      "7463/7463 [==============================] - 79s 11ms/step - loss: 0.5107 - accuracy: 0.7906 - val_loss: 0.5142 - val_accuracy: 0.7869\n",
      "Epoch 00013: early stopping\n"
     ]
    },
    {
     "data": {
      "text/plain": [
       "<tensorflow.python.keras.callbacks.History at 0x7faf8807f7f0>"
      ]
     },
     "execution_count": 8,
     "metadata": {},
     "output_type": "execute_result"
    }
   ],
   "source": [
    "model2CNN.fit((X_train1,X_train2), y_train, callbacks = callbacks, validation_data=((X_val1,X_val2), y_val), shuffle=True , epochs=20)"
   ]
  },
  {
   "cell_type": "code",
   "execution_count": 9,
   "metadata": {},
   "outputs": [],
   "source": [
    "model2CNN.save('/home/ja2006203966/script/Network/data/H5/2CNN/model2CNN.h5')"
   ]
  },
  {
   "cell_type": "code",
   "execution_count": 10,
   "metadata": {},
   "outputs": [],
   "source": [
    "from sklearn.metrics import roc_curve, auc"
   ]
  },
  {
   "cell_type": "code",
   "execution_count": 11,
   "metadata": {},
   "outputs": [
    {
     "name": "stdout",
     "output_type": "stream",
     "text": [
      "The area under the curves are:\n",
      "AUC:0.861165673\n"
     ]
    },
    {
     "data": {
      "image/png": "[encoded data removed]",
      "text/plain": [
       "<Figure size 576x1152 with 1 Axes>"
      ]
     },
     "metadata": {
      "needs_background": "light"
     },
     "output_type": "display_data"
    }
   ],
   "source": [
    "y_score=model2CNN.predict((X_test1,X_test2))[:,0]\n",
    "# test=[i[1] for i in yim_test]\n",
    "fpr , tpr , thresholds = roc_curve ( y_test , y_score)\n",
    "roc_auc = auc(tpr,fpr )\n",
    "print(\"The area under the curves are:\")\n",
    "print(\"AUC:{0:.9f}\".format(roc_auc))\n",
    "# FalsePositiveFull, TruePositiveFull, ThresholdFull = metrics.roc_curve(y_test,Predictions)\n",
    "plt.figure(figsize=(8,16))\n",
    "plt.subplot(2,1,1)\n",
    "\n",
    "plt.plot(tpr,fpr, label='Fully supervised: AUC={0:.9f}'.format(roc_auc))\n",
    "plt.ylabel('False Positive Rate',fontsize=20)\n",
    "plt.xlabel('True Positive Rate',fontsize=20)\n",
    "plt.plot([0, 1], [0, 1], 'k--')\n",
    "plt.legend(bbox_to_anchor=(0.8, -0.17),ncol=2)\n",
    "plt.tight_layout()\n",
    "plt.savefig(\"/home/ja2006203966/script/Network/data/H5/2CNN/2CNN_roc.png\")\n",
    "hf = h5py.File(\"/home/ja2006203966/script/Network/data/H5/2CNN/PR.h5\", 'w')\n",
    "hf.create_dataset('fpr', data=fpr)\n",
    "hf.create_dataset('tpr', data=tpr)\n",
    "hf.close()\n",
    "# np.save(\"./myfpr\",fpr)\n",
    "# np.save(\"./mytpr\",tpr)\n",
    "plt.show()"
   ]
  },
  {
   "cell_type": "code",
   "execution_count": 12,
   "metadata": {},
   "outputs": [
    {
     "data": {
      "image/png": "[encoded data removed]",
      "text/plain": [
       "<Figure size 576x576 with 1 Axes>"
      ]
     },
     "metadata": {
      "needs_background": "light"
     },
     "output_type": "display_data"
    }
   ],
   "source": [
    "plt.figure(figsize=(8,8))\n",
    "LOSS = pd.read_csv(save_dir+\"2CNN.csv\")\n",
    "plt.title(\"Learning Curve\")\n",
    "plt.plot(LOSS[\"loss\"], label='loss',c='blue')\n",
    "plt.plot(LOSS[\"val_loss\"], label='val_loss',c='red')\n",
    "plt.plot(LOSS[\"accuracy\"], linestyle='--', label='accuracy',c='blue')\n",
    "plt.plot(LOSS[\"val_accuracy\"], linestyle='--', label='val_accuracy',c='red')\n",
    "# plt.ylim([0.3,1])\n",
    "plt.ylabel('loss',fontsize=20)\n",
    "plt.xlabel('epoch',fontsize=20)\n",
    "# plt.legend(bbox_to_anchor=(0.8, -0.17),ncol=2)\n",
    "plt.legend(bbox_to_anchor=(0.8, -0.17),ncol=2)\n",
    "plt.tight_layout()\n",
    "plt.savefig(\"/home/ja2006203966/script/Network/data/H5/2CNN/2CNNloss.png\")\n",
    "\n",
    "plt.show()"
   ]
  },
  {
   "cell_type": "code",
   "execution_count": 3,
   "metadata": {},
   "outputs": [
    {
     "data": {
      "image/png": "[encoded data removed]",
      "text/plain": [
       "<Figure size 432x288 with 1 Axes>"
      ]
     },
     "metadata": {
      "needs_background": "light"
     },
     "output_type": "display_data"
    }
   ],
   "source": [
    "hf = h5py.File(\"/home/ja2006203966/script/Network/data/H5/DNN/PR.h5\", 'r')\n",
    "tpr1 = hf[\"tpr\"][()]\n",
    "fpr1 = hf[\"fpr\"][()]\n",
    "hf.close()\n",
    "hf = h5py.File(\"/home/ja2006203966/script/Network/data/H5/CNN/PR.h5\", 'r')\n",
    "tpr2 = hf[\"tpr\"][()]\n",
    "fpr2 = hf[\"fpr\"][()]\n",
    "hf.close()\n",
    "hf = h5py.File(\"/home/ja2006203966/script/Network/data/H5/2CNN/PR.h5\", 'r')\n",
    "tpr3 = hf[\"tpr\"][()]\n",
    "fpr3 = hf[\"fpr\"][()]\n",
    "hf.close()\n",
    "hf = h5py.File(\"/home/ja2006203966/script/Network/data/H5/ParticleNet/PR.h5\", 'r')\n",
    "tpr4 = hf[\"tpr\"][()]\n",
    "fpr4 = hf[\"fpr\"][()]\n",
    "hf.close()\n",
    "\n",
    "\n",
    "plt.plot(tpr1,fpr1, linewidth=1, label='DNN')\n",
    "plt.plot(tpr2,fpr2, linewidth=1, label='CNN')\n",
    "plt.plot(tpr3,fpr3, linewidth=1, label='2CNN')\n",
    "plt.plot(tpr4,fpr4, linewidth=1, label='ParticleNet')\n",
    "plt.legend(prop={'size': 12}) # plot label tag\n",
    "plt.ylabel('False Positive Rate',fontsize=20)\n",
    "plt.xlabel('True Positive Rate',fontsize=20)\n",
    "plt.plot([0, 1], [0, 1], 'k--')\n",
    "plt.savefig(\"/home/ja2006203966/script/Network/data/H5/ALL_ROC.png\")\n",
    "plt.show()\n",
    "\n"
   ]
  },
  {
   "cell_type": "code",
   "execution_count": null,
   "metadata": {},
   "outputs": [],
   "source": []
  },
  {
   "cell_type": "code",
   "execution_count": 40,
   "metadata": {},
   "outputs": [
    {
     "name": "stdout",
     "output_type": "stream",
     "text": [
      "run 0\n",
      "1\n",
      "run 1\n",
      "2\n",
      "run 2\n",
      "continue\n",
      "run 3\n",
      "4\n",
      "run 4\n",
      "5\n"
     ]
    }
   ],
   "source": [
    "it = iter([1, 2, 'continue', 4, 5])\n",
    "for i in range(5):\n",
    "    print(\"run\",i)\n",
    "    x = next(it)\n",
    "    print(x)\n",
    "#     except StopIteration:\n",
    "#         pass\n",
    "#     except 'continue':\n",
    "#         continue"
   ]
  },
  {
   "cell_type": "markdown",
   "metadata": {},
   "source": [
    "# Prepare ParticleNet data"
   ]
  },
  {
   "cell_type": "code",
   "execution_count": 56,
   "metadata": {},
   "outputs": [
    {
     "data": {
      "text/plain": [
       "<KeysViewHDF5 ['ETA', 'JCDELTETA', 'JCDELTPHI', 'JCETA', 'JCMASS', 'JCPHI', 'JCPT', 'MASS', 'Ncontiteunts', 'PHI', 'PT', 'constiteunts_index', 'index']>"
      ]
     },
     "execution_count": 56,
     "metadata": {},
     "output_type": "execute_result"
    }
   ],
   "source": [
    "f = h5py.File(\"/home/ja2006203966/script/Network/data/H5/SVJ/rinv03/\"+str(0)+\"Trimjetc.h5\",'r')\n",
    "\n",
    "f.keys()"
   ]
  },
  {
   "cell_type": "code",
   "execution_count": 14,
   "metadata": {},
   "outputs": [],
   "source": [
    "def jce_np(jcpt, jceta, jcmass):\n",
    "    jcp = jcpt*np.cosh(jceta)\n",
    "    return (jcp**2+jcmass**2)**0.5\n",
    "    "
   ]
  },
  {
   "cell_type": "code",
   "execution_count": 66,
   "metadata": {},
   "outputs": [],
   "source": []
  },
  {
   "cell_type": "code",
   "execution_count": 17,
   "metadata": {},
   "outputs": [],
   "source": [
    "_index, _jcpt, _jceta, _jcphi, _jcmass, _Ncons, _consindex, _jcdelteta, _jcdeltphi, _jpt, _jeta, _jphi = (i for i in range(12))\n",
    "Labels = ['index', 'JCPT', 'JCETA', 'JCPHI', 'JCMASS', 'Ncontiteunts', 'constiteunts_index', 'JCDELTETA', 'JCDELTPHI', 'PT', 'ETA', 'PHI']\n",
    "def h5_to_data(h5path):\n",
    "    Data = {'mask':[], 'points':[], 'features':[]}\n",
    "    f = h5py.File(h5path,'r')\n",
    "    fc = np.array([f[lb][()] for lb in Labels])\n",
    "    fc = fc.transpose((1,0))\n",
    "    j0 = fc[0][_index]\n",
    "    \n",
    "    JCE = jce_np(fc[:,_jcpt], fc[:,_jceta], fc[:,_jcphi])\n",
    "    logpt = np.log(fc[:,_jcpt])\n",
    "    loge = np.log(JCE)\n",
    "    relatpt = fc[:,_jcpt]/fc[:,_jpt]\n",
    "    mask, features, points = np.zeros((100,1)), np.zeros((100,5)), np.zeros((100,2)) # prepare constituents list\n",
    "    Nfc = len(fc)\n",
    "    for j in range(len(fc)):\n",
    "        if fc[j][_Ncons]>100:\n",
    "            if j< Nfc-1:\n",
    "                j0 = fc[j+1][_index]\n",
    "            continue\n",
    "        if fc[j][_index]!=j0:\n",
    "            j0 = fc[j][_index]\n",
    "            Data['mask'].append(mask)\n",
    "            Data['points'].append(points)\n",
    "            Data['features'].append(features)\n",
    "            mask, features, points = np.zeros((100,1)), np.zeros((100,5)), np.zeros((100,2)) # prepare constituents list\n",
    "            continue\n",
    "        jc = int(fc[j][_consindex])\n",
    "#         jce = JCE[j]\n",
    "        \n",
    "        points[jc] = np.array([fc[j][_jcdelteta], fc[j][_jcdeltphi] ])\n",
    "        mask[jc] = logpt[j]\n",
    "        features[jc] = np.array([logpt[j], loge[j], fc[j][_jcdelteta], fc[j][_jcdeltphi], relatpt[j]])\n",
    "    return Data\n",
    "\n",
    "def merging(gg,qq):\n",
    "    total={}\n",
    "    total['mask']=gg[\"mask\"]+qq[\"mask\"]\n",
    "    total['features']=gg[\"features\"]+qq[\"features\"]\n",
    "    total['points']=gg['points']+qq['points']\n",
    "    return total\n",
    "def separatedata(features_list,y,rateval,ratetest):\n",
    "    features_train, features_test, features_val={},{},{}\n",
    "    from sklearn.model_selection import train_test_split\n",
    "    mask = features_list[\"mask\"]\n",
    "    features = features_list[\"features\"]\n",
    "    points = features_list[\"points\"]\n",
    "    X_ind = [i for i in range(len(y))]\n",
    "    X_train, X_ind, y_train, y_ind = train_test_split(X_ind, y, test_size=rateval+ratetest)\n",
    "    N=int(len(X_ind)*rateval/(rateval+ratetest))\n",
    "    X_val, X_test = X_ind[:N], X_ind[N:]\n",
    "    y_val, y_test = y_ind[:N], y_ind[N:]\n",
    "    features_train['mask']=np.array([mask[i] for i in X_train])\n",
    "    features_train['features']=np.array([features[i] for i in X_train])\n",
    "    features_train['points']=np.array([points[i] for i in X_train])\n",
    "    \n",
    "    features_test['mask']=np.array([mask[i] for i in X_test])\n",
    "    features_test['features']=np.array([features[i] for i in X_test])\n",
    "    features_test['points']=np.array([points[i] for i in X_test])\n",
    "    \n",
    "    features_val['mask']=np.array([mask[i] for i in X_val])\n",
    "    features_val['features']=np.array([features[i] for i in X_val])\n",
    "    features_val['points']=np.array([points[i] for i in X_val])\n",
    "    \n",
    "    return features_train, features_val, features_test,np.array(y_train), np.array(y_val), np.array(y_test) "
   ]
  },
  {
   "cell_type": "code",
   "execution_count": 18,
   "metadata": {},
   "outputs": [
    {
     "name": "stderr",
     "output_type": "stream",
     "text": [
      "100%|██████████| 40/40 [04:17<00:00,  6.44s/it]\n"
     ]
    }
   ],
   "source": [
    "N=40\n",
    "Jim = np.array([np.zeros((64,64))])\n",
    "Data = {'mask':[], 'points':[], 'features':[]}\n",
    "Data2 =  {'mask':[], 'points':[], 'features':[]}\n",
    "for i in tqdm(range(N)):\n",
    "    h5path1 = \"/home/ja2006203966/script/Network/data/H5/SVJ/rinv03/\"+str(i)+\"Trimjetc.h5\"\n",
    "    h5path2 = \"/home/ja2006203966/script/Network/data/H5/QCD/\"+str(i)+\"Trimjetc.h5\"\n",
    "    data = h5_to_data(h5path1)\n",
    "    data2 = h5_to_data(h5path2)\n",
    "    Data = merging(Data, data)\n",
    "    Data2 = merging(Data2, data2)\n",
    "\n",
    "\n",
    "    \n",
    "        \n",
    "        \n",
    "                  \n",
    "                  \n",
    "    \n",
    "    \n",
    "  \n",
    "\n"
   ]
  },
  {
   "cell_type": "code",
   "execution_count": 19,
   "metadata": {},
   "outputs": [
    {
     "name": "stdout",
     "output_type": "stream",
     "text": [
      "check shape:  (100, 1) (100, 2) (100, 5)\n"
     ]
    }
   ],
   "source": [
    "print(\"check shape: \",Data['mask'][0].shape,Data['points'][0].shape,Data['features'][0].shape)"
   ]
  },
  {
   "cell_type": "code",
   "execution_count": 20,
   "metadata": {},
   "outputs": [],
   "source": [
    "y=[[0,1] for i in range(len(Data['mask']))]+[[1,0] for i in range(len(Data2['mask']))] \n",
    "total = merging(Data, Data2)\n",
    "# del gg, qq, eventg, eventq\n",
    "# del Data, Data2\n",
    "X_train, X_val, X_test, y_train, y_val, y_test = separatedata(total,y,0.3,0.1)"
   ]
  },
  {
   "cell_type": "code",
   "execution_count": null,
   "metadata": {},
   "outputs": [],
   "source": []
  },
  {
   "cell_type": "code",
   "execution_count": 21,
   "metadata": {},
   "outputs": [],
   "source": [
    "# outfile = \"/home/ja2006203966/script/Network/data/H5/ParticleNet/Train.h5\"\n",
    "# hf = h5py.File(outfile, 'w')\n",
    "# hf.create_dataset('X_train_mask', data=X_train['mask'])\n",
    "# hf.create_dataset('X_val_mask', data=X_val['mask'])\n",
    "# hf.create_dataset('X_test_mask', data=X_test['mask'])\n",
    "\n",
    "# hf.create_dataset('X_train_points', data=X_train['points'])\n",
    "# hf.create_dataset('X_val_points', data=X_val['points'])\n",
    "# hf.create_dataset('X_test_points', data=X_test['points'])\n",
    "\n",
    "# hf.create_dataset('X_train_features', data=X_train['features'])\n",
    "# hf.create_dataset('X_val_features', data=X_val['features'])\n",
    "# hf.create_dataset('X_test_features', data=X_test['features'])\n",
    "\n",
    "# hf.create_dataset('y_train', data=y_train)\n",
    "# hf.create_dataset('y_val', data=y_val)\n",
    "# hf.create_dataset('y_test', data=y_test)\n",
    "# hf.close()"
   ]
  },
  {
   "cell_type": "code",
   "execution_count": 3,
   "metadata": {},
   "outputs": [],
   "source": [
    "outfile = \"/home/ja2006203966/script/Network/data/H5/ParticleNet/Train.h5\"\n",
    "hf = h5py.File(outfile, 'r')\n",
    "lb = ['mask', 'points', 'features']\n",
    "X_train, X_val, X_test ={'mask':[], 'points':[], 'features':[]},{'mask':[], 'points':[], 'features':[]},{'mask':[], 'points':[], 'features':[]}\n",
    "for i in lb:\n",
    "    X_train[i] = hf[\"X_train_\"+i][()]\n",
    "    X_val[i] = hf[\"X_val_\"+i][()]\n",
    "    X_test[i] = hf[\"X_test_\"+i][()]\n",
    "\n",
    "\n",
    "y_train = hf[\"y_train\"][()]\n",
    "y_val = hf[\"y_val\"][()]\n",
    "y_test = hf[\"y_test\"][()]\n",
    "\n",
    "hf.close()"
   ]
  },
  {
   "cell_type": "code",
   "execution_count": 4,
   "metadata": {},
   "outputs": [
    {
     "name": "stdout",
     "output_type": "stream",
     "text": [
      "[(100, 1), (100, 2), (100, 5)]\n"
     ]
    }
   ],
   "source": [
    "print([X_train[i][0].shape for i in lb])"
   ]
  },
  {
   "cell_type": "markdown",
   "metadata": {},
   "source": [
    "# ParticleNet"
   ]
  },
  {
   "cell_type": "code",
   "execution_count": 5,
   "metadata": {},
   "outputs": [],
   "source": [
    "from tf_keras_model import get_particle_net"
   ]
  },
  {
   "cell_type": "code",
   "execution_count": 9,
   "metadata": {},
   "outputs": [],
   "source": [
    "# input_shapes={'points': Data['points'][0].shape, 'features': Data['features'][0].shape, 'mask': Data['mask'][0].shape}\n",
    "input_shapes={'points': X_train['points'][0].shape, 'features': X_train['features'][0].shape, 'mask': X_train['mask'][0].shape}\n",
    "\n",
    "num_classes = 2\n",
    "w = 0 ## weights you can choose (it is added by myself, and I use the 5-th as the weight term)\n",
    "model = get_particle_net(num_classes, input_shapes, w=w, K=16)\n",
    "\n",
    "# model = get_particle_net(num_classes, input_shapes, w=w)"
   ]
  },
  {
   "cell_type": "code",
   "execution_count": 10,
   "metadata": {},
   "outputs": [],
   "source": [
    "# Training parameters\n",
    "batch_size = 200\n",
    "epochs = 200"
   ]
  },
  {
   "cell_type": "code",
   "execution_count": 24,
   "metadata": {},
   "outputs": [],
   "source": [
    "# Prepare model model saving directory.\n",
    "import os\n",
    "model_type = \"ParticleNet\"\n",
    "save_dir = '/home/ja2006203966/script/Network/data/H5/ParticleNet/'\n",
    "model_name = '%s_model_test.h5' % model_type\n",
    "if not os.path.isdir(save_dir):\n",
    "    os.makedirs(save_dir)\n",
    "filepath = os.path.join(save_dir, model_name)\n",
    "\n",
    "# Prepare callbacks for model saving and for learning rate adjustment.\n",
    "checkpoint = keras.callbacks.ModelCheckpoint(filepath=filepath,\n",
    "                             monitor='val_acc',\n",
    "                             verbose=1,\n",
    "                             save_best_only=True)\n",
    "\n",
    "# lr_scheduler = keras.callbacks.LearningRateScheduler(lr_schedule)\n",
    "\n",
    "# progress_bar = keras.callbacks.ProgbarLogger()\n",
    "csv_logger = keras.callbacks.CSVLogger(save_dir+'ParticleNet.csv')\n",
    "earlystop = tf.keras.callbacks.EarlyStopping(\n",
    "                            monitor='val_loss',\n",
    "                            min_delta=1e-4,\n",
    "                            patience=3,\n",
    "                            verbose=1,\n",
    "                            mode='min', baseline=None, ## 'min' \n",
    "                            restore_best_weights=True)\n",
    "# callbacks = [checkpoint, lr_scheduler, progress_bar]\n",
    "reduce_lr = tf.keras.callbacks.ReduceLROnPlateau(monitor='val_loss', factor=0.2,\n",
    "                              patience=2, min_lr=0.00001)\n",
    "# callbacks = [checkpoint, reduce_lr, csv_logger, progress_bar, earlystop ] ## [checkpoint, lr_scheduler, csv_logger, progress_bar, earlystop ]\n",
    "callbacks = [checkpoint, csv_logger, earlystop ]\n"
   ]
  },
  {
   "cell_type": "code",
   "execution_count": 25,
   "metadata": {},
   "outputs": [
    {
     "data": {
      "text/plain": [
       "'/home/ja2006203966/script/Network/data/H5/ParticleNet/ParticleNet.csv'"
      ]
     },
     "execution_count": 25,
     "metadata": {},
     "output_type": "execute_result"
    }
   ],
   "source": [
    "save_dir+'ParticleNet.csv'"
   ]
  },
  {
   "cell_type": "code",
   "execution_count": 26,
   "metadata": {},
   "outputs": [
    {
     "name": "stdout",
     "output_type": "stream",
     "text": [
      "Epoch 1/200\n",
      "2138/2138 [==============================] - ETA: 0s - loss: 0.4561 - accuracy: 0.7851"
     ]
    },
    {
     "name": "stderr",
     "output_type": "stream",
     "text": [
      "[2020-08-04 10:05:25,404] WARNING: Can save best model only with val_acc available, skipping.\n"
     ]
    },
    {
     "name": "stdout",
     "output_type": "stream",
     "text": [
      "2138/2138 [==============================] - 433s 202ms/step - loss: 0.4561 - accuracy: 0.7851 - val_loss: 0.4342 - val_accuracy: 0.7971\n",
      "Epoch 2/200\n",
      "2138/2138 [==============================] - ETA: 0s - loss: 0.4226 - accuracy: 0.8063"
     ]
    },
    {
     "name": "stderr",
     "output_type": "stream",
     "text": [
      "[2020-08-04 10:12:38,009] WARNING: Can save best model only with val_acc available, skipping.\n"
     ]
    },
    {
     "name": "stdout",
     "output_type": "stream",
     "text": [
      "2138/2138 [==============================] - 432s 202ms/step - loss: 0.4226 - accuracy: 0.8063 - val_loss: 0.4265 - val_accuracy: 0.8022\n",
      "Epoch 3/200\n",
      "2138/2138 [==============================] - ETA: 0s - loss: 0.4104 - accuracy: 0.8132"
     ]
    },
    {
     "name": "stderr",
     "output_type": "stream",
     "text": [
      "[2020-08-04 10:19:50,169] WARNING: Can save best model only with val_acc available, skipping.\n"
     ]
    },
    {
     "name": "stdout",
     "output_type": "stream",
     "text": [
      "2138/2138 [==============================] - 432s 202ms/step - loss: 0.4104 - accuracy: 0.8132 - val_loss: 0.4809 - val_accuracy: 0.7839\n",
      "Epoch 4/200\n",
      "2138/2138 [==============================] - ETA: 0s - loss: 0.4045 - accuracy: 0.8169"
     ]
    },
    {
     "name": "stderr",
     "output_type": "stream",
     "text": [
      "[2020-08-04 10:27:02,084] WARNING: Can save best model only with val_acc available, skipping.\n"
     ]
    },
    {
     "name": "stdout",
     "output_type": "stream",
     "text": [
      "2138/2138 [==============================] - 432s 202ms/step - loss: 0.4045 - accuracy: 0.8169 - val_loss: 0.4142 - val_accuracy: 0.8109\n",
      "Epoch 5/200\n",
      "2138/2138 [==============================] - ETA: 0s - loss: 0.3999 - accuracy: 0.8194"
     ]
    },
    {
     "name": "stderr",
     "output_type": "stream",
     "text": [
      "[2020-08-04 10:34:13,816] WARNING: Can save best model only with val_acc available, skipping.\n"
     ]
    },
    {
     "name": "stdout",
     "output_type": "stream",
     "text": [
      "2138/2138 [==============================] - 432s 202ms/step - loss: 0.3999 - accuracy: 0.8194 - val_loss: 0.4046 - val_accuracy: 0.8168\n",
      "Epoch 6/200\n",
      "2138/2138 [==============================] - ETA: 0s - loss: 0.3972 - accuracy: 0.8210"
     ]
    },
    {
     "name": "stderr",
     "output_type": "stream",
     "text": [
      "[2020-08-04 10:41:25,378] WARNING: Can save best model only with val_acc available, skipping.\n"
     ]
    },
    {
     "name": "stdout",
     "output_type": "stream",
     "text": [
      "2138/2138 [==============================] - 431s 202ms/step - loss: 0.3972 - accuracy: 0.8210 - val_loss: 0.3938 - val_accuracy: 0.8238\n",
      "Epoch 7/200\n",
      "2138/2138 [==============================] - ETA: 0s - loss: 0.3953 - accuracy: 0.8220"
     ]
    },
    {
     "name": "stderr",
     "output_type": "stream",
     "text": [
      "[2020-08-04 10:48:36,942] WARNING: Can save best model only with val_acc available, skipping.\n"
     ]
    },
    {
     "name": "stdout",
     "output_type": "stream",
     "text": [
      "2138/2138 [==============================] - 431s 202ms/step - loss: 0.3953 - accuracy: 0.8220 - val_loss: 0.3989 - val_accuracy: 0.8196\n",
      "Epoch 8/200\n",
      "2138/2138 [==============================] - ETA: 0s - loss: 0.3931 - accuracy: 0.8240"
     ]
    },
    {
     "name": "stderr",
     "output_type": "stream",
     "text": [
      "[2020-08-04 10:55:48,517] WARNING: Can save best model only with val_acc available, skipping.\n"
     ]
    },
    {
     "name": "stdout",
     "output_type": "stream",
     "text": [
      "2138/2138 [==============================] - 431s 202ms/step - loss: 0.3931 - accuracy: 0.8240 - val_loss: 0.3926 - val_accuracy: 0.8238\n",
      "Epoch 9/200\n",
      "2138/2138 [==============================] - ETA: 0s - loss: 0.3916 - accuracy: 0.8245"
     ]
    },
    {
     "name": "stderr",
     "output_type": "stream",
     "text": [
      "[2020-08-04 11:03:00,027] WARNING: Can save best model only with val_acc available, skipping.\n"
     ]
    },
    {
     "name": "stdout",
     "output_type": "stream",
     "text": [
      "2138/2138 [==============================] - 431s 202ms/step - loss: 0.3916 - accuracy: 0.8245 - val_loss: 0.3972 - val_accuracy: 0.8213\n",
      "Epoch 10/200\n",
      "2138/2138 [==============================] - ETA: 0s - loss: 0.3905 - accuracy: 0.8251"
     ]
    },
    {
     "name": "stderr",
     "output_type": "stream",
     "text": [
      "[2020-08-04 11:10:11,369] WARNING: Can save best model only with val_acc available, skipping.\n"
     ]
    },
    {
     "name": "stdout",
     "output_type": "stream",
     "text": [
      "2138/2138 [==============================] - 431s 202ms/step - loss: 0.3905 - accuracy: 0.8251 - val_loss: 0.4209 - val_accuracy: 0.8095\n",
      "Epoch 11/200\n",
      "2138/2138 [==============================] - ETA: 0s - loss: 0.3888 - accuracy: 0.8261"
     ]
    },
    {
     "name": "stderr",
     "output_type": "stream",
     "text": [
      "[2020-08-04 11:17:22,866] WARNING: Can save best model only with val_acc available, skipping.\n"
     ]
    },
    {
     "name": "stdout",
     "output_type": "stream",
     "text": [
      "2138/2138 [==============================] - 431s 202ms/step - loss: 0.3888 - accuracy: 0.8261 - val_loss: 0.3899 - val_accuracy: 0.8255\n",
      "Epoch 12/200\n",
      "2138/2138 [==============================] - ETA: 0s - loss: 0.3879 - accuracy: 0.8271"
     ]
    },
    {
     "name": "stderr",
     "output_type": "stream",
     "text": [
      "[2020-08-04 11:24:34,052] WARNING: Can save best model only with val_acc available, skipping.\n"
     ]
    },
    {
     "name": "stdout",
     "output_type": "stream",
     "text": [
      "2138/2138 [==============================] - 431s 202ms/step - loss: 0.3879 - accuracy: 0.8271 - val_loss: 0.4186 - val_accuracy: 0.8118\n",
      "Epoch 13/200\n",
      "2138/2138 [==============================] - ETA: 0s - loss: 0.3869 - accuracy: 0.8270"
     ]
    },
    {
     "name": "stderr",
     "output_type": "stream",
     "text": [
      "[2020-08-04 11:31:44,197] WARNING: Can save best model only with val_acc available, skipping.\n"
     ]
    },
    {
     "name": "stdout",
     "output_type": "stream",
     "text": [
      "2138/2138 [==============================] - 430s 201ms/step - loss: 0.3869 - accuracy: 0.8270 - val_loss: 0.3904 - val_accuracy: 0.8248\n",
      "Epoch 14/200\n",
      "2138/2138 [==============================] - ETA: 0s - loss: 0.3862 - accuracy: 0.8277"
     ]
    },
    {
     "name": "stderr",
     "output_type": "stream",
     "text": [
      "[2020-08-04 11:38:54,800] WARNING: Can save best model only with val_acc available, skipping.\n"
     ]
    },
    {
     "name": "stdout",
     "output_type": "stream",
     "text": [
      "Restoring model weights from the end of the best epoch.\n",
      "2138/2138 [==============================] - 430s 201ms/step - loss: 0.3862 - accuracy: 0.8277 - val_loss: 0.3931 - val_accuracy: 0.8239\n",
      "Epoch 00014: early stopping\n",
      "2227/2227 - 41s - loss: 0.3892 - accuracy: 0.8245\n"
     ]
    },
    {
     "data": {
      "text/plain": [
       "[0.38920512795448303, 0.8244606852531433]"
      ]
     },
     "execution_count": 26,
     "metadata": {},
     "output_type": "execute_result"
    }
   ],
   "source": [
    "# train_dataset.shuffle()\n",
    "model.fit(X_train ,y_train,\n",
    "          batch_size=batch_size,\n",
    "          epochs=epochs, \n",
    "          validation_data=(X_val, y_val),\n",
    "          shuffle=True ,\n",
    "          callbacks=callbacks)\n",
    "model.evaluate(X_test,  y_test, verbose=2)"
   ]
  },
  {
   "cell_type": "code",
   "execution_count": 27,
   "metadata": {},
   "outputs": [],
   "source": [
    "from sklearn.metrics import roc_curve, auc\n",
    "import pandas as pd\n",
    "import csv\n",
    "import matplotlib.pyplot as plt\n",
    "import pickle"
   ]
  },
  {
   "cell_type": "code",
   "execution_count": 41,
   "metadata": {},
   "outputs": [],
   "source": [
    "LOSS0 = pd.read_csv('./myparticlenet_training_log.csv')\n",
    "# label = []\n",
    "# for i in LOSS0:\n",
    "#     label.append(i)\n"
   ]
  },
  {
   "cell_type": "code",
   "execution_count": 28,
   "metadata": {},
   "outputs": [],
   "source": [
    "model.save('./H5/ParticleNet/ParticleNet_f.h5')"
   ]
  },
  {
   "cell_type": "code",
   "execution_count": 29,
   "metadata": {},
   "outputs": [
    {
     "name": "stdout",
     "output_type": "stream",
     "text": [
      "The area under the curves are:\n",
      "AUC:0.902108526\n"
     ]
    },
    {
     "data": {
      "image/png": "[encoded data removed]",
      "text/plain": [
       "<Figure size 576x1152 with 1 Axes>"
      ]
     },
     "metadata": {
      "needs_background": "light"
     },
     "output_type": "display_data"
    }
   ],
   "source": [
    "y_score=model.predict(X_test)[:,0]\n",
    "test=[i[1] for i in y_test]\n",
    "fpr , tpr , thresholds = roc_curve ( test , y_score)\n",
    "roc_auc = auc(tpr,fpr )\n",
    "print(\"The area under the curves are:\")\n",
    "print(\"AUC:{0:.9f}\".format(roc_auc))\n",
    "# FalsePositiveFull, TruePositiveFull, ThresholdFull = metrics.roc_curve(y_test,Predictions)\n",
    "plt.figure(figsize=(8,16))\n",
    "plt.subplot(2,1,1)\n",
    "\n",
    "plt.plot(tpr,fpr, label='Fully supervised: AUC={0:.9f}'.format(roc_auc))\n",
    "plt.ylabel('1-False Positive Rate',fontsize=20)\n",
    "plt.xlabel('True Positive Rate',fontsize=20)\n",
    "plt.plot([0, 1], [0, 1], 'k--')\n",
    "plt.legend(bbox_to_anchor=(0.8, -0.17),ncol=2)\n",
    "plt.tight_layout()\n",
    "plt.savefig(\"./H5/ParticleNet/Myneighnorhood_Particlenet_roc.png\")\n",
    "hf = h5py.File(\"/home/ja2006203966/script/Network/data/H5/ParticleNet/PR.h5\", 'w')\n",
    "hf.create_dataset('fpr', data=fpr)\n",
    "hf.create_dataset('tpr', data=tpr)\n",
    "hf.close()\n",
    "\n",
    "plt.show()"
   ]
  },
  {
   "cell_type": "code",
   "execution_count": 30,
   "metadata": {},
   "outputs": [
    {
     "ename": "ParserError",
     "evalue": "Error tokenizing data. C error: Calling read(nbytes) on source failed. Try engine='python'.",
     "output_type": "error",
     "traceback": [
      "\u001b[0;31m---------------------------------------------------------------------------\u001b[0m",
      "\u001b[0;31mParserError\u001b[0m                               Traceback (most recent call last)",
      "\u001b[0;32m<ipython-input-30-3022c19f2190>\u001b[0m in \u001b[0;36m<module>\u001b[0;34m\u001b[0m\n\u001b[1;32m      1\u001b[0m \u001b[0mplt\u001b[0m\u001b[0;34m.\u001b[0m\u001b[0mfigure\u001b[0m\u001b[0;34m(\u001b[0m\u001b[0mfigsize\u001b[0m\u001b[0;34m=\u001b[0m\u001b[0;34m(\u001b[0m\u001b[0;36m8\u001b[0m\u001b[0;34m,\u001b[0m\u001b[0;36m8\u001b[0m\u001b[0;34m)\u001b[0m\u001b[0;34m)\u001b[0m\u001b[0;34m\u001b[0m\u001b[0;34m\u001b[0m\u001b[0m\n\u001b[0;32m----> 2\u001b[0;31m \u001b[0mLOSS\u001b[0m \u001b[0;34m=\u001b[0m \u001b[0mpd\u001b[0m\u001b[0;34m.\u001b[0m\u001b[0mread_csv\u001b[0m\u001b[0;34m(\u001b[0m\u001b[0msave_dir\u001b[0m\u001b[0;34m)\u001b[0m\u001b[0;34m\u001b[0m\u001b[0;34m\u001b[0m\u001b[0m\n\u001b[0m\u001b[1;32m      3\u001b[0m \u001b[0;31m# LOSS = pd.read_csv(\"/home/ja2006203966/script/Network/data/myparticlenet_training_log.csv\")\u001b[0m\u001b[0;34m\u001b[0m\u001b[0;34m\u001b[0m\u001b[0;34m\u001b[0m\u001b[0m\n\u001b[1;32m      4\u001b[0m \u001b[0;34m\u001b[0m\u001b[0m\n\u001b[1;32m      5\u001b[0m \u001b[0mplt\u001b[0m\u001b[0;34m.\u001b[0m\u001b[0mtitle\u001b[0m\u001b[0;34m(\u001b[0m\u001b[0;34m\"Learning Curve\"\u001b[0m\u001b[0;34m)\u001b[0m\u001b[0;34m\u001b[0m\u001b[0;34m\u001b[0m\u001b[0m\n",
      "\u001b[0;32m/usr/local/lib/python3.6/dist-packages/pandas/io/parsers.py\u001b[0m in \u001b[0;36mparser_f\u001b[0;34m(filepath_or_buffer, sep, delimiter, header, names, index_col, usecols, squeeze, prefix, mangle_dupe_cols, dtype, engine, converters, true_values, false_values, skipinitialspace, skiprows, skipfooter, nrows, na_values, keep_default_na, na_filter, verbose, skip_blank_lines, parse_dates, infer_datetime_format, keep_date_col, date_parser, dayfirst, cache_dates, iterator, chunksize, compression, thousands, decimal, lineterminator, quotechar, quoting, doublequote, escapechar, comment, encoding, dialect, error_bad_lines, warn_bad_lines, delim_whitespace, low_memory, memory_map, float_precision)\u001b[0m\n\u001b[1;32m    674\u001b[0m         )\n\u001b[1;32m    675\u001b[0m \u001b[0;34m\u001b[0m\u001b[0m\n\u001b[0;32m--> 676\u001b[0;31m         \u001b[0;32mreturn\u001b[0m \u001b[0m_read\u001b[0m\u001b[0;34m(\u001b[0m\u001b[0mfilepath_or_buffer\u001b[0m\u001b[0;34m,\u001b[0m \u001b[0mkwds\u001b[0m\u001b[0;34m)\u001b[0m\u001b[0;34m\u001b[0m\u001b[0;34m\u001b[0m\u001b[0m\n\u001b[0m\u001b[1;32m    677\u001b[0m \u001b[0;34m\u001b[0m\u001b[0m\n\u001b[1;32m    678\u001b[0m     \u001b[0mparser_f\u001b[0m\u001b[0;34m.\u001b[0m\u001b[0m__name__\u001b[0m \u001b[0;34m=\u001b[0m \u001b[0mname\u001b[0m\u001b[0;34m\u001b[0m\u001b[0;34m\u001b[0m\u001b[0m\n",
      "\u001b[0;32m/usr/local/lib/python3.6/dist-packages/pandas/io/parsers.py\u001b[0m in \u001b[0;36m_read\u001b[0;34m(filepath_or_buffer, kwds)\u001b[0m\n\u001b[1;32m    446\u001b[0m \u001b[0;34m\u001b[0m\u001b[0m\n\u001b[1;32m    447\u001b[0m     \u001b[0;31m# Create the parser.\u001b[0m\u001b[0;34m\u001b[0m\u001b[0;34m\u001b[0m\u001b[0;34m\u001b[0m\u001b[0m\n\u001b[0;32m--> 448\u001b[0;31m     \u001b[0mparser\u001b[0m \u001b[0;34m=\u001b[0m \u001b[0mTextFileReader\u001b[0m\u001b[0;34m(\u001b[0m\u001b[0mfp_or_buf\u001b[0m\u001b[0;34m,\u001b[0m \u001b[0;34m**\u001b[0m\u001b[0mkwds\u001b[0m\u001b[0;34m)\u001b[0m\u001b[0;34m\u001b[0m\u001b[0;34m\u001b[0m\u001b[0m\n\u001b[0m\u001b[1;32m    449\u001b[0m \u001b[0;34m\u001b[0m\u001b[0m\n\u001b[1;32m    450\u001b[0m     \u001b[0;32mif\u001b[0m \u001b[0mchunksize\u001b[0m \u001b[0;32mor\u001b[0m \u001b[0miterator\u001b[0m\u001b[0;34m:\u001b[0m\u001b[0;34m\u001b[0m\u001b[0;34m\u001b[0m\u001b[0m\n",
      "\u001b[0;32m/usr/local/lib/python3.6/dist-packages/pandas/io/parsers.py\u001b[0m in \u001b[0;36m__init__\u001b[0;34m(self, f, engine, **kwds)\u001b[0m\n\u001b[1;32m    878\u001b[0m             \u001b[0mself\u001b[0m\u001b[0;34m.\u001b[0m\u001b[0moptions\u001b[0m\u001b[0;34m[\u001b[0m\u001b[0;34m\"has_index_names\"\u001b[0m\u001b[0;34m]\u001b[0m \u001b[0;34m=\u001b[0m \u001b[0mkwds\u001b[0m\u001b[0;34m[\u001b[0m\u001b[0;34m\"has_index_names\"\u001b[0m\u001b[0;34m]\u001b[0m\u001b[0;34m\u001b[0m\u001b[0;34m\u001b[0m\u001b[0m\n\u001b[1;32m    879\u001b[0m \u001b[0;34m\u001b[0m\u001b[0m\n\u001b[0;32m--> 880\u001b[0;31m         \u001b[0mself\u001b[0m\u001b[0;34m.\u001b[0m\u001b[0m_make_engine\u001b[0m\u001b[0;34m(\u001b[0m\u001b[0mself\u001b[0m\u001b[0;34m.\u001b[0m\u001b[0mengine\u001b[0m\u001b[0;34m)\u001b[0m\u001b[0;34m\u001b[0m\u001b[0;34m\u001b[0m\u001b[0m\n\u001b[0m\u001b[1;32m    881\u001b[0m \u001b[0;34m\u001b[0m\u001b[0m\n\u001b[1;32m    882\u001b[0m     \u001b[0;32mdef\u001b[0m \u001b[0mclose\u001b[0m\u001b[0;34m(\u001b[0m\u001b[0mself\u001b[0m\u001b[0;34m)\u001b[0m\u001b[0;34m:\u001b[0m\u001b[0;34m\u001b[0m\u001b[0;34m\u001b[0m\u001b[0m\n",
      "\u001b[0;32m/usr/local/lib/python3.6/dist-packages/pandas/io/parsers.py\u001b[0m in \u001b[0;36m_make_engine\u001b[0;34m(self, engine)\u001b[0m\n\u001b[1;32m   1112\u001b[0m     \u001b[0;32mdef\u001b[0m \u001b[0m_make_engine\u001b[0m\u001b[0;34m(\u001b[0m\u001b[0mself\u001b[0m\u001b[0;34m,\u001b[0m \u001b[0mengine\u001b[0m\u001b[0;34m=\u001b[0m\u001b[0;34m\"c\"\u001b[0m\u001b[0;34m)\u001b[0m\u001b[0;34m:\u001b[0m\u001b[0;34m\u001b[0m\u001b[0;34m\u001b[0m\u001b[0m\n\u001b[1;32m   1113\u001b[0m         \u001b[0;32mif\u001b[0m \u001b[0mengine\u001b[0m \u001b[0;34m==\u001b[0m \u001b[0;34m\"c\"\u001b[0m\u001b[0;34m:\u001b[0m\u001b[0;34m\u001b[0m\u001b[0;34m\u001b[0m\u001b[0m\n\u001b[0;32m-> 1114\u001b[0;31m             \u001b[0mself\u001b[0m\u001b[0;34m.\u001b[0m\u001b[0m_engine\u001b[0m \u001b[0;34m=\u001b[0m \u001b[0mCParserWrapper\u001b[0m\u001b[0;34m(\u001b[0m\u001b[0mself\u001b[0m\u001b[0;34m.\u001b[0m\u001b[0mf\u001b[0m\u001b[0;34m,\u001b[0m \u001b[0;34m**\u001b[0m\u001b[0mself\u001b[0m\u001b[0;34m.\u001b[0m\u001b[0moptions\u001b[0m\u001b[0;34m)\u001b[0m\u001b[0;34m\u001b[0m\u001b[0;34m\u001b[0m\u001b[0m\n\u001b[0m\u001b[1;32m   1115\u001b[0m         \u001b[0;32melse\u001b[0m\u001b[0;34m:\u001b[0m\u001b[0;34m\u001b[0m\u001b[0;34m\u001b[0m\u001b[0m\n\u001b[1;32m   1116\u001b[0m             \u001b[0;32mif\u001b[0m \u001b[0mengine\u001b[0m \u001b[0;34m==\u001b[0m \u001b[0;34m\"python\"\u001b[0m\u001b[0;34m:\u001b[0m\u001b[0;34m\u001b[0m\u001b[0;34m\u001b[0m\u001b[0m\n",
      "\u001b[0;32m/usr/local/lib/python3.6/dist-packages/pandas/io/parsers.py\u001b[0m in \u001b[0;36m__init__\u001b[0;34m(self, src, **kwds)\u001b[0m\n\u001b[1;32m   1889\u001b[0m         \u001b[0mkwds\u001b[0m\u001b[0;34m[\u001b[0m\u001b[0;34m\"usecols\"\u001b[0m\u001b[0;34m]\u001b[0m \u001b[0;34m=\u001b[0m \u001b[0mself\u001b[0m\u001b[0;34m.\u001b[0m\u001b[0musecols\u001b[0m\u001b[0;34m\u001b[0m\u001b[0;34m\u001b[0m\u001b[0m\n\u001b[1;32m   1890\u001b[0m \u001b[0;34m\u001b[0m\u001b[0m\n\u001b[0;32m-> 1891\u001b[0;31m         \u001b[0mself\u001b[0m\u001b[0;34m.\u001b[0m\u001b[0m_reader\u001b[0m \u001b[0;34m=\u001b[0m \u001b[0mparsers\u001b[0m\u001b[0;34m.\u001b[0m\u001b[0mTextReader\u001b[0m\u001b[0;34m(\u001b[0m\u001b[0msrc\u001b[0m\u001b[0;34m,\u001b[0m \u001b[0;34m**\u001b[0m\u001b[0mkwds\u001b[0m\u001b[0;34m)\u001b[0m\u001b[0;34m\u001b[0m\u001b[0;34m\u001b[0m\u001b[0m\n\u001b[0m\u001b[1;32m   1892\u001b[0m         \u001b[0mself\u001b[0m\u001b[0;34m.\u001b[0m\u001b[0munnamed_cols\u001b[0m \u001b[0;34m=\u001b[0m \u001b[0mself\u001b[0m\u001b[0;34m.\u001b[0m\u001b[0m_reader\u001b[0m\u001b[0;34m.\u001b[0m\u001b[0munnamed_cols\u001b[0m\u001b[0;34m\u001b[0m\u001b[0;34m\u001b[0m\u001b[0m\n\u001b[1;32m   1893\u001b[0m \u001b[0;34m\u001b[0m\u001b[0m\n",
      "\u001b[0;32mpandas/_libs/parsers.pyx\u001b[0m in \u001b[0;36mpandas._libs.parsers.TextReader.__cinit__\u001b[0;34m()\u001b[0m\n",
      "\u001b[0;32mpandas/_libs/parsers.pyx\u001b[0m in \u001b[0;36mpandas._libs.parsers.TextReader._get_header\u001b[0;34m()\u001b[0m\n",
      "\u001b[0;32mpandas/_libs/parsers.pyx\u001b[0m in \u001b[0;36mpandas._libs.parsers.TextReader._tokenize_rows\u001b[0;34m()\u001b[0m\n",
      "\u001b[0;32mpandas/_libs/parsers.pyx\u001b[0m in \u001b[0;36mpandas._libs.parsers.raise_parser_error\u001b[0;34m()\u001b[0m\n",
      "\u001b[0;31mParserError\u001b[0m: Error tokenizing data. C error: Calling read(nbytes) on source failed. Try engine='python'."
     ]
    },
    {
     "data": {
      "text/plain": [
       "<Figure size 576x576 with 0 Axes>"
      ]
     },
     "metadata": {},
     "output_type": "display_data"
    }
   ],
   "source": [
    "plt.figure(figsize=(8,8))\n",
    "LOSS = pd.read_csv(save_dir)\n",
    "# LOSS = pd.read_csv(\"/home/ja2006203966/script/Network/data/myparticlenet_training_log.csv\")\n",
    "\n",
    "plt.title(\"Learning Curve\")\n",
    "plt.plot(LOSS[\"loss\"], label='loss',c='blue')\n",
    "plt.plot(LOSS[\"val_loss\"], label='val_loss',c='red')\n",
    "plt.plot(LOSS[\"accuracy\"], linestyle='--', label='accuracy',c='blue')\n",
    "plt.plot(LOSS[\"val_accuracy\"], linestyle='--', label='val_accuracy',c='red')\n",
    "# plt.ylim([0.3,1])\n",
    "plt.ylabel('loss',fontsize=20)\n",
    "plt.xlabel('epoch',fontsize=20)\n",
    "# plt.legend(bbox_to_anchor=(0.8, -0.17),ncol=2)\n",
    "plt.legend(bbox_to_anchor=(0.8, -0.17),ncol=2)\n",
    "plt.tight_layout()\n",
    "plt.savefig(\"/home/ja2006203966/script/Network/data/H5/ParticleNet/ParticleNetloss.png\")\n",
    "\n",
    "plt.show()"
   ]
  },
  {
   "cell_type": "code",
   "execution_count": null,
   "metadata": {},
   "outputs": [],
   "source": []
  },
  {
   "cell_type": "code",
   "execution_count": null,
   "metadata": {},
   "outputs": [],
   "source": []
  },
  {
   "cell_type": "code",
   "execution_count": null,
   "metadata": {},
   "outputs": [],
   "source": []
  },
  {
   "cell_type": "code",
   "execution_count": null,
   "metadata": {},
   "outputs": [],
   "source": []
  },
  {
   "cell_type": "markdown",
   "metadata": {},
   "source": [
    "# Back up"
   ]
  },
  {
   "cell_type": "code",
   "execution_count": null,
   "metadata": {},
   "outputs": [],
   "source": [
    "# y_test=[i[1] for i in testpojen_datay]\n",
    "X_test = np.load(\"./X_test.npy\",allow_pickle=True)\n",
    "X_test = X_test.item()\n",
    "y_test = np.load(\"./y_test.npy\",allow_pickle=True)\n",
    "y_score=model.predict(X_test)[:,0]\n",
    "test=[i[1] for i in y_test]\n",
    "fpr , tpr , thresholds = roc_curve ( test , y_score)\n",
    "roc_auc = auc(tpr,fpr )\n",
    "print(\"The area under the curves are:\")\n",
    "print(\"AUC:{0:.9f}\".format(roc_auc))\n",
    "# FalsePositiveFull, TruePositiveFull, ThresholdFull = metrics.roc_curve(y_test,Predictions)\n",
    "plt.figure(figsize=(8,16))\n",
    "plt.subplot(2,1,1)\n",
    "\n",
    "plt.plot(tpr,fpr, label='Fully supervised: AUC={0:.9f}'.format(roc_auc))\n",
    "plt.ylabel('1-False Positive Rate',fontsize=20)\n",
    "plt.xlabel('True Positive Rate',fontsize=20)\n",
    "plt.plot([0, 1], [0, 1], 'k--')\n",
    "plt.legend(bbox_to_anchor=(0.8, -0.17),ncol=2)\n",
    "plt.tight_layout()\n",
    "plt.savefig(\"./Myneighnorhood_Particlenet_roc.png\")\n",
    "np.save(\"./myfpr\",fpr)\n",
    "np.save(\"./mytpr\",tpr)\n",
    "#plt.close()\n",
    " \n",
    "# plt.subplot(2,1,2) \n",
    "# LOSS = pd.read_csv('./training_log.csv')\n",
    "# plt.plot(LOSS[\"loss\"], label='loss',c='blue')\n",
    "# plt.plot(LOSS[\"val_loss\"], label='val_loss',c='red')\n",
    "# plt.ylabel('loss',fontsize=20)\n",
    "# plt.xlabel('epoch',fontsize=20)\n",
    "# plt.legend(bbox_to_anchor=(0.8, -0.17),ncol=2)\n",
    "# plt.tight_layout()\n",
    "\n",
    "#plt.savefig(\"./plot_3.png\")\n",
    "#plt.close()\n",
    "plt.show()"
   ]
  },
  {
   "cell_type": "markdown",
   "metadata": {},
   "source": [
    "# Papaer's CNN"
   ]
  },
  {
   "cell_type": "code",
   "execution_count": null,
   "metadata": {},
   "outputs": [],
   "source": [
    "def data_generator(h5file1, h5file2, batchsize, hlindices, start=0, stop=None):\n",
    "    stop = ((stop-start) // batchsize) * batchsize + start\n",
    "    assert (stop-start) % batchsize     == 0  # Batches will not exceed stop.\n",
    "\n",
    "    with h5py.File(h5file1, 'r') as f1, h5py.File(h5file2, 'r') as f2:\n",
    "        assert f1['features'].shape[0] >= stop\n",
    "        assert f1['features'].shape[0] == f1['targets'].shape[0]\n",
    "        assert f1['features'].shape[0] == f2['features'].shape[0]\n",
    "        assert f1['targets'].shape[0] == f2['targets'].shape[0]\n",
    "        iexample = start\n",
    "        \n",
    "        while True:\n",
    "            assert iexample >= start\n",
    "            assert iexample+batchsize <= stop\n",
    "            batch = slice(iexample, iexample + batchsize)\n",
    "\n",
    "            X  = f1['features'][batch] # Images.\n",
    "            Y  = f1['targets'][batch]\n",
    "            #X2 = f2['features'][batch][:, hlindices] # High-level.\n",
    "            #Y2 = f2['targets'][batch]  \n",
    "            #assert np.all(Y == Y2)\n",
    "            \n",
    "            X = np.log(1.0+X) / 4.0 \n",
    "            \n",
    "            #yield X, Y\n",
    "            #yield {'input_0':X, 'input_1':X2}, {'output':Y}\n",
    "            yield {'input_0':X}, {'output':Y}\n",
    "            \n",
    "            iexample += batchsize\n",
    "            if iexample >= stop:\n",
    "                assert iexample == stop\n",
    "                iexample = start\n",
    "    \n",
    "\n",
    "def train():\n",
    "    ###############################################################################\n",
    "    # Dataset                                                                     #\n",
    "    ###############################################################################\n",
    "    #filename = '/home/pjsadows//ml/data/physics/jets/download4/datasets/train_no_pile_10000000.h5'\n",
    "    hlindices = np.array(['mass', 'c1b1']) # Order of features: mass, c1b1,c2b2,d1b2,d2b2, tau\n",
    "\n",
    "    #filename  = '/Volumes/Free Space/images/train_no_pile_10000000.h5'\n",
    "    #filename2 = '/Volumes/Free Space/highlevel/train_no_pile_10000000.h5'\n",
    "\n",
    "    filename  = './train2_no_pile_10000000.h5' #image input\n",
    "    filename2 = './train_no_pile_10000000.h5' #high level features input\n",
    "\n",
    "    N_train, N_valid = 9500000, 500000\n",
    "    generator = data_generator(filename, filename2, batchsize=100, hlindices=hlindices, start=0, stop=N_train)\n",
    "    validation_data = data_generator(filename, filename2, batchsize=100, hlindices=hlindices, start=N_train, stop=N_train+N_valid)\n",
    "\n",
    "    #filename_test  = '/Volumes/Free Space/images/test_no_pile_5000000.h5'\n",
    "    #filename2_test = '/Volumes/Free Space/highlevel/test_no_pile_5000000.h5'\n",
    "\n",
    "    filename_test  = './test2_no_pile_5000000.h5'\n",
    "    filename2_test = './test_no_pile_5000000.h5'\n",
    "\n",
    "    N_test = 5000000\n",
    "    generator_test = data_generator(filename_test, filename2_test, batchsize=100, hlindices=hlindices, start=0, stop=N_test)\n",
    "\n",
    "    ###############################################################################\n",
    "    # Model                                                                       #\n",
    "    ###############################################################################\n",
    "    act  = 'relu' \n",
    "    init = 'glorot_normal' #'glorot_normal'#'he_normal'\n",
    "    width = 500 #500 \n",
    "    # Image arm\n",
    "    nconv  = 4\n",
    "    nch    = 32\n",
    "    # Head\n",
    "    nhead = 4\n",
    "    ndo   = 2 \n",
    "    \n",
    "    # Arm 0: images\n",
    "    input_0 = Input(shape=(1,32,32), dtype='float32', name='input_0') # We can name an layer by passing name.\n",
    "    x0 = input_0\n",
    "    for i in range(nconv):\n",
    "        x0 = Convolution2D(nch,1, subsample=(1,1), border_mode='valid', init=init, activation=act)(x0) # nch, 4, 4\n",
    "    x0 = Flatten()(x0) \n",
    "\n",
    "    # Arm 1: high-level variables.\n",
    "    #input_1  = Input(shape=(len(hlindices),), name='input_1')\n",
    "    #x1 = input_1\n",
    "    #for i in range(nhl):\n",
    "    #    x1 = Dense(width, init=init, activation=act)(x1)\n",
    "\n",
    "    # Head\n",
    "    #x = merge([x0, x1], mode='concat')\n",
    "    x = x0\n",
    "    for i in range(nhead):\n",
    "        x = Dense(width, activation=act, init=init)(x)\n",
    "        if i >= nhead - ndo:\n",
    "            x = Dropout(p=0.5)(x)\n",
    "    output = Dense(1, activation='sigmoid', name='output')(x)\n",
    "\n",
    "    # Model\n",
    "    #model = Model(input=[input_0, input_1], output=[output])\n",
    "    model = Model(input=[input_0], output=[output])\n",
    "    lrinit  = 0.0001 \n",
    "    lrdecay = 0.8\n",
    "    optimizer = Adam(lr=lrinit, beta_1=0.99, beta_2=0.999, epsilon=1e-08)\n",
    "    model.compile(optimizer=optimizer,loss={'output':'binary_crossentropy'}, metrics=['accuracy'])\n",
    "\n",
    "    ###############################################################################\n",
    "    # Algorithm                                                                   #\n",
    "    ###############################################################################\n",
    "    def lr_scheduler(epoch):\n",
    "        return lrinit * lrdecay ** epoch\n",
    "    lrschedule = LearningRateScheduler(lr_scheduler)\n",
    "    stopping   = EarlyStopping(monitor='val_loss', patience=0, verbose=0, mode='min') \n",
    "    cbks = [stopping, lrschedule]\n",
    "\n",
    "    # Copy script so that we can reconstruct model later.\n",
    "    filebase = './images_conv%d_dense%d_nch%d_do%d_width%d_%s_lrd%d_%d' % (nconv, nhead, nch, ndo, width, act, lrdecay*100, np.random.randint(1000))\n",
    "    fileout = filebase + '.py'\n",
    "    os.system('cp %s %s' % (filebase, fileout))\n",
    "    print('Saving to %s' % fileout)\n",
    "    \n",
    "    # Train.\n",
    "    nb_epoch  = 1000\n",
    "    history = model.fit_generator(generator, samples_per_epoch=N_train, nb_epoch=nb_epoch, verbose=1, validation_data=validation_data, nb_val_samples=N_valid, class_weight=None, callbacks=cbks) \n",
    "\n",
    "    # Save model.\n",
    "    fileout = filebase + '.h5'\n",
    "    model.save_weights(fileout, overwrite=True)\n",
    "    # Save pkl.\n",
    "    fileout = filebase + '.pkl'\n",
    "    with open(fileout, 'w') as f:\n",
    "        pickle.dump(history.history, f)\n",
    "    # Save .yaml script.\n",
    "    fileout = filebase + '.yaml'\n",
    "    with open(fileout, 'w') as f:\n",
    "        f.write(model.to_yaml())\n",
    "\n",
    "    # Compute test error accuracy.\n",
    "    vals = model.evaluate_generator(generator_test, val_samples=N_test, max_q_size=10)\n",
    "    for name, val in zip(model.metrics_names, vals):\n",
    "        print('test_%s: %f' % (name, val))\n",
    "        history.history['test_' + name] = val\n",
    "    # Compute AUC\n",
    "    #auc = compute_auc(model, generator_test, val_samples=N_test)\n",
    "    #print 'Test AUC: %f' % auc\n",
    "    #history.history['test_auc'] = auc\n",
    "\n",
    "    # Save pkl.\n",
    "    fileout = filebase + '.pkl'\n",
    "    with open(fileout, 'w') as f:\n",
    "        pickle.dump(history.history, f)\n",
    "\n",
    "\n",
    "    return history.history['val_loss'][-1]\n",
    "\n",
    "# if __name__=='__main__':\n",
    "#     loss = train()\n",
    "#     print(loss)\n"
   ]
  }
 ],
 "metadata": {
  "kernelspec": {
   "display_name": "Python 3",
   "language": "python",
   "name": "python3"
  },
  "language_info": {
   "codemirror_mode": {
    "name": "ipython",
    "version": 3
   },
   "file_extension": ".py",
   "mimetype": "text/x-python",
   "name": "python",
   "nbconvert_exporter": "python",
   "pygments_lexer": "ipython3",
   "version": "3.6.9"
  }
 },
 "nbformat": 4,
 "nbformat_minor": 4
}
