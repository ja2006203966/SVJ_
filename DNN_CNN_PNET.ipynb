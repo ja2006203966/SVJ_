{
 "cells": [
  {
   "cell_type": "markdown",
   "metadata": {},
   "source": [
    "# Import function"
   ]
  },
  {
   "cell_type": "code",
   "execution_count": 10,
   "metadata": {},
   "outputs": [],
   "source": [
    "import numpy as np\n",
    "# import awkward\n",
    "import logging\n",
    "logging.basicConfig(level=logging.INFO, format='[%(asctime)s] %(levelname)s: %(message)s')\n",
    "import numpy as np\n",
    "import scipy.optimize as opt\n",
    "import sys, os, random, gzip\n",
    "import tensorflow as tf\n",
    "from keras import backend as K\n",
    "from keras.models import *\n",
    "from keras.layers import *\n",
    "from keras.optimizers import Adam\n",
    "from keras.losses import categorical_crossentropy\n",
    "import pandas as pd"
   ]
  },
  {
   "cell_type": "code",
   "execution_count": 11,
   "metadata": {},
   "outputs": [],
   "source": [
    "import pandas as pd\n",
    "import numpy as np\n",
    "import matplotlib.pyplot as plt\n",
    "import h5py\n",
    "from keras.models import Sequential\n",
    "from keras.layers import Dense, Conv2D, Flatten, MaxPooling2D\n",
    "from sklearn.model_selection import train_test_split\n",
    "import sys\n",
    "from sklearn import metrics\n",
    "from keras.models import load_model\n",
    "from sklearn.metrics import roc_auc_score, roc_curve\n",
    "from sklearn.metrics import auc as skAUC\n",
    "from keras.callbacks import EarlyStopping, ModelCheckpoint, CSVLogger, TensorBoard\n",
    "import tensorflow as tf\n",
    "from keras import backend as K\n",
    "import time\n",
    "import glob"
   ]
  },
  {
   "cell_type": "code",
   "execution_count": 12,
   "metadata": {},
   "outputs": [],
   "source": [
    "def auc(y_true, y_pred):\n",
    "    auc = tf.metrics.auc(y_true, y_pred)[1]\n",
    "    K.get_session().run(tf.local_variables_initializer())\n",
    "    return auc\n",
    "\n",
    "def roc_plot(N, validation_split, model_name):\n",
    "    dependencies = {'auc': auc}\n",
    "    model = load_model(f'models/{model_name}.h5', custom_objects=dependencies)\n",
    "    X_train, X_test, y_train, y_true = prep_data(N, validation_split)\n",
    "    y_score=model.predict(X_test).T[0]  \n",
    "    fpr, tpr, thresholds = metrics.roc_curve(y_true, y_score)\n",
    "    bkg_eff = fpr\n",
    "    sig_eff = tpr\n",
    "    auc_val = roc_auc_score(y_true, y_score)\n",
    "    bkg_rej = 1. - bkg_eff\n",
    "    inv_bkg = np.divide(1.0, bkg_eff)\n",
    "    print(model_name, auc_val)\n",
    "    plt.plot(sig_eff, inv_bkg , linestyle='-', label=f'{model_name} - [AUC={auc_val:0.3}]', linewidth=2)\n",
    "    plt.xlabel('Signal Efficiency')\n",
    "    plt.yscale('log')\n",
    "    plt.ylabel('Inverse Background Efficiency')\n",
    "    plt.xlim([0,1])\n",
    "    plt.legend()\n",
    "    plt.savefig(f'figures/roc.png')\n",
    "    \n",
    "def prep_data(N, validation_split):\n",
    "    f = h5py.File('data/jet_complete.h5', 'r')\n",
    "    X = f['features'][:N]\n",
    "    y = f['targets'][:N]\n",
    "    X = np.log(1.0+X) / 4.0 \n",
    "    X_train, X_test, y_train, y_test = train_test_split(X, y, test_size=validation_split)\n",
    "    #reshape data to fit model\n",
    "    X_train, X_test = X_train.reshape(len(X_train),32,32,1), X_test.reshape(len(X_test),32,32,1)\n",
    "    return X_train, X_test, y_train, y_test\n",
    "\n",
    "def train_nn(N, batch_size, epochs, validation_split):\n",
    "    model_name = f'svj_N_{N}_b_{batch_size}_e_{epochs}_v_{validation_split}'\n",
    "    X_train, X_test, y_train, y_test = prep_data(N, validation_split)\n",
    "    #create model\n",
    "    model = Sequential()\n",
    "    #add model layers\n",
    "    model.add(Conv2D(256, kernel_size=(4,4), border_mode='valid', init='glorot_normal', activation='relu', input_shape=(32,32,1)))\n",
    "    model.add(MaxPooling2D())\n",
    "    model.add(Conv2D(256, kernel_size=(4,4), border_mode='valid', init='glorot_normal', activation='relu'))\n",
    "    model.add(Flatten())\n",
    "    model.add(Dense(1, activation='sigmoid'))\n",
    "\n",
    "    #compile model using accuracy to measure model performance\n",
    "    model.compile(optimizer='adam', loss='binary_crossentropy', metrics=[auc, 'acc'])\n",
    "\n",
    "    mc = ModelCheckpoint(f'models/{model_name}.h5', monitor='val_loss', verbose=0, save_best_only=True, save_weights_only=False, mode='auto', period=1)\n",
    "    cl = CSVLogger(f'history/{model_name}.log', separator=',', append=False)\n",
    "    tb = TensorBoard(log_dir='./logs/'+ str(model_name), histogram_freq=0, batch_size=32, write_graph=True, write_grads=False, write_images=False, embeddings_freq=0, embeddings_layer_names=None, embeddings_metadata=None, embeddings_data=None, update_freq='epoch')\n",
    "    #es = EarlyStopping(monitor='val_loss', min_delta=0, patience=25, verbose=0, mode='auto', baseline=None, restore_best_weights=False)\n",
    "\n",
    "\n",
    "    #train the model\n",
    "    model.fit(X_train, y_train, \n",
    "                batch_size=batch_size, \n",
    "                epochs=epochs, \n",
    "                verbose=2, \n",
    "                #validation_split=validation_split,\n",
    "                validation_data=(X_test, y_test),\n",
    "                callbacks=[cl, tb]\n",
    "                )\n",
    "    model.save(f'models/{model_name}.h5') \n",
    "\n",
    "\n",
    "if __name__ == \"__main__\":    \n",
    "    #train_nn(N=500000, batch_size=256, epochs=500, validation_split=0.2)\n",
    "    files = glob.glob('models/svj_*')\n",
    "    for file in files:\n",
    "        model_name = file.split('/')[-1].split('.h5')[0]\n",
    "        details = model_name.split('_')    \n",
    "        roc_plot(int(details[2]), float(details[-1]), model_name)"
   ]
  },
  {
   "cell_type": "markdown",
   "metadata": {},
   "source": [
    "# Load data CNN"
   ]
  },
  {
   "cell_type": "code",
   "execution_count": 60,
   "metadata": {},
   "outputs": [],
   "source": [
    "# f = h5py.File(\"/home/ja2006203966/script/Network/data/Mydata/H5/SVJ/0jetim.h5\",'r')\n",
    "# f = f['jetim'][()]\n",
    "# f2 = h5py.File(\"/home/ja2006203966/script/Network/data/Mydata/H5/QCD/0jetim.h5\",'r')\n",
    "# f2 = f2['jetim'][()]\n",
    "f = h5py.File(\"/home/ja2006203966/script/Network/data/Mydata/H5/SVJ/0JSS_Jim.h5\",'r')\n",
    "f = f['Jet_im_my'][()]\n",
    "f2 = h5py.File(\"/home/ja2006203966/script/Network/data/Mydata/H5/QCD/0JSS_Jim.h5\",'r')\n",
    "f2 = f2['Jet_im_my'][()]"
   ]
  },
  {
   "cell_type": "code",
   "execution_count": 61,
   "metadata": {},
   "outputs": [],
   "source": [
    "ft = np.append(f,f2, axis=0)"
   ]
  },
  {
   "cell_type": "code",
   "execution_count": 62,
   "metadata": {},
   "outputs": [
    {
     "data": {
      "text/plain": [
       "0"
      ]
     },
     "execution_count": 62,
     "metadata": {},
     "output_type": "execute_result"
    }
   ],
   "source": [
    "sum([1 for i in ft if np.sum(i)==0])"
   ]
  },
  {
   "cell_type": "code",
   "execution_count": 63,
   "metadata": {},
   "outputs": [
    {
     "data": {
      "text/plain": [
       "(64, 64)"
      ]
     },
     "execution_count": 63,
     "metadata": {},
     "output_type": "execute_result"
    }
   ],
   "source": [
    "ft[0].shape"
   ]
  },
  {
   "cell_type": "code",
   "execution_count": 64,
   "metadata": {},
   "outputs": [],
   "source": [
    "yt = np.array([1 for i in range(len(f))]+[0 for i in range(len(f2))])"
   ]
  },
  {
   "cell_type": "code",
   "execution_count": 65,
   "metadata": {},
   "outputs": [],
   "source": [
    "from sklearn.model_selection import train_test_split\n",
    "Xim_train, Xim_val, yim_train, yim_val = train_test_split(ft, yt, test_size=0.3)"
   ]
  },
  {
   "cell_type": "code",
   "execution_count": 66,
   "metadata": {},
   "outputs": [
    {
     "name": "stderr",
     "output_type": "stream",
     "text": [
      "/usr/local/lib/python3.6/dist-packages/ipykernel_launcher.py:2: RuntimeWarning: divide by zero encountered in log\n",
      "  \n"
     ]
    },
    {
     "data": {
      "image/png": "[encoded data removed]",
      "text/plain": [
       "<Figure size 432x288 with 1 Axes>"
      ]
     },
     "metadata": {
      "needs_background": "light"
     },
     "output_type": "display_data"
    },
    {
     "name": "stderr",
     "output_type": "stream",
     "text": [
      "/usr/local/lib/python3.6/dist-packages/ipykernel_launcher.py:5: RuntimeWarning: divide by zero encountered in log\n",
      "  \"\"\"\n"
     ]
    },
    {
     "data": {
      "image/png": "[encoded data removed]",
      "text/plain": [
       "<Figure size 432x288 with 1 Axes>"
      ]
     },
     "metadata": {
      "needs_background": "light"
     },
     "output_type": "display_data"
    }
   ],
   "source": [
    "X = np.sum(f2, axis=0)\n",
    "plt.imshow(np.log(X), cmap='Blues', label = 'QCD', filternorm=1)\n",
    "plt.show()\n",
    "Y = np.sum(f, axis=0)\n",
    "plt.imshow(np.log(Y), cmap='Blues', label = 'SVJ', filternorm=1)\n",
    "plt.show()"
   ]
  },
  {
   "cell_type": "markdown",
   "metadata": {},
   "source": [
    "# Model CNN"
   ]
  },
  {
   "cell_type": "code",
   "execution_count": 67,
   "metadata": {},
   "outputs": [],
   "source": [
    "inputs = tf.keras.Input(shape=(64,64))\n",
    "x = inputs\n",
    "x = tf.expand_dims(x,axis=-1)\n",
    "x = tf.keras.layers.Conv2D(256, kernel_size=(4,4), activation='relu', input_shape=(64,64,1))(x)\n",
    "x = tf.keras.layers.MaxPooling2D()(x)\n",
    "x = tf.keras.layers.Conv2D(256, kernel_size=(4,4), activation='relu')(x)\n",
    "x = tf.keras.layers.Flatten()(x)\n",
    "# x = tf.keras.layers.Dense(1, activation='sigmoid')(x)\n",
    "\n",
    "x = tf.keras.layers.Dense(128, activation='relu')(x)\n",
    "x = tf.keras.layers.Dropout(0.2)(x)\n",
    "x = tf.keras.layers.Dense(2)(x)\n",
    "modelCNN = tf.keras.Model(inputs=inputs, outputs=x, name='CNN')"
   ]
  },
  {
   "cell_type": "code",
   "execution_count": 68,
   "metadata": {},
   "outputs": [
    {
     "name": "stdout",
     "output_type": "stream",
     "text": [
      "Model: \"CNN\"\n",
      "_________________________________________________________________\n",
      "Layer (type)                 Output Shape              Param #   \n",
      "=================================================================\n",
      "input_7 (InputLayer)         [(None, 64, 64)]          0         \n",
      "_________________________________________________________________\n",
      "tf_op_layer_ExpandDims_5 (Te [(None, 64, 64, 1)]       0         \n",
      "_________________________________________________________________\n",
      "conv2d_10 (Conv2D)           (None, 61, 61, 256)       4352      \n",
      "_________________________________________________________________\n",
      "max_pooling2d_5 (MaxPooling2 (None, 30, 30, 256)       0         \n",
      "_________________________________________________________________\n",
      "conv2d_11 (Conv2D)           (None, 27, 27, 256)       1048832   \n",
      "_________________________________________________________________\n",
      "flatten_5 (Flatten)          (None, 186624)            0         \n",
      "_________________________________________________________________\n",
      "dense_13 (Dense)             (None, 128)               23888000  \n",
      "_________________________________________________________________\n",
      "dropout_6 (Dropout)          (None, 128)               0         \n",
      "_________________________________________________________________\n",
      "dense_14 (Dense)             (None, 2)                 258       \n",
      "=================================================================\n",
      "Total params: 24,941,442\n",
      "Trainable params: 24,941,442\n",
      "Non-trainable params: 0\n",
      "_________________________________________________________________\n"
     ]
    }
   ],
   "source": [
    "loss_fn = tf.keras.losses.SparseCategoricalCrossentropy(from_logits=True)\n",
    "modelCNN.compile(optimizer='adam', loss=loss_fn, metrics=['accuracy'])\n",
    "modelCNN.summary()"
   ]
  },
  {
   "cell_type": "code",
   "execution_count": 69,
   "metadata": {},
   "outputs": [
    {
     "name": "stdout",
     "output_type": "stream",
     "text": [
      "Epoch 1/20\n",
      "15/15 [==============================] - 3s 185ms/step - loss: 2.2865 - accuracy: 0.6320 - val_loss: 0.6743 - val_accuracy: 0.6570\n",
      "Epoch 2/20\n",
      "15/15 [==============================] - 3s 176ms/step - loss: 0.6467 - accuracy: 0.6593 - val_loss: 0.6339 - val_accuracy: 0.6570\n",
      "Epoch 3/20\n",
      "15/15 [==============================] - 3s 176ms/step - loss: 0.6341 - accuracy: 0.6593 - val_loss: 0.6317 - val_accuracy: 0.6570\n",
      "Epoch 4/20\n",
      "15/15 [==============================] - 3s 176ms/step - loss: 0.6271 - accuracy: 0.6593 - val_loss: 0.6244 - val_accuracy: 0.6570\n",
      "Epoch 5/20\n",
      "15/15 [==============================] - 3s 177ms/step - loss: 0.6174 - accuracy: 0.6608 - val_loss: 0.6108 - val_accuracy: 0.6690\n",
      "Epoch 6/20\n",
      "15/15 [==============================] - 3s 176ms/step - loss: 0.6009 - accuracy: 0.6780 - val_loss: 0.6029 - val_accuracy: 0.6793\n",
      "Epoch 7/20\n",
      "15/15 [==============================] - 3s 177ms/step - loss: 0.5902 - accuracy: 0.6910 - val_loss: 0.6052 - val_accuracy: 0.6617\n",
      "Epoch 8/20\n",
      "15/15 [==============================] - 3s 178ms/step - loss: 0.5835 - accuracy: 0.7029 - val_loss: 0.6041 - val_accuracy: 0.6690\n",
      "Epoch 9/20\n",
      "15/15 [==============================] - 3s 180ms/step - loss: 0.5754 - accuracy: 0.7026 - val_loss: 0.6114 - val_accuracy: 0.6736\n",
      "Epoch 10/20\n",
      "15/15 [==============================] - 3s 183ms/step - loss: 0.5679 - accuracy: 0.7122 - val_loss: 0.6101 - val_accuracy: 0.6687\n",
      "Epoch 11/20\n",
      "15/15 [==============================] - 3s 180ms/step - loss: 0.5611 - accuracy: 0.7194 - val_loss: 0.6171 - val_accuracy: 0.6750\n",
      "Epoch 12/20\n",
      "15/15 [==============================] - 3s 178ms/step - loss: 0.5604 - accuracy: 0.7191 - val_loss: 0.6227 - val_accuracy: 0.6736\n",
      "Epoch 13/20\n",
      "15/15 [==============================] - 3s 178ms/step - loss: 0.5503 - accuracy: 0.7240 - val_loss: 0.6230 - val_accuracy: 0.6750\n",
      "Epoch 14/20\n",
      "15/15 [==============================] - 3s 177ms/step - loss: 0.5415 - accuracy: 0.7319 - val_loss: 0.6338 - val_accuracy: 0.6580\n",
      "Epoch 15/20\n",
      "15/15 [==============================] - 3s 177ms/step - loss: 0.5458 - accuracy: 0.7332 - val_loss: 0.6375 - val_accuracy: 0.6753\n",
      "Epoch 16/20\n",
      "15/15 [==============================] - 3s 178ms/step - loss: 0.5306 - accuracy: 0.7391 - val_loss: 0.6419 - val_accuracy: 0.6766\n",
      "Epoch 17/20\n",
      "15/15 [==============================] - 3s 181ms/step - loss: 0.5221 - accuracy: 0.7445 - val_loss: 0.6490 - val_accuracy: 0.6763\n",
      "Epoch 18/20\n",
      "15/15 [==============================] - 3s 179ms/step - loss: 0.5144 - accuracy: 0.7496 - val_loss: 0.6564 - val_accuracy: 0.6756\n",
      "Epoch 19/20\n",
      "15/15 [==============================] - 3s 180ms/step - loss: 0.5087 - accuracy: 0.7536 - val_loss: 0.6670 - val_accuracy: 0.6726\n",
      "Epoch 20/20\n",
      "15/15 [==============================] - 3s 177ms/step - loss: 0.4991 - accuracy: 0.7602 - val_loss: 0.6782 - val_accuracy: 0.6756\n"
     ]
    },
    {
     "data": {
      "text/plain": [
       "<tensorflow.python.keras.callbacks.History at 0x7f421a7f0358>"
      ]
     },
     "execution_count": 69,
     "metadata": {},
     "output_type": "execute_result"
    }
   ],
   "source": [
    "modelCNN.fit(Xim_train, yim_train, batch_size=500 , validation_data=(Xim_val, yim_val), shuffle=True , epochs=20)"
   ]
  },
  {
   "cell_type": "markdown",
   "metadata": {},
   "source": [
    "# Load data DNN"
   ]
  },
  {
   "cell_type": "code",
   "execution_count": 47,
   "metadata": {},
   "outputs": [],
   "source": [
    "f = h5py.File(\"/home/ja2006203966/script/Network/data/Mydata/H5/SVJ/0JSS_Jim.h5\",'r')\n",
    "f2 = h5py.File(\"/home/ja2006203966/script/Network/data/Mydata/H5/QCD/0JSS_Jim.h5\",'r')\n"
   ]
  },
  {
   "cell_type": "code",
   "execution_count": 48,
   "metadata": {},
   "outputs": [],
   "source": [
    "Labels = ['T21', 'D21', 'MASS', 'D22', 'C22', 'C21']"
   ]
  },
  {
   "cell_type": "code",
   "execution_count": 49,
   "metadata": {},
   "outputs": [],
   "source": [
    "f = np.array([ f[i][()] for i in Labels])\n",
    "f2 = np.array([ f2[i][()] for i in Labels])"
   ]
  },
  {
   "cell_type": "code",
   "execution_count": 50,
   "metadata": {},
   "outputs": [],
   "source": [
    "f = f.transpose((1,0))\n",
    "f2 = f2.transpose((1,0))"
   ]
  },
  {
   "cell_type": "code",
   "execution_count": 53,
   "metadata": {},
   "outputs": [],
   "source": [
    "ft = np.append(f,f2, axis=0)"
   ]
  },
  {
   "cell_type": "code",
   "execution_count": 54,
   "metadata": {},
   "outputs": [],
   "source": [
    "yt = np.array([1 for i in range(len(f))]+[0 for i in range(len(f2))])"
   ]
  },
  {
   "cell_type": "code",
   "execution_count": 55,
   "metadata": {},
   "outputs": [
    {
     "data": {
      "text/plain": [
       "(6,)"
      ]
     },
     "execution_count": 55,
     "metadata": {},
     "output_type": "execute_result"
    }
   ],
   "source": [
    "ft[0].shape"
   ]
  },
  {
   "cell_type": "code",
   "execution_count": 56,
   "metadata": {},
   "outputs": [],
   "source": [
    "from sklearn.model_selection import train_test_split\n",
    "X_train, X_val, y_train, y_val = train_test_split(ft, yt, test_size=0.3)"
   ]
  },
  {
   "cell_type": "code",
   "execution_count": null,
   "metadata": {},
   "outputs": [],
   "source": []
  },
  {
   "cell_type": "markdown",
   "metadata": {},
   "source": [
    "# Model DNN"
   ]
  },
  {
   "cell_type": "code",
   "execution_count": 57,
   "metadata": {},
   "outputs": [],
   "source": [
    "inputs = tf.keras.Input(shape=(6,))\n",
    "x = inputs\n",
    "x = tf.keras.layers.Dense(256, activation='relu')(x)\n",
    "x = tf.keras.layers.Dropout(0.2)(x)\n",
    "x = tf.keras.layers.Dense(128, activation='relu')(x)\n",
    "x = tf.keras.layers.Dense(2)(x)\n",
    "modelDNN = tf.keras.Model(inputs=inputs, outputs=x, name='DNN')"
   ]
  },
  {
   "cell_type": "code",
   "execution_count": 58,
   "metadata": {},
   "outputs": [
    {
     "name": "stdout",
     "output_type": "stream",
     "text": [
      "Model: \"DNN\"\n",
      "_________________________________________________________________\n",
      "Layer (type)                 Output Shape              Param #   \n",
      "=================================================================\n",
      "input_6 (InputLayer)         [(None, 6)]               0         \n",
      "_________________________________________________________________\n",
      "dense_10 (Dense)             (None, 256)               1792      \n",
      "_________________________________________________________________\n",
      "dropout_5 (Dropout)          (None, 256)               0         \n",
      "_________________________________________________________________\n",
      "dense_11 (Dense)             (None, 128)               32896     \n",
      "_________________________________________________________________\n",
      "dense_12 (Dense)             (None, 2)                 258       \n",
      "=================================================================\n",
      "Total params: 34,946\n",
      "Trainable params: 34,946\n",
      "Non-trainable params: 0\n",
      "_________________________________________________________________\n"
     ]
    }
   ],
   "source": [
    "loss_fn = tf.keras.losses.SparseCategoricalCrossentropy(from_logits=True)\n",
    "modelDNN.compile(optimizer='adam', loss=loss_fn, metrics=['accuracy'])\n",
    "modelDNN.summary()"
   ]
  },
  {
   "cell_type": "code",
   "execution_count": 59,
   "metadata": {},
   "outputs": [
    {
     "name": "stdout",
     "output_type": "stream",
     "text": [
      "Epoch 1/20\n",
      "15/15 [==============================] - 0s 12ms/step - loss: 1.9661 - accuracy: 0.5492 - val_loss: 0.7238 - val_accuracy: 0.5771\n",
      "Epoch 2/20\n",
      "15/15 [==============================] - 0s 7ms/step - loss: 1.2441 - accuracy: 0.5924 - val_loss: 0.8481 - val_accuracy: 0.6637\n",
      "Epoch 3/20\n",
      "15/15 [==============================] - 0s 7ms/step - loss: 1.0860 - accuracy: 0.5934 - val_loss: 0.6944 - val_accuracy: 0.6637\n",
      "Epoch 4/20\n",
      "15/15 [==============================] - 0s 8ms/step - loss: 0.9654 - accuracy: 0.5930 - val_loss: 0.6304 - val_accuracy: 0.6139\n",
      "Epoch 5/20\n",
      "15/15 [==============================] - 0s 7ms/step - loss: 0.8543 - accuracy: 0.6003 - val_loss: 0.6756 - val_accuracy: 0.5765\n",
      "Epoch 6/20\n",
      "15/15 [==============================] - 0s 7ms/step - loss: 0.8445 - accuracy: 0.6028 - val_loss: 0.6589 - val_accuracy: 0.6637\n",
      "Epoch 7/20\n",
      "15/15 [==============================] - 0s 7ms/step - loss: 0.7772 - accuracy: 0.6082 - val_loss: 0.6153 - val_accuracy: 0.6610\n",
      "Epoch 8/20\n",
      "15/15 [==============================] - 0s 8ms/step - loss: 0.7259 - accuracy: 0.6148 - val_loss: 0.6060 - val_accuracy: 0.6637\n",
      "Epoch 9/20\n",
      "15/15 [==============================] - 0s 8ms/step - loss: 0.6978 - accuracy: 0.6244 - val_loss: 1.1541 - val_accuracy: 0.4952\n",
      "Epoch 10/20\n",
      "15/15 [==============================] - 0s 8ms/step - loss: 0.8513 - accuracy: 0.5993 - val_loss: 0.7564 - val_accuracy: 0.6637\n",
      "Epoch 11/20\n",
      "15/15 [==============================] - 0s 8ms/step - loss: 0.7279 - accuracy: 0.6277 - val_loss: 0.9452 - val_accuracy: 0.5323\n",
      "Epoch 12/20\n",
      "15/15 [==============================] - 0s 8ms/step - loss: 6713504169984.0000 - accuracy: 0.6193 - val_loss: 1.0790 - val_accuracy: 0.6637\n",
      "Epoch 13/20\n",
      "15/15 [==============================] - 0s 8ms/step - loss: 1.0814 - accuracy: 0.6028 - val_loss: 0.6968 - val_accuracy: 0.6269\n",
      "Epoch 14/20\n",
      "15/15 [==============================] - 0s 8ms/step - loss: 1.0034 - accuracy: 0.6150 - val_loss: 0.6359 - val_accuracy: 0.6249\n",
      "Epoch 15/20\n",
      "15/15 [==============================] - 0s 8ms/step - loss: 0.8508 - accuracy: 0.5953 - val_loss: 0.6424 - val_accuracy: 0.6637\n",
      "Epoch 16/20\n",
      "15/15 [==============================] - 0s 8ms/step - loss: 0.8107 - accuracy: 0.6024 - val_loss: 0.6320 - val_accuracy: 0.6637\n",
      "Epoch 17/20\n",
      "15/15 [==============================] - 0s 8ms/step - loss: 0.7683 - accuracy: 0.6119 - val_loss: 0.6438 - val_accuracy: 0.6637\n",
      "Epoch 18/20\n",
      "15/15 [==============================] - 0s 8ms/step - loss: 0.7235 - accuracy: 0.6227 - val_loss: 0.6112 - val_accuracy: 0.6637\n",
      "Epoch 19/20\n",
      "15/15 [==============================] - 0s 8ms/step - loss: 0.6910 - accuracy: 0.6253 - val_loss: 0.6878 - val_accuracy: 0.5940\n",
      "Epoch 20/20\n",
      "15/15 [==============================] - 0s 7ms/step - loss: 0.6905 - accuracy: 0.6298 - val_loss: 0.6031 - val_accuracy: 0.6703\n"
     ]
    },
    {
     "data": {
      "text/plain": [
       "<tensorflow.python.keras.callbacks.History at 0x7f410cf6e5c0>"
      ]
     },
     "execution_count": 59,
     "metadata": {},
     "output_type": "execute_result"
    }
   ],
   "source": [
    "modelDNN.fit(X_train, y_train, batch_size=500 , validation_data=(X_val, y_val), shuffle=True , epochs=20)"
   ]
  },
  {
   "cell_type": "code",
   "execution_count": 54,
   "metadata": {},
   "outputs": [
    {
     "data": {
      "text/plain": [
       "27879"
      ]
     },
     "execution_count": 54,
     "metadata": {},
     "output_type": "execute_result"
    }
   ],
   "source": [
    "len(y_train)"
   ]
  },
  {
   "cell_type": "markdown",
   "metadata": {},
   "source": [
    "# Load 2CNN data"
   ]
  },
  {
   "cell_type": "code",
   "execution_count": 76,
   "metadata": {},
   "outputs": [],
   "source": [
    "f = h5py.File(\"/home/ja2006203966/script/Network/data/Mydata/H5/SVJ/0JSS_Jim.h5\",'r')\n",
    "f2 = h5py.File(\"/home/ja2006203966/script/Network/data/Mydata/H5/QCD/0JSS_Jim.h5\",'r')\n",
    "fim = f['Jet_im_my'][()]\n",
    "fim2 = f2['Jet_im_my'][()]"
   ]
  },
  {
   "cell_type": "code",
   "execution_count": 77,
   "metadata": {},
   "outputs": [],
   "source": [
    "Labels = ['T21', 'D21', 'MASS', 'D22', 'C22', 'C21']"
   ]
  },
  {
   "cell_type": "code",
   "execution_count": 78,
   "metadata": {},
   "outputs": [],
   "source": [
    "f = np.array([ f[i][()] for i in Labels])\n",
    "f2 = np.array([ f2[i][()] for i in Labels])"
   ]
  },
  {
   "cell_type": "code",
   "execution_count": 79,
   "metadata": {},
   "outputs": [],
   "source": [
    "f = f.transpose((1,0))\n",
    "f2 = f2.transpose((1,0))"
   ]
  },
  {
   "cell_type": "code",
   "execution_count": 84,
   "metadata": {},
   "outputs": [],
   "source": [
    "ft = np.append(f,f2, axis=0)\n",
    "ftim = np.append(fim,fim2, axis=0)"
   ]
  },
  {
   "cell_type": "code",
   "execution_count": 85,
   "metadata": {},
   "outputs": [],
   "source": [
    "yt = np.array([1 for i in range(len(f))]+[0 for i in range(len(f2))])"
   ]
  },
  {
   "cell_type": "code",
   "execution_count": 94,
   "metadata": {},
   "outputs": [],
   "source": [
    "# fc = (ft,ftim)"
   ]
  },
  {
   "cell_type": "code",
   "execution_count": 95,
   "metadata": {},
   "outputs": [],
   "source": [
    "fc = np.array([(ft[i],ftim[i]) for i in range(len(ft))])"
   ]
  },
  {
   "cell_type": "code",
   "execution_count": 99,
   "metadata": {},
   "outputs": [],
   "source": [
    "from sklearn.model_selection import train_test_split\n",
    "X_train, X_val, y_train, y_val = train_test_split(fc, yt, test_size=0.3)"
   ]
  },
  {
   "cell_type": "code",
   "execution_count": 110,
   "metadata": {},
   "outputs": [],
   "source": [
    "X_train1 = X_train.transpose(1,0)[0]\n",
    "X_train2 = X_train.transpose(1,0)[1]\n",
    "X_val1 = X_val.transpose(1,0)[0]\n",
    "X_val2 = X_val.transpose(1,0)[1]"
   ]
  },
  {
   "cell_type": "code",
   "execution_count": 114,
   "metadata": {},
   "outputs": [],
   "source": [
    "X_train1 = np.array([i for i in X_train1])\n",
    "X_train2 = np.array([i for i in X_train2])\n",
    "X_val1 = np.array([i for i in X_val1])\n",
    "X_val2 = np.array([i for i in X_val2])"
   ]
  },
  {
   "cell_type": "markdown",
   "metadata": {},
   "source": [
    "# Model 2CNN"
   ]
  },
  {
   "cell_type": "code",
   "execution_count": 116,
   "metadata": {},
   "outputs": [],
   "source": [
    "inputs = tf.keras.Input(shape=(6,))\n",
    "x = inputs\n",
    "x = tf.keras.layers.Dense(256, activation='relu')(x)\n",
    "x = tf.keras.layers.Dropout(0.2)(x)\n",
    "x = tf.keras.layers.Dense(128, activation='relu')(x)\n",
    "x = tf.keras.layers.Dense(1)(x)\n",
    "\n",
    "inputs2 = tf.keras.Input(shape=(64,64))\n",
    "x2 = inputs2\n",
    "x2 = tf.expand_dims(x2,axis=-1)\n",
    "x2 = tf.keras.layers.Conv2D(256, kernel_size=(4,4), activation='relu', input_shape=(64,64,1))(x2)\n",
    "x2 = tf.keras.layers.MaxPooling2D()(x2)\n",
    "x2 = tf.keras.layers.Conv2D(256, kernel_size=(4,4), activation='relu')(x2)\n",
    "x2 = tf.keras.layers.Flatten()(x2)\n",
    "# x = tf.keras.layers.Dense(1, activation='sigmoid')(x)\n",
    "\n",
    "x2 = tf.keras.layers.Dense(128, activation='relu')(x2)\n",
    "x2 = tf.keras.layers.Dropout(0.2)(x2)\n",
    "x2 = tf.keras.layers.Dense(1)(x2)\n",
    "\n",
    "xt = tf.concat([x,x2], axis=-1)\n",
    "xt = tf.keras.layers.Dense(128, activation='relu')(xt)\n",
    "xt = tf.keras.layers.Dropout(0.2)(xt)\n",
    "xt = tf.keras.layers.Dense(2, activation='sigmoid')(xt)\n",
    "\n",
    "\n",
    "\n",
    "\n",
    "model2CNN = tf.keras.Model(inputs=(inputs, inputs2), outputs=xt, name='2CNN')"
   ]
  },
  {
   "cell_type": "code",
   "execution_count": 117,
   "metadata": {},
   "outputs": [
    {
     "name": "stdout",
     "output_type": "stream",
     "text": [
      "Model: \"2CNN\"\n",
      "__________________________________________________________________________________________________\n",
      "Layer (type)                    Output Shape         Param #     Connected to                     \n",
      "==================================================================================================\n",
      "input_17 (InputLayer)           [(None, 64, 64)]     0                                            \n",
      "__________________________________________________________________________________________________\n",
      "tf_op_layer_ExpandDims_10 (Tens [(None, 64, 64, 1)]  0           input_17[0][0]                   \n",
      "__________________________________________________________________________________________________\n",
      "conv2d_20 (Conv2D)              (None, 61, 61, 256)  4352        tf_op_layer_ExpandDims_10[0][0]  \n",
      "__________________________________________________________________________________________________\n",
      "max_pooling2d_10 (MaxPooling2D) (None, 30, 30, 256)  0           conv2d_20[0][0]                  \n",
      "__________________________________________________________________________________________________\n",
      "input_16 (InputLayer)           [(None, 6)]          0                                            \n",
      "__________________________________________________________________________________________________\n",
      "conv2d_21 (Conv2D)              (None, 27, 27, 256)  1048832     max_pooling2d_10[0][0]           \n",
      "__________________________________________________________________________________________________\n",
      "dense_41 (Dense)                (None, 256)          1792        input_16[0][0]                   \n",
      "__________________________________________________________________________________________________\n",
      "flatten_10 (Flatten)            (None, 186624)       0           conv2d_21[0][0]                  \n",
      "__________________________________________________________________________________________________\n",
      "dropout_18 (Dropout)            (None, 256)          0           dense_41[0][0]                   \n",
      "__________________________________________________________________________________________________\n",
      "dense_44 (Dense)                (None, 128)          23888000    flatten_10[0][0]                 \n",
      "__________________________________________________________________________________________________\n",
      "dense_42 (Dense)                (None, 128)          32896       dropout_18[0][0]                 \n",
      "__________________________________________________________________________________________________\n",
      "dropout_19 (Dropout)            (None, 128)          0           dense_44[0][0]                   \n",
      "__________________________________________________________________________________________________\n",
      "dense_43 (Dense)                (None, 2)            258         dense_42[0][0]                   \n",
      "__________________________________________________________________________________________________\n",
      "dense_45 (Dense)                (None, 2)            258         dropout_19[0][0]                 \n",
      "__________________________________________________________________________________________________\n",
      "tf_op_layer_concat_3 (TensorFlo [(None, 4)]          0           dense_43[0][0]                   \n",
      "                                                                 dense_45[0][0]                   \n",
      "__________________________________________________________________________________________________\n",
      "dense_46 (Dense)                (None, 128)          640         tf_op_layer_concat_3[0][0]       \n",
      "__________________________________________________________________________________________________\n",
      "dropout_20 (Dropout)            (None, 128)          0           dense_46[0][0]                   \n",
      "__________________________________________________________________________________________________\n",
      "dense_47 (Dense)                (None, 2)            258         dropout_20[0][0]                 \n",
      "==================================================================================================\n",
      "Total params: 24,977,286\n",
      "Trainable params: 24,977,286\n",
      "Non-trainable params: 0\n",
      "__________________________________________________________________________________________________\n"
     ]
    }
   ],
   "source": [
    "loss_fn = tf.keras.losses.SparseCategoricalCrossentropy(from_logits=True)\n",
    "model2CNN.compile(optimizer='adam', loss=loss_fn, metrics=['accuracy'])\n",
    "model2CNN.summary()"
   ]
  },
  {
   "cell_type": "code",
   "execution_count": 118,
   "metadata": {},
   "outputs": [
    {
     "name": "stdout",
     "output_type": "stream",
     "text": [
      "Epoch 1/20\n",
      "15/15 [==============================] - 3s 189ms/step - loss: 0.6569 - accuracy: 0.6455 - val_loss: 0.6390 - val_accuracy: 0.6693\n",
      "Epoch 2/20\n",
      "15/15 [==============================] - 3s 179ms/step - loss: 0.6454 - accuracy: 0.6536 - val_loss: 0.6287 - val_accuracy: 0.6693\n",
      "Epoch 3/20\n",
      "15/15 [==============================] - 3s 179ms/step - loss: 0.6436 - accuracy: 0.6547 - val_loss: 0.6393 - val_accuracy: 0.6693\n",
      "Epoch 4/20\n",
      "15/15 [==============================] - 3s 178ms/step - loss: 0.6469 - accuracy: 0.6540 - val_loss: 0.6379 - val_accuracy: 0.6693\n",
      "Epoch 5/20\n",
      "15/15 [==============================] - 3s 178ms/step - loss: 0.6407 - accuracy: 0.6542 - val_loss: 0.6329 - val_accuracy: 0.6693\n",
      "Epoch 6/20\n",
      "15/15 [==============================] - 3s 180ms/step - loss: 0.6275 - accuracy: 0.6522 - val_loss: 0.6405 - val_accuracy: 0.6693\n",
      "Epoch 7/20\n",
      "15/15 [==============================] - 3s 178ms/step - loss: 0.6263 - accuracy: 0.6532 - val_loss: 0.6290 - val_accuracy: 0.6693\n",
      "Epoch 8/20\n",
      "15/15 [==============================] - 3s 179ms/step - loss: 0.6249 - accuracy: 0.6544 - val_loss: 0.6225 - val_accuracy: 0.6693\n",
      "Epoch 9/20\n",
      "15/15 [==============================] - 3s 178ms/step - loss: 0.6224 - accuracy: 0.6544 - val_loss: 0.6197 - val_accuracy: 0.6693\n",
      "Epoch 10/20\n",
      "15/15 [==============================] - 3s 180ms/step - loss: 0.6204 - accuracy: 0.6526 - val_loss: 0.6174 - val_accuracy: 0.6693\n",
      "Epoch 11/20\n",
      "15/15 [==============================] - 3s 178ms/step - loss: 0.6200 - accuracy: 0.6539 - val_loss: 0.6175 - val_accuracy: 0.6693\n",
      "Epoch 12/20\n",
      "15/15 [==============================] - 3s 181ms/step - loss: 0.6198 - accuracy: 0.6539 - val_loss: 0.6155 - val_accuracy: 0.6693\n",
      "Epoch 13/20\n",
      "15/15 [==============================] - 3s 179ms/step - loss: 0.6172 - accuracy: 0.6539 - val_loss: 0.6170 - val_accuracy: 0.6693\n",
      "Epoch 14/20\n",
      "15/15 [==============================] - 3s 179ms/step - loss: 0.6187 - accuracy: 0.6540 - val_loss: 0.6162 - val_accuracy: 0.6693\n",
      "Epoch 15/20\n",
      "15/15 [==============================] - 3s 179ms/step - loss: 0.6149 - accuracy: 0.6542 - val_loss: 0.6153 - val_accuracy: 0.6693\n",
      "Epoch 16/20\n",
      "15/15 [==============================] - 3s 181ms/step - loss: 0.6334 - accuracy: 0.6539 - val_loss: 0.6158 - val_accuracy: 0.6693\n",
      "Epoch 17/20\n",
      "15/15 [==============================] - 3s 183ms/step - loss: 0.6225 - accuracy: 0.6542 - val_loss: 0.6195 - val_accuracy: 0.6693\n",
      "Epoch 18/20\n",
      "15/15 [==============================] - 3s 182ms/step - loss: 0.6310 - accuracy: 0.6539 - val_loss: 0.6261 - val_accuracy: 0.6693\n",
      "Epoch 19/20\n",
      "15/15 [==============================] - 3s 182ms/step - loss: 0.6271 - accuracy: 0.6537 - val_loss: 0.6216 - val_accuracy: 0.6693\n",
      "Epoch 20/20\n",
      "15/15 [==============================] - 3s 181ms/step - loss: 0.6203 - accuracy: 0.6544 - val_loss: 0.6160 - val_accuracy: 0.6693\n"
     ]
    },
    {
     "data": {
      "text/plain": [
       "<tensorflow.python.keras.callbacks.History at 0x7f422cb1e8d0>"
      ]
     },
     "execution_count": 118,
     "metadata": {},
     "output_type": "execute_result"
    }
   ],
   "source": [
    "model2CNN.fit((X_train1,X_train2), y_train, batch_size=500 , validation_data=((X_val1,X_val2), y_val), shuffle=True , epochs=20)"
   ]
  },
  {
   "cell_type": "markdown",
   "metadata": {},
   "source": [
    "# Back up"
   ]
  },
  {
   "cell_type": "code",
   "execution_count": null,
   "metadata": {},
   "outputs": [],
   "source": [
    "# y_test=[i[1] for i in testpojen_datay]\n",
    "X_test = np.load(\"./X_test.npy\",allow_pickle=True)\n",
    "X_test = X_test.item()\n",
    "y_test = np.load(\"./y_test.npy\",allow_pickle=True)\n",
    "y_score=model.predict(X_test)[:,0]\n",
    "test=[i[1] for i in y_test]\n",
    "fpr , tpr , thresholds = roc_curve ( test , y_score)\n",
    "roc_auc = auc(tpr,fpr )\n",
    "print(\"The area under the curves are:\")\n",
    "print(\"AUC:{0:.9f}\".format(roc_auc))\n",
    "# FalsePositiveFull, TruePositiveFull, ThresholdFull = metrics.roc_curve(y_test,Predictions)\n",
    "plt.figure(figsize=(8,16))\n",
    "plt.subplot(2,1,1)\n",
    "\n",
    "plt.plot(tpr,fpr, label='Fully supervised: AUC={0:.9f}'.format(roc_auc))\n",
    "plt.ylabel('1-False Positive Rate',fontsize=20)\n",
    "plt.xlabel('True Positive Rate',fontsize=20)\n",
    "plt.plot([0, 1], [0, 1], 'k--')\n",
    "plt.legend(bbox_to_anchor=(0.8, -0.17),ncol=2)\n",
    "plt.tight_layout()\n",
    "plt.savefig(\"./Myneighnorhood_Particlenet_roc.png\")\n",
    "np.save(\"./myfpr\",fpr)\n",
    "np.save(\"./mytpr\",tpr)\n",
    "#plt.close()\n",
    " \n",
    "# plt.subplot(2,1,2) \n",
    "# LOSS = pd.read_csv('./training_log.csv')\n",
    "# plt.plot(LOSS[\"loss\"], label='loss',c='blue')\n",
    "# plt.plot(LOSS[\"val_loss\"], label='val_loss',c='red')\n",
    "# plt.ylabel('loss',fontsize=20)\n",
    "# plt.xlabel('epoch',fontsize=20)\n",
    "# plt.legend(bbox_to_anchor=(0.8, -0.17),ncol=2)\n",
    "# plt.tight_layout()\n",
    "\n",
    "#plt.savefig(\"./plot_3.png\")\n",
    "#plt.close()\n",
    "plt.show()"
   ]
  },
  {
   "cell_type": "markdown",
   "metadata": {},
   "source": [
    "# Papaer's CNN"
   ]
  },
  {
   "cell_type": "code",
   "execution_count": null,
   "metadata": {},
   "outputs": [],
   "source": [
    "def data_generator(h5file1, h5file2, batchsize, hlindices, start=0, stop=None):\n",
    "    stop = ((stop-start) // batchsize) * batchsize + start\n",
    "    assert (stop-start) % batchsize     == 0  # Batches will not exceed stop.\n",
    "\n",
    "    with h5py.File(h5file1, 'r') as f1, h5py.File(h5file2, 'r') as f2:\n",
    "        assert f1['features'].shape[0] >= stop\n",
    "        assert f1['features'].shape[0] == f1['targets'].shape[0]\n",
    "        assert f1['features'].shape[0] == f2['features'].shape[0]\n",
    "        assert f1['targets'].shape[0] == f2['targets'].shape[0]\n",
    "        iexample = start\n",
    "        \n",
    "        while True:\n",
    "            assert iexample >= start\n",
    "            assert iexample+batchsize <= stop\n",
    "            batch = slice(iexample, iexample + batchsize)\n",
    "\n",
    "            X  = f1['features'][batch] # Images.\n",
    "            Y  = f1['targets'][batch]\n",
    "            #X2 = f2['features'][batch][:, hlindices] # High-level.\n",
    "            #Y2 = f2['targets'][batch]  \n",
    "            #assert np.all(Y == Y2)\n",
    "            \n",
    "            X = np.log(1.0+X) / 4.0 \n",
    "            \n",
    "            #yield X, Y\n",
    "            #yield {'input_0':X, 'input_1':X2}, {'output':Y}\n",
    "            yield {'input_0':X}, {'output':Y}\n",
    "            \n",
    "            iexample += batchsize\n",
    "            if iexample >= stop:\n",
    "                assert iexample == stop\n",
    "                iexample = start\n",
    "    \n",
    "\n",
    "def train():\n",
    "    ###############################################################################\n",
    "    # Dataset                                                                     #\n",
    "    ###############################################################################\n",
    "    #filename = '/home/pjsadows//ml/data/physics/jets/download4/datasets/train_no_pile_10000000.h5'\n",
    "    hlindices = np.array(['mass', 'c1b1']) # Order of features: mass, c1b1,c2b2,d1b2,d2b2, tau\n",
    "\n",
    "    #filename  = '/Volumes/Free Space/images/train_no_pile_10000000.h5'\n",
    "    #filename2 = '/Volumes/Free Space/highlevel/train_no_pile_10000000.h5'\n",
    "\n",
    "    filename  = './train2_no_pile_10000000.h5' #image input\n",
    "    filename2 = './train_no_pile_10000000.h5' #high level features input\n",
    "\n",
    "    N_train, N_valid = 9500000, 500000\n",
    "    generator = data_generator(filename, filename2, batchsize=100, hlindices=hlindices, start=0, stop=N_train)\n",
    "    validation_data = data_generator(filename, filename2, batchsize=100, hlindices=hlindices, start=N_train, stop=N_train+N_valid)\n",
    "\n",
    "    #filename_test  = '/Volumes/Free Space/images/test_no_pile_5000000.h5'\n",
    "    #filename2_test = '/Volumes/Free Space/highlevel/test_no_pile_5000000.h5'\n",
    "\n",
    "    filename_test  = './test2_no_pile_5000000.h5'\n",
    "    filename2_test = './test_no_pile_5000000.h5'\n",
    "\n",
    "    N_test = 5000000\n",
    "    generator_test = data_generator(filename_test, filename2_test, batchsize=100, hlindices=hlindices, start=0, stop=N_test)\n",
    "\n",
    "    ###############################################################################\n",
    "    # Model                                                                       #\n",
    "    ###############################################################################\n",
    "    act  = 'relu' \n",
    "    init = 'glorot_normal' #'glorot_normal'#'he_normal'\n",
    "    width = 500 #500 \n",
    "    # Image arm\n",
    "    nconv  = 4\n",
    "    nch    = 32\n",
    "    # Head\n",
    "    nhead = 4\n",
    "    ndo   = 2 \n",
    "    \n",
    "    # Arm 0: images\n",
    "    input_0 = Input(shape=(1,32,32), dtype='float32', name='input_0') # We can name an layer by passing name.\n",
    "    x0 = input_0\n",
    "    for i in range(nconv):\n",
    "        x0 = Convolution2D(nch,1, subsample=(1,1), border_mode='valid', init=init, activation=act)(x0) # nch, 4, 4\n",
    "    x0 = Flatten()(x0) \n",
    "\n",
    "    # Arm 1: high-level variables.\n",
    "    #input_1  = Input(shape=(len(hlindices),), name='input_1')\n",
    "    #x1 = input_1\n",
    "    #for i in range(nhl):\n",
    "    #    x1 = Dense(width, init=init, activation=act)(x1)\n",
    "\n",
    "    # Head\n",
    "    #x = merge([x0, x1], mode='concat')\n",
    "    x = x0\n",
    "    for i in range(nhead):\n",
    "        x = Dense(width, activation=act, init=init)(x)\n",
    "        if i >= nhead - ndo:\n",
    "            x = Dropout(p=0.5)(x)\n",
    "    output = Dense(1, activation='sigmoid', name='output')(x)\n",
    "\n",
    "    # Model\n",
    "    #model = Model(input=[input_0, input_1], output=[output])\n",
    "    model = Model(input=[input_0], output=[output])\n",
    "    lrinit  = 0.0001 \n",
    "    lrdecay = 0.8\n",
    "    optimizer = Adam(lr=lrinit, beta_1=0.99, beta_2=0.999, epsilon=1e-08)\n",
    "    model.compile(optimizer=optimizer,loss={'output':'binary_crossentropy'}, metrics=['accuracy'])\n",
    "\n",
    "    ###############################################################################\n",
    "    # Algorithm                                                                   #\n",
    "    ###############################################################################\n",
    "    def lr_scheduler(epoch):\n",
    "        return lrinit * lrdecay ** epoch\n",
    "    lrschedule = LearningRateScheduler(lr_scheduler)\n",
    "    stopping   = EarlyStopping(monitor='val_loss', patience=0, verbose=0, mode='min') \n",
    "    cbks = [stopping, lrschedule]\n",
    "\n",
    "    # Copy script so that we can reconstruct model later.\n",
    "    filebase = './images_conv%d_dense%d_nch%d_do%d_width%d_%s_lrd%d_%d' % (nconv, nhead, nch, ndo, width, act, lrdecay*100, np.random.randint(1000))\n",
    "    fileout = filebase + '.py'\n",
    "    os.system('cp %s %s' % (filebase, fileout))\n",
    "    print('Saving to %s' % fileout)\n",
    "    \n",
    "    # Train.\n",
    "    nb_epoch  = 1000\n",
    "    history = model.fit_generator(generator, samples_per_epoch=N_train, nb_epoch=nb_epoch, verbose=1, validation_data=validation_data, nb_val_samples=N_valid, class_weight=None, callbacks=cbks) \n",
    "\n",
    "    # Save model.\n",
    "    fileout = filebase + '.h5'\n",
    "    model.save_weights(fileout, overwrite=True)\n",
    "    # Save pkl.\n",
    "    fileout = filebase + '.pkl'\n",
    "    with open(fileout, 'w') as f:\n",
    "        pickle.dump(history.history, f)\n",
    "    # Save .yaml script.\n",
    "    fileout = filebase + '.yaml'\n",
    "    with open(fileout, 'w') as f:\n",
    "        f.write(model.to_yaml())\n",
    "\n",
    "    # Compute test error accuracy.\n",
    "    vals = model.evaluate_generator(generator_test, val_samples=N_test, max_q_size=10)\n",
    "    for name, val in zip(model.metrics_names, vals):\n",
    "        print('test_%s: %f' % (name, val))\n",
    "        history.history['test_' + name] = val\n",
    "    # Compute AUC\n",
    "    #auc = compute_auc(model, generator_test, val_samples=N_test)\n",
    "    #print 'Test AUC: %f' % auc\n",
    "    #history.history['test_auc'] = auc\n",
    "\n",
    "    # Save pkl.\n",
    "    fileout = filebase + '.pkl'\n",
    "    with open(fileout, 'w') as f:\n",
    "        pickle.dump(history.history, f)\n",
    "\n",
    "\n",
    "    return history.history['val_loss'][-1]\n",
    "\n",
    "# if __name__=='__main__':\n",
    "#     loss = train()\n",
    "#     print(loss)\n"
   ]
  }
 ],
 "metadata": {
  "kernelspec": {
   "display_name": "Python 3",
   "language": "python",
   "name": "python3"
  },
  "language_info": {
   "codemirror_mode": {
    "name": "ipython",
    "version": 3
   },
   "file_extension": ".py",
   "mimetype": "text/x-python",
   "name": "python",
   "nbconvert_exporter": "python",
   "pygments_lexer": "ipython3",
   "version": "3.6.9"
  }
 },
 "nbformat": 4,
 "nbformat_minor": 4
}
