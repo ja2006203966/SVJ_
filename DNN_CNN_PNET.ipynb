{
 "cells": [
  {
   "cell_type": "markdown",
   "metadata": {},
   "source": [
    "# Import function"
   ]
  },
  {
   "cell_type": "code",
   "execution_count": 1,
   "metadata": {},
   "outputs": [],
   "source": [
    "import numpy as np\n",
    "# import awkward\n",
    "import logging\n",
    "logging.basicConfig(level=logging.INFO, format='[%(asctime)s] %(levelname)s: %(message)s')\n",
    "import numpy as np\n",
    "import scipy.optimize as opt\n",
    "import sys, os, random, gzip\n",
    "import tensorflow as tf\n",
    "from keras import backend as K\n",
    "from keras.models import *\n",
    "from keras.layers import *\n",
    "from keras.optimizers import Adam\n",
    "from keras.losses import categorical_crossentropy\n",
    "import keras\n",
    "import pandas as pd"
   ]
  },
  {
   "cell_type": "code",
   "execution_count": 2,
   "metadata": {},
   "outputs": [],
   "source": [
    "import pandas as pd\n",
    "import numpy as np\n",
    "import matplotlib.pyplot as plt\n",
    "import h5py\n",
    "from keras.models import Sequential\n",
    "from keras.layers import Dense, Conv2D, Flatten, MaxPooling2D\n",
    "from sklearn.model_selection import train_test_split\n",
    "import sys\n",
    "from sklearn import metrics\n",
    "from keras.models import load_model\n",
    "from sklearn.metrics import roc_auc_score, roc_curve\n",
    "from sklearn.metrics import auc as skAUC\n",
    "from keras.callbacks import EarlyStopping, ModelCheckpoint, CSVLogger, TensorBoard\n",
    "import tensorflow as tf\n",
    "from keras import backend as K\n",
    "import time\n",
    "import glob\n",
    "from tqdm import tqdm"
   ]
  },
  {
   "cell_type": "code",
   "execution_count": 3,
   "metadata": {},
   "outputs": [],
   "source": [
    "def auc(y_true, y_pred):\n",
    "    auc = tf.metrics.auc(y_true, y_pred)[1]\n",
    "    K.get_session().run(tf.local_variables_initializer())\n",
    "    return auc\n",
    "\n",
    "def roc_plot(N, validation_split, model_name):\n",
    "    dependencies = {'auc': auc}\n",
    "    model = load_model(f'models/{model_name}.h5', custom_objects=dependencies)\n",
    "    X_train, X_test, y_train, y_true = prep_data(N, validation_split)\n",
    "    y_score=model.predict(X_test).T[0]  \n",
    "    fpr, tpr, thresholds = metrics.roc_curve(y_true, y_score)\n",
    "    bkg_eff = fpr\n",
    "    sig_eff = tpr\n",
    "    auc_val = roc_auc_score(y_true, y_score)\n",
    "    bkg_rej = 1. - bkg_eff\n",
    "    inv_bkg = np.divide(1.0, bkg_eff)\n",
    "    print(model_name, auc_val)\n",
    "    plt.plot(sig_eff, inv_bkg , linestyle='-', label=f'{model_name} - [AUC={auc_val:0.3}]', linewidth=2)\n",
    "    plt.xlabel('Signal Efficiency')\n",
    "    plt.yscale('log')\n",
    "    plt.ylabel('Inverse Background Efficiency')\n",
    "    plt.xlim([0,1])\n",
    "    plt.legend()\n",
    "    plt.savefig(f'figures/roc.png')\n",
    "    \n",
    "def prep_data(N, validation_split):\n",
    "    f = h5py.File('data/jet_complete.h5', 'r')\n",
    "    X = f['features'][:N]\n",
    "    y = f['targets'][:N]\n",
    "    X = np.log(1.0+X) / 4.0 \n",
    "    X_train, X_test, y_train, y_test = train_test_split(X, y, test_size=validation_split)\n",
    "    #reshape data to fit model\n",
    "    X_train, X_test = X_train.reshape(len(X_train),32,32,1), X_test.reshape(len(X_test),32,32,1)\n",
    "    return X_train, X_test, y_train, y_test\n",
    "\n",
    "def train_nn(N, batch_size, epochs, validation_split):\n",
    "    model_name = f'svj_N_{N}_b_{batch_size}_e_{epochs}_v_{validation_split}'\n",
    "    X_train, X_test, y_train, y_test = prep_data(N, validation_split)\n",
    "    #create model\n",
    "    model = Sequential()\n",
    "    #add model layers\n",
    "    model.add(Conv2D(256, kernel_size=(4,4), border_mode='valid', init='glorot_normal', activation='relu', input_shape=(32,32,1)))\n",
    "    model.add(MaxPooling2D())\n",
    "    model.add(Conv2D(256, kernel_size=(4,4), border_mode='valid', init='glorot_normal', activation='relu'))\n",
    "    model.add(Flatten())\n",
    "    model.add(Dense(1, activation='sigmoid'))\n",
    "\n",
    "    #compile model using accuracy to measure model performance\n",
    "    model.compile(optimizer='adam', loss='binary_crossentropy', metrics=[auc, 'acc'])\n",
    "\n",
    "    mc = ModelCheckpoint(f'models/{model_name}.h5', monitor='val_loss', verbose=0, save_best_only=True, save_weights_only=False, mode='auto', period=1)\n",
    "    cl = CSVLogger(f'history/{model_name}.log', separator=',', append=False)\n",
    "    tb = TensorBoard(log_dir='./logs/'+ str(model_name), histogram_freq=0, batch_size=32, write_graph=True, write_grads=False, write_images=False, embeddings_freq=0, embeddings_layer_names=None, embeddings_metadata=None, embeddings_data=None, update_freq='epoch')\n",
    "    #es = EarlyStopping(monitor='val_loss', min_delta=0, patience=25, verbose=0, mode='auto', baseline=None, restore_best_weights=False)\n",
    "\n",
    "\n",
    "    #train the model\n",
    "    model.fit(X_train, y_train, \n",
    "                batch_size=batch_size, \n",
    "                epochs=epochs, \n",
    "                verbose=2, \n",
    "                #validation_split=validation_split,\n",
    "                validation_data=(X_test, y_test),\n",
    "                callbacks=[cl, tb]\n",
    "                )\n",
    "    model.save(f'models/{model_name}.h5') \n",
    "\n",
    "\n",
    "if __name__ == \"__main__\":    \n",
    "    #train_nn(N=500000, batch_size=256, epochs=500, validation_split=0.2)\n",
    "    files = glob.glob('models/svj_*')\n",
    "    for file in files:\n",
    "        model_name = file.split('/')[-1].split('.h5')[0]\n",
    "        details = model_name.split('_')    \n",
    "        roc_plot(int(details[2]), float(details[-1]), model_name)"
   ]
  },
  {
   "cell_type": "markdown",
   "metadata": {},
   "source": [
    "# Load data CNN"
   ]
  },
  {
   "cell_type": "code",
   "execution_count": 60,
   "metadata": {},
   "outputs": [],
   "source": [
    "# f = h5py.File(\"/home/ja2006203966/script/Network/data/Mydata/H5/SVJ/0jetim.h5\",'r')\n",
    "# f = f['jetim'][()]\n",
    "# f2 = h5py.File(\"/home/ja2006203966/script/Network/data/Mydata/H5/QCD/0jetim.h5\",'r')\n",
    "# f2 = f2['jetim'][()]\n",
    "f = h5py.File(\"/home/ja2006203966/script/Network/data/Mydata/H5/SVJ/0JSS_Jim.h5\",'r')\n",
    "f = f['Jet_im_my'][()]\n",
    "f2 = h5py.File(\"/home/ja2006203966/script/Network/data/Mydata/H5/QCD/0JSS_Jim.h5\",'r')\n",
    "f2 = f2['Jet_im_my'][()]"
   ]
  },
  {
   "cell_type": "code",
   "execution_count": 18,
   "metadata": {},
   "outputs": [
    {
     "name": "stderr",
     "output_type": "stream",
     "text": [
      "100%|██████████| 40/40 [04:56<00:00,  7.41s/it]\n"
     ]
    }
   ],
   "source": [
    "N=40\n",
    "Jim = np.array([np.zeros((64,64))])\n",
    "Jim2 = np.array([np.zeros((64,64))])\n",
    "\n",
    "for i in tqdm(range(N)):\n",
    "    f = h5py.File(\"/home/ja2006203966/script/Network/data/H5/SVJ/rinv03/\"+str(i)+\"JSS_Jim.h5\",'r')\n",
    "#     f = f['jetim'][()]\n",
    "    fin = np.array(f['jetim_index'][()])\n",
    "    fsin = set(f['jss_index'][()])\n",
    "    fc = [(i in fsin) for i in fin]\n",
    "    fim = f['jetim'][()]\n",
    "    # fim = [i for i in fim]\n",
    "    fim = [fim[i] for i in range(len(fc)) if fc[i]]\n",
    "    \n",
    "    \n",
    "    \n",
    "    f2 = h5py.File(\"/home/ja2006203966/script/Network/data/H5/QCD/\"+str(i)+\"JSS_Jim.h5\",'r')\n",
    "#     f2 = f2['jetim'][()]\n",
    "    fin2 = np.array(f2['jetim_index'][()])\n",
    "    fsin2 = set(f2['jss_index'][()])\n",
    "    fc2 = [(i in fsin2) for i in fin2]\n",
    "    fim2 = f2['jetim'][()]\n",
    "    fim2 =  [fim2[i] for i in range(len(fc2)) if fc2[i]]\n",
    "    \n",
    "    Jim = np.append(Jim,fim, axis=0)\n",
    "    Jim2 = np.append(Jim2,fim2, axis=0)\n",
    "\n"
   ]
  },
  {
   "cell_type": "code",
   "execution_count": 19,
   "metadata": {},
   "outputs": [
    {
     "name": "stdout",
     "output_type": "stream",
     "text": [
      "206568 395129\n"
     ]
    }
   ],
   "source": [
    "print(len(Jim), len(Jim2))"
   ]
  },
  {
   "cell_type": "code",
   "execution_count": 21,
   "metadata": {},
   "outputs": [],
   "source": [
    "f = np.array([Jim[i] for i in range(200001) if np.sum(Jim[i])!=0])\n",
    "f2 = np.array([Jim2[i] for i in range(200001) if np.sum(Jim2[i])!=0])"
   ]
  },
  {
   "cell_type": "code",
   "execution_count": 24,
   "metadata": {},
   "outputs": [
    {
     "name": "stdout",
     "output_type": "stream",
     "text": [
      "(200000, 64, 64) (200000, 64, 64)\n"
     ]
    }
   ],
   "source": [
    "print(f.shape,f2.shape)"
   ]
  },
  {
   "cell_type": "code",
   "execution_count": 25,
   "metadata": {},
   "outputs": [],
   "source": [
    "ft = np.append(f,f2, axis=0)\n",
    "# ft = np.append(Jim,Jim2, axis=0)"
   ]
  },
  {
   "cell_type": "code",
   "execution_count": 26,
   "metadata": {},
   "outputs": [],
   "source": [
    "yt = np.array([1 for i in range(len(f))]+[0 for i in range(len(f2))])"
   ]
  },
  {
   "cell_type": "code",
   "execution_count": 39,
   "metadata": {},
   "outputs": [],
   "source": [
    "from sklearn.model_selection import train_test_split\n",
    "Xim_train, Xim_val, yim_train, yim_val = train_test_split(ft, yt, test_size=0.4)\n",
    "Xim_val, Xim_test, yim_val, yim_test = train_test_split(Xim_val, yim_val, test_size=0.25)"
   ]
  },
  {
   "cell_type": "code",
   "execution_count": 28,
   "metadata": {},
   "outputs": [
    {
     "name": "stdout",
     "output_type": "stream",
     "text": [
      "training size:  240000  val size:  120000 test size: 40000\n"
     ]
    }
   ],
   "source": [
    "print(\"training size: \",len(Xim_train),\" val size: \",len(Xim_val), \"test size:\", len(Xim_test))"
   ]
  },
  {
   "cell_type": "code",
   "execution_count": 29,
   "metadata": {},
   "outputs": [
    {
     "name": "stderr",
     "output_type": "stream",
     "text": [
      "/usr/local/lib/python3.6/dist-packages/ipykernel_launcher.py:2: RuntimeWarning: divide by zero encountered in log\n",
      "  \n"
     ]
    },
    {
     "data": {
      "image/png": "[encoded data removed]",
      "text/plain": [
       "<Figure size 432x288 with 1 Axes>"
      ]
     },
     "metadata": {
      "needs_background": "light"
     },
     "output_type": "display_data"
    },
    {
     "name": "stderr",
     "output_type": "stream",
     "text": [
      "/usr/local/lib/python3.6/dist-packages/ipykernel_launcher.py:5: RuntimeWarning: divide by zero encountered in log\n",
      "  \"\"\"\n"
     ]
    },
    {
     "data": {
      "image/png": "[encoded data removed]",
      "text/plain": [
       "<Figure size 432x288 with 1 Axes>"
      ]
     },
     "metadata": {
      "needs_background": "light"
     },
     "output_type": "display_data"
    }
   ],
   "source": [
    "X = np.sum(f2, axis=0)\n",
    "plt.imshow(np.log(X), cmap='Blues', label = 'QCD', filternorm=1)\n",
    "plt.show()\n",
    "Y = np.sum(f, axis=0)\n",
    "plt.imshow(np.log(Y), cmap='Blues', label = 'SVJ', filternorm=1)\n",
    "plt.show()"
   ]
  },
  {
   "cell_type": "markdown",
   "metadata": {},
   "source": [
    "# Model CNN"
   ]
  },
  {
   "cell_type": "code",
   "execution_count": 26,
   "metadata": {},
   "outputs": [],
   "source": [
    "inputs = tf.keras.Input(shape=(64,64))\n",
    "x = inputs\n",
    "x = tf.expand_dims(x,axis=-1)\n",
    "x = tf.keras.layers.Conv2D(256, kernel_size=(4,4), activation='relu', input_shape=(64,64,1))(x)\n",
    "x = tf.keras.layers.MaxPooling2D()(x)\n",
    "x = tf.keras.layers.Conv2D(256, kernel_size=(4,4), activation='relu')(x)\n",
    "x = tf.keras.layers.Flatten()(x)\n",
    "# x = tf.keras.layers.Dense(1, activation='sigmoid')(x)\n",
    "\n",
    "x = tf.keras.layers.Dense(128, activation='relu')(x)\n",
    "x = tf.keras.layers.Dropout(0.2)(x)\n",
    "x = tf.keras.layers.Dense(2, activation='sigmoid')(x)\n",
    "modelCNN = tf.keras.Model(inputs=inputs, outputs=x, name='CNN')"
   ]
  },
  {
   "cell_type": "code",
   "execution_count": 27,
   "metadata": {},
   "outputs": [
    {
     "name": "stdout",
     "output_type": "stream",
     "text": [
      "Model: \"CNN\"\n",
      "_________________________________________________________________\n",
      "Layer (type)                 Output Shape              Param #   \n",
      "=================================================================\n",
      "input_5 (InputLayer)         [(None, 64, 64)]          0         \n",
      "_________________________________________________________________\n",
      "tf_op_layer_ExpandDims_4 (Te [(None, 64, 64, 1)]       0         \n",
      "_________________________________________________________________\n",
      "conv2d_8 (Conv2D)            (None, 61, 61, 256)       4352      \n",
      "_________________________________________________________________\n",
      "max_pooling2d_4 (MaxPooling2 (None, 30, 30, 256)       0         \n",
      "_________________________________________________________________\n",
      "conv2d_9 (Conv2D)            (None, 27, 27, 256)       1048832   \n",
      "_________________________________________________________________\n",
      "flatten_4 (Flatten)          (None, 186624)            0         \n",
      "_________________________________________________________________\n",
      "dense_8 (Dense)              (None, 128)               23888000  \n",
      "_________________________________________________________________\n",
      "dropout_4 (Dropout)          (None, 128)               0         \n",
      "_________________________________________________________________\n",
      "dense_9 (Dense)              (None, 2)                 258       \n",
      "=================================================================\n",
      "Total params: 24,941,442\n",
      "Trainable params: 24,941,442\n",
      "Non-trainable params: 0\n",
      "_________________________________________________________________\n"
     ]
    }
   ],
   "source": [
    "loss_fn = tf.keras.losses.SparseCategoricalCrossentropy(from_logits=True)\n",
    "modelCNN.compile(optimizer='adam', loss=loss_fn, metrics=['accuracy'])\n",
    "modelCNN.summary()"
   ]
  },
  {
   "cell_type": "code",
   "execution_count": 42,
   "metadata": {},
   "outputs": [
    {
     "data": {
      "text/plain": [
       "<HDF5 dataset \"y_test\": shape (40000,), type \"<i8\">"
      ]
     },
     "execution_count": 42,
     "metadata": {},
     "output_type": "execute_result"
    }
   ],
   "source": [
    "# outfile = \"/home/ja2006203966/script/Network/data/H5/CNN/Train.h5\"\n",
    "# hf = h5py.File(outfile, 'w')\n",
    "# hf.create_dataset('X_train', data=Xim_train)\n",
    "# hf.create_dataset('y_train', data=yim_train)\n",
    "# hf.create_dataset('X_val', data=Xim_val)\n",
    "# hf.create_dataset('y_val', data=yim_val)\n",
    "# hf.create_dataset('X_test', data=Xim_test)\n",
    "# hf.create_dataset('y_test', data=yim_test)\n",
    "# hf.close()"
   ]
  },
  {
   "cell_type": "code",
   "execution_count": 6,
   "metadata": {},
   "outputs": [],
   "source": [
    "outfile = \"/home/ja2006203966/script/Network/data/H5/CNN/Train.h5\"\n",
    "hf = h5py.File(outfile, 'r')\n",
    "Xim_train = hf[\"X_train\"][()]\n",
    "yim_train = hf[\"y_train\"][()]\n",
    "Xim_val = hf[\"X_val\"][()]\n",
    "yim_val = hf[\"y_val\"][()]\n",
    "Xim_test = hf[\"X_test\"][()]\n",
    "yim_test = hf[\"y_test\"][()]\n",
    "hf.close()\n",
    "\n"
   ]
  },
  {
   "cell_type": "code",
   "execution_count": 7,
   "metadata": {
    "collapsed": true,
    "jupyter": {
     "outputs_hidden": true
    }
   },
   "outputs": [
    {
     "name": "stdout",
     "output_type": "stream",
     "text": [
      "Epoch 1/20\n",
      "375/375 [==============================] - 8s 21ms/step - loss: 0.6868 - accuracy: 0.6295 - val_loss: 0.6338 - val_accuracy: 0.6393\n",
      "Epoch 2/20\n",
      "375/375 [==============================] - 8s 20ms/step - loss: 0.6241 - accuracy: 0.6463 - val_loss: 0.6346 - val_accuracy: 0.6340\n",
      "Epoch 3/20\n",
      "375/375 [==============================] - 8s 20ms/step - loss: 0.5994 - accuracy: 0.6660 - val_loss: 0.6295 - val_accuracy: 0.6523\n",
      "Epoch 4/20\n",
      "217/375 [================>.............] - ETA: 2s - loss: 0.5707 - accuracy: 0.6858"
     ]
    },
    {
     "ename": "KeyboardInterrupt",
     "evalue": "",
     "output_type": "error",
     "traceback": [
      "\u001b[0;31m---------------------------------------------------------------------------\u001b[0m",
      "\u001b[0;31mKeyboardInterrupt\u001b[0m                         Traceback (most recent call last)",
      "\u001b[0;32m<ipython-input-7-960eb1adb87e>\u001b[0m in \u001b[0;36m<module>\u001b[0;34m\u001b[0m\n\u001b[1;32m      7\u001b[0m     \u001b[0mXv\u001b[0m \u001b[0;34m=\u001b[0m \u001b[0mnp\u001b[0m\u001b[0;34m.\u001b[0m\u001b[0marray\u001b[0m\u001b[0;34m(\u001b[0m\u001b[0;34m[\u001b[0m\u001b[0mXim_val\u001b[0m\u001b[0;34m[\u001b[0m\u001b[0mj\u001b[0m\u001b[0;34m]\u001b[0m \u001b[0;32mfor\u001b[0m \u001b[0mj\u001b[0m \u001b[0;32min\u001b[0m \u001b[0mrange\u001b[0m\u001b[0;34m(\u001b[0m\u001b[0mint\u001b[0m\u001b[0;34m(\u001b[0m\u001b[0mNv\u001b[0m\u001b[0;34m*\u001b[0m\u001b[0mi\u001b[0m\u001b[0;34m)\u001b[0m\u001b[0;34m,\u001b[0m\u001b[0mint\u001b[0m\u001b[0;34m(\u001b[0m\u001b[0mNv\u001b[0m\u001b[0;34m*\u001b[0m\u001b[0;34m(\u001b[0m\u001b[0mi\u001b[0m\u001b[0;34m+\u001b[0m\u001b[0;36m1\u001b[0m\u001b[0;34m)\u001b[0m\u001b[0;34m)\u001b[0m \u001b[0;34m)\u001b[0m\u001b[0;34m]\u001b[0m\u001b[0;34m)\u001b[0m\u001b[0;34m\u001b[0m\u001b[0;34m\u001b[0m\u001b[0m\n\u001b[1;32m      8\u001b[0m     \u001b[0myv\u001b[0m \u001b[0;34m=\u001b[0m \u001b[0mnp\u001b[0m\u001b[0;34m.\u001b[0m\u001b[0marray\u001b[0m\u001b[0;34m(\u001b[0m\u001b[0;34m[\u001b[0m\u001b[0myim_val\u001b[0m\u001b[0;34m[\u001b[0m\u001b[0mj\u001b[0m\u001b[0;34m]\u001b[0m \u001b[0;32mfor\u001b[0m \u001b[0mj\u001b[0m \u001b[0;32min\u001b[0m \u001b[0mrange\u001b[0m\u001b[0;34m(\u001b[0m\u001b[0mint\u001b[0m\u001b[0;34m(\u001b[0m\u001b[0mNv\u001b[0m\u001b[0;34m*\u001b[0m\u001b[0mi\u001b[0m\u001b[0;34m)\u001b[0m\u001b[0;34m,\u001b[0m\u001b[0mint\u001b[0m\u001b[0;34m(\u001b[0m\u001b[0mNv\u001b[0m\u001b[0;34m*\u001b[0m\u001b[0;34m(\u001b[0m\u001b[0mi\u001b[0m\u001b[0;34m+\u001b[0m\u001b[0;36m1\u001b[0m\u001b[0;34m)\u001b[0m\u001b[0;34m)\u001b[0m \u001b[0;34m)\u001b[0m\u001b[0;34m]\u001b[0m\u001b[0;34m)\u001b[0m\u001b[0;34m\u001b[0m\u001b[0;34m\u001b[0m\u001b[0m\n\u001b[0;32m----> 9\u001b[0;31m     \u001b[0mmodelCNN\u001b[0m\u001b[0;34m.\u001b[0m\u001b[0mfit\u001b[0m\u001b[0;34m(\u001b[0m\u001b[0mXt\u001b[0m\u001b[0;34m,\u001b[0m \u001b[0myt\u001b[0m \u001b[0;34m,\u001b[0m \u001b[0mvalidation_data\u001b[0m\u001b[0;34m=\u001b[0m\u001b[0;34m(\u001b[0m\u001b[0mXv\u001b[0m\u001b[0;34m,\u001b[0m \u001b[0myv\u001b[0m\u001b[0;34m)\u001b[0m\u001b[0;34m,\u001b[0m \u001b[0mshuffle\u001b[0m\u001b[0;34m=\u001b[0m\u001b[0;32mTrue\u001b[0m \u001b[0;34m,\u001b[0m \u001b[0mepochs\u001b[0m\u001b[0;34m=\u001b[0m\u001b[0;36m20\u001b[0m\u001b[0;34m)\u001b[0m\u001b[0;34m\u001b[0m\u001b[0;34m\u001b[0m\u001b[0m\n\u001b[0m",
      "\u001b[0;32m/usr/local/lib/python3.6/dist-packages/tensorflow/python/keras/engine/training.py\u001b[0m in \u001b[0;36m_method_wrapper\u001b[0;34m(self, *args, **kwargs)\u001b[0m\n\u001b[1;32m     64\u001b[0m   \u001b[0;32mdef\u001b[0m \u001b[0m_method_wrapper\u001b[0m\u001b[0;34m(\u001b[0m\u001b[0mself\u001b[0m\u001b[0;34m,\u001b[0m \u001b[0;34m*\u001b[0m\u001b[0margs\u001b[0m\u001b[0;34m,\u001b[0m \u001b[0;34m**\u001b[0m\u001b[0mkwargs\u001b[0m\u001b[0;34m)\u001b[0m\u001b[0;34m:\u001b[0m\u001b[0;34m\u001b[0m\u001b[0;34m\u001b[0m\u001b[0m\n\u001b[1;32m     65\u001b[0m     \u001b[0;32mif\u001b[0m \u001b[0;32mnot\u001b[0m \u001b[0mself\u001b[0m\u001b[0;34m.\u001b[0m\u001b[0m_in_multi_worker_mode\u001b[0m\u001b[0;34m(\u001b[0m\u001b[0;34m)\u001b[0m\u001b[0;34m:\u001b[0m  \u001b[0;31m# pylint: disable=protected-access\u001b[0m\u001b[0;34m\u001b[0m\u001b[0;34m\u001b[0m\u001b[0m\n\u001b[0;32m---> 66\u001b[0;31m       \u001b[0;32mreturn\u001b[0m \u001b[0mmethod\u001b[0m\u001b[0;34m(\u001b[0m\u001b[0mself\u001b[0m\u001b[0;34m,\u001b[0m \u001b[0;34m*\u001b[0m\u001b[0margs\u001b[0m\u001b[0;34m,\u001b[0m \u001b[0;34m**\u001b[0m\u001b[0mkwargs\u001b[0m\u001b[0;34m)\u001b[0m\u001b[0;34m\u001b[0m\u001b[0;34m\u001b[0m\u001b[0m\n\u001b[0m\u001b[1;32m     67\u001b[0m \u001b[0;34m\u001b[0m\u001b[0m\n\u001b[1;32m     68\u001b[0m     \u001b[0;31m# Running inside `run_distribute_coordinator` already.\u001b[0m\u001b[0;34m\u001b[0m\u001b[0;34m\u001b[0m\u001b[0;34m\u001b[0m\u001b[0m\n",
      "\u001b[0;32m/usr/local/lib/python3.6/dist-packages/tensorflow/python/keras/engine/training.py\u001b[0m in \u001b[0;36mfit\u001b[0;34m(self, x, y, batch_size, epochs, verbose, callbacks, validation_split, validation_data, shuffle, class_weight, sample_weight, initial_epoch, steps_per_epoch, validation_steps, validation_batch_size, validation_freq, max_queue_size, workers, use_multiprocessing)\u001b[0m\n\u001b[1;32m    853\u001b[0m                 \u001b[0mcontext\u001b[0m\u001b[0;34m.\u001b[0m\u001b[0masync_wait\u001b[0m\u001b[0;34m(\u001b[0m\u001b[0;34m)\u001b[0m\u001b[0;34m\u001b[0m\u001b[0;34m\u001b[0m\u001b[0m\n\u001b[1;32m    854\u001b[0m               \u001b[0mlogs\u001b[0m \u001b[0;34m=\u001b[0m \u001b[0mtmp_logs\u001b[0m  \u001b[0;31m# No error, now safe to assign to logs.\u001b[0m\u001b[0;34m\u001b[0m\u001b[0;34m\u001b[0m\u001b[0m\n\u001b[0;32m--> 855\u001b[0;31m               \u001b[0mcallbacks\u001b[0m\u001b[0;34m.\u001b[0m\u001b[0mon_train_batch_end\u001b[0m\u001b[0;34m(\u001b[0m\u001b[0mstep\u001b[0m\u001b[0;34m,\u001b[0m \u001b[0mlogs\u001b[0m\u001b[0;34m)\u001b[0m\u001b[0;34m\u001b[0m\u001b[0;34m\u001b[0m\u001b[0m\n\u001b[0m\u001b[1;32m    856\u001b[0m         \u001b[0mepoch_logs\u001b[0m \u001b[0;34m=\u001b[0m \u001b[0mcopy\u001b[0m\u001b[0;34m.\u001b[0m\u001b[0mcopy\u001b[0m\u001b[0;34m(\u001b[0m\u001b[0mlogs\u001b[0m\u001b[0;34m)\u001b[0m\u001b[0;34m\u001b[0m\u001b[0;34m\u001b[0m\u001b[0m\n\u001b[1;32m    857\u001b[0m \u001b[0;34m\u001b[0m\u001b[0m\n",
      "\u001b[0;32m/usr/local/lib/python3.6/dist-packages/tensorflow/python/keras/callbacks.py\u001b[0m in \u001b[0;36mon_train_batch_end\u001b[0;34m(self, batch, logs)\u001b[0m\n\u001b[1;32m    387\u001b[0m     \"\"\"\n\u001b[1;32m    388\u001b[0m     \u001b[0;32mif\u001b[0m \u001b[0mself\u001b[0m\u001b[0;34m.\u001b[0m\u001b[0m_should_call_train_batch_hooks\u001b[0m\u001b[0;34m:\u001b[0m\u001b[0;34m\u001b[0m\u001b[0;34m\u001b[0m\u001b[0m\n\u001b[0;32m--> 389\u001b[0;31m       \u001b[0mlogs\u001b[0m \u001b[0;34m=\u001b[0m \u001b[0mself\u001b[0m\u001b[0;34m.\u001b[0m\u001b[0m_process_logs\u001b[0m\u001b[0;34m(\u001b[0m\u001b[0mlogs\u001b[0m\u001b[0;34m)\u001b[0m\u001b[0;34m\u001b[0m\u001b[0;34m\u001b[0m\u001b[0m\n\u001b[0m\u001b[1;32m    390\u001b[0m       \u001b[0mself\u001b[0m\u001b[0;34m.\u001b[0m\u001b[0m_call_batch_hook\u001b[0m\u001b[0;34m(\u001b[0m\u001b[0mModeKeys\u001b[0m\u001b[0;34m.\u001b[0m\u001b[0mTRAIN\u001b[0m\u001b[0;34m,\u001b[0m \u001b[0;34m'end'\u001b[0m\u001b[0;34m,\u001b[0m \u001b[0mbatch\u001b[0m\u001b[0;34m,\u001b[0m \u001b[0mlogs\u001b[0m\u001b[0;34m=\u001b[0m\u001b[0mlogs\u001b[0m\u001b[0;34m)\u001b[0m\u001b[0;34m\u001b[0m\u001b[0;34m\u001b[0m\u001b[0m\n\u001b[1;32m    391\u001b[0m \u001b[0;34m\u001b[0m\u001b[0m\n",
      "\u001b[0;32m/usr/local/lib/python3.6/dist-packages/tensorflow/python/keras/callbacks.py\u001b[0m in \u001b[0;36m_process_logs\u001b[0;34m(self, logs)\u001b[0m\n\u001b[1;32m    263\u001b[0m     \u001b[0;34m\"\"\"Turns tensors into numpy arrays or Python scalars.\"\"\"\u001b[0m\u001b[0;34m\u001b[0m\u001b[0;34m\u001b[0m\u001b[0m\n\u001b[1;32m    264\u001b[0m     \u001b[0;32mif\u001b[0m \u001b[0mlogs\u001b[0m\u001b[0;34m:\u001b[0m\u001b[0;34m\u001b[0m\u001b[0;34m\u001b[0m\u001b[0m\n\u001b[0;32m--> 265\u001b[0;31m       \u001b[0;32mreturn\u001b[0m \u001b[0mtf_utils\u001b[0m\u001b[0;34m.\u001b[0m\u001b[0mto_numpy_or_python_type\u001b[0m\u001b[0;34m(\u001b[0m\u001b[0mlogs\u001b[0m\u001b[0;34m)\u001b[0m\u001b[0;34m\u001b[0m\u001b[0;34m\u001b[0m\u001b[0m\n\u001b[0m\u001b[1;32m    266\u001b[0m     \u001b[0;32mreturn\u001b[0m \u001b[0;34m{\u001b[0m\u001b[0;34m}\u001b[0m\u001b[0;34m\u001b[0m\u001b[0;34m\u001b[0m\u001b[0m\n\u001b[1;32m    267\u001b[0m \u001b[0;34m\u001b[0m\u001b[0m\n",
      "\u001b[0;32m/usr/local/lib/python3.6/dist-packages/tensorflow/python/keras/utils/tf_utils.py\u001b[0m in \u001b[0;36mto_numpy_or_python_type\u001b[0;34m(tensors)\u001b[0m\n\u001b[1;32m    521\u001b[0m     \u001b[0;32mreturn\u001b[0m \u001b[0mt\u001b[0m  \u001b[0;31m# Don't turn ragged or sparse tensors to NumPy.\u001b[0m\u001b[0;34m\u001b[0m\u001b[0;34m\u001b[0m\u001b[0m\n\u001b[1;32m    522\u001b[0m \u001b[0;34m\u001b[0m\u001b[0m\n\u001b[0;32m--> 523\u001b[0;31m   \u001b[0;32mreturn\u001b[0m \u001b[0mnest\u001b[0m\u001b[0;34m.\u001b[0m\u001b[0mmap_structure\u001b[0m\u001b[0;34m(\u001b[0m\u001b[0m_to_single_numpy_or_python_type\u001b[0m\u001b[0;34m,\u001b[0m \u001b[0mtensors\u001b[0m\u001b[0;34m)\u001b[0m\u001b[0;34m\u001b[0m\u001b[0;34m\u001b[0m\u001b[0m\n\u001b[0m\u001b[1;32m    524\u001b[0m \u001b[0;34m\u001b[0m\u001b[0m\n",
      "\u001b[0;32m/usr/local/lib/python3.6/dist-packages/tensorflow/python/util/nest.py\u001b[0m in \u001b[0;36mmap_structure\u001b[0;34m(func, *structure, **kwargs)\u001b[0m\n\u001b[1;32m    615\u001b[0m \u001b[0;34m\u001b[0m\u001b[0m\n\u001b[1;32m    616\u001b[0m   return pack_sequence_as(\n\u001b[0;32m--> 617\u001b[0;31m       \u001b[0mstructure\u001b[0m\u001b[0;34m[\u001b[0m\u001b[0;36m0\u001b[0m\u001b[0;34m]\u001b[0m\u001b[0;34m,\u001b[0m \u001b[0;34m[\u001b[0m\u001b[0mfunc\u001b[0m\u001b[0;34m(\u001b[0m\u001b[0;34m*\u001b[0m\u001b[0mx\u001b[0m\u001b[0;34m)\u001b[0m \u001b[0;32mfor\u001b[0m \u001b[0mx\u001b[0m \u001b[0;32min\u001b[0m \u001b[0mentries\u001b[0m\u001b[0;34m]\u001b[0m\u001b[0;34m,\u001b[0m\u001b[0;34m\u001b[0m\u001b[0;34m\u001b[0m\u001b[0m\n\u001b[0m\u001b[1;32m    618\u001b[0m       expand_composites=expand_composites)\n\u001b[1;32m    619\u001b[0m \u001b[0;34m\u001b[0m\u001b[0m\n",
      "\u001b[0;32m/usr/local/lib/python3.6/dist-packages/tensorflow/python/util/nest.py\u001b[0m in \u001b[0;36m<listcomp>\u001b[0;34m(.0)\u001b[0m\n\u001b[1;32m    615\u001b[0m \u001b[0;34m\u001b[0m\u001b[0m\n\u001b[1;32m    616\u001b[0m   return pack_sequence_as(\n\u001b[0;32m--> 617\u001b[0;31m       \u001b[0mstructure\u001b[0m\u001b[0;34m[\u001b[0m\u001b[0;36m0\u001b[0m\u001b[0;34m]\u001b[0m\u001b[0;34m,\u001b[0m \u001b[0;34m[\u001b[0m\u001b[0mfunc\u001b[0m\u001b[0;34m(\u001b[0m\u001b[0;34m*\u001b[0m\u001b[0mx\u001b[0m\u001b[0;34m)\u001b[0m \u001b[0;32mfor\u001b[0m \u001b[0mx\u001b[0m \u001b[0;32min\u001b[0m \u001b[0mentries\u001b[0m\u001b[0;34m]\u001b[0m\u001b[0;34m,\u001b[0m\u001b[0;34m\u001b[0m\u001b[0;34m\u001b[0m\u001b[0m\n\u001b[0m\u001b[1;32m    618\u001b[0m       expand_composites=expand_composites)\n\u001b[1;32m    619\u001b[0m \u001b[0;34m\u001b[0m\u001b[0m\n",
      "\u001b[0;32m/usr/local/lib/python3.6/dist-packages/tensorflow/python/keras/utils/tf_utils.py\u001b[0m in \u001b[0;36m_to_single_numpy_or_python_type\u001b[0;34m(t)\u001b[0m\n\u001b[1;32m    517\u001b[0m   \u001b[0;32mdef\u001b[0m \u001b[0m_to_single_numpy_or_python_type\u001b[0m\u001b[0;34m(\u001b[0m\u001b[0mt\u001b[0m\u001b[0;34m)\u001b[0m\u001b[0;34m:\u001b[0m\u001b[0;34m\u001b[0m\u001b[0;34m\u001b[0m\u001b[0m\n\u001b[1;32m    518\u001b[0m     \u001b[0;32mif\u001b[0m \u001b[0misinstance\u001b[0m\u001b[0;34m(\u001b[0m\u001b[0mt\u001b[0m\u001b[0;34m,\u001b[0m \u001b[0mops\u001b[0m\u001b[0;34m.\u001b[0m\u001b[0mTensor\u001b[0m\u001b[0;34m)\u001b[0m\u001b[0;34m:\u001b[0m\u001b[0;34m\u001b[0m\u001b[0;34m\u001b[0m\u001b[0m\n\u001b[0;32m--> 519\u001b[0;31m       \u001b[0mx\u001b[0m \u001b[0;34m=\u001b[0m \u001b[0mt\u001b[0m\u001b[0;34m.\u001b[0m\u001b[0mnumpy\u001b[0m\u001b[0;34m(\u001b[0m\u001b[0;34m)\u001b[0m\u001b[0;34m\u001b[0m\u001b[0;34m\u001b[0m\u001b[0m\n\u001b[0m\u001b[1;32m    520\u001b[0m       \u001b[0;32mreturn\u001b[0m \u001b[0mx\u001b[0m\u001b[0;34m.\u001b[0m\u001b[0mitem\u001b[0m\u001b[0;34m(\u001b[0m\u001b[0;34m)\u001b[0m \u001b[0;32mif\u001b[0m \u001b[0mnp\u001b[0m\u001b[0;34m.\u001b[0m\u001b[0mndim\u001b[0m\u001b[0;34m(\u001b[0m\u001b[0mx\u001b[0m\u001b[0;34m)\u001b[0m \u001b[0;34m==\u001b[0m \u001b[0;36m0\u001b[0m \u001b[0;32melse\u001b[0m \u001b[0mx\u001b[0m\u001b[0;34m\u001b[0m\u001b[0;34m\u001b[0m\u001b[0m\n\u001b[1;32m    521\u001b[0m     \u001b[0;32mreturn\u001b[0m \u001b[0mt\u001b[0m  \u001b[0;31m# Don't turn ragged or sparse tensors to NumPy.\u001b[0m\u001b[0;34m\u001b[0m\u001b[0;34m\u001b[0m\u001b[0m\n",
      "\u001b[0;32m/usr/local/lib/python3.6/dist-packages/tensorflow/python/framework/ops.py\u001b[0m in \u001b[0;36mnumpy\u001b[0;34m(self)\u001b[0m\n\u001b[1;32m    959\u001b[0m     \"\"\"\n\u001b[1;32m    960\u001b[0m     \u001b[0;31m# TODO(slebedev): Consider avoiding a copy for non-CPU or remote tensors.\u001b[0m\u001b[0;34m\u001b[0m\u001b[0;34m\u001b[0m\u001b[0;34m\u001b[0m\u001b[0m\n\u001b[0;32m--> 961\u001b[0;31m     \u001b[0mmaybe_arr\u001b[0m \u001b[0;34m=\u001b[0m \u001b[0mself\u001b[0m\u001b[0;34m.\u001b[0m\u001b[0m_numpy\u001b[0m\u001b[0;34m(\u001b[0m\u001b[0;34m)\u001b[0m  \u001b[0;31m# pylint: disable=protected-access\u001b[0m\u001b[0;34m\u001b[0m\u001b[0;34m\u001b[0m\u001b[0m\n\u001b[0m\u001b[1;32m    962\u001b[0m     \u001b[0;32mreturn\u001b[0m \u001b[0mmaybe_arr\u001b[0m\u001b[0;34m.\u001b[0m\u001b[0mcopy\u001b[0m\u001b[0;34m(\u001b[0m\u001b[0;34m)\u001b[0m \u001b[0;32mif\u001b[0m \u001b[0misinstance\u001b[0m\u001b[0;34m(\u001b[0m\u001b[0mmaybe_arr\u001b[0m\u001b[0;34m,\u001b[0m \u001b[0mnp\u001b[0m\u001b[0;34m.\u001b[0m\u001b[0mndarray\u001b[0m\u001b[0;34m)\u001b[0m \u001b[0;32melse\u001b[0m \u001b[0mmaybe_arr\u001b[0m\u001b[0;34m\u001b[0m\u001b[0;34m\u001b[0m\u001b[0m\n\u001b[1;32m    963\u001b[0m \u001b[0;34m\u001b[0m\u001b[0m\n",
      "\u001b[0;32m/usr/local/lib/python3.6/dist-packages/tensorflow/python/framework/ops.py\u001b[0m in \u001b[0;36m_numpy\u001b[0;34m(self)\u001b[0m\n\u001b[1;32m    925\u001b[0m     \u001b[0;31m# pylint: disable=protected-access\u001b[0m\u001b[0;34m\u001b[0m\u001b[0;34m\u001b[0m\u001b[0;34m\u001b[0m\u001b[0m\n\u001b[1;32m    926\u001b[0m     \u001b[0;32mtry\u001b[0m\u001b[0;34m:\u001b[0m\u001b[0;34m\u001b[0m\u001b[0;34m\u001b[0m\u001b[0m\n\u001b[0;32m--> 927\u001b[0;31m       \u001b[0;32mreturn\u001b[0m \u001b[0mself\u001b[0m\u001b[0;34m.\u001b[0m\u001b[0m_numpy_internal\u001b[0m\u001b[0;34m(\u001b[0m\u001b[0;34m)\u001b[0m\u001b[0;34m\u001b[0m\u001b[0;34m\u001b[0m\u001b[0m\n\u001b[0m\u001b[1;32m    928\u001b[0m     \u001b[0;32mexcept\u001b[0m \u001b[0mcore\u001b[0m\u001b[0;34m.\u001b[0m\u001b[0m_NotOkStatusException\u001b[0m \u001b[0;32mas\u001b[0m \u001b[0me\u001b[0m\u001b[0;34m:\u001b[0m\u001b[0;34m\u001b[0m\u001b[0;34m\u001b[0m\u001b[0m\n\u001b[1;32m    929\u001b[0m       \u001b[0msix\u001b[0m\u001b[0;34m.\u001b[0m\u001b[0mraise_from\u001b[0m\u001b[0;34m(\u001b[0m\u001b[0mcore\u001b[0m\u001b[0;34m.\u001b[0m\u001b[0m_status_to_exception\u001b[0m\u001b[0;34m(\u001b[0m\u001b[0me\u001b[0m\u001b[0;34m.\u001b[0m\u001b[0mcode\u001b[0m\u001b[0;34m,\u001b[0m \u001b[0me\u001b[0m\u001b[0;34m.\u001b[0m\u001b[0mmessage\u001b[0m\u001b[0;34m)\u001b[0m\u001b[0;34m,\u001b[0m \u001b[0;32mNone\u001b[0m\u001b[0;34m)\u001b[0m\u001b[0;34m\u001b[0m\u001b[0;34m\u001b[0m\u001b[0m\n",
      "\u001b[0;31mKeyboardInterrupt\u001b[0m: "
     ]
    }
   ],
   "source": [
    "N = 20\n",
    "Nt, Nv = len(Xim_train)/N, len(Xim_val)/N\n",
    "for i in range(N):\n",
    "    \n",
    "    Xt = np.array([Xim_train[j] for j in range(int(Nt*i),int(Nt*(i+1)) )])\n",
    "    yt = np.array([yim_train[j] for j in range(int(Nt*i),int(Nt*(i+1)) )])\n",
    "    Xv = np.array([Xim_val[j] for j in range(int(Nv*i),int(Nv*(i+1)) )])\n",
    "    yv = np.array([yim_val[j] for j in range(int(Nv*i),int(Nv*(i+1)) )])\n",
    "    modelCNN.fit(Xt, yt , validation_data=(Xv, yv), shuffle=True , epochs=1)"
   ]
  },
  {
   "cell_type": "code",
   "execution_count": 28,
   "metadata": {},
   "outputs": [],
   "source": [
    "model_type = \"CNN\"\n",
    "save_dir = '/home/ja2006203966/script/Network/data/H5/CNN/'\n",
    "model_name = '%s_model.test.h5' % model_type\n",
    "if not os.path.isdir(save_dir):\n",
    "    os.makedirs(save_dir)\n",
    "filepath = os.path.join(save_dir, model_name)\n",
    "\n",
    "# Prepare callbacks for model saving and for learning rate adjustment.\n",
    "checkpoint = keras.callbacks.ModelCheckpoint(filepath=filepath,\n",
    "                             monitor='val_acc',\n",
    "                             verbose=1,\n",
    "                             save_best_only=True)\n",
    "\n",
    "# lr_scheduler = keras.callbacks.LearningRateScheduler(lr_schedule)\n",
    "\n",
    "# progress_bar = keras.callbacks.ProgbarLogger()\n",
    "csv_logger = keras.callbacks.CSVLogger(save_dir+'CNN.csv')\n",
    "earlystop = tf.keras.callbacks.EarlyStopping(\n",
    "                            monitor='val_loss',\n",
    "                            min_delta=1e-4,\n",
    "                            patience=3,\n",
    "                            verbose=1,\n",
    "                            mode='min', baseline=None, ## 'min' \n",
    "                            restore_best_weights=True)\n",
    "# reduce_lr = tf.keras.callbacks.ReduceLROnPlateau(monitor='val_loss', factor=0.2,\n",
    "#                               patience=2, min_lr=0.00001)\n",
    "callbacks = [checkpoint, csv_logger,  earlystop ]\n"
   ]
  },
  {
   "cell_type": "code",
   "execution_count": 29,
   "metadata": {},
   "outputs": [
    {
     "name": "stdout",
     "output_type": "stream",
     "text": [
      "Epoch 1/20\n",
      "7499/7500 [============================>.] - ETA: 0s - loss: 0.6190 - accuracy: 0.6607"
     ]
    },
    {
     "name": "stderr",
     "output_type": "stream",
     "text": [
      "[2020-07-30 14:22:23,606] WARNING: Can save best model only with val_acc available, skipping.\n"
     ]
    },
    {
     "name": "stdout",
     "output_type": "stream",
     "text": [
      "7500/7500 [==============================] - 145s 19ms/step - loss: 0.6190 - accuracy: 0.6607 - val_loss: 0.6001 - val_accuracy: 0.6727\n",
      "Epoch 2/20\n",
      "7498/7500 [============================>.] - ETA: 0s - loss: 0.5989 - accuracy: 0.6774"
     ]
    },
    {
     "name": "stderr",
     "output_type": "stream",
     "text": [
      "[2020-07-30 14:24:48,707] WARNING: Can save best model only with val_acc available, skipping.\n"
     ]
    },
    {
     "name": "stdout",
     "output_type": "stream",
     "text": [
      "7500/7500 [==============================] - 145s 19ms/step - loss: 0.5989 - accuracy: 0.6774 - val_loss: 0.5935 - val_accuracy: 0.6821\n",
      "Epoch 3/20\n",
      "7500/7500 [==============================] - ETA: 0s - loss: 0.5909 - accuracy: 0.6843"
     ]
    },
    {
     "name": "stderr",
     "output_type": "stream",
     "text": [
      "[2020-07-30 14:27:13,836] WARNING: Can save best model only with val_acc available, skipping.\n"
     ]
    },
    {
     "name": "stdout",
     "output_type": "stream",
     "text": [
      "7500/7500 [==============================] - 145s 19ms/step - loss: 0.5909 - accuracy: 0.6843 - val_loss: 0.5943 - val_accuracy: 0.6820\n",
      "Epoch 4/20\n",
      "7500/7500 [==============================] - ETA: 0s - loss: 0.5831 - accuracy: 0.6912"
     ]
    },
    {
     "name": "stderr",
     "output_type": "stream",
     "text": [
      "[2020-07-30 14:29:38,738] WARNING: Can save best model only with val_acc available, skipping.\n"
     ]
    },
    {
     "name": "stdout",
     "output_type": "stream",
     "text": [
      "7500/7500 [==============================] - 145s 19ms/step - loss: 0.5831 - accuracy: 0.6912 - val_loss: 0.5933 - val_accuracy: 0.6825\n",
      "Epoch 5/20\n",
      "7500/7500 [==============================] - ETA: 0s - loss: 0.5739 - accuracy: 0.6993"
     ]
    },
    {
     "name": "stderr",
     "output_type": "stream",
     "text": [
      "[2020-07-30 14:32:03,633] WARNING: Can save best model only with val_acc available, skipping.\n"
     ]
    },
    {
     "name": "stdout",
     "output_type": "stream",
     "text": [
      "7500/7500 [==============================] - 145s 19ms/step - loss: 0.5739 - accuracy: 0.6993 - val_loss: 0.5985 - val_accuracy: 0.6833\n",
      "Epoch 6/20\n",
      "7497/7500 [============================>.] - ETA: 0s - loss: 0.5618 - accuracy: 0.7081"
     ]
    },
    {
     "name": "stderr",
     "output_type": "stream",
     "text": [
      "[2020-07-30 14:34:28,387] WARNING: Can save best model only with val_acc available, skipping.\n"
     ]
    },
    {
     "name": "stdout",
     "output_type": "stream",
     "text": [
      "7500/7500 [==============================] - 145s 19ms/step - loss: 0.5618 - accuracy: 0.7081 - val_loss: 0.6068 - val_accuracy: 0.6841\n",
      "Epoch 7/20\n",
      "7499/7500 [============================>.] - ETA: 0s - loss: 0.5504 - accuracy: 0.7158"
     ]
    },
    {
     "name": "stderr",
     "output_type": "stream",
     "text": [
      "[2020-07-30 14:36:53,406] WARNING: Can save best model only with val_acc available, skipping.\n"
     ]
    },
    {
     "name": "stdout",
     "output_type": "stream",
     "text": [
      "Restoring model weights from the end of the best epoch.\n",
      "7500/7500 [==============================] - 145s 19ms/step - loss: 0.5504 - accuracy: 0.7158 - val_loss: 0.6106 - val_accuracy: 0.6781\n",
      "Epoch 00007: early stopping\n"
     ]
    }
   ],
   "source": [
    "hist = modelCNN.fit(Xim_train, yim_train , validation_data=(Xim_val, yim_val), callbacks = callbacks, shuffle=True , epochs=20)"
   ]
  },
  {
   "cell_type": "code",
   "execution_count": 38,
   "metadata": {},
   "outputs": [],
   "source": [
    "from sklearn.metrics import roc_curve, auc"
   ]
  },
  {
   "cell_type": "code",
   "execution_count": 40,
   "metadata": {},
   "outputs": [
    {
     "name": "stdout",
     "output_type": "stream",
     "text": [
      "The area under the curves are:\n",
      "AUC:0.726536679\n"
     ]
    },
    {
     "data": {
      "image/png": "[encoded data removed]",
      "text/plain": [
       "<Figure size 576x1152 with 1 Axes>"
      ]
     },
     "metadata": {
      "needs_background": "light"
     },
     "output_type": "display_data"
    }
   ],
   "source": [
    "y_score=modelCNN.predict(Xim_test)[:,0]\n",
    "# test=[i[1] for i in yim_test]\n",
    "fpr , tpr , thresholds = roc_curve ( yim_test , y_score)\n",
    "roc_auc = auc(tpr,fpr )\n",
    "print(\"The area under the curves are:\")\n",
    "print(\"AUC:{0:.9f}\".format(roc_auc))\n",
    "# FalsePositiveFull, TruePositiveFull, ThresholdFull = metrics.roc_curve(y_test,Predictions)\n",
    "plt.figure(figsize=(8,16))\n",
    "plt.subplot(2,1,1)\n",
    "\n",
    "plt.plot(tpr,fpr, label='Fully supervised: AUC={0:.9f}'.format(roc_auc))\n",
    "plt.ylabel('False Positive Rate',fontsize=20)\n",
    "plt.xlabel('True Positive Rate',fontsize=20)\n",
    "plt.plot([0, 1], [0, 1], 'k--')\n",
    "plt.legend(bbox_to_anchor=(0.8, -0.17),ncol=2)\n",
    "plt.tight_layout()\n",
    "plt.savefig(\"/home/ja2006203966/script/Network/data/H5/CNN/CNN_roc.png\")\n",
    "hf = h5py.File(\"/home/ja2006203966/script/Network/data/H5/CNN/PR.h5\", 'w')\n",
    "hf.create_dataset('fpr', data=fpr)\n",
    "hf.create_dataset('tpr', data=tpr)\n",
    "hf.close()\n",
    "# np.save(\"./myfpr\",fpr)\n",
    "# np.save(\"./mytpr\",tpr)\n",
    "plt.show()"
   ]
  },
  {
   "cell_type": "code",
   "execution_count": 41,
   "metadata": {},
   "outputs": [
    {
     "data": {
      "image/png": "[encoded data removed]",
      "text/plain": [
       "<Figure size 576x576 with 1 Axes>"
      ]
     },
     "metadata": {
      "needs_background": "light"
     },
     "output_type": "display_data"
    }
   ],
   "source": [
    "plt.figure(figsize=(8,8))\n",
    "LOSS = pd.read_csv(save_dir+\"CNN.csv\")\n",
    "plt.title(\"Learning Curve\")\n",
    "plt.plot(LOSS[\"loss\"], label='loss',c='blue')\n",
    "plt.plot(LOSS[\"val_loss\"], label='val_loss',c='red')\n",
    "plt.plot(LOSS[\"accuracy\"], linestyle='--', label='accuracy',c='blue')\n",
    "plt.plot(LOSS[\"val_accuracy\"], linestyle='--', label='val_accuracy',c='red')\n",
    "# plt.ylim([0.3,1])\n",
    "plt.ylabel('loss',fontsize=20)\n",
    "plt.xlabel('epoch',fontsize=20)\n",
    "# plt.legend(bbox_to_anchor=(0.8, -0.17),ncol=2)\n",
    "plt.legend(bbox_to_anchor=(0.8, -0.17),ncol=2)\n",
    "plt.tight_layout()\n",
    "plt.savefig(\"/home/ja2006203966/script/Network/data/H5/CNN/CNNloss.png\")\n",
    "\n",
    "plt.show()"
   ]
  },
  {
   "cell_type": "code",
   "execution_count": 31,
   "metadata": {},
   "outputs": [],
   "source": [
    "modelCNN.save('/home/ja2006203966/script/Network/data/H5/CNN/modelCNN.h5')"
   ]
  },
  {
   "cell_type": "markdown",
   "metadata": {},
   "source": [
    "# Load data DNN"
   ]
  },
  {
   "cell_type": "code",
   "execution_count": 47,
   "metadata": {},
   "outputs": [],
   "source": [
    "f = h5py.File(\"/home/ja2006203966/script/Network/data/Mydata/H5/SVJ/0JSS_Jim.h5\",'r')\n",
    "f2 = h5py.File(\"/home/ja2006203966/script/Network/data/Mydata/H5/QCD/0JSS_Jim.h5\",'r')\n"
   ]
  },
  {
   "cell_type": "code",
   "execution_count": 4,
   "metadata": {},
   "outputs": [],
   "source": [
    "Labels = ['T21', 'D21', 'MASS', 'D22', 'C22', 'C21']"
   ]
  },
  {
   "cell_type": "code",
   "execution_count": 6,
   "metadata": {},
   "outputs": [],
   "source": [
    "JSS2 = []\n",
    "N = 40\n",
    "Labels = ['MASS', 'T21', 'C22', 'C21',  'D22', 'D21']\n",
    "JSSd = {'MASS':[], 'T21':[], 'C22':[], 'C21':[],  'D22':[], 'D21':[]}\n",
    "JSSd2 = {'MASS':[], 'T21':[], 'C22':[], 'C21':[],  'D22':[], 'D21':[]}\n",
    "\n",
    "for lb in Labels:\n",
    "    for i in range(N):\n",
    "        jss = h5py.File(\"/home/ja2006203966/script/Network/data/H5/SVJ/rinv03/\"+str(i)+\"JSS_Jim.h5\",'r')\n",
    "        jss = jss[lb][()].tolist()\n",
    "        JSSd[lb] = JSSd[lb] + jss\n",
    "        \n",
    "        jss2 = h5py.File(\"/home/ja2006203966/script/Network/data/H5/QCD/\"+str(i)+\"JSS_Jim.h5\",'r')\n",
    "        jss2 = jss2[lb][()].tolist()\n",
    "        JSSd2[lb] = JSSd2[lb] + jss2"
   ]
  },
  {
   "cell_type": "code",
   "execution_count": 9,
   "metadata": {},
   "outputs": [
    {
     "data": {
      "text/plain": [
       "(6, 207573)"
      ]
     },
     "execution_count": 9,
     "metadata": {},
     "output_type": "execute_result"
    }
   ],
   "source": [
    "f.shape"
   ]
  },
  {
   "cell_type": "code",
   "execution_count": 8,
   "metadata": {},
   "outputs": [],
   "source": [
    "f = np.array([ JSSd[i] for i in Labels])\n",
    "f2 = np.array([ JSSd2[i] for i in Labels])\n",
    "f = f.transpose((1,0))\n",
    "f2 = f2.transpose((1,0))"
   ]
  },
  {
   "cell_type": "code",
   "execution_count": 10,
   "metadata": {},
   "outputs": [],
   "source": []
  },
  {
   "cell_type": "code",
   "execution_count": 11,
   "metadata": {},
   "outputs": [],
   "source": [
    "f = np.array([f[i] for i in range(200000)])\n",
    "f2 = np.array([f2[i] for i in range(200000)])"
   ]
  },
  {
   "cell_type": "code",
   "execution_count": 12,
   "metadata": {},
   "outputs": [],
   "source": [
    "ft = np.append(f,f2, axis=0)"
   ]
  },
  {
   "cell_type": "code",
   "execution_count": 13,
   "metadata": {},
   "outputs": [],
   "source": [
    "yt = np.array([1 for i in range(len(f))]+[0 for i in range(len(f2))])"
   ]
  },
  {
   "cell_type": "code",
   "execution_count": 15,
   "metadata": {},
   "outputs": [
    {
     "data": {
      "text/plain": [
       "(400000, 6)"
      ]
     },
     "execution_count": 15,
     "metadata": {},
     "output_type": "execute_result"
    }
   ],
   "source": [
    "ft.shape"
   ]
  },
  {
   "cell_type": "markdown",
   "metadata": {},
   "source": [
    "## Seperate data"
   ]
  },
  {
   "cell_type": "code",
   "execution_count": 16,
   "metadata": {},
   "outputs": [],
   "source": [
    "from sklearn.model_selection import train_test_split\n",
    "X_train, X_val, y_train, y_val = train_test_split(ft, yt, test_size=0.4)\n",
    "X_val, X_test, y_val, y_test = train_test_split(X_val, y_val, test_size=0.25)"
   ]
  },
  {
   "cell_type": "markdown",
   "metadata": {},
   "source": [
    "## Save training data"
   ]
  },
  {
   "cell_type": "code",
   "execution_count": 17,
   "metadata": {},
   "outputs": [],
   "source": [
    "# outfile = \"/home/ja2006203966/script/Network/data/H5/DNN/Train.h5\"\n",
    "# hf = h5py.File(outfile, 'w')\n",
    "# hf.create_dataset('X_train', data=X_train)\n",
    "# hf.create_dataset('y_train', data=y_train)\n",
    "# hf.create_dataset('X_val', data=X_val)\n",
    "# hf.create_dataset('y_val', data=y_val)\n",
    "# hf.create_dataset('X_test', data=X_test)\n",
    "# hf.create_dataset('y_test', data=y_test)\n",
    "# hf.close()"
   ]
  },
  {
   "cell_type": "markdown",
   "metadata": {},
   "source": [
    "## Load data"
   ]
  },
  {
   "cell_type": "code",
   "execution_count": null,
   "metadata": {},
   "outputs": [],
   "source": [
    "outfile = \"/home/ja2006203966/script/Network/data/H5/DNN/Train.h5\"\n",
    "hf = h5py.File(outfile, 'r')\n",
    "X_train = hf[\"X_train\"][()]\n",
    "y_train = hf[\"y_train\"][()]\n",
    "X_val = hf[\"X_val\"][()]\n",
    "y_val = hf[\"y_val\"][()]\n",
    "X_test = hf[\"X_test\"][()]\n",
    "y_test = hf[\"y_test\"][()]\n",
    "hf.close()\n",
    "\n"
   ]
  },
  {
   "cell_type": "markdown",
   "metadata": {},
   "source": [
    "# Model DNN"
   ]
  },
  {
   "cell_type": "code",
   "execution_count": 45,
   "metadata": {},
   "outputs": [],
   "source": [
    "inputs = tf.keras.Input(shape=(6,))\n",
    "x = inputs\n",
    "x = tf.keras.layers.Dense(6, activation='relu')(x)\n",
    "# x = tf.keras.layers.Dense(128, activation='relu')(x)\n",
    "x = tf.keras.layers.Dense(256, activation='relu')(x)\n",
    "x = tf.keras.layers.Dropout(0.2)(x)\n",
    "x = tf.keras.layers.Dense(2, activation='sigmoid')(x)\n",
    "modelDNN = tf.keras.Model(inputs=inputs, outputs=x, name='DNN')"
   ]
  },
  {
   "cell_type": "code",
   "execution_count": 46,
   "metadata": {},
   "outputs": [
    {
     "name": "stdout",
     "output_type": "stream",
     "text": [
      "Model: \"DNN\"\n",
      "_________________________________________________________________\n",
      "Layer (type)                 Output Shape              Param #   \n",
      "=================================================================\n",
      "input_8 (InputLayer)         [(None, 6)]               0         \n",
      "_________________________________________________________________\n",
      "dense_22 (Dense)             (None, 6)                 42        \n",
      "_________________________________________________________________\n",
      "dense_23 (Dense)             (None, 256)               1792      \n",
      "_________________________________________________________________\n",
      "dropout_6 (Dropout)          (None, 256)               0         \n",
      "_________________________________________________________________\n",
      "dense_24 (Dense)             (None, 2)                 514       \n",
      "=================================================================\n",
      "Total params: 2,348\n",
      "Trainable params: 2,348\n",
      "Non-trainable params: 0\n",
      "_________________________________________________________________\n"
     ]
    }
   ],
   "source": [
    "loss_fn = tf.keras.losses.SparseCategoricalCrossentropy(from_logits=True)\n",
    "modelDNN.compile(optimizer='adam', loss=loss_fn, metrics=['accuracy'])\n",
    "modelDNN.summary()"
   ]
  },
  {
   "cell_type": "code",
   "execution_count": 47,
   "metadata": {},
   "outputs": [],
   "source": [
    "model_type = \"DNN\"\n",
    "save_dir = '/home/ja2006203966/script/Network/data/H5/DNN/'\n",
    "model_name = '%s_model.test.h5' % model_type\n",
    "if not os.path.isdir(save_dir):\n",
    "    os.makedirs(save_dir)\n",
    "filepath = os.path.join(save_dir, model_name)\n",
    "\n",
    "# Prepare callbacks for model saving and for learning rate adjustment.\n",
    "checkpoint = keras.callbacks.ModelCheckpoint(filepath=filepath,\n",
    "                             monitor='val_acc',\n",
    "                             verbose=1,\n",
    "                             save_best_only=True)\n",
    "\n",
    "# lr_scheduler = keras.callbacks.LearningRateScheduler(lr_schedule)\n",
    "\n",
    "# progress_bar = keras.callbacks.ProgbarLogger()\n",
    "csv_logger = keras.callbacks.CSVLogger(save_dir+'DNN.csv')\n",
    "earlystop = tf.keras.callbacks.EarlyStopping(\n",
    "                            monitor='val_loss',\n",
    "                            min_delta=1e-4,\n",
    "                            patience=3,\n",
    "                            verbose=1,\n",
    "                            mode='min', baseline=None, ## 'min' \n",
    "                            restore_best_weights=True)\n",
    "# reduce_lr = tf.keras.callbacks.ReduceLROnPlateau(monitor='val_loss', factor=0.2,\n",
    "#                               patience=2, min_lr=0.00001)\n",
    "callbacks = [checkpoint, csv_logger,  earlystop ]\n"
   ]
  },
  {
   "cell_type": "code",
   "execution_count": 48,
   "metadata": {},
   "outputs": [
    {
     "name": "stdout",
     "output_type": "stream",
     "text": [
      "Epoch 1/20\n",
      "7500/7500 [==============================] - ETA: 0s - loss: 0.6478 - accuracy: 0.6279"
     ]
    },
    {
     "name": "stderr",
     "output_type": "stream",
     "text": [
      "[2020-07-30 15:21:27,477] WARNING: Can save best model only with val_acc available, skipping.\n"
     ]
    },
    {
     "name": "stdout",
     "output_type": "stream",
     "text": [
      "7500/7500 [==============================] - 31s 4ms/step - loss: 0.6478 - accuracy: 0.6279 - val_loss: 0.6370 - val_accuracy: 0.6417\n",
      "Epoch 2/20\n",
      "7488/7500 [============================>.] - ETA: 0s - loss: 0.6312 - accuracy: 0.6508"
     ]
    },
    {
     "name": "stderr",
     "output_type": "stream",
     "text": [
      "[2020-07-30 15:21:59,038] WARNING: Can save best model only with val_acc available, skipping.\n"
     ]
    },
    {
     "name": "stdout",
     "output_type": "stream",
     "text": [
      "7500/7500 [==============================] - 32s 4ms/step - loss: 0.6312 - accuracy: 0.6508 - val_loss: 0.6244 - val_accuracy: 0.6567\n",
      "Epoch 3/20\n",
      "7492/7500 [============================>.] - ETA: 0s - loss: 0.6237 - accuracy: 0.6567"
     ]
    },
    {
     "name": "stderr",
     "output_type": "stream",
     "text": [
      "[2020-07-30 15:22:31,391] WARNING: Can save best model only with val_acc available, skipping.\n"
     ]
    },
    {
     "name": "stdout",
     "output_type": "stream",
     "text": [
      "7500/7500 [==============================] - 32s 4ms/step - loss: 0.6237 - accuracy: 0.6566 - val_loss: 0.6199 - val_accuracy: 0.6606\n",
      "Epoch 4/20\n",
      "7486/7500 [============================>.] - ETA: 0s - loss: 0.6207 - accuracy: 0.6602"
     ]
    },
    {
     "name": "stderr",
     "output_type": "stream",
     "text": [
      "[2020-07-30 15:23:02,512] WARNING: Can save best model only with val_acc available, skipping.\n"
     ]
    },
    {
     "name": "stdout",
     "output_type": "stream",
     "text": [
      "7500/7500 [==============================] - 31s 4ms/step - loss: 0.6206 - accuracy: 0.6602 - val_loss: 0.6174 - val_accuracy: 0.6638\n",
      "Epoch 5/20\n",
      "7495/7500 [============================>.] - ETA: 0s - loss: 0.6191 - accuracy: 0.6617"
     ]
    },
    {
     "name": "stderr",
     "output_type": "stream",
     "text": [
      "[2020-07-30 15:23:33,700] WARNING: Can save best model only with val_acc available, skipping.\n"
     ]
    },
    {
     "name": "stdout",
     "output_type": "stream",
     "text": [
      "7500/7500 [==============================] - 31s 4ms/step - loss: 0.6190 - accuracy: 0.6617 - val_loss: 0.6167 - val_accuracy: 0.6637\n",
      "Epoch 6/20\n",
      "7484/7500 [============================>.] - ETA: 0s - loss: 0.6184 - accuracy: 0.6625"
     ]
    },
    {
     "name": "stderr",
     "output_type": "stream",
     "text": [
      "[2020-07-30 15:24:04,915] WARNING: Can save best model only with val_acc available, skipping.\n"
     ]
    },
    {
     "name": "stdout",
     "output_type": "stream",
     "text": [
      "7500/7500 [==============================] - 31s 4ms/step - loss: 0.6184 - accuracy: 0.6626 - val_loss: 0.6173 - val_accuracy: 0.6648\n",
      "Epoch 7/20\n",
      "7490/7500 [============================>.] - ETA: 0s - loss: 0.6175 - accuracy: 0.6637"
     ]
    },
    {
     "name": "stderr",
     "output_type": "stream",
     "text": [
      "[2020-07-30 15:24:36,370] WARNING: Can save best model only with val_acc available, skipping.\n"
     ]
    },
    {
     "name": "stdout",
     "output_type": "stream",
     "text": [
      "7500/7500 [==============================] - 31s 4ms/step - loss: 0.6175 - accuracy: 0.6637 - val_loss: 0.6157 - val_accuracy: 0.6667\n",
      "Epoch 8/20\n",
      "7485/7500 [============================>.] - ETA: 0s - loss: 0.6174 - accuracy: 0.6641"
     ]
    },
    {
     "name": "stderr",
     "output_type": "stream",
     "text": [
      "[2020-07-30 15:25:07,745] WARNING: Can save best model only with val_acc available, skipping.\n"
     ]
    },
    {
     "name": "stdout",
     "output_type": "stream",
     "text": [
      "7500/7500 [==============================] - 31s 4ms/step - loss: 0.6174 - accuracy: 0.6641 - val_loss: 0.6202 - val_accuracy: 0.6601\n",
      "Epoch 9/20\n",
      "7486/7500 [============================>.] - ETA: 0s - loss: 0.6173 - accuracy: 0.6635"
     ]
    },
    {
     "name": "stderr",
     "output_type": "stream",
     "text": [
      "[2020-07-30 15:25:38,221] WARNING: Can save best model only with val_acc available, skipping.\n"
     ]
    },
    {
     "name": "stdout",
     "output_type": "stream",
     "text": [
      "7500/7500 [==============================] - 30s 4ms/step - loss: 0.6172 - accuracy: 0.6635 - val_loss: 0.6146 - val_accuracy: 0.6678\n",
      "Epoch 10/20\n",
      "7494/7500 [============================>.] - ETA: 0s - loss: 0.6170 - accuracy: 0.6639"
     ]
    },
    {
     "name": "stderr",
     "output_type": "stream",
     "text": [
      "[2020-07-30 15:26:09,529] WARNING: Can save best model only with val_acc available, skipping.\n"
     ]
    },
    {
     "name": "stdout",
     "output_type": "stream",
     "text": [
      "7500/7500 [==============================] - 31s 4ms/step - loss: 0.6170 - accuracy: 0.6639 - val_loss: 0.6171 - val_accuracy: 0.6635\n",
      "Epoch 11/20\n",
      "7492/7500 [============================>.] - ETA: 0s - loss: 0.6168 - accuracy: 0.6650"
     ]
    },
    {
     "name": "stderr",
     "output_type": "stream",
     "text": [
      "[2020-07-30 15:26:41,280] WARNING: Can save best model only with val_acc available, skipping.\n"
     ]
    },
    {
     "name": "stdout",
     "output_type": "stream",
     "text": [
      "7500/7500 [==============================] - 32s 4ms/step - loss: 0.6168 - accuracy: 0.6650 - val_loss: 0.6148 - val_accuracy: 0.6669\n",
      "Epoch 12/20\n",
      "7487/7500 [============================>.] - ETA: 0s - loss: 0.6167 - accuracy: 0.6651"
     ]
    },
    {
     "name": "stderr",
     "output_type": "stream",
     "text": [
      "[2020-07-30 15:27:12,164] WARNING: Can save best model only with val_acc available, skipping.\n"
     ]
    },
    {
     "name": "stdout",
     "output_type": "stream",
     "text": [
      "Restoring model weights from the end of the best epoch.\n",
      "7500/7500 [==============================] - 31s 4ms/step - loss: 0.6167 - accuracy: 0.6651 - val_loss: 0.6168 - val_accuracy: 0.6652\n",
      "Epoch 00012: early stopping\n"
     ]
    },
    {
     "data": {
      "text/plain": [
       "<tensorflow.python.keras.callbacks.History at 0x7ff00519b668>"
      ]
     },
     "execution_count": 48,
     "metadata": {},
     "output_type": "execute_result"
    }
   ],
   "source": [
    "modelDNN.fit(X_train, y_train, validation_data=(X_val, y_val), callbacks=callbacks, shuffle=True , epochs=20)"
   ]
  },
  {
   "cell_type": "code",
   "execution_count": 49,
   "metadata": {},
   "outputs": [],
   "source": [
    "from sklearn.metrics import roc_curve, auc"
   ]
  },
  {
   "cell_type": "code",
   "execution_count": 50,
   "metadata": {},
   "outputs": [
    {
     "name": "stdout",
     "output_type": "stream",
     "text": [
      "The area under the curves are:\n",
      "AUC:0.720246038\n"
     ]
    },
    {
     "data": {
      "image/png": "[encoded data removed]",
      "text/plain": [
       "<Figure size 576x1152 with 1 Axes>"
      ]
     },
     "metadata": {
      "needs_background": "light"
     },
     "output_type": "display_data"
    }
   ],
   "source": [
    "y_score=modelDNN.predict(X_test)[:,0]\n",
    "# test=[i[1] for i in yim_test]\n",
    "fpr , tpr , thresholds = roc_curve ( y_test , y_score)\n",
    "roc_auc = auc(tpr,fpr )\n",
    "print(\"The area under the curves are:\")\n",
    "print(\"AUC:{0:.9f}\".format(roc_auc))\n",
    "# FalsePositiveFull, TruePositiveFull, ThresholdFull = metrics.roc_curve(y_test,Predictions)\n",
    "plt.figure(figsize=(8,16))\n",
    "plt.subplot(2,1,1)\n",
    "\n",
    "plt.plot(tpr,fpr, label='Fully supervised: AUC={0:.9f}'.format(roc_auc))\n",
    "plt.ylabel('False Positive Rate',fontsize=20)\n",
    "plt.xlabel('True Positive Rate',fontsize=20)\n",
    "plt.plot([0, 1], [0, 1], 'k--')\n",
    "plt.legend(bbox_to_anchor=(0.8, -0.17),ncol=2)\n",
    "plt.tight_layout()\n",
    "plt.savefig(\"/home/ja2006203966/script/Network/data/H5/DNN/DNN_roc.png\")\n",
    "hf = h5py.File(\"/home/ja2006203966/script/Network/data/H5/DNN/PR.h5\", 'w')\n",
    "hf.create_dataset('fpr', data=fpr)\n",
    "hf.create_dataset('tpr', data=tpr)\n",
    "hf.close()\n",
    "# np.save(\"./myfpr\",fpr)\n",
    "# np.save(\"./mytpr\",tpr)\n",
    "plt.show()"
   ]
  },
  {
   "cell_type": "code",
   "execution_count": 51,
   "metadata": {},
   "outputs": [
    {
     "data": {
      "image/png": "[encoded data removed]",
      "text/plain": [
       "<Figure size 576x576 with 1 Axes>"
      ]
     },
     "metadata": {
      "needs_background": "light"
     },
     "output_type": "display_data"
    }
   ],
   "source": [
    "plt.figure(figsize=(8,8))\n",
    "LOSS = pd.read_csv(save_dir+\"DNN.csv\")\n",
    "plt.title(\"Learning Curve\")\n",
    "plt.plot(LOSS[\"loss\"], label='loss',c='blue')\n",
    "plt.plot(LOSS[\"val_loss\"], label='val_loss',c='red')\n",
    "plt.plot(LOSS[\"accuracy\"], linestyle='--', label='accuracy',c='blue')\n",
    "plt.plot(LOSS[\"val_accuracy\"], linestyle='--', label='val_accuracy',c='red')\n",
    "# plt.ylim([0.3,1])\n",
    "plt.ylabel('loss',fontsize=20)\n",
    "plt.xlabel('epoch',fontsize=20)\n",
    "# plt.legend(bbox_to_anchor=(0.8, -0.17),ncol=2)\n",
    "plt.legend(bbox_to_anchor=(0.8, -0.17),ncol=2)\n",
    "plt.tight_layout()\n",
    "plt.savefig(\"/home/ja2006203966/script/Network/data/H5/DNN/DNNloss.png\")\n",
    "\n",
    "plt.show()"
   ]
  },
  {
   "cell_type": "code",
   "execution_count": 52,
   "metadata": {},
   "outputs": [],
   "source": [
    "modelDNN.save('/home/ja2006203966/script/Network/data/H5/DNN/modelDNN.h5')"
   ]
  },
  {
   "cell_type": "code",
   "execution_count": null,
   "metadata": {},
   "outputs": [],
   "source": []
  },
  {
   "cell_type": "markdown",
   "metadata": {},
   "source": [
    "# Load 2CNN data"
   ]
  },
  {
   "cell_type": "code",
   "execution_count": 53,
   "metadata": {},
   "outputs": [
    {
     "name": "stderr",
     "output_type": "stream",
     "text": [
      "100%|██████████| 40/40 [18:30<00:00, 27.76s/it]\n"
     ]
    }
   ],
   "source": [
    "N=40\n",
    "# Jim = np.array([np.zeros((64,64))])\n",
    "# Jim2 = np.array([np.zeros((64,64))])\n",
    "Jim = []\n",
    "Jim2 = []\n",
    "JSSd = {'MASS':[], 'T21':[], 'C22':[], 'C21':[],  'D22':[], 'D21':[]}\n",
    "JSSd2 = {'MASS':[], 'T21':[], 'C22':[], 'C21':[],  'D22':[], 'D21':[]}\n",
    "Labels = ['MASS', 'T21', 'C22', 'C21',  'D22', 'D21']\n",
    "for i in tqdm(range(N)):\n",
    "    f = h5py.File(\"/home/ja2006203966/script/Network/data/H5/SVJ/rinv03/\"+str(i)+\"JSS_Jim.h5\",'r')\n",
    "    \n",
    "    fin = np.array(f['jetim_index'][()])\n",
    "    fsin = np.array(f['jss_index'][()])\n",
    "    fcin = set(f['jss_index'][()])&set(f['jetim_index'][()])\n",
    "    fci = [(i in fcin) for i in fin]\n",
    "    fcs = [(i in fcin) for i in fsin]\n",
    "\n",
    "    fim = f['jetim'][()]\n",
    "    # fim = [i for i in fim]\n",
    "    fim = [fim[i] for i in range(len(fci)) if fci[i]]\n",
    "    \n",
    "    f2 = h5py.File(\"/home/ja2006203966/script/Network/data/H5/QCD/\"+str(i)+\"JSS_Jim.h5\",'r')\n",
    "    fin2 = np.array(f2['jetim_index'][()])\n",
    "    fsin2 = np.array(f2['jss_index'][()])\n",
    "    fcin2 = set(f2['jss_index'][()])&set(f2['jetim_index'][()])\n",
    "    fci2 = [(i in fcin2) for i in fin2]\n",
    "    fcs2 = [(i in fcin2) for i in fsin2]\n",
    "    \n",
    "    fim2 = f2['jetim'][()]\n",
    "    fim2 =  [fim2[i] for i in range(len(fci2)) if fci2[i]]\n",
    "    \n",
    "    Jim = Jim +fim\n",
    "    Jim2 = Jim2+fim2\n",
    "#     Jim = np.append(Jim,fim, axis=0)\n",
    "#     Jim2 = np.append(Jim2,fim2, axis=0)\n",
    "    \n",
    "    for lb in Labels:\n",
    "        jss = [f[lb][()][i] for i in range(len(fcs)) if fcs[i]]\n",
    "#         jss = f[lb][()].tolist()\n",
    "        JSSd[lb] = JSSd[lb] + jss\n",
    "        \n",
    "        jss2 = [f2[lb][()][i] for i in range(len(fcs2)) if fcs2[i]]\n",
    "\n",
    "#         jss2 = f2[lb][()].tolist()\n",
    "        JSSd2[lb] = JSSd2[lb] + jss2\n",
    "    \n",
    "    \n",
    "    \n",
    "    \n",
    "    \n",
    "\n"
   ]
  },
  {
   "cell_type": "code",
   "execution_count": 59,
   "metadata": {},
   "outputs": [],
   "source": [
    "fs = np.array([ JSSd[i] for i in Labels])\n",
    "fs2 = np.array([ JSSd2[i] for i in Labels])\n",
    "fs = fs.transpose((1,0))\n",
    "fs2 = fs2.transpose((1,0))\n",
    "fi = np.array(Jim)\n",
    "fi2 = np.array(Jim2)"
   ]
  },
  {
   "cell_type": "code",
   "execution_count": 61,
   "metadata": {},
   "outputs": [
    {
     "data": {
      "text/plain": [
       "((206567, 6), (206567, 64, 64), (395128, 6), (395128, 64, 64))"
      ]
     },
     "execution_count": 61,
     "metadata": {},
     "output_type": "execute_result"
    }
   ],
   "source": [
    "(fs.shape,fi.shape, fs2.shape, fi2.shape)"
   ]
  },
  {
   "cell_type": "code",
   "execution_count": 62,
   "metadata": {},
   "outputs": [],
   "source": [
    "fs = np.array([fs[i] for i in range(200000) ])\n",
    "fs2 = np.array([fs2[i] for i in range(200000) ])\n",
    "fi = np.array([fi[i] for i in range(200000) ])\n",
    "fi2 = np.array([fi2[i] for i in range(200000) ])"
   ]
  },
  {
   "cell_type": "code",
   "execution_count": 63,
   "metadata": {},
   "outputs": [],
   "source": [
    "ft = np.append(fs,fs2, axis=0)\n",
    "ftim = np.append(fi,fi2, axis=0)"
   ]
  },
  {
   "cell_type": "code",
   "execution_count": 73,
   "metadata": {},
   "outputs": [
    {
     "data": {
      "text/plain": [
       "(6,)"
      ]
     },
     "execution_count": 73,
     "metadata": {},
     "output_type": "execute_result"
    }
   ],
   "source": [
    "fc[0][0].shape"
   ]
  },
  {
   "cell_type": "code",
   "execution_count": 79,
   "metadata": {},
   "outputs": [],
   "source": [
    "yt = np.array([1 for i in range(len(fs))]+[0 for i in range(len(fs2))])"
   ]
  },
  {
   "cell_type": "code",
   "execution_count": 78,
   "metadata": {},
   "outputs": [
    {
     "data": {
      "text/plain": [
       "(18,)"
      ]
     },
     "execution_count": 78,
     "metadata": {},
     "output_type": "execute_result"
    }
   ],
   "source": [
    "yt.shape"
   ]
  },
  {
   "cell_type": "code",
   "execution_count": 80,
   "metadata": {},
   "outputs": [],
   "source": [
    "fc = np.array([(ft[i],ftim[i]) for i in range(len(ft))])"
   ]
  },
  {
   "cell_type": "code",
   "execution_count": 81,
   "metadata": {},
   "outputs": [],
   "source": [
    "from sklearn.model_selection import train_test_split\n",
    "X_train, X_val, y_train, y_val = train_test_split(fc, yt, test_size=0.4)\n",
    "# X_train, X_val, y_train, y_val = train_test_split(ft, yt, test_size=0.4)\n",
    "X_val, X_test, y_val, y_test = train_test_split(X_val, y_val, test_size=0.25)"
   ]
  },
  {
   "cell_type": "code",
   "execution_count": 83,
   "metadata": {},
   "outputs": [],
   "source": [
    "X_train1 = X_train.transpose(1,0)[0]\n",
    "X_train2 = X_train.transpose(1,0)[1]\n",
    "X_val1 = X_val.transpose(1,0)[0]\n",
    "X_val2 = X_val.transpose(1,0)[1]\n",
    "X_test1 = X_test.transpose(1,0)[0]\n",
    "X_test2 = X_test.transpose(1,0)[1]"
   ]
  },
  {
   "cell_type": "code",
   "execution_count": 84,
   "metadata": {},
   "outputs": [],
   "source": [
    "X_train1 = np.array([i for i in X_train1])\n",
    "X_train2 = np.array([i for i in X_train2])\n",
    "X_val1 = np.array([i for i in X_val1])\n",
    "X_val2 = np.array([i for i in X_val2])\n",
    "X_test1 = np.array([i for i in X_test1])\n",
    "X_test2 = np.array([i for i in X_test2])"
   ]
  },
  {
   "cell_type": "code",
   "execution_count": 85,
   "metadata": {},
   "outputs": [
    {
     "data": {
      "text/plain": [
       "(240000, 6)"
      ]
     },
     "execution_count": 85,
     "metadata": {},
     "output_type": "execute_result"
    }
   ],
   "source": [
    "X_train1.shape"
   ]
  },
  {
   "cell_type": "markdown",
   "metadata": {},
   "source": [
    "## Save Training data"
   ]
  },
  {
   "cell_type": "code",
   "execution_count": 86,
   "metadata": {},
   "outputs": [],
   "source": [
    "# outfile = \"/home/ja2006203966/script/Network/data/H5/2CNN/Train.h5\"\n",
    "# hf = h5py.File(outfile, 'w')\n",
    "# hf.create_dataset('X_train_jss', data=X_train1)\n",
    "# hf.create_dataset('X_val_jss', data=X_val1)\n",
    "# hf.create_dataset('X_test_jss', data=X_test1)\n",
    "# hf.create_dataset('X_train_jim', data=X_train2)\n",
    "# hf.create_dataset('X_val_jim', data=X_val2)\n",
    "# hf.create_dataset('X_test_jim', data=X_test2)\n",
    "\n",
    "# hf.create_dataset('y_train', data=y_train)\n",
    "# hf.create_dataset('y_val', data=y_val)\n",
    "# hf.create_dataset('y_test', data=y_test)\n",
    "# hf.close()"
   ]
  },
  {
   "cell_type": "code",
   "execution_count": null,
   "metadata": {},
   "outputs": [],
   "source": []
  },
  {
   "cell_type": "markdown",
   "metadata": {},
   "source": [
    "## Load data"
   ]
  },
  {
   "cell_type": "code",
   "execution_count": null,
   "metadata": {},
   "outputs": [],
   "source": [
    "outfile = \"/home/ja2006203966/script/Network/data/H5/2CNN/Train.h5\"\n",
    "hf = h5py.File(outfile, 'r')\n",
    "X_train1 = hf[\"X_train_jss\"][()]\n",
    "X_val1 = hf[\"X_val_jss\"][()]\n",
    "X_test1 = hf[\"X_test_jss\"][()]\n",
    "X_train2 = hf[\"X_train_jim\"][()]\n",
    "X_val2 = hf[\"X_val_jim\"][()]\n",
    "X_test2 = hf[\"X_test_jim\"][()]\n",
    "\n",
    "\n",
    "y_train = hf[\"y_train\"][()]\n",
    "y_val = hf[\"y_val\"][()]\n",
    "y_test = hf[\"y_test\"][()]\n",
    "\n",
    "hf.close()"
   ]
  },
  {
   "cell_type": "markdown",
   "metadata": {},
   "source": [
    "# Model 2CNN"
   ]
  },
  {
   "cell_type": "code",
   "execution_count": 103,
   "metadata": {},
   "outputs": [],
   "source": [
    "inputs = tf.keras.Input(shape=(6,))\n",
    "x = inputs\n",
    "x = tf.keras.layers.Dense(36, activation='relu')(x)\n",
    "\n",
    "# x = tf.keras.layers.Dense(64, activation='relu')(x)\n",
    "# x = tf.keras.layers.Dropout(0.2)(x)\n",
    "# x = tf.keras.layers.Dense(1)(x)\n",
    "\n",
    "inputs2 = tf.keras.Input(shape=(64,64))\n",
    "x2 = inputs2\n",
    "x2 = tf.expand_dims(x2,axis=-1)\n",
    "x2 = tf.keras.layers.Conv2D(256, kernel_size=(1,1), activation='relu', input_shape=(64,64,1))(x2)\n",
    "x2 = tf.keras.layers.MaxPooling2D()(x2)\n",
    "x2 = tf.keras.layers.Conv2D(128, kernel_size=(4,4), activation='relu')(x2)\n",
    "x2 = tf.keras.layers.MaxPooling2D()(x2)\n",
    "x2 = tf.keras.layers.Flatten()(x2)\n",
    "# x = tf.keras.layers.Dense(1, activation='sigmoid')(x)\n",
    "\n",
    "# x2 = tf.keras.layers.Dense(128, activation='relu')(x2)\n",
    "# x2 = tf.keras.layers.Dropout(0.2)(x2)\n",
    "# x2 = tf.keras.layers.Dense(1)(x2)\n",
    "\n",
    "xt = tf.concat([x,x2], axis=-1)\n",
    "xt = tf.keras.layers.Dense(128, activation='relu')(xt)\n",
    "xt = tf.keras.layers.Dropout(0.2)(xt)\n",
    "xt = tf.keras.layers.Dense(2, activation='sigmoid')(xt)\n",
    "\n",
    "\n",
    "\n",
    "\n",
    "model2CNN = tf.keras.Model(inputs=(inputs, inputs2), outputs=xt, name='2CNN')"
   ]
  },
  {
   "cell_type": "code",
   "execution_count": 104,
   "metadata": {},
   "outputs": [
    {
     "name": "stdout",
     "output_type": "stream",
     "text": [
      "Model: \"2CNN\"\n",
      "__________________________________________________________________________________________________\n",
      "Layer (type)                    Output Shape         Param #     Connected to                     \n",
      "==================================================================================================\n",
      "input_20 (InputLayer)           [(None, 64, 64)]     0                                            \n",
      "__________________________________________________________________________________________________\n",
      "tf_op_layer_ExpandDims_5 (Tenso [(None, 64, 64, 1)]  0           input_20[0][0]                   \n",
      "__________________________________________________________________________________________________\n",
      "conv2d_10 (Conv2D)              (None, 64, 64, 256)  512         tf_op_layer_ExpandDims_5[0][0]   \n",
      "__________________________________________________________________________________________________\n",
      "max_pooling2d_5 (MaxPooling2D)  (None, 32, 32, 256)  0           conv2d_10[0][0]                  \n",
      "__________________________________________________________________________________________________\n",
      "conv2d_11 (Conv2D)              (None, 29, 29, 128)  524416      max_pooling2d_5[0][0]            \n",
      "__________________________________________________________________________________________________\n",
      "input_19 (InputLayer)           [(None, 6)]          0                                            \n",
      "__________________________________________________________________________________________________\n",
      "max_pooling2d_6 (MaxPooling2D)  (None, 14, 14, 128)  0           conv2d_11[0][0]                  \n",
      "__________________________________________________________________________________________________\n",
      "dense_42 (Dense)                (None, 36)           252         input_19[0][0]                   \n",
      "__________________________________________________________________________________________________\n",
      "flatten_5 (Flatten)             (None, 25088)        0           max_pooling2d_6[0][0]            \n",
      "__________________________________________________________________________________________________\n",
      "tf_op_layer_concat_5 (TensorFlo [(None, 25124)]      0           dense_42[0][0]                   \n",
      "                                                                 flatten_5[0][0]                  \n",
      "__________________________________________________________________________________________________\n",
      "dense_43 (Dense)                (None, 128)          3216000     tf_op_layer_concat_5[0][0]       \n",
      "__________________________________________________________________________________________________\n",
      "dropout_13 (Dropout)            (None, 128)          0           dense_43[0][0]                   \n",
      "__________________________________________________________________________________________________\n",
      "dense_44 (Dense)                (None, 2)            258         dropout_13[0][0]                 \n",
      "==================================================================================================\n",
      "Total params: 3,741,438\n",
      "Trainable params: 3,741,438\n",
      "Non-trainable params: 0\n",
      "__________________________________________________________________________________________________\n"
     ]
    }
   ],
   "source": [
    "loss_fn = tf.keras.losses.SparseCategoricalCrossentropy(from_logits=True)\n",
    "model2CNN.compile(optimizer='adam', loss=loss_fn, metrics=['accuracy'])\n",
    "model2CNN.summary()"
   ]
  },
  {
   "cell_type": "code",
   "execution_count": 105,
   "metadata": {},
   "outputs": [],
   "source": [
    "model_type = \"2CNN\"\n",
    "save_dir = '/home/ja2006203966/script/Network/data/H5/2CNN/'\n",
    "model_name = '%s_model.test.h5' % model_type\n",
    "if not os.path.isdir(save_dir):\n",
    "    os.makedirs(save_dir)\n",
    "filepath = os.path.join(save_dir, model_name)\n",
    "\n",
    "# Prepare callbacks for model saving and for learning rate adjustment.\n",
    "checkpoint = keras.callbacks.ModelCheckpoint(filepath=filepath,\n",
    "                             monitor='val_acc',\n",
    "                             verbose=1,\n",
    "                             save_best_only=True)\n",
    "\n",
    "# lr_scheduler = keras.callbacks.LearningRateScheduler(lr_schedule)\n",
    "\n",
    "# progress_bar = keras.callbacks.ProgbarLogger()\n",
    "csv_logger = keras.callbacks.CSVLogger(save_dir+'2CNN.csv')\n",
    "earlystop = tf.keras.callbacks.EarlyStopping(\n",
    "                            monitor='val_loss',\n",
    "                            min_delta=1e-4,\n",
    "                            patience=3,\n",
    "                            verbose=1,\n",
    "                            mode='min', baseline=None, ## 'min' \n",
    "                            restore_best_weights=True)\n",
    "# reduce_lr = tf.keras.callbacks.ReduceLROnPlateau(monitor='val_loss', factor=0.2,\n",
    "#                               patience=2, min_lr=0.00001)\n",
    "callbacks = [checkpoint, csv_logger,  earlystop ]\n"
   ]
  },
  {
   "cell_type": "code",
   "execution_count": null,
   "metadata": {},
   "outputs": [],
   "source": []
  },
  {
   "cell_type": "code",
   "execution_count": 106,
   "metadata": {},
   "outputs": [
    {
     "name": "stdout",
     "output_type": "stream",
     "text": [
      "Epoch 1/20\n",
      "7498/7500 [============================>.] - ETA: 0s - loss: 0.6832 - accuracy: 0.5940"
     ]
    },
    {
     "name": "stderr",
     "output_type": "stream",
     "text": [
      "[2020-07-30 16:47:27,079] WARNING: Can save best model only with val_acc available, skipping.\n"
     ]
    },
    {
     "name": "stdout",
     "output_type": "stream",
     "text": [
      "7500/7500 [==============================] - 106s 14ms/step - loss: 0.6833 - accuracy: 0.5940 - val_loss: 0.8087 - val_accuracy: 0.5047\n",
      "Epoch 2/20\n",
      "7500/7500 [==============================] - ETA: 0s - loss: 0.7191 - accuracy: 0.5784"
     ]
    },
    {
     "name": "stderr",
     "output_type": "stream",
     "text": [
      "[2020-07-30 16:49:13,359] WARNING: Can save best model only with val_acc available, skipping.\n"
     ]
    },
    {
     "name": "stdout",
     "output_type": "stream",
     "text": [
      "7500/7500 [==============================] - 106s 14ms/step - loss: 0.7191 - accuracy: 0.5784 - val_loss: 0.6817 - val_accuracy: 0.6107\n",
      "Epoch 3/20\n",
      "7500/7500 [==============================] - ETA: 0s - loss: 0.6865 - accuracy: 0.5894"
     ]
    },
    {
     "name": "stderr",
     "output_type": "stream",
     "text": [
      "[2020-07-30 16:51:00,277] WARNING: Can save best model only with val_acc available, skipping.\n"
     ]
    },
    {
     "name": "stdout",
     "output_type": "stream",
     "text": [
      "7500/7500 [==============================] - 107s 14ms/step - loss: 0.6865 - accuracy: 0.5894 - val_loss: 0.6783 - val_accuracy: 0.5887\n",
      "Epoch 4/20\n",
      "7498/7500 [============================>.] - ETA: 0s - loss: 0.6831 - accuracy: 0.5529"
     ]
    },
    {
     "name": "stderr",
     "output_type": "stream",
     "text": [
      "[2020-07-30 16:52:47,273] WARNING: Can save best model only with val_acc available, skipping.\n"
     ]
    },
    {
     "name": "stdout",
     "output_type": "stream",
     "text": [
      "7500/7500 [==============================] - 107s 14ms/step - loss: 0.6831 - accuracy: 0.5529 - val_loss: 0.6776 - val_accuracy: 0.5896\n",
      "Epoch 5/20\n",
      "7497/7500 [============================>.] - ETA: 0s - loss: 0.6838 - accuracy: 0.6000"
     ]
    },
    {
     "name": "stderr",
     "output_type": "stream",
     "text": [
      "[2020-07-30 16:54:34,307] WARNING: Can save best model only with val_acc available, skipping.\n"
     ]
    },
    {
     "name": "stdout",
     "output_type": "stream",
     "text": [
      "7500/7500 [==============================] - 107s 14ms/step - loss: 0.6838 - accuracy: 0.6000 - val_loss: 0.6813 - val_accuracy: 0.6162\n",
      "Epoch 6/20\n",
      "7496/7500 [============================>.] - ETA: 0s - loss: 0.6861 - accuracy: 0.5964"
     ]
    },
    {
     "name": "stderr",
     "output_type": "stream",
     "text": [
      "[2020-07-30 16:56:27,951] WARNING: Can save best model only with val_acc available, skipping.\n"
     ]
    },
    {
     "name": "stdout",
     "output_type": "stream",
     "text": [
      "7500/7500 [==============================] - 114s 15ms/step - loss: 0.6861 - accuracy: 0.5964 - val_loss: 0.6792 - val_accuracy: 0.5558\n",
      "Epoch 7/20\n",
      "7500/7500 [==============================] - ETA: 0s - loss: 0.6782 - accuracy: 0.5816"
     ]
    },
    {
     "name": "stderr",
     "output_type": "stream",
     "text": [
      "[2020-07-30 16:58:31,505] WARNING: Can save best model only with val_acc available, skipping.\n"
     ]
    },
    {
     "name": "stdout",
     "output_type": "stream",
     "text": [
      "7500/7500 [==============================] - 124s 16ms/step - loss: 0.6782 - accuracy: 0.5816 - val_loss: 0.6774 - val_accuracy: 0.5957\n",
      "Epoch 8/20\n",
      "7499/7500 [============================>.] - ETA: 0s - loss: 0.6799 - accuracy: 0.6090"
     ]
    },
    {
     "name": "stderr",
     "output_type": "stream",
     "text": [
      "[2020-07-30 17:00:47,712] WARNING: Can save best model only with val_acc available, skipping.\n"
     ]
    },
    {
     "name": "stdout",
     "output_type": "stream",
     "text": [
      "7500/7500 [==============================] - 136s 18ms/step - loss: 0.6799 - accuracy: 0.6090 - val_loss: 0.6752 - val_accuracy: 0.5931\n",
      "Epoch 9/20\n",
      "7500/7500 [==============================] - ETA: 0s - loss: 0.6842 - accuracy: 0.6044"
     ]
    },
    {
     "name": "stderr",
     "output_type": "stream",
     "text": [
      "[2020-07-30 17:02:42,090] WARNING: Can save best model only with val_acc available, skipping.\n"
     ]
    },
    {
     "name": "stdout",
     "output_type": "stream",
     "text": [
      "7500/7500 [==============================] - 114s 15ms/step - loss: 0.6842 - accuracy: 0.6044 - val_loss: 0.6773 - val_accuracy: 0.6167\n",
      "Epoch 10/20\n",
      "7500/7500 [==============================] - ETA: 0s - loss: 0.6768 - accuracy: 0.5983"
     ]
    },
    {
     "name": "stderr",
     "output_type": "stream",
     "text": [
      "[2020-07-30 17:04:28,361] WARNING: Can save best model only with val_acc available, skipping.\n"
     ]
    },
    {
     "name": "stdout",
     "output_type": "stream",
     "text": [
      "7500/7500 [==============================] - 106s 14ms/step - loss: 0.6768 - accuracy: 0.5983 - val_loss: 0.6751 - val_accuracy: 0.5800\n",
      "Epoch 11/20\n",
      "7500/7500 [==============================] - ETA: 0s - loss: 0.6789 - accuracy: 0.6085"
     ]
    },
    {
     "name": "stderr",
     "output_type": "stream",
     "text": [
      "[2020-07-30 17:06:14,531] WARNING: Can save best model only with val_acc available, skipping.\n"
     ]
    },
    {
     "name": "stdout",
     "output_type": "stream",
     "text": [
      "Restoring model weights from the end of the best epoch.\n",
      "7500/7500 [==============================] - 106s 14ms/step - loss: 0.6789 - accuracy: 0.6085 - val_loss: 0.6793 - val_accuracy: 0.6181\n",
      "Epoch 00011: early stopping\n"
     ]
    },
    {
     "data": {
      "text/plain": [
       "<tensorflow.python.keras.callbacks.History at 0x7ff007b51278>"
      ]
     },
     "execution_count": 106,
     "metadata": {},
     "output_type": "execute_result"
    }
   ],
   "source": [
    "model2CNN.fit((X_train1,X_train2), y_train, callbacks = callbacks, validation_data=((X_val1,X_val2), y_val), shuffle=True , epochs=20)"
   ]
  },
  {
   "cell_type": "code",
   "execution_count": null,
   "metadata": {},
   "outputs": [],
   "source": []
  },
  {
   "cell_type": "code",
   "execution_count": 107,
   "metadata": {},
   "outputs": [],
   "source": [
    "from sklearn.metrics import roc_curve, auc"
   ]
  },
  {
   "cell_type": "code",
   "execution_count": 108,
   "metadata": {},
   "outputs": [
    {
     "name": "stdout",
     "output_type": "stream",
     "text": [
      "The area under the curves are:\n",
      "AUC:0.721005567\n"
     ]
    },
    {
     "data": {
      "image/png": "[encoded data removed]",
      "text/plain": [
       "<Figure size 576x1152 with 1 Axes>"
      ]
     },
     "metadata": {
      "needs_background": "light"
     },
     "output_type": "display_data"
    }
   ],
   "source": [
    "y_score=modelDNN.predict((X_test1,X_test2))[:,0]\n",
    "# test=[i[1] for i in yim_test]\n",
    "fpr , tpr , thresholds = roc_curve ( y_test , y_score)\n",
    "roc_auc = auc(tpr,fpr )\n",
    "print(\"The area under the curves are:\")\n",
    "print(\"AUC:{0:.9f}\".format(roc_auc))\n",
    "# FalsePositiveFull, TruePositiveFull, ThresholdFull = metrics.roc_curve(y_test,Predictions)\n",
    "plt.figure(figsize=(8,16))\n",
    "plt.subplot(2,1,1)\n",
    "\n",
    "plt.plot(tpr,fpr, label='Fully supervised: AUC={0:.9f}'.format(roc_auc))\n",
    "plt.ylabel('False Positive Rate',fontsize=20)\n",
    "plt.xlabel('True Positive Rate',fontsize=20)\n",
    "plt.plot([0, 1], [0, 1], 'k--')\n",
    "plt.legend(bbox_to_anchor=(0.8, -0.17),ncol=2)\n",
    "plt.tight_layout()\n",
    "plt.savefig(\"/home/ja2006203966/script/Network/data/H5/2CNN/2CNN_roc.png\")\n",
    "hf = h5py.File(\"/home/ja2006203966/script/Network/data/H5/2CNN/PR.h5\", 'w')\n",
    "hf.create_dataset('fpr', data=fpr)\n",
    "hf.create_dataset('tpr', data=tpr)\n",
    "hf.close()\n",
    "# np.save(\"./myfpr\",fpr)\n",
    "# np.save(\"./mytpr\",tpr)\n",
    "plt.show()"
   ]
  },
  {
   "cell_type": "code",
   "execution_count": 109,
   "metadata": {},
   "outputs": [
    {
     "data": {
      "image/png": "[encoded data removed]",
      "text/plain": [
       "<Figure size 576x576 with 1 Axes>"
      ]
     },
     "metadata": {
      "needs_background": "light"
     },
     "output_type": "display_data"
    }
   ],
   "source": [
    "plt.figure(figsize=(8,8))\n",
    "LOSS = pd.read_csv(save_dir+\"2CNN.csv\")\n",
    "plt.title(\"Learning Curve\")\n",
    "plt.plot(LOSS[\"loss\"], label='loss',c='blue')\n",
    "plt.plot(LOSS[\"val_loss\"], label='val_loss',c='red')\n",
    "plt.plot(LOSS[\"accuracy\"], linestyle='--', label='accuracy',c='blue')\n",
    "plt.plot(LOSS[\"val_accuracy\"], linestyle='--', label='val_accuracy',c='red')\n",
    "# plt.ylim([0.3,1])\n",
    "plt.ylabel('loss',fontsize=20)\n",
    "plt.xlabel('epoch',fontsize=20)\n",
    "# plt.legend(bbox_to_anchor=(0.8, -0.17),ncol=2)\n",
    "plt.legend(bbox_to_anchor=(0.8, -0.17),ncol=2)\n",
    "plt.tight_layout()\n",
    "plt.savefig(\"/home/ja2006203966/script/Network/data/H5/2CNN/2CNNloss.png\")\n",
    "\n",
    "plt.show()"
   ]
  },
  {
   "cell_type": "code",
   "execution_count": 113,
   "metadata": {},
   "outputs": [
    {
     "data": {
      "image/png": "[encoded data removed]",
      "text/plain": [
       "<Figure size 432x288 with 1 Axes>"
      ]
     },
     "metadata": {
      "needs_background": "light"
     },
     "output_type": "display_data"
    }
   ],
   "source": [
    "hf = h5py.File(\"/home/ja2006203966/script/Network/data/H5/DNN/PR.h5\", 'r')\n",
    "tpr1 = hf[\"tpr\"][()]\n",
    "fpr1 = hf[\"fpr\"][()]\n",
    "hf.close()\n",
    "hf = h5py.File(\"/home/ja2006203966/script/Network/data/H5/CNN/PR.h5\", 'r')\n",
    "tpr2 = hf[\"tpr\"][()]\n",
    "fpr2 = hf[\"fpr\"][()]\n",
    "hf.close()\n",
    "hf = h5py.File(\"/home/ja2006203966/script/Network/data/H5/2CNN/PR.h5\", 'r')\n",
    "tpr3 = hf[\"tpr\"][()]\n",
    "fpr3 = hf[\"fpr\"][()]\n",
    "hf.close()\n",
    "\n",
    "plt.plot(tpr1,fpr1, linewidth=1, label='DNN')\n",
    "plt.plot(tpr2,fpr2, linewidth=1, label='CNN')\n",
    "plt.plot(tpr3,fpr3, linewidth=1, label='2CNN')\n",
    "plt.legend(prop={'size': 12}) # plot label tag\n",
    "plt.ylabel('False Positive Rate',fontsize=20)\n",
    "plt.xlabel('True Positive Rate',fontsize=20)\n",
    "plt.plot([0, 1], [0, 1], 'k--')\n",
    "plt.savefig(\"/home/ja2006203966/script/Network/data/H5/ALL_ROC.png\")\n",
    "plt.show()\n",
    "\n"
   ]
  },
  {
   "cell_type": "code",
   "execution_count": null,
   "metadata": {},
   "outputs": [],
   "source": []
  },
  {
   "cell_type": "markdown",
   "metadata": {},
   "source": [
    "# Back up"
   ]
  },
  {
   "cell_type": "code",
   "execution_count": null,
   "metadata": {},
   "outputs": [],
   "source": [
    "# y_test=[i[1] for i in testpojen_datay]\n",
    "X_test = np.load(\"./X_test.npy\",allow_pickle=True)\n",
    "X_test = X_test.item()\n",
    "y_test = np.load(\"./y_test.npy\",allow_pickle=True)\n",
    "y_score=model.predict(X_test)[:,0]\n",
    "test=[i[1] for i in y_test]\n",
    "fpr , tpr , thresholds = roc_curve ( test , y_score)\n",
    "roc_auc = auc(tpr,fpr )\n",
    "print(\"The area under the curves are:\")\n",
    "print(\"AUC:{0:.9f}\".format(roc_auc))\n",
    "# FalsePositiveFull, TruePositiveFull, ThresholdFull = metrics.roc_curve(y_test,Predictions)\n",
    "plt.figure(figsize=(8,16))\n",
    "plt.subplot(2,1,1)\n",
    "\n",
    "plt.plot(tpr,fpr, label='Fully supervised: AUC={0:.9f}'.format(roc_auc))\n",
    "plt.ylabel('1-False Positive Rate',fontsize=20)\n",
    "plt.xlabel('True Positive Rate',fontsize=20)\n",
    "plt.plot([0, 1], [0, 1], 'k--')\n",
    "plt.legend(bbox_to_anchor=(0.8, -0.17),ncol=2)\n",
    "plt.tight_layout()\n",
    "plt.savefig(\"./Myneighnorhood_Particlenet_roc.png\")\n",
    "np.save(\"./myfpr\",fpr)\n",
    "np.save(\"./mytpr\",tpr)\n",
    "#plt.close()\n",
    " \n",
    "# plt.subplot(2,1,2) \n",
    "# LOSS = pd.read_csv('./training_log.csv')\n",
    "# plt.plot(LOSS[\"loss\"], label='loss',c='blue')\n",
    "# plt.plot(LOSS[\"val_loss\"], label='val_loss',c='red')\n",
    "# plt.ylabel('loss',fontsize=20)\n",
    "# plt.xlabel('epoch',fontsize=20)\n",
    "# plt.legend(bbox_to_anchor=(0.8, -0.17),ncol=2)\n",
    "# plt.tight_layout()\n",
    "\n",
    "#plt.savefig(\"./plot_3.png\")\n",
    "#plt.close()\n",
    "plt.show()"
   ]
  },
  {
   "cell_type": "markdown",
   "metadata": {},
   "source": [
    "# Papaer's CNN"
   ]
  },
  {
   "cell_type": "code",
   "execution_count": null,
   "metadata": {},
   "outputs": [],
   "source": [
    "def data_generator(h5file1, h5file2, batchsize, hlindices, start=0, stop=None):\n",
    "    stop = ((stop-start) // batchsize) * batchsize + start\n",
    "    assert (stop-start) % batchsize     == 0  # Batches will not exceed stop.\n",
    "\n",
    "    with h5py.File(h5file1, 'r') as f1, h5py.File(h5file2, 'r') as f2:\n",
    "        assert f1['features'].shape[0] >= stop\n",
    "        assert f1['features'].shape[0] == f1['targets'].shape[0]\n",
    "        assert f1['features'].shape[0] == f2['features'].shape[0]\n",
    "        assert f1['targets'].shape[0] == f2['targets'].shape[0]\n",
    "        iexample = start\n",
    "        \n",
    "        while True:\n",
    "            assert iexample >= start\n",
    "            assert iexample+batchsize <= stop\n",
    "            batch = slice(iexample, iexample + batchsize)\n",
    "\n",
    "            X  = f1['features'][batch] # Images.\n",
    "            Y  = f1['targets'][batch]\n",
    "            #X2 = f2['features'][batch][:, hlindices] # High-level.\n",
    "            #Y2 = f2['targets'][batch]  \n",
    "            #assert np.all(Y == Y2)\n",
    "            \n",
    "            X = np.log(1.0+X) / 4.0 \n",
    "            \n",
    "            #yield X, Y\n",
    "            #yield {'input_0':X, 'input_1':X2}, {'output':Y}\n",
    "            yield {'input_0':X}, {'output':Y}\n",
    "            \n",
    "            iexample += batchsize\n",
    "            if iexample >= stop:\n",
    "                assert iexample == stop\n",
    "                iexample = start\n",
    "    \n",
    "\n",
    "def train():\n",
    "    ###############################################################################\n",
    "    # Dataset                                                                     #\n",
    "    ###############################################################################\n",
    "    #filename = '/home/pjsadows//ml/data/physics/jets/download4/datasets/train_no_pile_10000000.h5'\n",
    "    hlindices = np.array(['mass', 'c1b1']) # Order of features: mass, c1b1,c2b2,d1b2,d2b2, tau\n",
    "\n",
    "    #filename  = '/Volumes/Free Space/images/train_no_pile_10000000.h5'\n",
    "    #filename2 = '/Volumes/Free Space/highlevel/train_no_pile_10000000.h5'\n",
    "\n",
    "    filename  = './train2_no_pile_10000000.h5' #image input\n",
    "    filename2 = './train_no_pile_10000000.h5' #high level features input\n",
    "\n",
    "    N_train, N_valid = 9500000, 500000\n",
    "    generator = data_generator(filename, filename2, batchsize=100, hlindices=hlindices, start=0, stop=N_train)\n",
    "    validation_data = data_generator(filename, filename2, batchsize=100, hlindices=hlindices, start=N_train, stop=N_train+N_valid)\n",
    "\n",
    "    #filename_test  = '/Volumes/Free Space/images/test_no_pile_5000000.h5'\n",
    "    #filename2_test = '/Volumes/Free Space/highlevel/test_no_pile_5000000.h5'\n",
    "\n",
    "    filename_test  = './test2_no_pile_5000000.h5'\n",
    "    filename2_test = './test_no_pile_5000000.h5'\n",
    "\n",
    "    N_test = 5000000\n",
    "    generator_test = data_generator(filename_test, filename2_test, batchsize=100, hlindices=hlindices, start=0, stop=N_test)\n",
    "\n",
    "    ###############################################################################\n",
    "    # Model                                                                       #\n",
    "    ###############################################################################\n",
    "    act  = 'relu' \n",
    "    init = 'glorot_normal' #'glorot_normal'#'he_normal'\n",
    "    width = 500 #500 \n",
    "    # Image arm\n",
    "    nconv  = 4\n",
    "    nch    = 32\n",
    "    # Head\n",
    "    nhead = 4\n",
    "    ndo   = 2 \n",
    "    \n",
    "    # Arm 0: images\n",
    "    input_0 = Input(shape=(1,32,32), dtype='float32', name='input_0') # We can name an layer by passing name.\n",
    "    x0 = input_0\n",
    "    for i in range(nconv):\n",
    "        x0 = Convolution2D(nch,1, subsample=(1,1), border_mode='valid', init=init, activation=act)(x0) # nch, 4, 4\n",
    "    x0 = Flatten()(x0) \n",
    "\n",
    "    # Arm 1: high-level variables.\n",
    "    #input_1  = Input(shape=(len(hlindices),), name='input_1')\n",
    "    #x1 = input_1\n",
    "    #for i in range(nhl):\n",
    "    #    x1 = Dense(width, init=init, activation=act)(x1)\n",
    "\n",
    "    # Head\n",
    "    #x = merge([x0, x1], mode='concat')\n",
    "    x = x0\n",
    "    for i in range(nhead):\n",
    "        x = Dense(width, activation=act, init=init)(x)\n",
    "        if i >= nhead - ndo:\n",
    "            x = Dropout(p=0.5)(x)\n",
    "    output = Dense(1, activation='sigmoid', name='output')(x)\n",
    "\n",
    "    # Model\n",
    "    #model = Model(input=[input_0, input_1], output=[output])\n",
    "    model = Model(input=[input_0], output=[output])\n",
    "    lrinit  = 0.0001 \n",
    "    lrdecay = 0.8\n",
    "    optimizer = Adam(lr=lrinit, beta_1=0.99, beta_2=0.999, epsilon=1e-08)\n",
    "    model.compile(optimizer=optimizer,loss={'output':'binary_crossentropy'}, metrics=['accuracy'])\n",
    "\n",
    "    ###############################################################################\n",
    "    # Algorithm                                                                   #\n",
    "    ###############################################################################\n",
    "    def lr_scheduler(epoch):\n",
    "        return lrinit * lrdecay ** epoch\n",
    "    lrschedule = LearningRateScheduler(lr_scheduler)\n",
    "    stopping   = EarlyStopping(monitor='val_loss', patience=0, verbose=0, mode='min') \n",
    "    cbks = [stopping, lrschedule]\n",
    "\n",
    "    # Copy script so that we can reconstruct model later.\n",
    "    filebase = './images_conv%d_dense%d_nch%d_do%d_width%d_%s_lrd%d_%d' % (nconv, nhead, nch, ndo, width, act, lrdecay*100, np.random.randint(1000))\n",
    "    fileout = filebase + '.py'\n",
    "    os.system('cp %s %s' % (filebase, fileout))\n",
    "    print('Saving to %s' % fileout)\n",
    "    \n",
    "    # Train.\n",
    "    nb_epoch  = 1000\n",
    "    history = model.fit_generator(generator, samples_per_epoch=N_train, nb_epoch=nb_epoch, verbose=1, validation_data=validation_data, nb_val_samples=N_valid, class_weight=None, callbacks=cbks) \n",
    "\n",
    "    # Save model.\n",
    "    fileout = filebase + '.h5'\n",
    "    model.save_weights(fileout, overwrite=True)\n",
    "    # Save pkl.\n",
    "    fileout = filebase + '.pkl'\n",
    "    with open(fileout, 'w') as f:\n",
    "        pickle.dump(history.history, f)\n",
    "    # Save .yaml script.\n",
    "    fileout = filebase + '.yaml'\n",
    "    with open(fileout, 'w') as f:\n",
    "        f.write(model.to_yaml())\n",
    "\n",
    "    # Compute test error accuracy.\n",
    "    vals = model.evaluate_generator(generator_test, val_samples=N_test, max_q_size=10)\n",
    "    for name, val in zip(model.metrics_names, vals):\n",
    "        print('test_%s: %f' % (name, val))\n",
    "        history.history['test_' + name] = val\n",
    "    # Compute AUC\n",
    "    #auc = compute_auc(model, generator_test, val_samples=N_test)\n",
    "    #print 'Test AUC: %f' % auc\n",
    "    #history.history['test_auc'] = auc\n",
    "\n",
    "    # Save pkl.\n",
    "    fileout = filebase + '.pkl'\n",
    "    with open(fileout, 'w') as f:\n",
    "        pickle.dump(history.history, f)\n",
    "\n",
    "\n",
    "    return history.history['val_loss'][-1]\n",
    "\n",
    "# if __name__=='__main__':\n",
    "#     loss = train()\n",
    "#     print(loss)\n"
   ]
  }
 ],
 "metadata": {
  "kernelspec": {
   "display_name": "Python 3",
   "language": "python",
   "name": "python3"
  },
  "language_info": {
   "codemirror_mode": {
    "name": "ipython",
    "version": 3
   },
   "file_extension": ".py",
   "mimetype": "text/x-python",
   "name": "python",
   "nbconvert_exporter": "python",
   "pygments_lexer": "ipython3",
   "version": "3.6.9"
  }
 },
 "nbformat": 4,
 "nbformat_minor": 4
}
